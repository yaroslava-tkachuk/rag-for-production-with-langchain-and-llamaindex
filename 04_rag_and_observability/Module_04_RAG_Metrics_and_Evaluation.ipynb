{
  "cells": [
    {
      "cell_type": "code",
      "execution_count": 1,
      "metadata": {
        "id": "oEWV3BrvfefQ"
      },
      "outputs": [
        {
          "name": "stdout",
          "output_type": "stream",
          "text": [
            "\n",
            "\u001b[1m[\u001b[0m\u001b[34;49mnotice\u001b[0m\u001b[1;39;49m]\u001b[0m\u001b[39;49m A new release of pip is available: \u001b[0m\u001b[31;49m24.0\u001b[0m\u001b[39;49m -> \u001b[0m\u001b[32;49m25.2\u001b[0m\n",
            "\u001b[1m[\u001b[0m\u001b[34;49mnotice\u001b[0m\u001b[1;39;49m]\u001b[0m\u001b[39;49m To update, run: \u001b[0m\u001b[32;49mpip install --upgrade pip\u001b[0m\n",
            "Note: you may need to restart the kernel to use updated packages.\n"
          ]
        }
      ],
      "source": [
        "%pip install -q llama-index deeplake openai cohere"
      ]
    },
    {
      "cell_type": "code",
      "execution_count": 2,
      "metadata": {
        "id": "d-QV9onBGp35"
      },
      "outputs": [],
      "source": [
        "import os\n",
        "from dotenv import load_dotenv\n",
        "\n",
        "\n",
        "load_dotenv(\"../.env\")\n",
        "assert os.getenv(\"OPENAI_API_KEY\")\n",
        "assert os.getenv(\"ACTIVELOOP_TOKEN\")"
      ]
    },
    {
      "cell_type": "code",
      "execution_count": 3,
      "metadata": {
        "id": "D3zodYeUMPNS"
      },
      "outputs": [],
      "source": [
        "from llama_index.llms.openai import OpenAI\n",
        "\n",
        "\n",
        "# build service context\n",
        "llm = OpenAI(model=\"gpt-4\", temperature=0.0)"
      ]
    },
    {
      "cell_type": "markdown",
      "metadata": {
        "id": "14jSFm2bXmY2"
      },
      "source": [
        "# FaithfulnessEvaluator"
      ]
    },
    {
      "cell_type": "code",
      "execution_count": 4,
      "metadata": {
        "colab": {
          "base_uri": "https://localhost:8080/"
        },
        "id": "uh5gyyQrMPJp",
        "outputId": "aa5589dd-e5ab-4c9f-ac96-3e2412f9c18c"
      },
      "outputs": [
        {
          "name": "stderr",
          "output_type": "stream",
          "text": [
            "[S3] Failed to get bucket region for URL: snark-hub/protected/yaroslava/tesla_quarterly_2023/ with error: [S3] INVALID_ACCESS_KEY_ID snark-hub The AWS Access Key Id you provided does not exist in our records. \n"
          ]
        }
      ],
      "source": [
        "from llama_index.vector_stores.deeplake import DeepLakeVectorStore\n",
        "from llama_index.core import StorageContext\n",
        "from llama_index.core import VectorStoreIndex\n",
        "\n",
        "\n",
        "vector_store = DeepLakeVectorStore(dataset_path=\"hub://yaroslava/tesla_quarterly_2023\", overwrite=False)\n",
        "storage_context = StorageContext.from_defaults(vector_store=vector_store)\n",
        "\n",
        "index = VectorStoreIndex.from_vector_store(\n",
        "    vector_store, storage_context=storage_context\n",
        ")"
      ]
    },
    {
      "cell_type": "code",
      "execution_count": 5,
      "metadata": {
        "id": "puDP-YcVMPEc"
      },
      "outputs": [],
      "source": [
        "from llama_index.core.evaluation import FaithfulnessEvaluator\n",
        "\n",
        "\n",
        "# define evaluator\n",
        "evaluator = FaithfulnessEvaluator(llm=llm)"
      ]
    },
    {
      "cell_type": "code",
      "execution_count": 6,
      "metadata": {
        "id": "mk6vsdY-MPBk"
      },
      "outputs": [],
      "source": [
        "# query index\n",
        "query_engine = index.as_query_engine()\n",
        "response = query_engine.query(\n",
        "    \"What are the trends in vehicle deliveries on quarter 3?\"\n",
        ")\n",
        "\n",
        "eval_result = evaluator.evaluate_response(response=response)"
      ]
    },
    {
      "cell_type": "code",
      "execution_count": 7,
      "metadata": {
        "colab": {
          "base_uri": "https://localhost:8080/"
        },
        "id": "B0FisYH3MO-9",
        "outputId": "da9ca45d-34b3-4237-c4cc-72f0705fadcb"
      },
      "outputs": [
        {
          "name": "stdout",
          "output_type": "stream",
          "text": [
            "> response:  The trends in vehicle deliveries in quarter 3 show a continued increase in the number of units delivered compared to previous quarters.\n",
            "> evaluator result:  True\n"
          ]
        }
      ],
      "source": [
        "print(\"> response: \", response)\n",
        "print(\"> evaluator result: \", eval_result.passing)"
      ]
    },
    {
      "cell_type": "markdown",
      "metadata": {
        "id": "xWoy5JfseKjC"
      },
      "source": [
        "# RAGAS"
      ]
    },
    {
      "cell_type": "code",
      "execution_count": 41,
      "metadata": {
        "colab": {
          "base_uri": "https://localhost:8080/"
        },
        "id": "Xld-B4bYfsRM",
        "outputId": "91416e5e-70b6-4089-a85d-bedb00b8ff7b"
      },
      "outputs": [
        {
          "name": "stdout",
          "output_type": "stream",
          "text": [
            "Requirement already satisfied: html2text in /Users/coder/Desktop/dev/rag_for_production_activeloop/rag-for-production-with-langchain-and-llamaindex/.venv/lib/python3.12/site-packages (2024.2.26)\n",
            "Requirement already satisfied: ragas in /Users/coder/Desktop/dev/rag_for_production_activeloop/rag-for-production-with-langchain-and-llamaindex/.venv/lib/python3.12/site-packages (0.3.3)\n",
            "Requirement already satisfied: llama-index-readers-web in /Users/coder/Desktop/dev/rag_for_production_activeloop/rag-for-production-with-langchain-and-llamaindex/.venv/lib/python3.12/site-packages (0.5.1)\n",
            "Collecting wikipedia\n",
            "  Using cached wikipedia-1.4.0-py3-none-any.whl\n",
            "Requirement already satisfied: numpy in /Users/coder/Desktop/dev/rag_for_production_activeloop/rag-for-production-with-langchain-and-llamaindex/.venv/lib/python3.12/site-packages (from ragas) (2.2.6)\n",
            "Requirement already satisfied: datasets>=4.0.0 in /Users/coder/Desktop/dev/rag_for_production_activeloop/rag-for-production-with-langchain-and-llamaindex/.venv/lib/python3.12/site-packages (from ragas) (4.0.0)\n",
            "Requirement already satisfied: tiktoken in /Users/coder/Desktop/dev/rag_for_production_activeloop/rag-for-production-with-langchain-and-llamaindex/.venv/lib/python3.12/site-packages (from ragas) (0.11.0)\n",
            "Requirement already satisfied: pydantic>=2.0.0 in /Users/coder/Desktop/dev/rag_for_production_activeloop/rag-for-production-with-langchain-and-llamaindex/.venv/lib/python3.12/site-packages (from ragas) (2.11.7)\n",
            "Requirement already satisfied: nest-asyncio in /Users/coder/Desktop/dev/rag_for_production_activeloop/rag-for-production-with-langchain-and-llamaindex/.venv/lib/python3.12/site-packages (from ragas) (1.6.0)\n",
            "Requirement already satisfied: appdirs in /Users/coder/Desktop/dev/rag_for_production_activeloop/rag-for-production-with-langchain-and-llamaindex/.venv/lib/python3.12/site-packages (from ragas) (1.4.4)\n",
            "Requirement already satisfied: diskcache>=5.6.3 in /Users/coder/Desktop/dev/rag_for_production_activeloop/rag-for-production-with-langchain-and-llamaindex/.venv/lib/python3.12/site-packages (from ragas) (5.6.3)\n",
            "Requirement already satisfied: typer in /Users/coder/Desktop/dev/rag_for_production_activeloop/rag-for-production-with-langchain-and-llamaindex/.venv/lib/python3.12/site-packages (from ragas) (0.17.4)\n",
            "Requirement already satisfied: rich in /Users/coder/Desktop/dev/rag_for_production_activeloop/rag-for-production-with-langchain-and-llamaindex/.venv/lib/python3.12/site-packages (from ragas) (14.1.0)\n",
            "Requirement already satisfied: openai>=1.0.0 in /Users/coder/Desktop/dev/rag_for_production_activeloop/rag-for-production-with-langchain-and-llamaindex/.venv/lib/python3.12/site-packages (from ragas) (1.106.1)\n",
            "Requirement already satisfied: tqdm in /Users/coder/Desktop/dev/rag_for_production_activeloop/rag-for-production-with-langchain-and-llamaindex/.venv/lib/python3.12/site-packages (from ragas) (4.67.1)\n",
            "Requirement already satisfied: instructor in /Users/coder/Desktop/dev/rag_for_production_activeloop/rag-for-production-with-langchain-and-llamaindex/.venv/lib/python3.12/site-packages (from ragas) (1.11.2)\n",
            "Requirement already satisfied: gitpython in /Users/coder/Desktop/dev/rag_for_production_activeloop/rag-for-production-with-langchain-and-llamaindex/.venv/lib/python3.12/site-packages (from ragas) (3.1.45)\n",
            "Requirement already satisfied: pillow>=10.4.0 in /Users/coder/Desktop/dev/rag_for_production_activeloop/rag-for-production-with-langchain-and-llamaindex/.venv/lib/python3.12/site-packages (from ragas) (11.3.0)\n",
            "Requirement already satisfied: langchain in /Users/coder/Desktop/dev/rag_for_production_activeloop/rag-for-production-with-langchain-and-llamaindex/.venv/lib/python3.12/site-packages (from ragas) (0.3.27)\n",
            "Requirement already satisfied: langchain-core in /Users/coder/Desktop/dev/rag_for_production_activeloop/rag-for-production-with-langchain-and-llamaindex/.venv/lib/python3.12/site-packages (from ragas) (0.3.75)\n",
            "Requirement already satisfied: langchain-community in /Users/coder/Desktop/dev/rag_for_production_activeloop/rag-for-production-with-langchain-and-llamaindex/.venv/lib/python3.12/site-packages (from ragas) (0.3.29)\n",
            "Requirement already satisfied: langchain_openai in /Users/coder/Desktop/dev/rag_for_production_activeloop/rag-for-production-with-langchain-and-llamaindex/.venv/lib/python3.12/site-packages (from ragas) (0.3.32)\n",
            "Requirement already satisfied: aiohttp<4,>=3.9.1 in /Users/coder/Desktop/dev/rag_for_production_activeloop/rag-for-production-with-langchain-and-llamaindex/.venv/lib/python3.12/site-packages (from llama-index-readers-web) (3.12.15)\n",
            "Requirement already satisfied: beautifulsoup4<5,>=4.12.3 in /Users/coder/Desktop/dev/rag_for_production_activeloop/rag-for-production-with-langchain-and-llamaindex/.venv/lib/python3.12/site-packages (from llama-index-readers-web) (4.13.5)\n",
            "Requirement already satisfied: chromedriver-autoinstaller<0.7,>=0.6.3 in /Users/coder/Desktop/dev/rag_for_production_activeloop/rag-for-production-with-langchain-and-llamaindex/.venv/lib/python3.12/site-packages (from llama-index-readers-web) (0.6.4)\n",
            "Requirement already satisfied: defusedxml<0.8,>=0.7.1 in /Users/coder/Desktop/dev/rag_for_production_activeloop/rag-for-production-with-langchain-and-llamaindex/.venv/lib/python3.12/site-packages (from llama-index-readers-web) (0.7.1)\n",
            "Requirement already satisfied: httpx>=0.28.1 in /Users/coder/Desktop/dev/rag_for_production_activeloop/rag-for-production-with-langchain-and-llamaindex/.venv/lib/python3.12/site-packages (from llama-index-readers-web) (0.28.1)\n",
            "Requirement already satisfied: llama-index-core<0.14,>=0.13.0 in /Users/coder/Desktop/dev/rag_for_production_activeloop/rag-for-production-with-langchain-and-llamaindex/.venv/lib/python3.12/site-packages (from llama-index-readers-web) (0.13.6)\n",
            "Requirement already satisfied: lxml-html-clean>=0.4.2 in /Users/coder/Desktop/dev/rag_for_production_activeloop/rag-for-production-with-langchain-and-llamaindex/.venv/lib/python3.12/site-packages (from llama-index-readers-web) (0.4.2)\n",
            "Requirement already satisfied: lxml>=5.4.0 in /Users/coder/Desktop/dev/rag_for_production_activeloop/rag-for-production-with-langchain-and-llamaindex/.venv/lib/python3.12/site-packages (from llama-index-readers-web) (6.0.1)\n",
            "Requirement already satisfied: markdownify>=1.1.0 in /Users/coder/Desktop/dev/rag_for_production_activeloop/rag-for-production-with-langchain-and-llamaindex/.venv/lib/python3.12/site-packages (from llama-index-readers-web) (1.2.0)\n",
            "Requirement already satisfied: newspaper3k<0.3,>=0.2.8 in /Users/coder/Desktop/dev/rag_for_production_activeloop/rag-for-production-with-langchain-and-llamaindex/.venv/lib/python3.12/site-packages (from llama-index-readers-web) (0.2.8)\n",
            "Requirement already satisfied: oxylabs>=2.0.0 in /Users/coder/Desktop/dev/rag_for_production_activeloop/rag-for-production-with-langchain-and-llamaindex/.venv/lib/python3.12/site-packages (from llama-index-readers-web) (2.0.0)\n",
            "Requirement already satisfied: playwright<2.0,>=1.30 in /Users/coder/Desktop/dev/rag_for_production_activeloop/rag-for-production-with-langchain-and-llamaindex/.venv/lib/python3.12/site-packages (from llama-index-readers-web) (1.55.0)\n",
            "Requirement already satisfied: requests<3,>=2.31.0 in /Users/coder/Desktop/dev/rag_for_production_activeloop/rag-for-production-with-langchain-and-llamaindex/.venv/lib/python3.12/site-packages (from llama-index-readers-web) (2.32.5)\n",
            "Requirement already satisfied: selenium<5,>=4.17.2 in /Users/coder/Desktop/dev/rag_for_production_activeloop/rag-for-production-with-langchain-and-llamaindex/.venv/lib/python3.12/site-packages (from llama-index-readers-web) (4.35.0)\n",
            "Requirement already satisfied: spider-client<0.0.28,>=0.0.27 in /Users/coder/Desktop/dev/rag_for_production_activeloop/rag-for-production-with-langchain-and-llamaindex/.venv/lib/python3.12/site-packages (from llama-index-readers-web) (0.0.27)\n",
            "Requirement already satisfied: urllib3>=1.1.0 in /Users/coder/Desktop/dev/rag_for_production_activeloop/rag-for-production-with-langchain-and-llamaindex/.venv/lib/python3.12/site-packages (from llama-index-readers-web) (2.5.0)\n",
            "Requirement already satisfied: aiohappyeyeballs>=2.5.0 in /Users/coder/Desktop/dev/rag_for_production_activeloop/rag-for-production-with-langchain-and-llamaindex/.venv/lib/python3.12/site-packages (from aiohttp<4,>=3.9.1->llama-index-readers-web) (2.6.1)\n",
            "Requirement already satisfied: aiosignal>=1.4.0 in /Users/coder/Desktop/dev/rag_for_production_activeloop/rag-for-production-with-langchain-and-llamaindex/.venv/lib/python3.12/site-packages (from aiohttp<4,>=3.9.1->llama-index-readers-web) (1.4.0)\n",
            "Requirement already satisfied: attrs>=17.3.0 in /Users/coder/Desktop/dev/rag_for_production_activeloop/rag-for-production-with-langchain-and-llamaindex/.venv/lib/python3.12/site-packages (from aiohttp<4,>=3.9.1->llama-index-readers-web) (25.3.0)\n",
            "Requirement already satisfied: frozenlist>=1.1.1 in /Users/coder/Desktop/dev/rag_for_production_activeloop/rag-for-production-with-langchain-and-llamaindex/.venv/lib/python3.12/site-packages (from aiohttp<4,>=3.9.1->llama-index-readers-web) (1.7.0)\n",
            "Requirement already satisfied: multidict<7.0,>=4.5 in /Users/coder/Desktop/dev/rag_for_production_activeloop/rag-for-production-with-langchain-and-llamaindex/.venv/lib/python3.12/site-packages (from aiohttp<4,>=3.9.1->llama-index-readers-web) (6.6.4)\n",
            "Requirement already satisfied: propcache>=0.2.0 in /Users/coder/Desktop/dev/rag_for_production_activeloop/rag-for-production-with-langchain-and-llamaindex/.venv/lib/python3.12/site-packages (from aiohttp<4,>=3.9.1->llama-index-readers-web) (0.3.2)\n",
            "Requirement already satisfied: yarl<2.0,>=1.17.0 in /Users/coder/Desktop/dev/rag_for_production_activeloop/rag-for-production-with-langchain-and-llamaindex/.venv/lib/python3.12/site-packages (from aiohttp<4,>=3.9.1->llama-index-readers-web) (1.20.1)\n",
            "Requirement already satisfied: soupsieve>1.2 in /Users/coder/Desktop/dev/rag_for_production_activeloop/rag-for-production-with-langchain-and-llamaindex/.venv/lib/python3.12/site-packages (from beautifulsoup4<5,>=4.12.3->llama-index-readers-web) (2.8)\n",
            "Requirement already satisfied: typing-extensions>=4.0.0 in /Users/coder/Desktop/dev/rag_for_production_activeloop/rag-for-production-with-langchain-and-llamaindex/.venv/lib/python3.12/site-packages (from beautifulsoup4<5,>=4.12.3->llama-index-readers-web) (4.14.1)\n",
            "Requirement already satisfied: packaging>=23.1 in /Users/coder/Desktop/dev/rag_for_production_activeloop/rag-for-production-with-langchain-and-llamaindex/.venv/lib/python3.12/site-packages (from chromedriver-autoinstaller<0.7,>=0.6.3->llama-index-readers-web) (25.0)\n",
            "Requirement already satisfied: filelock in /Users/coder/Desktop/dev/rag_for_production_activeloop/rag-for-production-with-langchain-and-llamaindex/.venv/lib/python3.12/site-packages (from datasets>=4.0.0->ragas) (3.19.1)\n",
            "Requirement already satisfied: pyarrow>=15.0.0 in /Users/coder/Desktop/dev/rag_for_production_activeloop/rag-for-production-with-langchain-and-llamaindex/.venv/lib/python3.12/site-packages (from datasets>=4.0.0->ragas) (21.0.0)\n",
            "Requirement already satisfied: dill<0.3.9,>=0.3.0 in /Users/coder/Desktop/dev/rag_for_production_activeloop/rag-for-production-with-langchain-and-llamaindex/.venv/lib/python3.12/site-packages (from datasets>=4.0.0->ragas) (0.3.8)\n",
            "Requirement already satisfied: pandas in /Users/coder/Desktop/dev/rag_for_production_activeloop/rag-for-production-with-langchain-and-llamaindex/.venv/lib/python3.12/site-packages (from datasets>=4.0.0->ragas) (2.2.3)\n",
            "Requirement already satisfied: xxhash in /Users/coder/Desktop/dev/rag_for_production_activeloop/rag-for-production-with-langchain-and-llamaindex/.venv/lib/python3.12/site-packages (from datasets>=4.0.0->ragas) (3.5.0)\n",
            "Requirement already satisfied: multiprocess<0.70.17 in /Users/coder/Desktop/dev/rag_for_production_activeloop/rag-for-production-with-langchain-and-llamaindex/.venv/lib/python3.12/site-packages (from datasets>=4.0.0->ragas) (0.70.16)\n",
            "Requirement already satisfied: fsspec<=2025.3.0,>=2023.1.0 in /Users/coder/Desktop/dev/rag_for_production_activeloop/rag-for-production-with-langchain-and-llamaindex/.venv/lib/python3.12/site-packages (from fsspec[http]<=2025.3.0,>=2023.1.0->datasets>=4.0.0->ragas) (2025.3.0)\n",
            "Requirement already satisfied: huggingface-hub>=0.24.0 in /Users/coder/Desktop/dev/rag_for_production_activeloop/rag-for-production-with-langchain-and-llamaindex/.venv/lib/python3.12/site-packages (from datasets>=4.0.0->ragas) (0.34.4)\n",
            "Requirement already satisfied: pyyaml>=5.1 in /Users/coder/Desktop/dev/rag_for_production_activeloop/rag-for-production-with-langchain-and-llamaindex/.venv/lib/python3.12/site-packages (from datasets>=4.0.0->ragas) (6.0.2)\n",
            "Requirement already satisfied: anyio in /Users/coder/Desktop/dev/rag_for_production_activeloop/rag-for-production-with-langchain-and-llamaindex/.venv/lib/python3.12/site-packages (from httpx>=0.28.1->llama-index-readers-web) (4.10.0)\n",
            "Requirement already satisfied: certifi in /Users/coder/Desktop/dev/rag_for_production_activeloop/rag-for-production-with-langchain-and-llamaindex/.venv/lib/python3.12/site-packages (from httpx>=0.28.1->llama-index-readers-web) (2025.8.3)\n",
            "Requirement already satisfied: httpcore==1.* in /Users/coder/Desktop/dev/rag_for_production_activeloop/rag-for-production-with-langchain-and-llamaindex/.venv/lib/python3.12/site-packages (from httpx>=0.28.1->llama-index-readers-web) (1.0.9)\n",
            "Requirement already satisfied: idna in /Users/coder/Desktop/dev/rag_for_production_activeloop/rag-for-production-with-langchain-and-llamaindex/.venv/lib/python3.12/site-packages (from httpx>=0.28.1->llama-index-readers-web) (3.10)\n",
            "Requirement already satisfied: h11>=0.16 in /Users/coder/Desktop/dev/rag_for_production_activeloop/rag-for-production-with-langchain-and-llamaindex/.venv/lib/python3.12/site-packages (from httpcore==1.*->httpx>=0.28.1->llama-index-readers-web) (0.16.0)\n",
            "Requirement already satisfied: aiosqlite in /Users/coder/Desktop/dev/rag_for_production_activeloop/rag-for-production-with-langchain-and-llamaindex/.venv/lib/python3.12/site-packages (from llama-index-core<0.14,>=0.13.0->llama-index-readers-web) (0.21.0)\n",
            "Requirement already satisfied: banks<3,>=2.2.0 in /Users/coder/Desktop/dev/rag_for_production_activeloop/rag-for-production-with-langchain-and-llamaindex/.venv/lib/python3.12/site-packages (from llama-index-core<0.14,>=0.13.0->llama-index-readers-web) (2.2.0)\n",
            "Requirement already satisfied: dataclasses-json in /Users/coder/Desktop/dev/rag_for_production_activeloop/rag-for-production-with-langchain-and-llamaindex/.venv/lib/python3.12/site-packages (from llama-index-core<0.14,>=0.13.0->llama-index-readers-web) (0.6.7)\n",
            "Requirement already satisfied: deprecated>=1.2.9.3 in /Users/coder/Desktop/dev/rag_for_production_activeloop/rag-for-production-with-langchain-and-llamaindex/.venv/lib/python3.12/site-packages (from llama-index-core<0.14,>=0.13.0->llama-index-readers-web) (1.2.18)\n",
            "Requirement already satisfied: dirtyjson<2,>=1.0.8 in /Users/coder/Desktop/dev/rag_for_production_activeloop/rag-for-production-with-langchain-and-llamaindex/.venv/lib/python3.12/site-packages (from llama-index-core<0.14,>=0.13.0->llama-index-readers-web) (1.0.8)\n",
            "Requirement already satisfied: filetype<2,>=1.2.0 in /Users/coder/Desktop/dev/rag_for_production_activeloop/rag-for-production-with-langchain-and-llamaindex/.venv/lib/python3.12/site-packages (from llama-index-core<0.14,>=0.13.0->llama-index-readers-web) (1.2.0)\n",
            "Requirement already satisfied: llama-index-workflows<2,>=1.0.1 in /Users/coder/Desktop/dev/rag_for_production_activeloop/rag-for-production-with-langchain-and-llamaindex/.venv/lib/python3.12/site-packages (from llama-index-core<0.14,>=0.13.0->llama-index-readers-web) (1.3.0)\n",
            "Requirement already satisfied: networkx>=3.0 in /Users/coder/Desktop/dev/rag_for_production_activeloop/rag-for-production-with-langchain-and-llamaindex/.venv/lib/python3.12/site-packages (from llama-index-core<0.14,>=0.13.0->llama-index-readers-web) (3.5)\n",
            "Requirement already satisfied: nltk>3.8.1 in /Users/coder/Desktop/dev/rag_for_production_activeloop/rag-for-production-with-langchain-and-llamaindex/.venv/lib/python3.12/site-packages (from llama-index-core<0.14,>=0.13.0->llama-index-readers-web) (3.9.1)\n",
            "Requirement already satisfied: platformdirs in /Users/coder/Desktop/dev/rag_for_production_activeloop/rag-for-production-with-langchain-and-llamaindex/.venv/lib/python3.12/site-packages (from llama-index-core<0.14,>=0.13.0->llama-index-readers-web) (4.4.0)\n",
            "Requirement already satisfied: setuptools>=80.9.0 in /Users/coder/Desktop/dev/rag_for_production_activeloop/rag-for-production-with-langchain-and-llamaindex/.venv/lib/python3.12/site-packages (from llama-index-core<0.14,>=0.13.0->llama-index-readers-web) (80.9.0)\n",
            "Requirement already satisfied: sqlalchemy>=1.4.49 in /Users/coder/Desktop/dev/rag_for_production_activeloop/rag-for-production-with-langchain-and-llamaindex/.venv/lib/python3.12/site-packages (from sqlalchemy[asyncio]>=1.4.49->llama-index-core<0.14,>=0.13.0->llama-index-readers-web) (2.0.43)\n",
            "Requirement already satisfied: tenacity!=8.4.0,<10.0.0,>=8.2.0 in /Users/coder/Desktop/dev/rag_for_production_activeloop/rag-for-production-with-langchain-and-llamaindex/.venv/lib/python3.12/site-packages (from llama-index-core<0.14,>=0.13.0->llama-index-readers-web) (9.1.2)\n",
            "Requirement already satisfied: typing-inspect>=0.8.0 in /Users/coder/Desktop/dev/rag_for_production_activeloop/rag-for-production-with-langchain-and-llamaindex/.venv/lib/python3.12/site-packages (from llama-index-core<0.14,>=0.13.0->llama-index-readers-web) (0.9.0)\n",
            "Requirement already satisfied: wrapt in /Users/coder/Desktop/dev/rag_for_production_activeloop/rag-for-production-with-langchain-and-llamaindex/.venv/lib/python3.12/site-packages (from llama-index-core<0.14,>=0.13.0->llama-index-readers-web) (1.17.3)\n",
            "Requirement already satisfied: six<2,>=1.15 in /Users/coder/Desktop/dev/rag_for_production_activeloop/rag-for-production-with-langchain-and-llamaindex/.venv/lib/python3.12/site-packages (from markdownify>=1.1.0->llama-index-readers-web) (1.17.0)\n",
            "Requirement already satisfied: cssselect>=0.9.2 in /Users/coder/Desktop/dev/rag_for_production_activeloop/rag-for-production-with-langchain-and-llamaindex/.venv/lib/python3.12/site-packages (from newspaper3k<0.3,>=0.2.8->llama-index-readers-web) (1.3.0)\n",
            "Requirement already satisfied: feedparser>=5.2.1 in /Users/coder/Desktop/dev/rag_for_production_activeloop/rag-for-production-with-langchain-and-llamaindex/.venv/lib/python3.12/site-packages (from newspaper3k<0.3,>=0.2.8->llama-index-readers-web) (6.0.11)\n",
            "Requirement already satisfied: tldextract>=2.0.1 in /Users/coder/Desktop/dev/rag_for_production_activeloop/rag-for-production-with-langchain-and-llamaindex/.venv/lib/python3.12/site-packages (from newspaper3k<0.3,>=0.2.8->llama-index-readers-web) (5.3.0)\n",
            "Requirement already satisfied: feedfinder2>=0.0.4 in /Users/coder/Desktop/dev/rag_for_production_activeloop/rag-for-production-with-langchain-and-llamaindex/.venv/lib/python3.12/site-packages (from newspaper3k<0.3,>=0.2.8->llama-index-readers-web) (0.0.4)\n",
            "Requirement already satisfied: jieba3k>=0.35.1 in /Users/coder/Desktop/dev/rag_for_production_activeloop/rag-for-production-with-langchain-and-llamaindex/.venv/lib/python3.12/site-packages (from newspaper3k<0.3,>=0.2.8->llama-index-readers-web) (0.35.1)\n",
            "Requirement already satisfied: python-dateutil>=2.5.3 in /Users/coder/Desktop/dev/rag_for_production_activeloop/rag-for-production-with-langchain-and-llamaindex/.venv/lib/python3.12/site-packages (from newspaper3k<0.3,>=0.2.8->llama-index-readers-web) (2.9.0.post0)\n",
            "Requirement already satisfied: tinysegmenter==0.3 in /Users/coder/Desktop/dev/rag_for_production_activeloop/rag-for-production-with-langchain-and-llamaindex/.venv/lib/python3.12/site-packages (from newspaper3k<0.3,>=0.2.8->llama-index-readers-web) (0.3)\n",
            "Requirement already satisfied: distro<2,>=1.7.0 in /Users/coder/Desktop/dev/rag_for_production_activeloop/rag-for-production-with-langchain-and-llamaindex/.venv/lib/python3.12/site-packages (from openai>=1.0.0->ragas) (1.9.0)\n",
            "Requirement already satisfied: jiter<1,>=0.4.0 in /Users/coder/Desktop/dev/rag_for_production_activeloop/rag-for-production-with-langchain-and-llamaindex/.venv/lib/python3.12/site-packages (from openai>=1.0.0->ragas) (0.10.0)\n",
            "Requirement already satisfied: sniffio in /Users/coder/Desktop/dev/rag_for_production_activeloop/rag-for-production-with-langchain-and-llamaindex/.venv/lib/python3.12/site-packages (from openai>=1.0.0->ragas) (1.3.1)\n",
            "Requirement already satisfied: pyee<14,>=13 in /Users/coder/Desktop/dev/rag_for_production_activeloop/rag-for-production-with-langchain-and-llamaindex/.venv/lib/python3.12/site-packages (from playwright<2.0,>=1.30->llama-index-readers-web) (13.0.0)\n",
            "Requirement already satisfied: greenlet<4.0.0,>=3.1.1 in /Users/coder/Desktop/dev/rag_for_production_activeloop/rag-for-production-with-langchain-and-llamaindex/.venv/lib/python3.12/site-packages (from playwright<2.0,>=1.30->llama-index-readers-web) (3.2.4)\n",
            "Requirement already satisfied: annotated-types>=0.6.0 in /Users/coder/Desktop/dev/rag_for_production_activeloop/rag-for-production-with-langchain-and-llamaindex/.venv/lib/python3.12/site-packages (from pydantic>=2.0.0->ragas) (0.7.0)\n",
            "Requirement already satisfied: pydantic-core==2.33.2 in /Users/coder/Desktop/dev/rag_for_production_activeloop/rag-for-production-with-langchain-and-llamaindex/.venv/lib/python3.12/site-packages (from pydantic>=2.0.0->ragas) (2.33.2)\n",
            "Requirement already satisfied: typing-inspection>=0.4.0 in /Users/coder/Desktop/dev/rag_for_production_activeloop/rag-for-production-with-langchain-and-llamaindex/.venv/lib/python3.12/site-packages (from pydantic>=2.0.0->ragas) (0.4.1)\n",
            "Requirement already satisfied: charset_normalizer<4,>=2 in /Users/coder/Desktop/dev/rag_for_production_activeloop/rag-for-production-with-langchain-and-llamaindex/.venv/lib/python3.12/site-packages (from requests<3,>=2.31.0->llama-index-readers-web) (3.4.3)\n",
            "Requirement already satisfied: trio~=0.30.0 in /Users/coder/Desktop/dev/rag_for_production_activeloop/rag-for-production-with-langchain-and-llamaindex/.venv/lib/python3.12/site-packages (from selenium<5,>=4.17.2->llama-index-readers-web) (0.30.0)\n",
            "Requirement already satisfied: trio-websocket~=0.12.2 in /Users/coder/Desktop/dev/rag_for_production_activeloop/rag-for-production-with-langchain-and-llamaindex/.venv/lib/python3.12/site-packages (from selenium<5,>=4.17.2->llama-index-readers-web) (0.12.2)\n",
            "Requirement already satisfied: websocket-client~=1.8.0 in /Users/coder/Desktop/dev/rag_for_production_activeloop/rag-for-production-with-langchain-and-llamaindex/.venv/lib/python3.12/site-packages (from selenium<5,>=4.17.2->llama-index-readers-web) (1.8.0)\n",
            "Requirement already satisfied: regex>=2022.1.18 in /Users/coder/Desktop/dev/rag_for_production_activeloop/rag-for-production-with-langchain-and-llamaindex/.venv/lib/python3.12/site-packages (from tiktoken->ragas) (2025.9.1)\n",
            "Requirement already satisfied: gitdb<5,>=4.0.1 in /Users/coder/Desktop/dev/rag_for_production_activeloop/rag-for-production-with-langchain-and-llamaindex/.venv/lib/python3.12/site-packages (from gitpython->ragas) (4.0.12)\n",
            "Requirement already satisfied: docstring-parser<1.0,>=0.16 in /Users/coder/Desktop/dev/rag_for_production_activeloop/rag-for-production-with-langchain-and-llamaindex/.venv/lib/python3.12/site-packages (from instructor->ragas) (0.17.0)\n",
            "Requirement already satisfied: jinja2<4.0.0,>=3.1.4 in /Users/coder/Desktop/dev/rag_for_production_activeloop/rag-for-production-with-langchain-and-llamaindex/.venv/lib/python3.12/site-packages (from instructor->ragas) (3.1.6)\n",
            "Requirement already satisfied: markdown-it-py>=2.2.0 in /Users/coder/Desktop/dev/rag_for_production_activeloop/rag-for-production-with-langchain-and-llamaindex/.venv/lib/python3.12/site-packages (from rich->ragas) (4.0.0)\n",
            "Requirement already satisfied: pygments<3.0.0,>=2.13.0 in /Users/coder/Desktop/dev/rag_for_production_activeloop/rag-for-production-with-langchain-and-llamaindex/.venv/lib/python3.12/site-packages (from rich->ragas) (2.19.2)\n",
            "Requirement already satisfied: click>=8.0.0 in /Users/coder/Desktop/dev/rag_for_production_activeloop/rag-for-production-with-langchain-and-llamaindex/.venv/lib/python3.12/site-packages (from typer->ragas) (8.2.1)\n",
            "Requirement already satisfied: shellingham>=1.3.0 in /Users/coder/Desktop/dev/rag_for_production_activeloop/rag-for-production-with-langchain-and-llamaindex/.venv/lib/python3.12/site-packages (from typer->ragas) (1.5.4)\n",
            "Requirement already satisfied: langchain-text-splitters<1.0.0,>=0.3.9 in /Users/coder/Desktop/dev/rag_for_production_activeloop/rag-for-production-with-langchain-and-llamaindex/.venv/lib/python3.12/site-packages (from langchain->ragas) (0.3.11)\n",
            "Requirement already satisfied: langsmith>=0.1.17 in /Users/coder/Desktop/dev/rag_for_production_activeloop/rag-for-production-with-langchain-and-llamaindex/.venv/lib/python3.12/site-packages (from langchain->ragas) (0.4.26)\n",
            "Requirement already satisfied: jsonpatch<2.0,>=1.33 in /Users/coder/Desktop/dev/rag_for_production_activeloop/rag-for-production-with-langchain-and-llamaindex/.venv/lib/python3.12/site-packages (from langchain-core->ragas) (1.33)\n",
            "Requirement already satisfied: pydantic-settings<3.0.0,>=2.10.1 in /Users/coder/Desktop/dev/rag_for_production_activeloop/rag-for-production-with-langchain-and-llamaindex/.venv/lib/python3.12/site-packages (from langchain-community->ragas) (2.10.1)\n",
            "Requirement already satisfied: httpx-sse<1.0.0,>=0.4.0 in /Users/coder/Desktop/dev/rag_for_production_activeloop/rag-for-production-with-langchain-and-llamaindex/.venv/lib/python3.12/site-packages (from langchain-community->ragas) (0.4.0)\n",
            "Requirement already satisfied: griffe in /Users/coder/Desktop/dev/rag_for_production_activeloop/rag-for-production-with-langchain-and-llamaindex/.venv/lib/python3.12/site-packages (from banks<3,>=2.2.0->llama-index-core<0.14,>=0.13.0->llama-index-readers-web) (1.14.0)\n",
            "Requirement already satisfied: marshmallow<4.0.0,>=3.18.0 in /Users/coder/Desktop/dev/rag_for_production_activeloop/rag-for-production-with-langchain-and-llamaindex/.venv/lib/python3.12/site-packages (from dataclasses-json->llama-index-core<0.14,>=0.13.0->llama-index-readers-web) (3.26.1)\n",
            "Requirement already satisfied: sgmllib3k in /Users/coder/Desktop/dev/rag_for_production_activeloop/rag-for-production-with-langchain-and-llamaindex/.venv/lib/python3.12/site-packages (from feedparser>=5.2.1->newspaper3k<0.3,>=0.2.8->llama-index-readers-web) (1.0.0)\n",
            "Requirement already satisfied: smmap<6,>=3.0.1 in /Users/coder/Desktop/dev/rag_for_production_activeloop/rag-for-production-with-langchain-and-llamaindex/.venv/lib/python3.12/site-packages (from gitdb<5,>=4.0.1->gitpython->ragas) (5.0.2)\n",
            "Requirement already satisfied: hf-xet<2.0.0,>=1.1.3 in /Users/coder/Desktop/dev/rag_for_production_activeloop/rag-for-production-with-langchain-and-llamaindex/.venv/lib/python3.12/site-packages (from huggingface-hub>=0.24.0->datasets>=4.0.0->ragas) (1.1.9)\n",
            "Requirement already satisfied: MarkupSafe>=2.0 in /Users/coder/Desktop/dev/rag_for_production_activeloop/rag-for-production-with-langchain-and-llamaindex/.venv/lib/python3.12/site-packages (from jinja2<4.0.0,>=3.1.4->instructor->ragas) (3.0.2)\n",
            "Requirement already satisfied: jsonpointer>=1.9 in /Users/coder/Desktop/dev/rag_for_production_activeloop/rag-for-production-with-langchain-and-llamaindex/.venv/lib/python3.12/site-packages (from jsonpatch<2.0,>=1.33->langchain-core->ragas) (3.0.0)\n",
            "Requirement already satisfied: orjson>=3.9.14 in /Users/coder/Desktop/dev/rag_for_production_activeloop/rag-for-production-with-langchain-and-llamaindex/.venv/lib/python3.12/site-packages (from langsmith>=0.1.17->langchain->ragas) (3.11.3)\n",
            "Requirement already satisfied: requests-toolbelt>=1.0.0 in /Users/coder/Desktop/dev/rag_for_production_activeloop/rag-for-production-with-langchain-and-llamaindex/.venv/lib/python3.12/site-packages (from langsmith>=0.1.17->langchain->ragas) (1.0.0)\n",
            "Requirement already satisfied: zstandard>=0.23.0 in /Users/coder/Desktop/dev/rag_for_production_activeloop/rag-for-production-with-langchain-and-llamaindex/.venv/lib/python3.12/site-packages (from langsmith>=0.1.17->langchain->ragas) (0.24.0)\n",
            "Requirement already satisfied: llama-index-instrumentation>=0.1.0 in /Users/coder/Desktop/dev/rag_for_production_activeloop/rag-for-production-with-langchain-and-llamaindex/.venv/lib/python3.12/site-packages (from llama-index-workflows<2,>=1.0.1->llama-index-core<0.14,>=0.13.0->llama-index-readers-web) (0.4.0)\n",
            "Requirement already satisfied: mdurl~=0.1 in /Users/coder/Desktop/dev/rag_for_production_activeloop/rag-for-production-with-langchain-and-llamaindex/.venv/lib/python3.12/site-packages (from markdown-it-py>=2.2.0->rich->ragas) (0.1.2)\n",
            "Requirement already satisfied: joblib in /Users/coder/Desktop/dev/rag_for_production_activeloop/rag-for-production-with-langchain-and-llamaindex/.venv/lib/python3.12/site-packages (from nltk>3.8.1->llama-index-core<0.14,>=0.13.0->llama-index-readers-web) (1.5.2)\n",
            "Requirement already satisfied: python-dotenv>=0.21.0 in /Users/coder/Desktop/dev/rag_for_production_activeloop/rag-for-production-with-langchain-and-llamaindex/.venv/lib/python3.12/site-packages (from pydantic-settings<3.0.0,>=2.10.1->langchain-community->ragas) (1.1.1)\n",
            "Requirement already satisfied: requests-file>=1.4 in /Users/coder/Desktop/dev/rag_for_production_activeloop/rag-for-production-with-langchain-and-llamaindex/.venv/lib/python3.12/site-packages (from tldextract>=2.0.1->newspaper3k<0.3,>=0.2.8->llama-index-readers-web) (2.1.0)\n",
            "Requirement already satisfied: sortedcontainers in /Users/coder/Desktop/dev/rag_for_production_activeloop/rag-for-production-with-langchain-and-llamaindex/.venv/lib/python3.12/site-packages (from trio~=0.30.0->selenium<5,>=4.17.2->llama-index-readers-web) (2.4.0)\n",
            "Requirement already satisfied: outcome in /Users/coder/Desktop/dev/rag_for_production_activeloop/rag-for-production-with-langchain-and-llamaindex/.venv/lib/python3.12/site-packages (from trio~=0.30.0->selenium<5,>=4.17.2->llama-index-readers-web) (1.3.0.post0)\n",
            "Requirement already satisfied: wsproto>=0.14 in /Users/coder/Desktop/dev/rag_for_production_activeloop/rag-for-production-with-langchain-and-llamaindex/.venv/lib/python3.12/site-packages (from trio-websocket~=0.12.2->selenium<5,>=4.17.2->llama-index-readers-web) (1.2.0)\n",
            "Requirement already satisfied: mypy-extensions>=0.3.0 in /Users/coder/Desktop/dev/rag_for_production_activeloop/rag-for-production-with-langchain-and-llamaindex/.venv/lib/python3.12/site-packages (from typing-inspect>=0.8.0->llama-index-core<0.14,>=0.13.0->llama-index-readers-web) (1.1.0)\n",
            "Requirement already satisfied: pysocks!=1.5.7,<2.0,>=1.5.6 in /Users/coder/Desktop/dev/rag_for_production_activeloop/rag-for-production-with-langchain-and-llamaindex/.venv/lib/python3.12/site-packages (from urllib3[socks]<3.0,>=2.5.0->selenium<5,>=4.17.2->llama-index-readers-web) (1.7.1)\n",
            "Requirement already satisfied: pytz>=2020.1 in /Users/coder/Desktop/dev/rag_for_production_activeloop/rag-for-production-with-langchain-and-llamaindex/.venv/lib/python3.12/site-packages (from pandas->datasets>=4.0.0->ragas) (2025.2)\n",
            "Requirement already satisfied: tzdata>=2022.7 in /Users/coder/Desktop/dev/rag_for_production_activeloop/rag-for-production-with-langchain-and-llamaindex/.venv/lib/python3.12/site-packages (from pandas->datasets>=4.0.0->ragas) (2025.2)\n",
            "Requirement already satisfied: colorama>=0.4 in /Users/coder/Desktop/dev/rag_for_production_activeloop/rag-for-production-with-langchain-and-llamaindex/.venv/lib/python3.12/site-packages (from griffe->banks<3,>=2.2.0->llama-index-core<0.14,>=0.13.0->llama-index-readers-web) (0.4.6)\n",
            "Installing collected packages: wikipedia\n",
            "Successfully installed wikipedia-1.4.0\n",
            "\n",
            "\u001b[1m[\u001b[0m\u001b[34;49mnotice\u001b[0m\u001b[1;39;49m]\u001b[0m\u001b[39;49m A new release of pip is available: \u001b[0m\u001b[31;49m24.0\u001b[0m\u001b[39;49m -> \u001b[0m\u001b[32;49m25.2\u001b[0m\n",
            "\u001b[1m[\u001b[0m\u001b[34;49mnotice\u001b[0m\u001b[1;39;49m]\u001b[0m\u001b[39;49m To update, run: \u001b[0m\u001b[32;49mpip install --upgrade pip\u001b[0m\n",
            "Note: you may need to restart the kernel to use updated packages.\n"
          ]
        }
      ],
      "source": [
        "%pip install html2text ragas llama-index-readers-web wikipedia"
      ]
    },
    {
      "cell_type": "code",
      "execution_count": 8,
      "metadata": {
        "id": "3To8PeBPXjLG"
      },
      "outputs": [
        {
          "name": "stdout",
          "output_type": "stream",
          "text": [
            "Loaded: New York City\n",
            "Length: 93891 characters\n"
          ]
        }
      ],
      "source": [
        "from llama_index.core import Document\n",
        "import wikipedia\n",
        "\n",
        "def load_wikipedia_api_data():\n",
        "    titles = [\"New York City\", \"New York (city)\", \"New York, New York\"]\n",
        "    \n",
        "    for title in titles:\n",
        "        try:\n",
        "            page = wikipedia.page(title, auto_suggest=False)\n",
        "            return [Document(\n",
        "                text=page.content,\n",
        "                metadata={\"title\": page.title, \"url\": page.url, \"summary\": page.summary}\n",
        "            )]\n",
        "        except:\n",
        "            continue\n",
        "    \n",
        "    # Fallback to search results\n",
        "    for title in wikipedia.search(\"New York City\")[1:]:\n",
        "        try:\n",
        "            page = wikipedia.page(title)\n",
        "            return [Document(\n",
        "                text=page.content,\n",
        "                metadata={\"title\": page.title, \"url\": page.url, \"summary\": page.summary}\n",
        "            )]\n",
        "        except:\n",
        "            continue\n",
        "\n",
        "documents = load_wikipedia_api_data()\n",
        "print(f\"Loaded: {documents[0].metadata['title']}\")\n",
        "print(f\"Length: {len(documents[0].text)} characters\")"
      ]
    },
    {
      "cell_type": "code",
      "execution_count": 9,
      "metadata": {},
      "outputs": [
        {
          "data": {
            "text/plain": [
              "[Document(id_='89daa97c-2407-450e-a2ed-9bcedbfedafd', embedding=None, metadata={'title': 'New York City', 'url': 'https://en.wikipedia.org/wiki/New_York_City', 'summary': \"New York, often called New York City (NYC), is the most populous city in the United States. It is located at the southern tip of New York State on one of the world's largest natural harbors. The city comprises five boroughs, each coextensive with its respective county. The city is the geographical and demographic center of both the Northeast megalopolis and the New York metropolitan area, the largest metropolitan area in the United States by both population and urban area. New York is a global center of finance and commerce, culture, technology, entertainment and media, academics and scientific output, the arts and fashion, and, as home to the headquarters of the United Nations, international diplomacy.\\nWith an estimated population in July 2024 of 8,478,072, distributed over 300.46 square miles (778.2 km2), the city is the most densely populated major city in the United States. New York City has more than double the population of Los Angeles, the country's second-most populous city. Over 20.1 million people live in New York City's metropolitan statistical area and 23.5 million in its combined statistical area as of 2020, both the largest in the U.S. New York City is one of the world's most populous megacities. The city and its metropolitan area are the premier gateway for legal immigration to the United States. An estimated 800 languages are spoken in New York City, making it the most linguistically diverse city in the world. The New York City metropolitan region is home to the largest foreign-born population of any metropolitan region in the world, approximately 5.9 million as of 2023.\\nNew York City traces its origins to Fort Amsterdam and a trading post founded on Manhattan Island by Dutch colonists around 1624. The settlement was named New Amsterdam in 1626 and was chartered as a city in 1653. The city came under English control in 1664 and was temporarily renamed New York after King Charles II granted the lands to his brother, the Duke of York, before being permanently renamed New York in 1674. Following independence from Great Britain, the city was the national capital of the United States from 1785 until 1790. The modern city was formed by the 1898 consolidation of its five boroughs: Manhattan, Brooklyn, Queens, the Bronx, and Staten Island.\\nAnchored by Wall Street in the Financial District, Manhattan, New York City has been called both the world's premier financial and fintech center and the most economically powerful city in the world. As of 2022, the New York metropolitan area is the largest metropolitan economy in the world, with a gross metropolitan product of over US$2.16 trillion. The New York metropolitan area's economy is larger than all but nine countries. Despite having a 24/7 rapid transit system, New York also leads the world in urban automobile traffic congestion. The city is home to the world's two largest stock exchanges by market capitalization of their listed companies: the New York Stock Exchange and Nasdaq. New York City is an established haven for global investors. As of 2025, New York City is the most expensive city in the world for expatriates and has by a wide margin the highest residential rents of any American city. Fifth Avenue is the most expensive shopping street in the world. New York City is home to the highest number of billionaires,  individuals of ultra-high net worth (greater than US$30 million), and millionaires of any city in the world by a significant margin.\"}, excluded_embed_metadata_keys=[], excluded_llm_metadata_keys=[], relationships={}, metadata_template='{key}: {value}', metadata_separator='\\n', text_resource=MediaResource(embeddings=None, data=None, text='New York, often called New York City (NYC), is the most populous city in the United States. It is located at the southern tip of New York State on one of the world\\'s largest natural harbors. The city comprises five boroughs, each coextensive with its respective county. The city is the geographical and demographic center of both the Northeast megalopolis and the New York metropolitan area, the largest metropolitan area in the United States by both population and urban area. New York is a global center of finance and commerce, culture, technology, entertainment and media, academics and scientific output, the arts and fashion, and, as home to the headquarters of the United Nations, international diplomacy.\\nWith an estimated population in July 2024 of 8,478,072, distributed over 300.46 square miles (778.2 km2), the city is the most densely populated major city in the United States. New York City has more than double the population of Los Angeles, the country\\'s second-most populous city. Over 20.1 million people live in New York City\\'s metropolitan statistical area and 23.5 million in its combined statistical area as of 2020, both the largest in the U.S. New York City is one of the world\\'s most populous megacities. The city and its metropolitan area are the premier gateway for legal immigration to the United States. An estimated 800 languages are spoken in New York City, making it the most linguistically diverse city in the world. The New York City metropolitan region is home to the largest foreign-born population of any metropolitan region in the world, approximately 5.9 million as of 2023.\\nNew York City traces its origins to Fort Amsterdam and a trading post founded on Manhattan Island by Dutch colonists around 1624. The settlement was named New Amsterdam in 1626 and was chartered as a city in 1653. The city came under English control in 1664 and was temporarily renamed New York after King Charles II granted the lands to his brother, the Duke of York, before being permanently renamed New York in 1674. Following independence from Great Britain, the city was the national capital of the United States from 1785 until 1790. The modern city was formed by the 1898 consolidation of its five boroughs: Manhattan, Brooklyn, Queens, the Bronx, and Staten Island.\\nAnchored by Wall Street in the Financial District, Manhattan, New York City has been called both the world\\'s premier financial and fintech center and the most economically powerful city in the world. As of 2022, the New York metropolitan area is the largest metropolitan economy in the world, with a gross metropolitan product of over US$2.16 trillion. The New York metropolitan area\\'s economy is larger than all but nine countries. Despite having a 24/7 rapid transit system, New York also leads the world in urban automobile traffic congestion. The city is home to the world\\'s two largest stock exchanges by market capitalization of their listed companies: the New York Stock Exchange and Nasdaq. New York City is an established haven for global investors. As of 2025, New York City is the most expensive city in the world for expatriates and has by a wide margin the highest residential rents of any American city. Fifth Avenue is the most expensive shopping street in the world. New York City is home to the highest number of billionaires,  individuals of ultra-high net worth (greater than US$30 million), and millionaires of any city in the world by a significant margin.\\n\\n\\n== Etymology ==\\n\\nIn 1664, New York was named in honor of the Duke of York (later King James II of England). James\\'s elder brother, King Charles II, appointed him proprietor of the former territory of New Netherland, including the city of New Amsterdam, when the Kingdom of England seized it from Dutch control. New Netherland was renamed the Province of New York (now New York State).\\n\\n\\n== History ==\\n\\n\\n=== Early history ===\\n\\nIn the pre-Columbian era, the area of present-day New York City was inhabited by Algonquians, including the Lenape. Their homeland, known as Lenapehoking, included the present-day areas of Staten Island, Manhattan, the Bronx, the western portion of Long Island (including Brooklyn and Queens), and the Lower Hudson Valley.\\nThe first documented visit to New York Harbor by a European was in 1524 by explorer Giovanni da Verrazzano. He claimed the area for France and named it Nouvelle Angoulême (New Angoulême). A Spanish expedition, led by the Portuguese captain Estêvão Gomes sailing for Emperor Charles V, arrived in New York Harbor in January 1525 and charted the mouth of the Hudson River, which he named Río de San Antonio (\\'Saint Anthony\\'s River\\').\\nIn 1609, the English explorer Henry Hudson rediscovered New York Harbor while searching for the Northwest Passage to the Orient for the Dutch East India Company. He sailed up what the Dutch called North River (now the Hudson River), named first by Hudson as the Mauritius after Maurice, Prince of Orange.\\nHudson claimed the region for the Dutch East India Company. In 1614, the area between Cape Cod and Delaware Bay was claimed by the Netherlands and called Nieuw-Nederland (\\'New Netherland\\'). The first non–Native American inhabitant of what became New York City was Juan Rodriguez, a merchant from Santo Domingo who arrived in Manhattan during the winter of 1613–14, trapping for pelts and trading with the local population as a representative of the Dutch.\\n\\n\\n=== Dutch rule ===\\n\\nA permanent European presence near New York Harbor was established in 1624, making New York the 12th-oldest continuously occupied European-established settlement in the continental United States, with the founding of a Dutch fur trading settlement on Governors Island. In 1625, construction was started on a citadel and Fort Amsterdam, later called Nieuw Amsterdam (New Amsterdam), on present-day Manhattan Island.\\nThe colony of New Amsterdam extended from the southern tip of Manhattan to modern-day Wall Street, where a 12-foot (3.7 m) wooden stockade was built in 1653 to protect against Native American and English raids. In 1626, the Dutch colonial Director-General Peter Minuit, as charged by the Dutch West India Company, purchased the island of Manhattan from the Canarsie, a small Lenape band, for \"the value of 60 guilders\" (about $900 in 2018). A frequently told but disproved legend claims that Manhattan was purchased for $24 worth of glass beads.\\nFollowing the purchase, New Amsterdam grew slowly. To attract settlers, the Dutch instituted the patroon system in 1628, whereby wealthy Dutchmen (patroons, or patrons) who brought 50 colonists to New Netherland would be awarded land, local political autonomy, and rights to participate in the lucrative fur trade. This program had little success.\\nSince 1621, the Dutch West India Company had operated as a monopoly in New Netherland, on authority granted by the Dutch States General. In 1639–1640, to bolster economic growth, the Dutch West India Company relinquished its monopoly over the fur trade, leading to growth in the production and trade of food, timber, tobacco, and slaves (particularly with the Dutch West Indies).\\nIn 1647, Peter Stuyvesant began his tenure as the last Director-General of New Netherland. During his tenure, the population of New Netherland grew from 2,000 to 8,000. Stuyvesant has been credited with improving law and order; however, he earned a reputation as a despotic leader. He instituted regulations on liquor sales, attempted to assert control over the Dutch Reformed Church, and blocked other religious groups from establishing houses of worship.\\n\\n\\n=== English rule ===\\n\\nIn 1664, unable to summon any significant resistance, Stuyvesant surrendered New Amsterdam to English troops, led by Colonel Richard Nicolls, without bloodshed. The terms of the surrender permitted Dutch residents to remain in the colony and allowed for religious freedom.\\nIn 1667, during negotiations leading to the Treaty of Breda after the Second Anglo-Dutch War, the victorious Dutch decided to keep the nascent plantation colony of what is now Suriname, which they had gained from the English, and in return the English kept New Amsterdam. The settlement was promptly renamed \"New York\" after the Duke of York (the future King James II and VII). The duke gave part of the colony to proprietors George Carteret and John Berkeley.\\nOn August 24, 1673, during the Third Anglo-Dutch War, Anthony Colve of the Dutch navy seized New York at the behest of Cornelis Evertsen the Youngest and rechristened it \"New Orange\" after William III, the Prince of Orange. The Dutch soon returned the island to England under the Treaty of Westminster of November 1674.\\nSeveral intertribal wars among the Native Americans and epidemics brought on by contact with the Europeans caused sizeable population losses for the Lenape between 1660 and 1670. By 1700, the Lenape population had diminished to 200. New York experienced several yellow fever epidemics in the 18th century, losing ten percent of its population in 1702 alone.\\nIn the early 18th century, New York grew in importance as a trading port as a part of the colony of New York. It became a center of slavery, with 42% of households enslaving Africans by 1730. Most were domestic slaves; others were hired out as labor. Slavery became integrally tied to New York\\'s economy through the labor of slaves throughout the port, and the banking and shipping industries trading with the American South. During construction in Foley Square in the 1990s, the African Burying Ground was discovered; the cemetery included 10,000 to 20,000 graves of colonial-era Africans, some enslaved and some free.\\nThe 1735 trial and acquittal in Manhattan of John Peter Zenger, who had been accused of seditious libel after criticizing colonial governor William Cosby, helped to establish freedom of the press in North America. In 1754, Columbia University was founded.\\n\\n\\n=== American Revolution ===\\n\\nThe Stamp Act Congress met in New York in October 1765, as the Sons of Liberty organization emerged in the city and skirmished over the next ten years with British troops stationed there. The Battle of Long Island, the largest battle of the American Revolutionary War, was fought in August 1776 within modern-day Brooklyn. A British rout of the Continental Army at the Battle of Fort Washington in November 1776 eliminated the last American stronghold in Manhattan, causing George Washington and his forces to retreat across the Hudson River to New Jersey, pursued by British forces.\\nAfter the battle, in which the Americans were defeated, the British made New York their military and political base of operations in North America. The city was a haven for Loyalist refugees and escaped slaves who joined the British lines for freedom promised by the Crown, with as many as 10,000 escaped slaves crowded into the city during the British occupation, the largest such community on the continent. When the British forces evacuated New York at the close of the war in 1783, they transported thousands of freedmen for resettlement in Nova Scotia, England, and the Caribbean.\\nThe attempt at a peaceful solution to the war took place at the Conference House on Staten Island between American delegates, including Benjamin Franklin, and British general Lord Howe on September 11, 1776. Shortly after the British occupation began, the Great Fire of New York destroyed nearly 500 buildings, about a quarter of the structures in the city, including Trinity Church.\\n\\n\\n=== Post-revolutionary period and early 19th century ===\\n\\nIn January 1785, the assembly of the Congress of the Confederation made New York City the national capital. New York was the last capital of the United States under the Articles of Confederation and the first under the Constitution. As the capital, New York City hosted the inauguration of the first President, George Washington, and the first Congress, at Federal Hall on Wall Street. Congress drafted the Bill of Rights there. The Supreme Court held its first organizational sessions in New York in 1790.\\nIn 1790, for the first time, New York City surpassed Philadelphia as the nation\\'s largest city. At the end of 1790, the national capital was moved to Philadelphia, where it remained while the new capital in Washington, D.C. was being constructed.\\nDuring the 19th century New York City\\'s population grew from 60,000 to 3.43 million. Under New York State\\'s gradual emancipation act of 1799, children of slave mothers were to be eventually liberated but to be held in indentured servitude until their mid-to-late twenties. A significant free Black population gradually developed in Manhattan, made up of former slaves who had been freed by their masters after the American Revolutionary War, as well as escaped slaves. The New York Manumission Society worked for abolition and established the African Free School to educate Black children. It was not until 1827 that slavery was completely abolished in the state. Free Blacks struggled with discrimination, and interracial abolitionist activism continued. New York City\\'s population jumped from 123,706 in 1820 (10,886 of whom were Black and of whom 518 were enslaved) to 312,710 by 1840 (16,358 of whom were Black).\\n\\nAlso in the 19th century, the city was transformed by both commercial and residential development relating to its status as a national and international trading center, as well as by European immigration, respectively. The city adopted the Commissioners\\' Plan of 1811, which expanded the city street grid to encompass almost all of Manhattan. The 1825 completion of the Erie Canal through central New York connected the Atlantic port to the agricultural markets and commodities of the North American interior via the Hudson River and the Great Lakes. Local politics became dominated by Tammany Hall, a political machine supported by Irish and German immigrants. In 1831, New York University was founded.\\nSeveral prominent American literary figures lived in New York during the 1830s and 1840s, including William Cullen Bryant, Washington Irving, Herman Melville, Rufus Wilmot Griswold, John Keese, Nathaniel Parker Willis, and Edgar Allan Poe. Members of the business elite lobbied for the establishment of Central Park, which in 1857 became the first landscaped park in an American city.\\nThe Great Irish Famine brought a large influx of Irish immigrants, of whom more than 200,000 were living in New York by 1860, representing over a quarter of the city\\'s population. Extensive immigration from the German provinces meant that Germans comprised another 25% of New York\\'s population by 1860.\\n\\n\\n=== American Civil War ===\\n\\nDemocratic Party candidates were consistently elected to local office, increasing the city\\'s ties to the South and its dominant party. In 1861, Mayor Fernando Wood called on the aldermen to declare independence from Albany and the United States after the South seceded, but his proposal was not acted on. Anger at new military conscription laws during the American Civil War (1861–1865), which spared wealthier men who could afford to hire a substitute, led to the Draft Riots of 1863, whose most visible participants were ethnic Irish working class.\\nThe draft riots deteriorated into attacks on New York\\'s elite, followed by attacks on Black New Yorkers after fierce competition for a decade between Irish immigrants and Black people for work. Rioters burned the Colored Orphan Asylum to the ground. At least 120 people were killed. Eleven Black men were lynched over five days, and the riots forced hundreds of Blacks to flee. The Black population in Manhattan fell below 10,000 by 1865. The White working class had established dominance. It was one of the worst incidents of civil unrest in American history.\\n\\n\\n=== Late 19th and early 20th century ===\\n\\nIn 1886, the Statue of Liberty, a gift from France, was dedicated in New York Harbor. The statue welcomed 14 million immigrants as they arrived via Ellis Island by ship in the late 19th and early 20th centuries, and is a symbol of the United States and American ideals of liberty and peace.\\nIn 1898 the City of New York was formed with the consolidation of Brooklyn (until then a separate city), the County of New York (which then included parts of the Bronx), the County of Richmond, and the western portion of the County of Queens. The opening of the New York City Subway in 1904, first built as separate private systems, helped bind the new city together. Throughout the first half of the 20th century, the city became a world center for industry, commerce, and communication.\\nIn 1904 the steamship General Slocum caught fire in the East River, killing 1,021 people. In 1911, the Triangle Shirtwaist Factory fire, the city\\'s worst industrial disaster, killed 146 garment workers and spurred the growth of the International Ladies\\' Garment Workers\\' Union and major improvements in factory safety standards.\\n\\nNew York\\'s non-White population was 36,620 in 1890. New York City was a prime destination in the early 20th century for Blacks during the Great Migration from the American South, and by 1916, New York City had the largest urban African diaspora in North America. The Harlem Renaissance of literary and cultural life flourished during the era of Prohibition. The larger economic boom generated construction of skyscrapers competing in height.\\nNew York City became the most populous urbanized area in the world in the early 1920s, overtaking London. The metropolitan area surpassed 10 million in the early 1930s, becoming the first megacity. The Great Depression saw the election of reformer Fiorello La Guardia as mayor and the fall of Tammany Hall after eighty years of political dominance.\\nReturning World War II veterans created a post-war economic boom and the development of large housing tracts in eastern Queens and Nassau County, with Wall Street leading America\\'s place as the world\\'s dominant economic power. The United Nations headquarters was completed in 1952, solidifying New York\\'s global geopolitical influence, and the rise of abstract expressionism in the city precipitated New York\\'s displacement of Paris as the center of the art world.\\n\\n\\n=== Late 20th and early 21st centuries ===\\n\\nIn 1969 the Stonewall riots were a series of violent protests by members of the gay community against a police raid that took place in the early morning of June 28, 1969, at the Stonewall Inn in Greenwich Village. They are widely considered to be the single most important event leading to the gay liberation movement and the modern fight for LGBT rights. Wayne R. Dynes, author of the Encyclopedia of Homosexuality, wrote that drag queens were the only \"transgender folks around\" during the Stonewall riots. The transgender community in New York City played a significant role in fighting for LGBT equality.\\n\\nIn the 1970s, job losses due to industrial restructuring caused New York City to suffer from economic problems and rising crime rates. Growing fiscal deficits in 1975 led the city to appeal to the federal government for financial aid; President Gerald Ford gave a speech denying the request, which was paraphrased on the front page of the New York Daily News as \"FORD TO CITY: DROP DEAD\". The Municipal Assistance Corporation was formed and granted oversight authority over the city\\'s finances. While a resurgence in the financial industry greatly improved the city\\'s economic health in the 1980s, New York\\'s crime rate continued to increase through that decade and into the beginning of the 1990s.\\nNew York City\\'s population passed 8 million for the first time in the 2000 census; further records were set in the 2010 and 2020 censuses. Important new economic sectors, such as Silicon Alley, emerged.\\n\\nThe year 2000 was celebrated with fanfare in Times Square.\\nNew York City suffered the bulk of the economic damage and largest loss of human life in the aftermath of the September 11, 2001, attacks. Two of the four hijacked airliners were flown into the twin towers of the World Trade Center, resulting in the collapse of both buildings and the deaths of 2,753 people, including 343 first responders from the New York City Fire Department and 71 law enforcement officers.\\nThe area was rebuilt with a new World Trade Center, the National September 11 Memorial and Museum, and other new buildings and infrastructure, including the World Trade Center Transportation Hub, the city\\'s third-largest hub. The new One World Trade Center is the tallest skyscraper in the Western Hemisphere and the world\\'s seventh-tallest building by pinnacle height, with its spire reaching a symbolic 1,776 feet (541.3 m), a reference to the year of American independence.\\nThe Occupy Wall Street protests in Zuccotti Park in the Financial District of Lower Manhattan began on September 17, 2011, receiving global attention and popularizing the Occupy movement against social and economic inequality worldwide.\\nNew York City was heavily impacted by Hurricane Sandy in October 2012, including flooding that led to the days-long shutdown of the subway system, and flooding of all East River subway tunnels and of all road tunnels entering Manhattan except the Lincoln Tunnel. The New York Stock Exchange closed for two days due to weather for the first time since the Great Blizzard of 1888. At least 43 people died in New York City as a result of Sandy, and the economic losses in New York City were estimated to be roughly $19 billion. The disaster spawned long-term efforts towards infrastructural projects to counter climate change and rising seas, with $15 billion in federal funding received through 2022 towards those resiliency efforts.\\nIn March 2020, the first case of COVID-19 in the city was confirmed. With its population density and extensive exposure to global travelers, the city rapidly replaced Wuhan, China as the global epicenter of the pandemic during the early phase, straining the city\\'s healthcare infrastructure. Through March 2023, New York City recorded more than 80,000 deaths from COVID-19-related complications.\\n\\n\\n== Geography ==\\n\\nNew York City lies in the northeastern United States, in southeastern New York State, approximately halfway between Washington, D.C. and Boston. Its location at the mouth of the Hudson River, which feeds into a naturally sheltered harbor and then into the Atlantic Ocean, has helped the city become a significant trading port. Most of the city is built on the three islands of Long Island, Manhattan, and Staten Island.\\nDuring the Wisconsin glaciation, 75,000 to 11,000 years ago, the New York City area was situated at the edge of a large ice sheet. The erosive forward movement of the ice (and its subsequent retreat) contributed to the separation of what is now Long Island and Staten Island. That action left bedrock at a relatively shallow depth, providing a solid foundation for most of Manhattan\\'s skyscrapers.\\nThe Hudson River flows through the Hudson Valley into New York Bay. Between New York City and Troy, New York, the river is an estuary. The Hudson River separates the city from New Jersey. The East River—a tidal strait—flows from Long Island Sound and separates the Bronx and Manhattan from Long Island. The Harlem River, another tidal strait between the East and Hudson rivers, separates most of Manhattan from the Bronx. The Bronx River, which flows through the Bronx and Westchester County, is the only entirely freshwater river in the city.\\nThe city\\'s land has been altered substantially by human intervention, with considerable land reclamation along the waterfronts since Dutch colonial times; reclamation is most prominent in Lower Manhattan, with developments such as Battery Park City in the 1970s and 1980s. Some of the natural relief in topography has been evened out, especially in Manhattan.\\nThe city\\'s total area is 468.484 square miles (1,213.37 km2). 302.643 sq mi (783.84 km2) of the city is land and 165.841 sq mi (429.53 km2) of it is water. The highest point in the city is Todt Hill on Staten Island, which, at 409.8 feet (124.9 m) above sea level, is the highest point on the eastern seaboard south of Maine. The summit of the ridge is mostly covered in woodlands as part of the Staten Island Greenbelt.\\n\\n\\n=== Boroughs ===\\n\\nNew York City is sometimes referred to collectively as the Five Boroughs. Each borough is coextensive with a respective county of New York State, making New York City one of the U.S. municipalities in multiple counties.\\nManhattan (New York County) is the geographically smallest and most densely populated borough. It is home to Central Park and most of the city\\'s skyscrapers, and is sometimes locally known as The City. Manhattan\\'s population density of 70,450.8 inhabitants per square mile (27,201.2/km2) in 2022 makes it the highest of any county in the United States and higher than the density of any individual American city. Manhattan is the cultural, administrative, and financial center of New York City and contains the headquarters of many major multinational corporations, the United Nations headquarters, Wall Street, and many important universities. The borough is often described as the financial and cultural center of the world.\\nBrooklyn (Kings County), on the western tip of Long Island, is the city\\'s most populous borough. Brooklyn is known for its cultural, social, and ethnic diversity, an independent art scene, distinct neighborhoods, and a distinctive architectural heritage. Downtown Brooklyn is the largest central core neighborhood in the Outer Boroughs. The borough has a long beachfront shoreline including Coney Island, established in the 1870s as one of the earliest amusement grounds in the United States Marine Park and Prospect Park are the two largest parks in Brooklyn. Since 2010, Brooklyn has evolved into a thriving hub of entrepreneurship and high technology startup firms, and of postmodern art and design. Brooklyn is also home to Fort Hamilton, the U.S. military\\'s only active duty installation within New York City, aside from Coast Guard operations. The facility was established in 1825 on the site of an battery used during the American Revolution, and it is one of America\\'s longest-serving military forts.\\nQueens (Queens County), on Long Island north and east of Brooklyn, is geographically the largest borough, the most ethnically diverse county in the United States, and the most ethnically diverse urban area in the world. Queens is the site of the Citi Field, home of the New York Mets, and hosts the annual US Open tennis tournament at the USTA Billie Jean King National Tennis Center in Flushing Meadows–Corona Park, with plans to build Etihad Park, a soccer-specific stadium for New York City FC. Additionally, two of the three busiest airports serving the New York metropolitan area, John F. Kennedy International Airport and LaGuardia Airport, are in Queens.\\nThe Bronx (Bronx County) is both New York City\\'s northernmost borough and the only one that is mostly on the U.S. mainland. It is the location of Yankee Stadium, the baseball park of the New York Yankees, and home to the largest cooperatively-owned housing complex in the United States, Co-op City. It is home to the Bronx Zoo, the world\\'s largest metropolitan zoo, which spans 265 acres (1.07 km2) and houses more than 6,000 animals. The Bronx is the birthplace of hip hop music and its associated culture. Pelham Bay Park is the largest park in New York City, at 2,772 acres (1,122 ha).\\nStaten Island (Richmond County) is the most suburban in character of the five boroughs. It is connected to Brooklyn by the Verrazzano-Narrows Bridge, and to Manhattan by way of the free Staten Island Ferry. In central Staten Island, the Staten Island Greenbelt spans approximately 2,500 acres (10 km2), including 28 miles (45 km) of walking trails and one of the last undisturbed forests in the city. Designated in 1984 to protect the island\\'s natural lands, the Greenbelt comprises seven city parks.\\n\\n\\n=== Climate ===\\n\\nUnder the Köppen climate classification, New York City has a humid subtropical climate (Cfa) and is the northernmost major city on the North American continent with this categorization. The suburbs to the immediate north and west are in the transitional zone between humid subtropical and humid continental climates (Dfa). The city receives an average of 49.5 inches (1,260 mm) of precipitation annually, which is relatively evenly spread throughout the year. New York averages over 2,500 hours of sunshine annually.\\nWinters are chilly and damp, and prevailing wind patterns that blow sea breezes offshore temper the moderating effects of the Atlantic Ocean. The Atlantic and the partial shielding from colder air by the Appalachian Mountains keep the city warmer in the winter than inland North American cities at similar or lesser latitudes. The daily mean temperature in January, the area\\'s coldest month, is 33.3 °F (0.7 °C). Temperatures usually drop to 10 °F (−12 °C) several times per winter, and can reach 60 °F (16 °C) for several days even in the coldest winter month. Spring and autumn are unpredictable and can range from cool to warm, although they are usually mild with low humidity. Summers are typically hot and humid, with a daily mean temperature of 77.5 °F (25.3 °C) in July.\\nNighttime temperatures are 9.5 °F (5.3 °C) degrees higher for the average city resident due to the urban heat island effect, caused by paved streets and tall buildings. Daytime temperatures exceed 90 °F (32 °C) on average of 17 days each summer and in some years exceed 100 °F (38 °C), although this is a rare occurrence, last noted on July 18, 2012. Readings of 0 °F (−18 °C) are extremely rare, last occurring on February 14, 2016. \\nExtreme temperatures have ranged from 106 °F (41 °C), recorded on July 9, 1936, down to −15 °F (−26 °C) on February 9, 1934. The coldest recorded wind chill was −37 °F (−38 °C) on the same day as the all-time record low. The average winter snowfall between 1991 and 2020 was 29.8 inches (76 cm). This varies considerably between years. The record cold daily maximum was 2 °F (−17 °C) on December 30, 1917. The record warm daily minimum was 87 °F (31 °C), on July 2, 1903. The average water temperature of the nearby Atlantic Ocean ranges from 39.7 °F (4.3 °C) in February, to 74.1 °F (23.4 °C) in August.\\n\\nHurricanes and tropical storms are rare in the New York area. Hurricane Sandy brought a destructive storm surge to New York City on the evening of October 29, 2012, flooding numerous streets, tunnels, and subway lines in Lower Manhattan and other areas of the city and cutting off electricity in many parts of the city and its suburbs. The storm and its profound impacts have prompted the discussion of constructing seawalls and other coastal barriers around the shorelines of the city and the metropolitan area to minimize the risk of destructive consequences from another such event in the future.\\n\\n\\n=== Parks ===\\n\\nThe city of New York has a complex park system, with various lands operated by the National Park Service, the New York State Office of Parks, Recreation and Historic Preservation, and the New York City Department of Parks and Recreation. In its 2023 ParkScore ranking, the Trust for Public Land reported that the park system in New York City was the tenth-best park system among the most populous U.S. cities, citing the city\\'s park acreage, investment in parks and that 99% of residents are within 1⁄2 mile (0.80 km) of a park.\\nGateway National Recreation Area contains over 26,000 acres (110 km2), most of it in New York City. In Brooklyn and Queens, the park contains over 9,000 acres (36 km2) of salt marsh, wetlands, islands, and water, including most of Jamaica Bay and the Jamaica Bay Wildlife Refuge. Also in Queens, the park includes a significant portion of the western Rockaway Peninsula, most notably Jacob Riis Park and Fort Tilden. In Staten Island, it includes Fort Wadsworth, with historic pre-Civil War era Battery Weed and Fort Tompkins, and Great Kills Park.\\nThe Statue of Liberty National Monument and Ellis Island Immigration Museum are managed by the National Park Service and are in both New York and New Jersey. They are joined in the harbor by Governors Island National Monument. Historic sites under federal management on Manhattan Island include Stonewall National Monument; Castle Clinton National Monument; Federal Hall National Memorial; Theodore Roosevelt Birthplace National Historic Site; General Grant National Memorial (Grant\\'s Tomb); African Burial Ground National Monument; and Hamilton Grange National Memorial. Hundreds of properties are listed on the National Register of Historic Places or as a National Historic Landmark.\\nThere are seven state parks within the confines of New York City. They include: the Clay Pit Ponds State Park Preserve, a natural area that includes extensive riding trails; the Riverbank State Park, a 28-acre (11 ha) facility; and the Marsha P. Johnson State Park, a state park in Brooklyn and Manhattan that borders the East River renamed in honor of Marsha P. Johnson.\\nNew York City has over 28,000 acres (110 km2) of municipal parkland and 14 miles (23 km) of public beaches. The largest municipal park in the city is Pelham Bay Park in the Bronx, with 2,772 acres (1,122 ha), and the most visited urban park is the Central Park, and one of the most filmed and visited locations in the world, with 42 million visitors in 2023.\\n\\n\\n=== Environment ===\\n\\nEnvironmental issues in New York City are affected by the city\\'s size, density, abundant public transportation infrastructure, and its location at the mouth of the Hudson River. For example, it is one of the country\\'s biggest sources of pollution and has the lowest per-capita greenhouse gas emissions rate and electricity usage. Governors Island is planned to host a US$1 billion research and education center to make New York City the global leader in addressing the climate crisis.\\nAs an oceanic port city, New York City is vulnerable to long-term manifestations of global warming like sea level rise exacerbated by land subsidence. Climate change has spawned the development of a significant climate resiliency and environmental sustainability economy in the city. New York City has focused on reducing its environmental impact and carbon footprint. Mass transit use is the highest in the country.\\nNew York\\'s high rate of public transit use, more than 610,000 daily cycling trips as of 2022, and many pedestrian commuters make it the most energy-efficient major city in the United States. Walk and bicycle modes of travel account for 21% of all modes for trips in the city; nationally, the rate for metro regions is about 8%. In both 2011 and 2015, Walk Score named New York City the most walkable large city in the United States, and in 2018, Stacker ranked New York the most walkable American city. Citibank sponsored public bicycles for the city\\'s bike-share project, which became known as Citi Bike, in 2013. New York City\\'s numerical \"in-season cycling indicator\" of bicycling in the city had hit an all-time high of 437 when measured in 2014.\\nThe New York City drinking water supply is extracted from the protected Catskill Mountains watershed. As a result of the watershed\\'s integrity and undisturbed natural water filtration system, New York is one of only four major cities in the United States the majority of whose drinking water is pure enough not to require water treatment. The city\\'s municipal water system is the nation\\'s largest, moving more than 1 billion U.S. gallons (3.8 billion liters) of water daily from a watershed covering 1,900 square miles (4,900 km2)\\nAccording to the 2016 World Health Organization Global Urban Ambient Air Pollution Database, the annual average concentration in New York City\\'s air of particulate matter measuring 2.5 micrometers or less (PM2.5) was 7.0 micrograms per cubic meter, or 3.0 micrograms within the recommended limit of the WHO Air Quality Guidelines for the annual mean PM2.5. The New York City Department of Health and Mental Hygiene, in partnership with Queens College, conducts the New York Community Air Survey to measure pollutants at about 150 locations.\\n\\n\\n== Demographics ==\\n\\nNew York City is the most populous city in the United States, with 8,804,190 residents as of the 2020 census, its highest decennial count ever, incorporating more immigration into the city than outmigration since the 2010 census. More than twice as many people live in New York City as in Los Angeles, the second largest American city. The city\\'s population in 2020 was 35.9% White, 22.7% Black, 14.6% Asian, 10.5% Mixed, 0.7% Native American and 0.1% Pacific Islander; 28.4% identified themselves as Hispanic or Latino.\\nBetween 2010 and 2020, New York City’s population grew by 629,000 residents, more than the total growth of the next four largest American cities (Los Angeles, Chicago, Houston, and Phoenix) combined. The city\\'s population density of 27,744.1 inhabitants per square mile (10,712.1/km2) makes it the densest of any American municipality with a population above 100,000. Manhattan\\'s population density is 70,450.8 inhabitants per square mile (27,201.2/km2), the highest of any county in the United States.\\nBased on data from the 2020 census, New York City comprised about 43.6% of the state\\'s population of 20,202,320, and about 39% of the population of the New York metropolitan area. The majority of New York City residents in 2020 (5,141,539 or 58.4%) were living in Brooklyn or Queens, the two boroughs on Long Island. An estimated  800 languages are spoken in New York, and the New York City metropolitan statistical area has the largest foreign-born population of any metropolitan region in the world. The New York region continues to be by far the leading metropolitan gateway for legal immigrants admitted into the United States, substantially exceeding the combined totals of Los Angeles and Miami. Nearly seven times as many young professionals applied for jobs in New York City in 2023 as compared to 2019, making New York the most popular destination for recent college graduates.\\n\\n\\n=== Ethnicity and nationality ===\\n\\nAccording to 2022 estimates from the American Community Survey, the largest self-reported ancestries in New York City were Dominican (8.7%), Chinese (7.5%), Puerto Rican (6.9%), Italian (5.5%), Mexican (4.4%), Irish (4.4%), Asian Indian (3.1%), German (2.9%), Jamaican (2.4%), Ecuadorian (2.3%), English (2.1%), Polish (1.9%), Russian (1.7%), Arab (1.4%), Haitian (1.4%), Guyanese (1.3%), Filipino (1.1%), and Korean (1.1%).\\n\\nBased on American Community Survey data from 2018 to 2022, approximately 36.3% of the city\\'s population is foreign-born (compared to 13.7% nationwide), and 40% of all children are born to mothers who are immigrants. Throughout its history, New York has been a major port of entry for immigrants. No single country or region of origin dominates. Queens has the largest Asian-American and Andean populations in the United States, and is also the most ethnically and linguistically diverse urban area in the world.  The wider New York City metropolitan region is home to the world\\'s largest foreign-born population of any metropolitan region, enumerating 5.9 million as of 2023.\\n\\nThe metropolitan area has the largest Asian Indian population in the Western Hemisphere; the largest Russian-American, Italian-American, and African-American populations; the largest Dominican-American, Puerto Rican–American, and South American and second-largest overall Hispanic population in the United States, numbering over 5 million. Venezuela, Ecuador, Colombia, Guyana, Peru, and Brazil, are the top source countries from South America for immigrants to the New York City region; the Dominican Republic, Jamaica, Haiti, and Trinidad and Tobago in the Caribbean; Nigeria, Egypt, Ghana, Tanzania, Kenya, and South Africa from Africa; and El Salvador, Honduras, and Guatemala in Central America.\\nNew York contains the highest total Asian population of any U.S. city proper. Asian Americans in New York City, according to the 2010 census, number more than 1.2 million, greater than the combined totals of San Francisco and Los Angeles. New York has the largest Chinese population of any city outside Asia, Manhattan\\'s Chinatown is the highest concentration of Chinese people in the Western Hemisphere, and Queens is home to the largest Tibetan population outside Asia. Arab Americans number over 160,000 in New York City, with the highest concentration in Brooklyn. New York City has the highest Palestinian population in the United States. Central Asians, primarily Uzbek Americans, are a rapidly growing segment of the city\\'s non-Hispanic White population. The metropolitan area is home to 20% of the nation\\'s Indian Americans and at least twenty Little India enclaves, and 15% of all Korean Americans and four Koreatowns.\\nNew York City has the largest European and non-Hispanic white population of any American city, numbering 2.7 million in 2012. The European diaspora residing in the city is very diverse and many European ethnic groups have formed enclaves. With 960,000 Jewish inhabitants as of 2023, New York City is home to the highest Jewish population of any city in the world, and its metropolitan area concentrated over 2 million Jews as of 2021, the second largest Jewish population worldwide after the Tel Aviv metropolitan area in Israel. In the borough of Brooklyn, an estimated one in four residents was Jewish as of 2018.\\n\\n\\n=== Sexual orientation and gender identity ===\\n\\nNew York City has been described as the gay capital of the world and the central node of the lesbian, gay, bisexual, and transgender (LGBT) sociopolitical ecosystem, and is home to one of the world\\'s largest LGBT populations and the most prominent. The New York metropolitan area is home to about 570,000 self-identifying gay and bisexual people, the largest in the country. Same-sex sexual activity between consenting adults has been legal in New York since 1980\\'s New York v. Onofre case, which invalidated the state\\'s sodomy law. Same-sex marriage in New York was legalized on June 24, 2011, and were authorized to take place on July 23, 2011.\\n\\nThe annual NYC Pride March proceeds southward down Fifth Avenue and ends at Greenwich Village in Lower Manhattan; the parade is the largest pride parade in the world, attracting tens of thousands of participants and millions of sidewalk spectators each June. The annual Queens Pride Parade is held in Jackson Heights and is accompanied by the ensuing Multicultural Parade.\\nStonewall 50 – WorldPride NYC 2019 was the largest international Pride celebration in history, commemorating the 50th anniversary of the Stonewall uprising, with 150,000 participants and five million spectators attending in Manhattan alone. New York City is home to the largest transgender population in the world, estimated at more than 50,000 in 2018, concentrated in Manhattan, Brooklyn, and Queens; however, until the June 1969 Stonewall riots, this community had felt marginalized and neglected by the gay community. Brooklyn Liberation March, the largest transgender-rights demonstration in LGBT history, took place on June 14, 2020, stretching from Grand Army Plaza to Fort Greene, Brooklyn, focused on supporting Black transgender lives, drawing an estimated 15,000 to 20,000 participants.\\n\\n\\n=== Religion ===\\n\\nChristianity is the largest religion (59% adherent) in New York City, which is home to the highest number of churches of any city in the world. Catholicism is the largest Christian denomination (33%), followed by Protestantism (23%), and other Christian denominations (3%). The Latin Catholic population is primarily served by the Roman Catholic Archdiocese of New York and Diocese of Brooklyn, while Eastern Catholics are divided into numerous jurisdictions throughout the city. Evangelical Protestantism is the largest branch of Protestantism in the city (9%), followed by Mainline Protestantism (8%), while the converse is usually true for other cities and metropolitan areas.\\nWith 960,000 Jewish inhabitants as of 2023, Judaism is the second-largest religion practiced in New York City. Nearly half of the city\\'s Jews live in Brooklyn. \\nIslam ranks as the third-largest religion in New York City, following Christianity and Judaism, with estimates ranging between 600,000 and 1,000,000 observers of Islam, including 10% of the city\\'s public school children. 22.3% of American Muslims live in New York City, with 1.5 million Muslims in the greater New York metropolitan area, the largest metropolitan Muslim population in the Western Hemisphere—and the most ethnically diverse Muslim population of any city in the world. Powers Street Mosque in Brooklyn is one of the oldest continuously operating mosques in the United States, and represents the first Islamic organization in both the city and the state.\\nFollowing these three largest religious groups in New York City are Hinduism, Buddhism, Sikhism, Zoroastrianism, and others. As of 2023, 24% of Greater New Yorkers identified with no organized religious affiliation, and 4% were self-identified atheists.\\n\\n\\n== Economy ==\\n\\nNew York City is a global hub of business and commerce, sometimes called the \"Capital of the World\". Greater New York is the world\\'s largest metropolitan economy, with a gross metropolitan product estimated at US$2.16 trillion in 2022. New York is a center for worldwide banking and finance, health care, and life sciences, medical technology and research, retailing, world trade, transportation, tourism, real estate, new media, traditional media, advertising, legal services, accountancy, insurance, and the arts in the United States; while Silicon Alley, metonymous for New York\\'s high technology sphere, continues to expand. The Port of New York and New Jersey is a major economic engine, benefitting post-Panamax from the expansion of the Panama Canal.\\nMany Fortune 500 corporations are headquartered in New York City, as are a large number of multinational corporations. New York City has been ranked first among cities across the globe in attracting capital, business, and tourists. New York City\\'s role as the top global center for the advertising industry is metonymously reflected as Madison Avenue. The city\\'s fashion industry provides approximately 180,000 employees with $11 billion in annual wages.\\nSignificant other economic sectors include universities and non-profit institutions. Manufacturing declined over the 20th century but still accounts for significant employment. The city\\'s apparel and garment industry, historically centered on the Garment District in Manhattan, peaked in 1950, when more than 323,000 workers were employed in the industry in New York. In 2015, fewer than 23,000 New York City residents were employed in the industry, although revival efforts were underway, and the American fashion industry continues to be metonymized as Seventh Avenue. In 2017, the city had 205,592 employer firms, of which 22.0% were owned by women, 31.3% were minority-owned and 2.7% were owned by veterans.\\nIn 2022, the gross domestic product of New York City was US$1.053 trillion, of which $781 billion (74%) was produced by Manhattan. Like other large cities, New York City has a degree of income disparity, as indicated by its Gini coefficient of 0.55 as of 2022. In November 2023, the city had total employment of over 4.75 million of which more than a quarter were in education and health services. Manhattan, which accounted for more than half of the city\\'s jobs, had an average weekly wage of $2,590 in the second quarter of 2023, ranking fourth-highest among the nation\\'s 360 largest counties. New York City is one of the relatively few American cities levying an income tax (about 3%) on its residents; despite this tax levy, New York City in 2024 was home by a significant margin to the highest number of billionaires of any city in the world, with a total of 110.\\n\\n\\n=== Wall Street ===\\n\\nNew York City\\'s most important economic sector lies in its role as a comprehensive financial center, metonymously known as Wall Street. Lower Manhattan is home to the New York Stock Exchange and the Nasdaq, representing the world\\'s largest and second largest stock exchanges, respectively, when measured both by overall average daily trading volume and by total market capitalization of their listed companies in 2013. In fiscal year 2013–14, Wall Street\\'s securities industry generated 19% of New York State\\'s tax revenue.\\nNew York City remains the largest global center for trading in public equity and debt capital markets. New York also leads in hedge fund management; private equity; and the monetary volume of mergers and acquisitions. Several investment banks and investment managers headquartered in Manhattan are important participants in other global financial centers. New York is the principal commercial banking center of the United States.\\nManhattan contained over 500 million square feet (46.5 million m2) of office space in 2018, making New York City the largest office market in the world, while Midtown Manhattan, with 400 million square feet (37.2 million m2) in 2018, is the largest central business district in the world.\\n\\n\\n=== Tech and biotech ===\\n\\nNew York is a top-tier global technology hub. Silicon Alley, once a metonym for the sphere encompassing the metropolitan region\\'s high technology industries, is no longer a relevant moniker as the city\\'s tech environment has expanded dramatically both in location and in scope since at least 2003, when tech business appeared in more places in Manhattan and other boroughs, and not much silicon was involved. New York City\\'s current tech sphere encompasses the array of applications involving universal applications of artificial intelligence (AI), broadband internet, new media, financial technology (fintech) and cryptocurrency, biotechnology, game design, and other fields within information technology that are supported by its entrepreneurship ecosystem and venture capital investments. Technology-driven startup companies and entrepreneurial employment are growing in New York City and the region. The technology sector has been claiming a greater share of New York City\\'s economy since 2010. Tech:NYC, founded in 2016, is a non-profit organization which represents New York City\\'s technology industry with government, civic institutions, in business, and in the media, and whose primary goals are to further augment New York\\'s substantial tech talent base and to advocate for policies that will nurture tech companies to grow in the city.\\nNew York City\\'s AI sector raised US$483.6 million in venture capital investment in 2022. In 2023, New York unveiled the first comprehensive initiative to create both a framework of rules and a chatbot to regulate the use of AI within the sphere of city government.\\nThe biotechnology sector is growing in New York City, based on the city\\'s strength in academic scientific research and public and commercial financial support. On December 19, 2011, Mayor Michael R. Bloomberg announced his choice of Cornell University and Technion-Israel Institute of Technology to build a $2 billion graduate school of applied sciences called Cornell Tech on Roosevelt Island intending to transform New York City into the world\\'s premier technology capital.\\n\\n\\n=== Real estate ===\\n\\nNew York City real estate is a haven for global investors. The total value of all New York City property was assessed at US$1.479 trillion for the 2017 fiscal year, an increase of 6.1% from the previous year. Of the total market value, single family homes accounted for $765 billion (51.7%); condominiums, co-ops, and apartment buildings totaled $351 billion (23.7%); and commercial properties were valued at $317 billion (21.4%). Fifth Avenue in Midtown Manhattan commands the highest retail rents in the world, at $2,000 per square foot ($22,000/m2) in 2023.\\nNew York City has one of the highest costs of living in the world, which is exacerbated by the city\\'s housing shortage. In 2023, one-bedroom apartments in Manhattan rented at a median monthly price of US$4,443. The median house price city-wide is over $1 million as of 2023. With 33,000 units available in 2023 among the city\\'s 2.3 million rentable apartments, the vacancy rate was 1.4%, the lowest level since 1968 and a rate that is indicative of a shortage of available units, especially among those with rents below a monthly rental of $1,650, where less than 1% of units were available. Perennially high demand has pushed median monthly one-bedroom apartment rents in New York City to over US$4,000 and two-bedroom rents to over $5,000, the highest in the United States by a significant margin.\\n\\n\\n=== Tourism ===\\n\\nTourism is a vital industry for New York City, and New York City Tourism + Conventions represents the city\\'s official bureau of tourism. New York has witnessed a growing combined volume of international and domestic tourists, with as many as 66.6 million visitors to the city per year, including as many as 13.5 million international visitors, with the highest numbers from the United Kingdom, Canada, Brazil, and China. Multiple sources have called New York the most photographed city in the world. I Love New York (stylized I ❤ NY) is both a logo and a song that are the basis of an advertising campaign and have been used since 1977 to promote tourism in New York City, and later to promote New York State as well. The trademarked logo is owned by New York State Empire State Development.\\nMany districts and monuments in New York City are major landmarks, including three of the world\\'s ten most-visited tourist attractions in 2023. A record 66.6 million tourists visited New York City in 2019, bringing in $47.4 billion in tourism revenue. Visitor numbers dropped by two-thirds in 2020 during the pandemic, rebounding to 63.3 million in 2023. Major landmarks in New York City include the Metropolitan Museum of Art, the Statue of Liberty, the Empire State Building, and Central Park. Times Square is the brightly illuminated hub of the Broadway Theater District, and a major center of the world\\'s entertainment industry, attracting 50 million visitors annually to one of the world\\'s busiest pedestrian intersections. According to The Broadway League, shows on Broadway sold approximately US$1.54 billion worth of tickets in both the 2022–2023 and the 2023–2024 seasons. Both seasons featured theater attendance of approximately 12.3 million each.\\n\\n\\n=== Media and entertainment ===\\n\\nNew York City has been described as the entertainment and digital media capital of the world. It is a center for the advertising, music, newspaper, digital media, and publishing industries, and is the largest media market in North America. Many of the world\\'s largest media conglomerates are based in the city, including Warner Bros. Discovery, the Thomson Reuters Corporation, the Associated Press, Bloomberg L.P., the News Corp, The New York Times Company, NBCUniversal, the Hearst Corporation, AOL and Fox Corporation. Seven of the world\\'s top eight global advertising agency networks have their headquarters in New York.\\nMore than 200 newspapers and 350 consumer magazines have an office in the city, and the publishing industry employs about 11,500 people, with an economic impact of $9.2 billion. The two national daily newspapers with the largest daily circulations in the United States are published in New York: The Wall Street Journal and The New York Times broadsheets. With 132 awards through 2022, The Times has won the most Pulitzer Prizes for journalism and is considered the U.S. media\\'s newspaper of record. Tabloid newspapers in the city include the New York Daily News, which was founded in 1919 by Joseph Medill Patterson, and the New York Post, founded in 1801 by Alexander Hamilton.\\nAs of 2019, New York City was the second-largest center for filmmaking and television production in the United States, producing about 200 feature films annually. The industry employed more than 100,000 people in 2019, generating $12.2 billion in wages and a total economic impact of $64.1 billion. By volume, New York is the world leader in independent film production—one-third of all American independent films are produced there.\\nNew York is a major center for non-commercial educational media. NYC Media is the official public radio, television, and online media network and broadcasting service of New York City, and has produced several original Emmy Award-winning shows covering music and culture in city neighborhoods and city government. The oldest public-access television channel in the United States is the Manhattan Neighborhood Network, founded in 1971. WNET is the city\\'s major public television station and produces a third of national Public Broadcasting Service (PBS) television programming. WNYC, a public radio station owned by the city until 1997, has the largest public radio audience in the United States.\\n\\n\\n== Culture ==\\n\\nNew York City is frequently the setting for novels, movies, and television programs and has been described as the cultural capital of the world.\\nThe city is the birthplace of many cultural movements, including the Harlem Renaissance in literature and visual art; abstract expressionism (known as the New York School) in painting; and hip-hop, punk, hardcore, salsa, freestyle, Tin Pan Alley, certain forms of jazz, and (along with Philadelphia) disco in music. New York City has been considered the dance capital of the world.\\nOne of the most common traits attributed to New York City is its fast pace, which spawned the term New York minute. New York City\\'s residents are prominently known for their resilience historically, and more recently related to their management of the impacts of the September 11 terrorist attacks and the COVID-19 pandemic. New York was voted the world\\'s most resilient city in 2021 and 2022, per Time Out\\'s global poll of urban residents.\\n\\n\\n=== Theater ===\\n\\nThe central hub of the American theater scene is Manhattan, with its divisions of Broadway, off-Broadway, and off-off-Broadway. Many movie and television stars have gotten their big break working in New York productions.\\nBroadway theatre is one of the premier forms of English-language theatre in the world, named after Broadway, the major thoroughfare that crosses Times Square, sometimes referred to as \"The Great White Way\".\\nForty-one venues, mostly in Midtown Manhattan\\'s Theatre District, each with at least 500 seats, are classified as Broadway theatres. The 2018–19 Broadway theatre season set records with total attendance of 14.8 million and gross revenue of $1.83 billion Recovering from closures forced by the COVID-19 pandemic, 2022–23 revenues rebounded to $1.58 billion with total attendance of 12.3 million. The Tony Awards recognize excellence in live Broadway theatre and are presented at an annual ceremony in Manhattan.\\n\\n\\n=== Accent and dialect ===\\n\\nThe New York area is home to a distinctive regional accent and speech pattern called the New York dialect, alternatively known as Brooklynese or New Yorkese. It has been considered one of the most recognizable accents within American English. The traditional New York area speech pattern is known for its rapid delivery, and its accent is characterized as non-rhotic so that the sound [ɹ] does not appear at the end of a syllable or immediately before a consonant, therefore the pronunciation of the city name as \"New Yawk\". The classic version of the New York City dialect is centered on middle- and working-class New Yorkers. The influx of non-European immigrants in recent decades has led to changes in this distinctive dialect, and the traditional form of this speech pattern is no longer as prevalent.\\n\\n\\n=== Architecture ===\\n\\nNew York has architecturally noteworthy buildings in a wide range of styles and from distinct periods, from the Dutch Colonial Pieter Claesen Wyckoff House in Brooklyn, the oldest section of which dates to 1656, to the modern One World Trade Center, the skyscraper at Ground Zero in Lower Manhattan and the most expensive office tower in the world by construction cost.\\nManhattan\\'s skyline, with its many skyscrapers, has been recognized as an iconic symbol of the city, and the city has been home to several of the tallest buildings in the world. As of 2019, New York City had 6,455 high-rise buildings, the third most in the world after Hong Kong and Seoul.\\nThe character of New York\\'s large residential districts is often defined by the elegant brownstone rowhouses and townhouses and shabby tenements that were built during a period of rapid expansion from 1870 to 1930. Stone and brick became the city\\'s building materials of choice after the construction of wood-frame houses was limited in the aftermath of the Great Fire of 1835.\\nIn contrast, New York City also has neighborhoods that are less densely populated and feature free-standing dwellings. In neighborhoods such as Riverdale (in the Bronx), Ditmas Park (in Brooklyn), and Douglaston (in Queens), large single-family homes are common in various architectural styles such as Tudor Revival and Victorian.\\n\\n\\n=== Arts ===\\n\\nLincoln Center for the Performing Arts, anchoring Lincoln Square on the Upper West Side of Manhattan, is home to numerous influential arts organizations, including the Metropolitan Opera, New York City Opera, New York Philharmonic, and New York City Ballet, as well as the Vivian Beaumont Theater, the Juilliard School, Jazz at Lincoln Center, and Alice Tully Hall. The Lee Strasberg Theatre and Film Institute is in Union Square, and Tisch School of the Arts is based at New York University, while Central Park SummerStage presents free concerts in Central Park.\\nNew York City has more than 2,000 arts and cultural organizations and more than 500 art galleries. The city government funds the arts with a larger annual budget than the National Endowment for the Arts. The city is also home to hundreds of cultural institutions and historic sites. Museum Mile is the name for a section of Fifth Avenue running from 82nd to 105th streets on the Upper East Side of Manhattan, in the upper portion of Carnegie Hill.\\nNine museums occupy this section of Fifth Avenue, including the Guggenheim, Metropolitan Museum of Art, Neue Galerie New York, the Jewish Museum, and The Africa Center, making it one of the densest displays of high culture in the world. In addition to other programming, the museums collaborate for the annual Museum Mile Festival, held each year in June, to promote the museums and increase visitation. Many of the world\\'s most lucrative art auctions are held in New York City.\\nThe Metropolitan Museum of Art is the largest art museum in the Americas. In 2022, it welcomed 3.2 million visitors, ranking it the third-most visited museum in the country, and eighth-most visited art museum in the world. Its permanent collection contains more than two million works across 17 curatorial departments, and includes works of art from classical antiquity and ancient Egypt; paintings and sculptures from nearly all the European masters; and an extensive collection of American and modern art. The Met maintains extensive holdings of African, Asian, Oceanian, Byzantine, and Islamic art.\\n\\n\\n=== Cuisine ===\\n\\nNew York City\\'s food culture includes an array of international cuisines influenced by the city\\'s long immigrant history. Central and Eastern European immigrants, especially Jewish immigrants from those regions, brought New York-style bagels, cheesecake, hot dogs, knishes, and delicatessens (delis) to the city. Italian immigrants brought New York-style pizza and Italian cuisine into the city, while Jewish immigrants and Irish immigrants brought pastrami and corned beef, respectively. Chinese and other Asian restaurants, sandwich joints, trattorias, diners, and coffeehouses are ubiquitous throughout the city. Some 4,000 mobile food vendors licensed by the city, many immigrant-owned, have made Middle Eastern foods such as falafel and kebabs examples of modern New York street food. The city is home to \"nearly one thousand of the finest and most diverse haute cuisine restaurants in the world\", according to Michelin. The New York City Department of Health and Mental Hygiene assigns letter grades to the city\\'s restaurants based on inspection results. As of 2019, there were 27,043 restaurants in the city, up from 24,865 in 2017. The Queens Night Market in Flushing Meadows–Corona Park attracts more than ten thousand people nightly to sample food from more than 85 countries.\\n\\n\\n=== Fashion ===\\n\\nNew York City is a global fashion capital, and the fashion industry employs 4.6% of the city\\'s private workforce. New York Fashion Week (NYFW) is a high-profile semiannual event featuring models displaying the latest wardrobes created by fashion designers worldwide in advance of these fashions proceeding to the marketplace.\\nNYFW sets the tone for the global fashion industry. New York\\'s fashion district encompasses roughly 30 city blocks in Midtown Manhattan, clustered around a stretch of Seventh Avenue nicknamed Fashion Avenue. New York\\'s fashion calendar also includes Couture Fashion Week to showcase haute couture styles. The Met Gala is often described as \"Fashion\\'s biggest night\".\\n\\n\\n=== Parades ===\\n\\nNew York City is well known for its street parades, the majority in Manhattan. The primary orientation of the annual street parades is typically from north to south, marching along major avenues. The annual Macy\\'s Thanksgiving Day Parade is the world\\'s largest parade, beginning alongside Central Park and proceeding southward to the flagship Macy\\'s Herald Square store; the parade is viewed on telecasts worldwide and draws millions of spectators in person. Other notable parades including the annual New York City St. Patrick\\'s Day Parade in March, the NYC LGBT Pride March in June, the LGBT-inspired Greenwich Village Halloween Parade in October, and numerous parades commemorating the independence days of many nations. Ticker-tape parades celebrating championships won by sports teams as well as other accomplishments march northward along the Canyon of Heroes on Broadway from Bowling Green to City Hall Park in Lower Manhattan.\\n\\n\\n=== Sports ===\\n\\nNew York City is home to the headquarters of the National Football League, Major League Baseball, the National Basketball Association, the National Hockey League, and Major League Soccer.\\nNew York City hosted the 1984 Summer Paralympics and the 1998 Goodwill Games. New York City\\'s bid to host the 2012 Summer Olympics was one of five finalists, but lost out to London.\\nThe city has played host to more than 40 major professional teams in the five sports and their respective competing leagues. Four of the ten most expensive stadiums ever built worldwide (MetLife Stadium, the new Yankee Stadium, Madison Square Garden, and Citi Field) are in the New York metropolitan area.\\nThe city is represented in the National Football League by the New York Giants and the New York Jets, although both teams play their home games at MetLife Stadium in nearby East Rutherford, New Jersey, which hosted Super Bowl XLVIII in 2014.\\nThe city\\'s two Major League Baseball teams are the New York Mets, who play at 41,800-seat Citi Field in Queens, and the New York Yankees, who play at 47,400-seat Yankee Stadium in the Bronx. The two rivals compete in six games of interleague play every regular season, called the Subway Series. The Yankees have won an MLB-record 27 championships, while the Mets have won the World Series twice. The city was once home to the Brooklyn Dodgers (now the Los Angeles Dodgers), who won the World Series once, and the New York Giants (now the San Francisco Giants), who won the World Series five times. Both teams moved to California in 1958. There is one Minor League Baseball team in the city, the Mets-affiliated Brooklyn Cyclones, and the city gained a club in the independent Atlantic League when the Staten Island FerryHawks began play in 2022.\\nThe city\\'s National Basketball Association teams are the New York Knicks, who play at Madison Square Garden, and the Brooklyn Nets, who play at the Barclays Center. The New York Liberty is the city\\'s Women\\'s National Basketball Association team. The first national college-level basketball championship, the National Invitation Tournament, was held in New York in 1938 and remains in the city.\\nThe metropolitan area is home to three National Hockey League teams. The New York Rangers, one of the league\\'s Original Six, play at Madison Square Garden in Manhattan. The New York Islanders, traditionally representing Long Island, play in UBS Arena in Elmont, New York, but played in Brooklyn\\'s Barclays Center from 2015 to 2020. The New Jersey Devils play at Prudential Center in nearby Newark, New Jersey.\\nNew York City is represented by New York City FC of Major League Soccer, who play their home games at Yankee Stadium and the New York Red Bulls, who play their home games at Sports Illustrated Stadium in nearby Harrison, New Jersey. Gotham FC in the National Women\\'s Soccer League plays their home games in Sports Illustrated Stadium. Brooklyn FC is a professional soccer club based in that borough, fielding a women\\'s team in the first division USL Super League starting in 2024 and a men\\'s team in the second division USL Championship in 2025. New York was a host city for the 1994 FIFA World Cup, with matches being played at Giants Stadium in neighboring East Rutherford, New Jersey. New York City will be one of eleven host cities for the 2026 FIFA World Cup, with the final set to be played at MetLife Stadium.\\nThe annual US Open is one of four Grand Slam tennis tournaments and is held at the National Tennis Center in Flushing Meadows–Corona Park. The New York City Marathon, which courses through all five boroughs, is the world\\'s largest running marathon, with 51,402 finishers in 2023, who came from all 50 states and 148 nations. The Millrose Games is an annual track and field meet held at the Fort Washington Avenue Armory, whose featured event is the Wanamaker Mile. Boxing is a prominent part of the city\\'s sporting scene, with events like the New York Golden Gloves held at Madison Square Garden each year.\\n\\n\\n== Human resources ==\\n\\n\\n=== Education ===\\n\\nNew York City has the largest educational system of any city. The city\\'s educational infrastructure spans primary education, secondary education, higher education, and research. The New York City Public Schools system, managed by the New York City Department of Education, is the largest public school system in the United States, serving about 1.1 million students in approximately 1,800 separate primary and secondary schools, including charter schools, as of 2017–2018. There are approximately 900 additional privately run secular and religious schools.\\n\\nThe New York Public Library (NYPL) has the largest collection of any public library system in the United States. Queens is served by the Queens Borough Public Library (QPL), the nation\\'s second-largest public library system, while the Brooklyn Public Library (BPL) serves Brooklyn.\\nMore than a million students, the highest number of any city in the United States, are enrolled in New York City\\'s more than 120 higher education institutions, with more than half a million in the City University of New York (CUNY) system alone as of 2020. According to Academic Ranking of World Universities, New York City has, on average, the best higher education institutions of any global city.\\nThe public CUNY system comprises 25 institutions across all five boroughs. The public State University of New York (SUNY) system\\'s campuses in New York City include SUNY Downstate Health Sciences University, Fashion Institute of Technology, SUNY Maritime College, and SUNY College of Optometry. New York City is home to such notable private universities as Adelphi University, Barnard College, Columbia University, Cooper Union, Fordham University, New York University, New York Institute of Technology, Rockefeller University, Mercy University, Cornell Tech and Yeshiva University; several of these are ranked among the top universities in the world, while some of the world\\'s most prestigious institutions like Princeton University and Yale University remain in the New York metropolitan area.\\nMuch of the scientific research in the city is done in medicine and the life sciences. In 2019, the New York metropolitan area ranked first by share of published articles in life sciences. New York City has the most postgraduate life sciences degrees awarded annually in the United States, and in 2012, 43,523 licensed physicians were practicing in New York City. There are 127 Nobel laureates with roots in local institutions as of 2004.\\n\\n\\n=== Health ===\\n\\nNew York City is a center for healthcare and medical training, with employment of over 750,000 in the city\\'s health care sector. Private hospitals in New York City include the Hospital for Special Surgery, Lenox Hill Hospital, Long Island Jewish Medical Center, Memorial Sloan Kettering Cancer Center, Mount Sinai Hospital, NewYork-Presbyterian Hospital, and NYU Langone Health. Medical schools include SUNY Downstate College of Medicine in Brooklyn, Albert Einstein College of Medicine in the Bronx, and CUNY School of Medicine, Touro College of Osteopathic Medicine, Columbia University Vagelos College of Physicians and Surgeons, Weill Cornell Medicine, Icahn School of Medicine at Mount Sinai, and New York University School of Medicine in Manhattan.\\nNYC Health + Hospitals (HHC) is a public-benefit corporation established in 1969 which operates the city\\'s public hospitals and a network of outpatient clinics. As of 2021, HHC is the largest American municipal healthcare system with $10.9 billion in annual revenues. HHC serves 1.4 million patients, including more than 475,000 uninsured city residents. HHC operates eleven acute-care hospitals, four skilled nursing facilities, six diagnostic and treatment centers, and more than 70 community-based primary care sites, serving primarily the city\\'s poor and working-class residents. HHC\\'s MetroPlus Health Plan is one of New York City\\'s largest providers of government-sponsored health insurance, enrolling 670,000 city residents as of June 2022.\\nHHC\\'s facilities annually provides service to millions of New Yorkers, interpreted in more than 190 languages. The best-known hospital in the HHC system is Bellevue Hospital, the oldest public hospital in the United States, established in 1736. Bellevue is the designated hospital for treatment of the president and other world leaders should they require care while in New York City.\\nThe city banned smoking in most parts of restaurants in 1995 and prohibited smoking in bars, restaurants, and places of public employment in 2003. Pharmacies are banned from selling smoked and vaped products in New York State.\\nNew York City enforces a right-to-shelter law guaranteeing shelter to anyone who needs it, regardless of their immigration, socioeconomic, or housing status, which entails providing adequate shelter and food. As a result, while New York has the highest total homeless population of American cities, only 5% were unsheltered by the city, representing a significantly lower percentage of outdoor homelessness than in other cities. As of 2023, there were 92,824 homeless people sleeping nightly in the shelter system.\\n\\n\\n=== Public safety ===\\n\\nThe New York Police Department (NYPD) is the largest police force in the United States, with more than 36,000 sworn officers. Members of the NYPD are frequently referred to by politicians, the media, and their own police cars by the nickname, New York\\'s Finest.\\nThe city saw a spike in crime in the 1970s through the 1990s. Crime overall has trended downward in New York City since the 1990s; violent crime decreased more than 75% from 1993 to 2005, and continued decreasing during periods when the nation as a whole saw increases. The NYPD\\'s stop-and-frisk program was declared unconstitutional in 2013 as a \"policy of indirect racial profiling\" of Black and Mixed residents, although claims of disparate impact continued in subsequent years. The stop-and-frisk program had been widely credited as being behind the decline in crime, though rates continued dropping in the years after the program ended.\\nThe city set a record high of 2,245 murders in 1990 and hit a near-70-year record low of 289 in 2018. The number of murders and the rate of 3.3 per 100,000 residents in 2017 was the lowest since 1951. New York City recorded 386 murders in 2023, a decline of 12% from the previous year. New York City had one of the lowest homicide rates among the ten largest U.S. cities at 5.5 per 100,000 residents in 2021.\\nNew York City has stricter gun laws than most other cities in the United States—a license to own any firearm is required, and the NY SAFE Act of 2013 banned assault weapons. New York State had the fifth-lowest gun death rate of the states in 2020.\\nOrganized crime has long been associated with New York City, beginning with the Forty Thieves and the Roach Guards in the Five Points neighborhood in the 1820s, followed by the Tongs in the same neighborhood, which ultimately evolved into Chinatown, Manhattan. The 20th century saw a rise in the Mafia, dominated by the Five Families, as well as in gangs, including the Black Spades. The Mafia and gang presence has declined in the city in the 21st century.\\nThe Fire Department of New York (FDNY) provides fire protection, technical rescue, primary response to biological, chemical, and radioactive hazards, and emergency medical services. FDNY faces multifaceted firefighting challenges in many ways unique to New York. In addition to responding to building types that range from wood-frame single family homes to high-rise structures, the FDNY responds to fires that occur in the New York City Subway. Secluded bridges and tunnels, as well as large parks and wooded areas that can give rise to brush fires, also present challenges. The FDNY is headquartered at 9 MetroTech Center in Downtown Brooklyn, and the FDNY Fire Academy is on Randalls Island.\\n\\n\\n== Transportation ==\\n\\n\\n=== Rapid transit ===\\n\\nMass transit in New York City, most of which runs 24 hours a day, accounts for one in every three users of mass transit in the country, and two-thirds of the nation\\'s rail riders live in the New York City metropolitan area.\\n\\n\\n==== Buses ====\\nNew York City\\'s public bus fleet runs 24/7 and is the largest in North America. The New York City bus system serves the most passengers of any city in the nation: In 2022, MTA New York City Transit\\'s buses served 483.5 million trips, while MTA Regional Bus Operations handled 100.3 million trips.\\nThe Port Authority Bus Terminal is the city\\'s main intercity bus terminal and the world\\'s busiest bus station, serving 250,000 passengers on 7,000 buses each workday in a building opened in 1950 that was designed to accommodate 60,000 daily passengers. A 2021 plan announced by the Port Authority would spend $10 billion to expand capacity and modernize the facility. In 2024, the Port Authority announced plans for a new terminal that would feature a glass atrium at a new main entrance on 41st Street.\\n\\n\\n==== Rail ====\\n\\nThe New York City Subway system is the largest rapid transit system in the world when measured by stations in operation, with 472, and by length of routes. Nearly all of New York\\'s subway system is open 24 hours a day, in contrast to the overnight shutdown common to most subway systems. The New York City Subway is the busiest metropolitan rail transit system in the Western Hemisphere, with 1.70 billion passenger rides in 2019.\\nPublic transport is widely used in New York City. 54.6% of New Yorkers commuted to work in 2005 using mass transit. This is in contrast to the rest of the country, where 91% of commuters travel in automobiles to their workplace. According to the New York City Comptroller, workers in the New York City area spend an average of 6 hours and 18 minutes getting to work each week, the longest commute time in the nation among large cities. New York is the only American city in which a majority (52%) of households do not have a car; only 22% of Manhattanites own a car. Due to their high usage of mass transit, New Yorkers spend less of their household income on transportation than the national average, saving $19 billion annually on transportation compared to other urban Americans.\\nNew York City\\'s commuter rail network is the largest in North America. The rail network, connecting New York City to its suburbs, consists of the Long Island Rail Road, Metro-North Railroad, and New Jersey Transit. The combined systems converge at Grand Central Terminal and New York Penn Station and contain more than 250 stations and 20 rail lines. The elevated AirTrain JFK in Queens connects JFK International Airport to the New York City Subway and the Long Island Rail Road. For inter-city rail, New York City is served by Amtrak, whose busiest station by a significant margin is Penn Station on the West Side of Manhattan, from which Amtrak provides connections to Boston, Philadelphia, and Washington, D.C. along the Northeast Corridor, and long-distance train service to other North American cities.\\nThe Staten Island Railway rapid transit system solely serves Staten Island, operating 24 hours a day, with access to Manhattan from the St. George Terminal via the Staten Island Ferry. The PATH train links Midtown and Lower Manhattan with Hoboken Terminal and Newark Penn Station in New Jersey, and then those stations with the World Trade Center Oculus across the Hudson River. Like the New York City Subway, the PATH operates 24 hours a day, meaning three of the five American rapid transit systems that operate on 24-hour schedules are wholly or partly in New York. Grand Central Terminal is the world\\'s largest train station by number of rail platforms and acres occupied.\\nMultibillion-dollar heavy rail transit projects under construction in New York City include the Second Avenue Subway.\\n\\n\\n=== Air ===\\n\\nNew York\\'s airspace is the busiest in the United States and one of the world\\'s busiest air corridors. The three busiest airports in the New York metropolitan area are John F. Kennedy International Airport (with 55.3 million passengers), Newark Liberty International Airport (43.6 million) and LaGuardia Airport (29.0 million); 127.9 million travelers used these three airports in 2022. JFK and Newark Liberty were the busiest and fourth-busiest U.S. gateways for international air passengers, respectively, in 2023. As of 2011, JFK was the busiest airport for international passengers in North America.\\nDescribed in 2014 by then-Vice President Joe Biden as the kind of airport travelers would see in \"some third world country\", LaGuardia Airport has undergone an $8 billion project with federal and state support that has replaced its aging facilities with modern terminals and roadways. Plans have advanced to expand passenger volume at a fourth airport, Stewart International Airport, near Newburgh, New York, by the Port Authority of New York and New Jersey. Other commercial airports in or serving the New York metropolitan area include Long Island MacArthur Airport, Trenton–Mercer Airport and Westchester County Airport. The primary general aviation airport serving the area is Teterboro Airport.\\n\\n\\n=== Ferries, taxis and trams ===\\n\\nThe Staten Island Ferry is the world\\'s busiest ferry, carrying more than 23 million passengers from July 2015 through June 2016 on a 5.2-mile (8.4 km) route between Staten Island and Lower Manhattan and running 24/7. Other ferry systems shuttle commuters between Manhattan and other locales within the city and the metropolitan area. NYC Ferry, a NYCEDC initiative with routes planned to travel to all five boroughs, was launched in 2017.\\nIdentified by their color and taxi medallion, the city\\'s 13,587 yellow taxicabs are the only vehicles allowed to pick up riders making street hails throughout the city. Apple green-colored boro taxis can pick up street hails in Upper Manhattan and the four outer boroughs. Long dominated by yellow taxis, high-volume for-hire vehicles from Uber and Lyft have provided the most trips in the city since December 2016, when the for-hire vehicles and cabs each had about 10.5 million trips. By October 2023, the 78,000 vehicles-for-hire combined for 20.3 million trips, while 3.5 million trips were in yellow taxis.\\nThe Roosevelt Island Tramway, an aerial tramway that began operation in 1976, transports 2 million passengers per year the 3,140 feet (960 m) between Roosevelt Island and 59th Street and Second Avenue on Manhattan Island.\\n\\n\\n=== Cycling network ===\\n\\nNew York City has mixed cycling conditions, which include urban density, relatively flat terrain, congested roadways with stop-and-go traffic, and many pedestrians. The city\\'s large cycling population includes utility cyclists, such as delivery and messenger services; recreational cycling clubs; and an increasing number of commuters. Cycling is increasingly popular in New York City; in 2022 there were approximately 61,200 people who commuted daily using a bicycle and 610,000 daily bike trips, both nearly doubling over the previous decade. As of 2022, New York City had 1,525 miles (2,454 km) of bike lanes, including 644 miles (1,036 km) of segregated or \"protected\" bike lanes citywide.\\n\\n\\n=== Streets and highways ===\\n\\nStreets are also a defining feature of the city. New York has been found to lead the world in urban automobile traffic congestion. The Commissioners\\' Plan of 1811 greatly influenced its physical development. New York City has an extensive web of freeways and parkways, which link the city\\'s boroughs to each other and North Jersey, Westchester County, Long Island, and southwestern Connecticut through bridges and tunnels. Because these highways serve millions of outer borough and suburban residents who commute into Manhattan, it is common for motorists to be stranded for hours in dense traffic congestion that is a daily occurrence, particularly during rush hour. Congestion pricing in New York City, first such program in the nation, was activated in January 2025, applying to most motor vehicular traffic using the area of Manhattan south of 60th Street, in an effort to encourage commuters to use rapid transit instead.\\nUnlike the rest of the country, New York State prohibits turns on red lights in cities with a population greater than one million, to reduce collisions and increase pedestrian safety. In New York City, therefore, all turns on red lights are illegal unless a sign permitting such maneuvers is present.\\n\\n\\n=== Bridges and tunnels ===\\n\\nThe boroughs of Manhattan and Staten Island are located on islands with the same names, while Queens and Brooklyn are at the western end of the larger Long Island, and the Bronx is on New York State\\'s mainland. Manhattan Island is linked to the outer boroughs and New Jersey by an extensive network of bridges and tunnels. The 14-lane George Washington Bridge, connecting Manhattan to New Jersey across the Hudson River, is the world\\'s busiest motor vehicle bridge. The Verrazzano-Narrows Bridge, spanning the Narrows between Brooklyn and Staten Island, is the longest suspension bridge in the Americas and one of the world\\'s longest. The Brooklyn Bridge, with its stone neo-Gothic suspension towers, is an icon of the city; opened in 1883, it was the first steel-wire suspension bridge and was the longest suspension bridge in the world until 1903. The Queensboro Bridge \"was the longest cantilever span in North America\" from 1909 to 1917. The Manhattan Bridge, opened in 1909, \"is considered to be the forerunner of modern suspension bridges\", and its design \"served as the model for the major long-span suspension bridges\" of the early 20th century. The Throgs Neck Bridge and Whitestone Bridge connect Queens and the Bronx, while the Triborough Bridge connects Manhattan, Queens, and the Bronx.\\n\\nThe Lincoln Tunnel, which carries 120,000 vehicles a day under the Hudson River between New Jersey and Midtown Manhattan, is the busiest vehicular tunnel in the world. The tunnel was built instead of a bridge to allow unfettered passage of large passenger and cargo ships that sailed through New York Harbor and up the Hudson River to Manhattan\\'s piers. The Holland Tunnel, connecting Lower Manhattan to Jersey City, New Jersey, was the first mechanically ventilated vehicular tunnel when it opened in 1927. The Queens–Midtown Tunnel, built to relieve congestion on the bridges connecting Manhattan with Queens and Brooklyn, was the largest non-federal project in its time when it was completed in 1940. The Brooklyn–Battery Tunnel (officially the Hugh L. Carey Tunnel) is the longest continuous underwater vehicular tunnel in North America and runs underneath Battery Park, connecting the Financial District, Manhattan, to Red Hook, Brooklyn.\\n\\n\\n== Government and politics ==\\n\\n\\n=== Government ===\\n\\nNew York City is a metropolitan municipality with a strong mayor–council form of government. The city government is responsible for public education, correctional institutions, public safety, recreational facilities, sanitation, water supply, and welfare services.\\nThe City Council is a unicameral body of 51 council members whose districts are defined by geographic population boundaries. Each term for the mayor and council members lasts four years and has a two consecutive-term limit, (reset after a four-year break). The New York City Administrative Code, the New York City Rules, and The City Record are the code of local laws, compilation of regulations, and official journal, respectively.\\nEach borough is coextensive with a judicial district of the state Unified Court System, of which the Criminal Court and the Civil Court are the local courts, while the New York Supreme Court conducts major trials and appeals. Manhattan hosts the First Department of the Supreme Court, Appellate Division, while Brooklyn hosts the Second Department. There are several extrajudicial administrative courts, which are executive agencies and not part of the state Unified Court System.\\nNew York City is divided between, and is host to the main branches of, two different U.S. district courts: the District Court for the Southern District of New York, whose main courthouse is on Foley Square in Manhattan and whose jurisdiction includes Manhattan and the Bronx; and the District Court for the Eastern District of New York, whose main courthouse is in Brooklyn and whose jurisdiction includes Brooklyn, Queens, and Staten Island. The U.S. Court of Appeals for the Second Circuit and U.S. Court of International Trade are also based on Foley Square.\\n\\n\\n=== Politics ===\\n\\nThe city\\'s mayor is Eric Adams, a Democrat who was elected in 2021. The Democratic Party holds the majority of public offices. As of November 2023, 67% of active registered voters in the city are Democrats and 10.2% are Republicans. New York City has not been carried by a Republican presidential candidate since 1924, and no Republican candidate for statewide office has won all five boroughs since the city was incorporated in 1898. In redistricting following the 2020 census, 14 of New York\\'s 26 congressional districts include portions of New York City.\\nNew York City is a significant source of political fundraising. The city has a strong imbalance of payments with the national and state governments. It receives 83 cents in services for every $1 it sends to the federal government in taxes (or annually sends $11.4 billion more than it receives back). City residents and businesses also sent an additional $4.1 billion in the 2009–2010 fiscal year to the state than the city received in return.\\n\\n\\n=== International relations ===\\n\\nIn 2006, the sister city program was restructured as New York City Global Partners. New York\\'s historic sister cities are denoted below by the year they joined New York City\\'s partnership network.\\n\\n\\n== Notable people ==\\n\\n\\n== See also ==\\nIndex of New York City-related articles\\nOutline of New York City\\n\\n\\n== Notes ==\\n\\n\\n== References ==\\n\\n\\n== Further reading ==\\nBelden, E. Porter (1849). New York, Past, Present, and Future: Comprising a History of the City of New York, a Description of Its Present Condition, and an Estimate of Its Future Increase. G. P. Putnam.\\nBurgess, Anthony (1976). New York. Little, Brown & Co. ISBN 978-90-6182-266-0.\\nBurrows, Edwin G. and Wallace, Mike (1999). Gotham: A History of New York City to 1898. New York: Oxford University Press. ISBN 0-195-11634-8.\\nHolli, Melvin G., and Jones, Peter d\\'A., eds. Biographical Dictionary of American Mayors, 1820–1980 (Greenwood Press, 1981) provides short scholarly biographies of each of the city\\'s mayors from 1820 to 1980. online; see index at p. 410 for list.\\nJackson, Kenneth T., ed. (1995). The Encyclopedia of New York City. New Haven: Yale University Press. ISBN 0300055366.\\nJackson, Kenneth T.; Dunbar, David S., eds. (2005). Empire City: New York Through the Centuries. Columbia University Press. ISBN 978-0-231-10909-3.\\nLankevich, George L. (1998). American Metropolis: A History of New York City. NYU Press. ISBN 978-0-8147-5186-2.\\nWhite, E. B. (1949). Here is New York (2000 reissue ed.). Little Bookroom.\\nWhite, Norval & Willensky, Elliot (2000). AIA Guide to New York City (4th ed.). New York: Three Rivers Press. ISBN 978-0-8129-3107-5.\\nWallace, Mike (2017). Greater Gotham: A History of New York City from 1898 to 1919. Oxford University Press. ISBN 9780195116359.\\nWhitehead, Colson (2003). The Colossus of New York: A City in 13 Parts. Doubleday. ISBN 978-0-385-50794-3.\\n\\n\\n== External links ==\\nOfficial website \\nNYC Go – official tourism website\\n Geographic data related to New York City at OpenStreetMap\\nCollections – 145,000 NYC photographs at the Museum of the City of New York\\n\"The New New York Skyline (interactive)\". National Geographic. November 2015.', path=None, url=None, mimetype=None), image_resource=None, audio_resource=None, video_resource=None, text_template='{metadata_str}\\n\\n{content}')]"
            ]
          },
          "execution_count": 9,
          "metadata": {},
          "output_type": "execute_result"
        }
      ],
      "source": [
        "documents"
      ]
    },
    {
      "cell_type": "markdown",
      "metadata": {},
      "source": []
    },
    {
      "cell_type": "code",
      "execution_count": 10,
      "metadata": {
        "id": "ErX9iSspXjFD"
      },
      "outputs": [],
      "source": [
        "from llama_index.core import VectorStoreIndex\n",
        "\n",
        "\n",
        "vector_index = VectorStoreIndex.from_documents(\n",
        "    documents, chunk_size=512\n",
        ")\n",
        "query_engine = vector_index.as_query_engine()"
      ]
    },
    {
      "cell_type": "code",
      "execution_count": 11,
      "metadata": {
        "colab": {
          "base_uri": "https://localhost:8080/"
        },
        "id": "-A22qOR8Xi6V",
        "outputId": "65635181-e800-45bc-da61-be6e51ed8639"
      },
      "outputs": [
        {
          "name": "stdout",
          "output_type": "stream",
          "text": [
            "New York City was named after King Charles II granted the lands to his brother, the Duke of York, in 1664. It was temporarily renamed New York and then permanently renamed New York in 1674.\n"
          ]
        }
      ],
      "source": [
        "response_vector = query_engine.query(\"How did New York City get its name?\")\n",
        "\n",
        "print(response_vector)"
      ]
    },
    {
      "cell_type": "code",
      "execution_count": 12,
      "metadata": {
        "id": "lpEOSfahXi0b"
      },
      "outputs": [],
      "source": [
        "from datasets import Dataset\n",
        "\n",
        "\n",
        "eval_questions = [\n",
        "    \"What is the population of New York City as of 2020?\",\n",
        "    \"Which borough of New York City has the highest population?\",\n",
        "    \"What is the economic significance of New York City?\",\n",
        "    \"How did New York City get its name?\",\n",
        "    \"What is the significance of the Statue of Liberty in New York City?\",\n",
        "]\n",
        "\n",
        "eval_answers = [\n",
        "    \"8,804,000\",\n",
        "    \"Queens\",\n",
        "    \"New York City's economic significance is vast, as it serves as the global financial capital, housing Wall Street and major financial institutions. Its diverse economy spans technology, media, healthcare, education, and more, making it resilient to economic fluctuations. NYC is a hub for international business, attracting global companies, and boasts a large, skilled labor force. Its real estate market, tourism, cultural industries, and educational institutions further fuel its economic prowess. The city's transportation network and global influence amplify its impact on the world stage, solidifying its status as a vital economic player and cultural epicenter.\",\n",
        "    \"New York City got its name when it came under British control in 1664. King Charles II of England granted the lands to his brother, the Duke of York, who named the city New York in his own honor.\",\n",
        "    \"The Statue of Liberty in New York City holds great significance as a symbol of the United States and its ideals of liberty and peace. It greeted millions of immigrants who arrived in the U.S. by ship in the late 19th and early 20th centuries, representing hope and freedom for those seeking a better life. It has since become an iconic landmark and a global symbol of cultural diversity and freedom.\",\n",
        "]\n",
        "\n",
        "# Generate responses and contexts for evaluation\n",
        "responses = []\n",
        "contexts = []\n",
        "\n",
        "for question in eval_questions:\n",
        "    response = query_engine.query(question)\n",
        "    responses.append(str(response))\n",
        "    # Extract contexts from response source nodes\n",
        "    context_list = [node.node.text for node in response.source_nodes] if hasattr(response, 'source_nodes') else str(response)[:500]\n",
        "    contexts.append(context_list)\n",
        "\n",
        "# Create dataset in the format expected by RAGAS v0.2+\n",
        "eval_dataset = Dataset.from_dict({\n",
        "    \"question\": eval_questions,\n",
        "    \"answer\": responses,\n",
        "    \"contexts\": contexts,\n",
        "    \"ground_truth\": eval_answers\n",
        "})"
      ]
    },
    {
      "cell_type": "code",
      "execution_count": 14,
      "metadata": {},
      "outputs": [
        {
          "data": {
            "text/plain": [
              "(5, 5)"
            ]
          },
          "execution_count": 14,
          "metadata": {},
          "output_type": "execute_result"
        }
      ],
      "source": [
        "len(responses), len(contexts)"
      ]
    },
    {
      "cell_type": "code",
      "execution_count": 19,
      "metadata": {
        "id": "xOOZco2IXiyD"
      },
      "outputs": [
        {
          "name": "stderr",
          "output_type": "stream",
          "text": [
            "Evaluating:   0%|          | 0/20 [00:00<?, ?it/s]Exception raised in Job[1]: IndexError(list index out of range)\n",
            "Evaluating:   5%|▌         | 1/20 [00:01<00:23,  1.24s/it]Exception raised in Job[5]: IndexError(list index out of range)\n",
            "Exception raised in Job[13]: IndexError(list index out of range)\n",
            "Evaluating:  15%|█▌        | 3/20 [00:01<00:06,  2.74it/s]Exception raised in Job[9]: IndexError(list index out of range)\n",
            "Evaluating: 100%|██████████| 20/20 [00:33<00:00,  1.68s/it]\n"
          ]
        }
      ],
      "source": [
        "from ragas.metrics import (\n",
        "    faithfulness,\n",
        "    answer_relevancy,\n",
        "    context_precision,\n",
        "    context_recall,\n",
        ")\n",
        "from ragas import evaluate\n",
        "\n",
        "\n",
        "# Define metrics to use\n",
        "metrics = [\n",
        "    faithfulness,\n",
        "    answer_relevancy, \n",
        "    context_precision,\n",
        "    context_recall,\n",
        "]\n",
        "\n",
        "# Run evaluation\n",
        "result = evaluate(\n",
        "    dataset=eval_dataset,\n",
        "    metrics=metrics,\n",
        ")"
      ]
    },
    {
      "cell_type": "code",
      "execution_count": 20,
      "metadata": {
        "colab": {
          "base_uri": "https://localhost:8080/"
        },
        "id": "qXRKeypDXiu5",
        "outputId": "8e58dc26-536a-4ac2-fa3a-8515cb41b6bf"
      },
      "outputs": [
        {
          "name": "stdout",
          "output_type": "stream",
          "text": [
            "Evaluation Results:\n",
            "{'faithfulness': 0.6455, 'answer_relevancy': 0.8905, 'context_precision': 0.4000, 'context_recall': 0.0400}\n"
          ]
        }
      ],
      "source": [
        "\n",
        "print(\"Evaluation Results:\")\n",
        "print(result)"
      ]
    },
    {
      "cell_type": "code",
      "execution_count": 21,
      "metadata": {
        "colab": {
          "base_uri": "https://localhost:8080/"
        },
        "id": "fQQdgu5tXipX",
        "outputId": "9da4afbc-c40c-45a1-934a-74ae93335d3b"
      },
      "outputs": [
        {
          "data": {
            "text/html": [
              "<div>\n",
              "<style scoped>\n",
              "    .dataframe tbody tr th:only-of-type {\n",
              "        vertical-align: middle;\n",
              "    }\n",
              "\n",
              "    .dataframe tbody tr th {\n",
              "        vertical-align: top;\n",
              "    }\n",
              "\n",
              "    .dataframe thead th {\n",
              "        text-align: right;\n",
              "    }\n",
              "</style>\n",
              "<table border=\"1\" class=\"dataframe\">\n",
              "  <thead>\n",
              "    <tr style=\"text-align: right;\">\n",
              "      <th></th>\n",
              "      <th>user_input</th>\n",
              "      <th>retrieved_contexts</th>\n",
              "      <th>response</th>\n",
              "      <th>reference</th>\n",
              "      <th>faithfulness</th>\n",
              "      <th>answer_relevancy</th>\n",
              "      <th>context_precision</th>\n",
              "      <th>context_recall</th>\n",
              "    </tr>\n",
              "  </thead>\n",
              "  <tbody>\n",
              "    <tr>\n",
              "      <th>0</th>\n",
              "      <td>What is the population of New York City as of ...</td>\n",
              "      <td>[== Demographics ==\\n\\nNew York City is the mo...</td>\n",
              "      <td>The population of New York City as of 2020 was...</td>\n",
              "      <td>8,804,000</td>\n",
              "      <td>1.000000</td>\n",
              "      <td>NaN</td>\n",
              "      <td>1.0</td>\n",
              "      <td>0.0</td>\n",
              "    </tr>\n",
              "    <tr>\n",
              "      <th>1</th>\n",
              "      <td>Which borough of New York City has the highest...</td>\n",
              "      <td>[The highest point in the city is Todt Hill on...</td>\n",
              "      <td>Brooklyn (Kings County) is the borough of New ...</td>\n",
              "      <td>Queens</td>\n",
              "      <td>1.000000</td>\n",
              "      <td>NaN</td>\n",
              "      <td>0.0</td>\n",
              "      <td>0.0</td>\n",
              "    </tr>\n",
              "    <tr>\n",
              "      <th>2</th>\n",
              "      <td>What is the economic significance of New York ...</td>\n",
              "      <td>[The Port of New York and New Jersey is a majo...</td>\n",
              "      <td>New York City is a global center for finance a...</td>\n",
              "      <td>New York City's economic significance is vast,...</td>\n",
              "      <td>0.727273</td>\n",
              "      <td>NaN</td>\n",
              "      <td>1.0</td>\n",
              "      <td>0.2</td>\n",
              "    </tr>\n",
              "    <tr>\n",
              "      <th>3</th>\n",
              "      <td>How did New York City get its name?</td>\n",
              "      <td>[The first documented visit to New York Harbor...</td>\n",
              "      <td>New York City was named after King Charles II'...</td>\n",
              "      <td>New York City got its name when it came under ...</td>\n",
              "      <td>0.000000</td>\n",
              "      <td>NaN</td>\n",
              "      <td>0.0</td>\n",
              "      <td>0.0</td>\n",
              "    </tr>\n",
              "    <tr>\n",
              "      <th>4</th>\n",
              "      <td>What is the significance of the Statue of Libe...</td>\n",
              "      <td>[Gateway National Recreation Area contains ove...</td>\n",
              "      <td>The Statue of Liberty in New York City is mana...</td>\n",
              "      <td>The Statue of Liberty in New York City holds g...</td>\n",
              "      <td>0.500000</td>\n",
              "      <td>0.890456</td>\n",
              "      <td>0.0</td>\n",
              "      <td>0.0</td>\n",
              "    </tr>\n",
              "  </tbody>\n",
              "</table>\n",
              "</div>"
            ],
            "text/plain": [
              "                                          user_input  \\\n",
              "0  What is the population of New York City as of ...   \n",
              "1  Which borough of New York City has the highest...   \n",
              "2  What is the economic significance of New York ...   \n",
              "3                How did New York City get its name?   \n",
              "4  What is the significance of the Statue of Libe...   \n",
              "\n",
              "                                  retrieved_contexts  \\\n",
              "0  [== Demographics ==\\n\\nNew York City is the mo...   \n",
              "1  [The highest point in the city is Todt Hill on...   \n",
              "2  [The Port of New York and New Jersey is a majo...   \n",
              "3  [The first documented visit to New York Harbor...   \n",
              "4  [Gateway National Recreation Area contains ove...   \n",
              "\n",
              "                                            response  \\\n",
              "0  The population of New York City as of 2020 was...   \n",
              "1  Brooklyn (Kings County) is the borough of New ...   \n",
              "2  New York City is a global center for finance a...   \n",
              "3  New York City was named after King Charles II'...   \n",
              "4  The Statue of Liberty in New York City is mana...   \n",
              "\n",
              "                                           reference  faithfulness  \\\n",
              "0                                          8,804,000      1.000000   \n",
              "1                                             Queens      1.000000   \n",
              "2  New York City's economic significance is vast,...      0.727273   \n",
              "3  New York City got its name when it came under ...      0.000000   \n",
              "4  The Statue of Liberty in New York City holds g...      0.500000   \n",
              "\n",
              "   answer_relevancy  context_precision  context_recall  \n",
              "0               NaN                1.0             0.0  \n",
              "1               NaN                0.0             0.0  \n",
              "2               NaN                1.0             0.2  \n",
              "3               NaN                0.0             0.0  \n",
              "4          0.890456                0.0             0.0  "
            ]
          },
          "execution_count": 21,
          "metadata": {},
          "output_type": "execute_result"
        }
      ],
      "source": [
        "\n",
        "# Convert to DataFrame for better visualization\n",
        "result.to_pandas()"
      ]
    },
    {
      "cell_type": "markdown",
      "metadata": {
        "id": "mv1iphQvk_Y-"
      },
      "source": [
        "# Custom RAG pipeline"
      ]
    },
    {
      "cell_type": "code",
      "execution_count": 24,
      "metadata": {
        "colab": {
          "base_uri": "https://localhost:8080/"
        },
        "id": "XiSc-cJDzA-g",
        "outputId": "cd7580b8-2496-4c3e-fd53-d6de2ddbd8df"
      },
      "outputs": [
        {
          "name": "stdout",
          "output_type": "stream",
          "text": [
            "  % Total    % Received % Xferd  Average Speed   Time    Time     Time  Current\n",
            "                                 Dload  Upload   Total   Spent    Left  Speed\n",
            "100 19241  100 19241    0     0   182k      0 --:--:-- --:--:-- --:--:--  182k\n"
          ]
        }
      ],
      "source": [
        "!curl \"https://raw.githubusercontent.com/idontcalculate/data-repo/main/venus_transmission.txt\" -o \"data/venus_transmission.txt\"\n"
      ]
    },
    {
      "cell_type": "code",
      "execution_count": null,
      "metadata": {
        "colab": {
          "base_uri": "https://localhost:8080/"
        },
        "id": "TRK-LvnsXo9n",
        "outputId": "c4c23fc3-1fb2-4a65-ca14-e76485a89cc1"
      },
      "outputs": [
        {
          "name": "stdout",
          "output_type": "stream",
          "text": [
            "Loaded 1 docs\n"
          ]
        }
      ],
      "source": [
        "from llama_index import SimpleDirectoryReader\n",
        "\n",
        "reader = SimpleDirectoryReader(input_files=[\"/content/venus_transmission.txt\"])\n",
        "\n",
        "docs = reader.load_data()\n",
        "print(f\"Loaded {len(docs)} docs\")"
      ]
    },
    {
      "cell_type": "code",
      "execution_count": null,
      "metadata": {
        "id": "5EG6bLWgzNdp"
      },
      "outputs": [],
      "source": [
        "from llama_index.node_parser import SimpleNodeParser\n",
        "from llama_index import VectorStoreIndex\n",
        "\n",
        "# Build index with a chunk_size of 512\n",
        "node_parser = SimpleNodeParser.from_defaults(chunk_size=512)\n",
        "nodes = node_parser.get_nodes_from_documents(docs)\n",
        "vector_index = VectorStoreIndex(nodes)"
      ]
    },
    {
      "cell_type": "code",
      "execution_count": null,
      "metadata": {
        "id": "y0P12sAhzStV"
      },
      "outputs": [],
      "source": [
        "query_engine = vector_index.as_query_engine()\n",
        "\n",
        "response_vector = query_engine.query(\"What was The first beings to inhabit the planet?\")"
      ]
    },
    {
      "cell_type": "code",
      "execution_count": null,
      "metadata": {
        "colab": {
          "base_uri": "https://localhost:8080/",
          "height": 35
        },
        "id": "pYnDKy2bzZ-3",
        "outputId": "26538069-d151-4656-82d9-e361d5f58ed7"
      },
      "outputs": [
        {
          "data": {
            "application/vnd.google.colaboratory.intrinsic+json": {
              "type": "string"
            },
            "text/plain": [
              "'The first beings to inhabit the planet were a dinoid and reptoid race from two different systems outside our solar system.'"
            ]
          },
          "execution_count": 21,
          "metadata": {},
          "output_type": "execute_result"
        }
      ],
      "source": [
        "response_vector.response"
      ]
    },
    {
      "cell_type": "code",
      "execution_count": null,
      "metadata": {
        "colab": {
          "base_uri": "https://localhost:8080/",
          "height": 143
        },
        "id": "32EyrsX0zcgw",
        "outputId": "cf25e8ce-ce89-48c6-b5dd-f4ca825fe4e7"
      },
      "outputs": [
        {
          "data": {
            "application/vnd.google.colaboratory.intrinsic+json": {
              "type": "string"
            },
            "text/plain": [
              "\"They had heard of this beautiful new planet. At this time, Earth had two moons to harmonize the weather conditions and control the tides of the large bodies of water.\\nThe first beings to inhabit the planet were a dinoid and reptoid race from two different systems outside our solar system. They were intelligent and walked on two legs like humans and were war-like considering themselves to be superior to all other life forms. In the past, the four races of humans had conflicts with them before they outgrew such behavior. They arrived on Earth to rob it of its minerals and valuable gems. Soon they had created a terrible war. They were joined by re-\\n1\\nenforcements from their home planets. One set up its base on one of the Earth's moons, the other on Earth. It was a terrible war with advanced nuclear and laser weapons like you see in your science fiction movies. It lasted very long. Most of the life forms lay in singed waste and the one moon was destroyed. No longer interested in Earth, they went back to their planets leaving their wounded behind, they had no use for them.\\nThe four races sent a few forces to see if they could help the wounded dinoids and reptilians and to see what they could do to repair the Earth. They soon found that due to the nuclear radiation it was too dangerous on Earth before it was cleared. Even they had to remain so as not to contaminate their own planets.\\nDue to the radiation, the survivors of the dinoids and reptoids mutated into the Dinosaurs and giant reptilians you know of in your history. The humans that were trapped there mutated into what you call Neanderthals.\\nThe Earth remained a devastated ruin, covered by a huge dark nuclear cloud and what vegetation was left was being devoured by the giant beings, also humans and animals by some. It was this way for hundreds of years before a giant comet crashed into one of the oceans and created another huge cloud. This created such darkness that the radiating heat of the Sun could not interact with Earth's gravitational field and an ice age was created. This destroyed the mutated life forms and gave the four races the chance to cleanse and heal the Earth with technology and their energy.\\nOnce again, they brought various forms of life to the Earth, creating again a paradise, except for extreme weather conditions and extreme tidal activities.\""
            ]
          },
          "execution_count": 22,
          "metadata": {},
          "output_type": "execute_result"
        }
      ],
      "source": [
        "# First retrieved node\n",
        "response_vector.source_nodes[0].get_text()"
      ]
    },
    {
      "cell_type": "code",
      "execution_count": null,
      "metadata": {
        "colab": {
          "base_uri": "https://localhost:8080/",
          "height": 143
        },
        "id": "5IlFvayPzfP8",
        "outputId": "ac83e8f8-361f-4e00-a7a3-e4b55e51beb3"
      },
      "outputs": [
        {
          "data": {
            "application/vnd.google.colaboratory.intrinsic+json": {
              "type": "string"
            },
            "text/plain": [
              "\"Due to the radiation, the survivors of the dinoids and reptoids mutated into the Dinosaurs and giant reptilians you know of in your history. The humans that were trapped there mutated into what you call Neanderthals.\\nThe Earth remained a devastated ruin, covered by a huge dark nuclear cloud and what vegetation was left was being devoured by the giant beings, also humans and animals by some. It was this way for hundreds of years before a giant comet crashed into one of the oceans and created another huge cloud. This created such darkness that the radiating heat of the Sun could not interact with Earth's gravitational field and an ice age was created. This destroyed the mutated life forms and gave the four races the chance to cleanse and heal the Earth with technology and their energy.\\nOnce again, they brought various forms of life to the Earth, creating again a paradise, except for extreme weather conditions and extreme tidal activities.\\nDuring this time they realized that their planets were going into a natural dormant stage that they would not be able to support physical life. So they decided to colonize the Earth with their own people. They were concerned about the one moon, because it is creating earthquakes and tidal waves and storms and other difficulties for the structure of the Earth. They knew how to drink fluids to protect and balance themselves. These were the first colonies like Atlantis and Lemuria.\\nThe rest of the people stayed on their planets to await their destiny. They knew that they would perish and die. They had made the decision only to bring the younger generation with some spiritual teachers and elders to the Earth. The planet was too small for all of them. But they had no fear of death.\\nThey had once again created a paradise. They were instructed to build special temples here as doorways to the other dimensions. Because of the aggressive beings, the temples were hidden for future times when they will be important. There they could do their meditations and the higher beings.\\nThey were informed to build two shields around the Earth out of ice particles to balance the influence of the one moon. They created a tropical climate for the Earth. There were no deserts at that time. They have special crystals for these doorways and they were able to lower their vibration to enter through these doorways. The news spread of the beautiful planet.\""
            ]
          },
          "execution_count": 23,
          "metadata": {},
          "output_type": "execute_result"
        }
      ],
      "source": [
        "# Second retrieved node\n",
        "response_vector.source_nodes[1].get_text()"
      ]
    },
    {
      "cell_type": "code",
      "execution_count": null,
      "metadata": {
        "colab": {
          "base_uri": "https://localhost:8080/"
        },
        "id": "fdPgzDL7ziJO",
        "outputId": "ee0a2949-b563-46fb-81e3-bb1a6ff24b9a"
      },
      "outputs": [
        {
          "name": "stderr",
          "output_type": "stream",
          "text": [
            "100%|██████████| 13/13 [00:27<00:00,  2.13s/it]"
          ]
        },
        {
          "name": "stdout",
          "output_type": "stream",
          "text": [
            "['Explain the role of different alien races in the history of our solar system according to the information provided. How did these races contribute to the transformation process and why was Earth considered a special planet?', 'Describe the advanced abilities and technology possessed by the Masters and beings mentioned in the context. How did their understanding of creation and their eternal nature shape their perspective on life and death?', 'Explain the concept of creativity as understood by the advanced races mentioned in the context. How did they use their creative energy and what were the responsibilities associated with it?', 'Describe the initial state of Earth before it became a planet and settled into an orbit around the Sun. How did the four races contribute to the development of life on Earth?', 'How did the arrival of the dinoid and reptoid races on Earth lead to a devastating war? Discuss the reasons behind their conflict with the four races of humans and the impact it had on the planet.', \"Explain the process of mutation that occurred among the survivors of the dinoids and reptoids, resulting in the emergence of dinosaurs and Neanderthals. Discuss the role of nuclear radiation and its effects on the Earth's environment and living organisms.\", 'How did the survivors of the radiation in the context mutate into different species? Explain the role of radiation in this process and the resulting species that emerged.', 'Describe the events that led to the creation of an ice age on Earth. How did this ice age impact the mutated life forms and provide an opportunity for the four races to cleanse and heal the Earth?', 'Explain the purpose and significance of building special temples as doorways to other dimensions in the context of the given information. How did these temples serve the people and protect them from the dark forces?', 'Discuss the events that led to the destruction of Lemuria and Atlantis. How did the inhabitants of these civilizations ensure that their knowledge and technology would not be misused by the dark forces?', 'How did the colonies respond to the declaration of war by the dark forces, and what measures did they take to protect their knowledge and technology?', 'Explain the process of reprogramming and separation of brain halves that the captured beings underwent, and how it affected their ability to communicate with other dimensions and remember their past lives.', 'How has the reprogramming of human beings into different races and religions contributed to the development of wars and the concentration of power among the rich? Discuss the implications of this control and manipulation on society.', \"Explain the role of the Galactic Brotherhood, the Spiritual Hierarchy, and other non-physical beings in the transformation of Earth's energy and the prevention of destruction caused by genetic manipulation and the invention of the atomic bomb. How are they working together to bring about change and introduce new technologies?\", 'How has the Galactic Brotherhood been working to change the energy of the planet and its inhabitants? Explain the role of different beings and entities involved in this process.', \"Describe the significance of the hidden temples and the space ships in the transformation of the planet's frequency. How do these elements contribute to the gradual increase in frequency and the introduction of new technologies?\", 'How does the new chakra system contribute to the transformation of individuals? Discuss the physical discomforts that may arise during the transition and explain why they are temporary.', \"Explain the significance of the Earth's future purpose based on the information provided. Discuss the role of negative forces and the challenges individuals face in overcoming their ego and selfish tendencies.\", 'How does the concept of division into good and bad energies contribute to the perpetuation of negative forces and selfishness among individuals?', 'Discuss the shift in power dynamics from feminine qualities to male energy in human societies after genetic manipulation. How does this relate to the future vision of a balanced and equal integration of male and female powers on Earth?', 'How has the balance of feminine and masculine energies shifted throughout human history, and what is the envisioned future for this balance on Earth?', 'In the future described in the context information, how will individuals govern themselves and what role will manmade laws play in society?', 'How does the concept of obeying spiritual laws contribute to living in harmony on other planets for millions of years? Provide examples or evidence from the context information to support your answer.', 'According to the context information, what are some key aspects of the future living style and awareness on Earth after the transformation is complete? How do these aspects differ from the current state of existence?', \"How does the concept of eternity and the ability to overcome time and aging impact one's perspective on life and the enjoyment of experiences?\", 'In what ways can individuals create a balance and harmony within themselves, and why is it important for them to do so?']\n"
          ]
        },
        {
          "name": "stderr",
          "output_type": "stream",
          "text": [
            "\n"
          ]
        }
      ],
      "source": [
        "from llama_index.llms import OpenAI\n",
        "from llama_index.evaluation import generate_question_context_pairs\n",
        "\n",
        "# Define an LLM\n",
        "llm = OpenAI(model=\"gpt-3.5-turbo\")\n",
        "\n",
        "qa_dataset = generate_question_context_pairs(\n",
        "    nodes,\n",
        "    llm=llm,\n",
        "    num_questions_per_chunk=2\n",
        ")\n",
        "\n",
        "queries = list(qa_dataset.queries.values())\n",
        "print( queries )"
      ]
    },
    {
      "cell_type": "code",
      "execution_count": null,
      "metadata": {
        "id": "HWYImgDJzmnS"
      },
      "outputs": [],
      "source": [
        "retriever = vector_index.as_retriever(similarity_top_k=2)"
      ]
    },
    {
      "cell_type": "code",
      "execution_count": null,
      "metadata": {
        "id": "I064IM-dzswN"
      },
      "outputs": [],
      "source": [
        "from llama_index.evaluation import RetrieverEvaluator\n",
        "\n",
        "retriever_evaluator = RetrieverEvaluator.from_metric_names(\n",
        "    [\"mrr\", \"hit_rate\"], retriever=retriever\n",
        ")"
      ]
    },
    {
      "cell_type": "code",
      "execution_count": null,
      "metadata": {
        "id": "eHLBIl5Nzyb5"
      },
      "outputs": [],
      "source": [
        "# Evaluate\n",
        "eval_results = await retriever_evaluator.aevaluate_dataset(qa_dataset)"
      ]
    },
    {
      "cell_type": "code",
      "execution_count": null,
      "metadata": {
        "id": "knXMWyAdz05r"
      },
      "outputs": [],
      "source": [
        "def display_results(name, eval_results):\n",
        "    \"\"\"Display results from evaluate.\"\"\"\n",
        "\n",
        "    metric_dicts = []\n",
        "    for eval_result in eval_results:\n",
        "        metric_dict = eval_result.metric_vals_dict\n",
        "        metric_dicts.append(metric_dict)\n",
        "\n",
        "    full_df = pd.DataFrame(metric_dicts)\n",
        "\n",
        "    hit_rate = full_df[\"hit_rate\"].mean()\n",
        "    mrr = full_df[\"mrr\"].mean()\n",
        "\n",
        "    metric_df = pd.DataFrame(\n",
        "        {\"Retriever Name\": [name], \"Hit Rate\": [hit_rate], \"MRR\": [mrr]}\n",
        "    )\n",
        "\n",
        "    return metric_df"
      ]
    },
    {
      "cell_type": "code",
      "execution_count": null,
      "metadata": {
        "colab": {
          "base_uri": "https://localhost:8080/",
          "height": 81
        },
        "id": "E28ONngzz5FO",
        "outputId": "2e6ee76c-af6a-4c9b-d043-95d1dcf4d4c8"
      },
      "outputs": [
        {
          "data": {
            "text/html": [
              "\n",
              "  <div id=\"df-80b51073-10b6-4f5f-b1e2-5abe66afc4e3\" class=\"colab-df-container\">\n",
              "    <div>\n",
              "<style scoped>\n",
              "    .dataframe tbody tr th:only-of-type {\n",
              "        vertical-align: middle;\n",
              "    }\n",
              "\n",
              "    .dataframe tbody tr th {\n",
              "        vertical-align: top;\n",
              "    }\n",
              "\n",
              "    .dataframe thead th {\n",
              "        text-align: right;\n",
              "    }\n",
              "</style>\n",
              "<table border=\"1\" class=\"dataframe\">\n",
              "  <thead>\n",
              "    <tr style=\"text-align: right;\">\n",
              "      <th></th>\n",
              "      <th>Retriever Name</th>\n",
              "      <th>Hit Rate</th>\n",
              "      <th>MRR</th>\n",
              "    </tr>\n",
              "  </thead>\n",
              "  <tbody>\n",
              "    <tr>\n",
              "      <th>0</th>\n",
              "      <td>OpenAI Embedding Retriever</td>\n",
              "      <td>0.884615</td>\n",
              "      <td>0.788462</td>\n",
              "    </tr>\n",
              "  </tbody>\n",
              "</table>\n",
              "</div>\n",
              "    <div class=\"colab-df-buttons\">\n",
              "\n",
              "  <div class=\"colab-df-container\">\n",
              "    <button class=\"colab-df-convert\" onclick=\"convertToInteractive('df-80b51073-10b6-4f5f-b1e2-5abe66afc4e3')\"\n",
              "            title=\"Convert this dataframe to an interactive table.\"\n",
              "            style=\"display:none;\">\n",
              "\n",
              "  <svg xmlns=\"http://www.w3.org/2000/svg\" height=\"24px\" viewBox=\"0 -960 960 960\">\n",
              "    <path d=\"M120-120v-720h720v720H120Zm60-500h600v-160H180v160Zm220 220h160v-160H400v160Zm0 220h160v-160H400v160ZM180-400h160v-160H180v160Zm440 0h160v-160H620v160ZM180-180h160v-160H180v160Zm440 0h160v-160H620v160Z\"/>\n",
              "  </svg>\n",
              "    </button>\n",
              "\n",
              "  <style>\n",
              "    .colab-df-container {\n",
              "      display:flex;\n",
              "      gap: 12px;\n",
              "    }\n",
              "\n",
              "    .colab-df-convert {\n",
              "      background-color: #E8F0FE;\n",
              "      border: none;\n",
              "      border-radius: 50%;\n",
              "      cursor: pointer;\n",
              "      display: none;\n",
              "      fill: #1967D2;\n",
              "      height: 32px;\n",
              "      padding: 0 0 0 0;\n",
              "      width: 32px;\n",
              "    }\n",
              "\n",
              "    .colab-df-convert:hover {\n",
              "      background-color: #E2EBFA;\n",
              "      box-shadow: 0px 1px 2px rgba(60, 64, 67, 0.3), 0px 1px 3px 1px rgba(60, 64, 67, 0.15);\n",
              "      fill: #174EA6;\n",
              "    }\n",
              "\n",
              "    .colab-df-buttons div {\n",
              "      margin-bottom: 4px;\n",
              "    }\n",
              "\n",
              "    [theme=dark] .colab-df-convert {\n",
              "      background-color: #3B4455;\n",
              "      fill: #D2E3FC;\n",
              "    }\n",
              "\n",
              "    [theme=dark] .colab-df-convert:hover {\n",
              "      background-color: #434B5C;\n",
              "      box-shadow: 0px 1px 3px 1px rgba(0, 0, 0, 0.15);\n",
              "      filter: drop-shadow(0px 1px 2px rgba(0, 0, 0, 0.3));\n",
              "      fill: #FFFFFF;\n",
              "    }\n",
              "  </style>\n",
              "\n",
              "    <script>\n",
              "      const buttonEl =\n",
              "        document.querySelector('#df-80b51073-10b6-4f5f-b1e2-5abe66afc4e3 button.colab-df-convert');\n",
              "      buttonEl.style.display =\n",
              "        google.colab.kernel.accessAllowed ? 'block' : 'none';\n",
              "\n",
              "      async function convertToInteractive(key) {\n",
              "        const element = document.querySelector('#df-80b51073-10b6-4f5f-b1e2-5abe66afc4e3');\n",
              "        const dataTable =\n",
              "          await google.colab.kernel.invokeFunction('convertToInteractive',\n",
              "                                                    [key], {});\n",
              "        if (!dataTable) return;\n",
              "\n",
              "        const docLinkHtml = 'Like what you see? Visit the ' +\n",
              "          '<a target=\"_blank\" href=https://colab.research.google.com/notebooks/data_table.ipynb>data table notebook</a>'\n",
              "          + ' to learn more about interactive tables.';\n",
              "        element.innerHTML = '';\n",
              "        dataTable['output_type'] = 'display_data';\n",
              "        await google.colab.output.renderOutput(dataTable, element);\n",
              "        const docLink = document.createElement('div');\n",
              "        docLink.innerHTML = docLinkHtml;\n",
              "        element.appendChild(docLink);\n",
              "      }\n",
              "    </script>\n",
              "  </div>\n",
              "\n",
              "\n",
              "    </div>\n",
              "  </div>\n"
            ],
            "text/plain": [
              "               Retriever Name  Hit Rate       MRR\n",
              "0  OpenAI Embedding Retriever  0.884615  0.788462"
            ]
          },
          "execution_count": 30,
          "metadata": {},
          "output_type": "execute_result"
        }
      ],
      "source": [
        "import pandas as pd\n",
        "\n",
        "display_results(\"OpenAI Embedding Retriever\", eval_results)"
      ]
    },
    {
      "cell_type": "code",
      "execution_count": null,
      "metadata": {
        "id": "fAX4El220BjZ"
      },
      "outputs": [],
      "source": [
        "from llama_index import ServiceContext\n",
        "\n",
        "# gpt-3.5-turbo\n",
        "gpt35 = OpenAI(temperature=0, model=\"gpt-3.5-turbo\")\n",
        "service_context_gpt35 = ServiceContext.from_defaults(llm=gpt35)\n",
        "\n",
        "# gpt-4\n",
        "gpt4 = OpenAI(temperature=0, model=\"gpt-4\")\n",
        "service_context_gpt4 = ServiceContext.from_defaults(llm=gpt4)"
      ]
    },
    {
      "cell_type": "code",
      "execution_count": null,
      "metadata": {
        "id": "8z2kQvLC1ADw"
      },
      "outputs": [],
      "source": [
        "vector_index = VectorStoreIndex(nodes, service_context = service_context_gpt35)\n",
        "query_engine = vector_index.as_query_engine()"
      ]
    },
    {
      "cell_type": "code",
      "execution_count": null,
      "metadata": {
        "id": "kAGuHXgC1Okm"
      },
      "outputs": [],
      "source": [
        "eval_query = queries[10]\n",
        "\n",
        "response_vector = query_engine.query(eval_query)"
      ]
    },
    {
      "cell_type": "code",
      "execution_count": null,
      "metadata": {
        "colab": {
          "base_uri": "https://localhost:8080/"
        },
        "id": "WbZqlE680Yip",
        "outputId": "693049fd-ef32-4fa3-dc42-e0f7d007d4e8"
      },
      "outputs": [
        {
          "name": "stdout",
          "output_type": "stream",
          "text": [
            "> eval_query:  How did the colonies respond to the declaration of war by the dark forces, and what measures did they take to protect their knowledge and technology?\n",
            "> response_vector: The colonies did not fight back against the dark forces when they declared war. Instead, they sent most of their people into hiding in order to rebuild the colonies later. They also destroyed everything to ensure that their knowledge and technology would not fall into the hands of the dark forces. Additionally, Lemuria and Atlantis were destroyed by their inhabitants to prevent the misuse of their knowledge and technology by the dark forces.\n"
          ]
        }
      ],
      "source": [
        "print( \"> eval_query: \", eval_query )\n",
        "print( \"> response_vector:\", response_vector )"
      ]
    },
    {
      "cell_type": "code",
      "execution_count": null,
      "metadata": {
        "id": "i19to1Xa1W7S"
      },
      "outputs": [],
      "source": [
        "from llama_index.evaluation import RelevancyEvaluator\n",
        "from llama_index.evaluation import FaithfulnessEvaluator\n",
        "\n",
        "relevancy_gpt4 = RelevancyEvaluator(service_context=service_context_gpt4)\n",
        "faithfulness_gpt4 = FaithfulnessEvaluator(service_context=service_context_gpt4)"
      ]
    },
    {
      "cell_type": "code",
      "execution_count": null,
      "metadata": {
        "colab": {
          "base_uri": "https://localhost:8080/"
        },
        "id": "iFoP7B9B1RKX",
        "outputId": "1ebabc5d-c6fd-4e33-c684-c113d27cff15"
      },
      "outputs": [
        {
          "data": {
            "text/plain": [
              "True"
            ]
          },
          "execution_count": 38,
          "metadata": {},
          "output_type": "execute_result"
        }
      ],
      "source": []
    },
    {
      "cell_type": "code",
      "execution_count": null,
      "metadata": {
        "colab": {
          "base_uri": "https://localhost:8080/"
        },
        "id": "2b4dZ-Hm1ecx",
        "outputId": "1de617a3-b9a1-4327-edd5-4398ae3c982c"
      },
      "outputs": [
        {
          "name": "stdout",
          "output_type": "stream",
          "text": [
            "True\n",
            "True\n"
          ]
        }
      ],
      "source": [
        "# Compute faithfulness evaluation\n",
        "\n",
        "eval_result = faithfulness_gpt4.evaluate_response(response=response_vector)\n",
        "# check passing parameter in eval_result if it passed the evaluation.\n",
        "print( eval_result.passing )\n",
        "\n",
        "# Relevancy evaluation\n",
        "eval_result = relevancy_gpt4.evaluate_response(\n",
        "    query=eval_query, response=response_vector\n",
        ")\n",
        "# You can check passing parameter in eval_result if it passed the evaluation.\n",
        "print( eval_result.passing )"
      ]
    },
    {
      "cell_type": "code",
      "execution_count": null,
      "metadata": {
        "colab": {
          "base_uri": "https://localhost:8080/"
        },
        "id": "7yLwlddJ1mIe",
        "outputId": "56d1f1a6-09a5-4330-f9c2-17699202772d"
      },
      "outputs": [
        {
          "name": "stdout",
          "output_type": "stream",
          "text": [
            "> faithfulness_score 1.0\n",
            "> relevancy_score 1.0\n"
          ]
        }
      ],
      "source": [
        "#Batch Evaluator:\n",
        "#BatchEvalRunner to compute multiple evaluations in batch wise manner.\n",
        "\n",
        "from llama_index.evaluation import BatchEvalRunner\n",
        "\n",
        "# Let's pick top 10 queries to do evaluation\n",
        "batch_eval_queries = queries[:10]\n",
        "\n",
        "# Initiate BatchEvalRunner to compute FaithFulness and Relevancy Evaluation.\n",
        "runner = BatchEvalRunner(\n",
        "    {\"faithfulness\": faithfulness_gpt4, \"relevancy\": relevancy_gpt4},\n",
        "    workers=8,\n",
        ")\n",
        "\n",
        "# Compute evaluation\n",
        "eval_results = await runner.aevaluate_queries(\n",
        "    query_engine, queries=batch_eval_queries\n",
        ")\n",
        "# Let's get faithfulness score\n",
        "faithfulness_score = sum(result.passing for result in eval_results['faithfulness']) / len(eval_results['faithfulness'])\n",
        "# get relevancy score\n",
        "relevancy_score = sum(result.passing for result in eval_results['faithfulness']) / len(eval_results['relevancy'])\n",
        "\n",
        "print( \"> faithfulness_score\", faithfulness_score )\n",
        "print( \"> relevancy_score\", relevancy_score )"
      ]
    }
  ],
  "metadata": {
    "colab": {
      "provenance": []
    },
    "kernelspec": {
      "display_name": ".venv",
      "language": "python",
      "name": "python3"
    },
    "language_info": {
      "codemirror_mode": {
        "name": "ipython",
        "version": 3
      },
      "file_extension": ".py",
      "mimetype": "text/x-python",
      "name": "python",
      "nbconvert_exporter": "python",
      "pygments_lexer": "ipython3",
      "version": "3.12.2"
    }
  },
  "nbformat": 4,
  "nbformat_minor": 0
}
