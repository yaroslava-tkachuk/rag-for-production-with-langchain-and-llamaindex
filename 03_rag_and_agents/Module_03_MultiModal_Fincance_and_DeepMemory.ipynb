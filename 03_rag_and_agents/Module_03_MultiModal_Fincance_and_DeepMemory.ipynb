{
  "cells": [
    {
      "cell_type": "code",
      "execution_count": 1,
      "metadata": {
        "id": "IX-GB3iw2MK0"
      },
      "outputs": [
        {
          "name": "stdout",
          "output_type": "stream",
          "text": [
            "\n",
            "\u001b[1m[\u001b[0m\u001b[34;49mnotice\u001b[0m\u001b[1;39;49m]\u001b[0m\u001b[39;49m A new release of pip is available: \u001b[0m\u001b[31;49m24.0\u001b[0m\u001b[39;49m -> \u001b[0m\u001b[32;49m25.2\u001b[0m\n",
            "\u001b[1m[\u001b[0m\u001b[34;49mnotice\u001b[0m\u001b[1;39;49m]\u001b[0m\u001b[39;49m To update, run: \u001b[0m\u001b[32;49mpip install --upgrade pip\u001b[0m\n",
            "Note: you may need to restart the kernel to use updated packages.\n"
          ]
        }
      ],
      "source": [
        "%pip install -q llama-index deeplake langchain cohere dotenv"
      ]
    },
    {
      "cell_type": "code",
      "execution_count": 2,
      "metadata": {},
      "outputs": [],
      "source": [
        "import pickle\n",
        "from tqdm import tqdm"
      ]
    },
    {
      "cell_type": "code",
      "execution_count": 3,
      "metadata": {
        "id": "VvHB91s82Lsx"
      },
      "outputs": [],
      "source": [
        "import os\n",
        "from dotenv import load_dotenv\n",
        "\n",
        "\n",
        "load_dotenv(\"../.env\")\n",
        "assert os.getenv(\"OPENAI_API_KEY\")\n",
        "assert os.getenv(\"ACTIVELOOP_TOKEN\")"
      ]
    },
    {
      "cell_type": "code",
      "execution_count": 4,
      "metadata": {
        "id": "vj4qYaYN5VKy"
      },
      "outputs": [],
      "source": [
        "# Uncomment the filenames if you don't want to process the pages using your API key.\n",
        "preprocessed_texts = \"data/financial_analysis/categorized_elements.pkl\"\n",
        "preprocessed_graphs = \"data/financial_analysis/graphs_description.pkl\""
      ]
    },
    {
      "cell_type": "markdown",
      "metadata": {
        "id": "mtv6WmH4S_7N"
      },
      "source": [
        "# Extract Texts/Tables using Unstructured_IO"
      ]
    },
    {
      "cell_type": "code",
      "execution_count": 8,
      "metadata": {},
      "outputs": [
        {
          "name": "stdout",
          "output_type": "stream",
          "text": [
            "  % Total    % Received % Xferd  Average Speed   Time    Time     Time  Current\n",
            "                                 Dload  Upload   Total   Spent    Left  Speed\n",
            "100 5796k  100 5796k    0     0  6318k      0 --:--:-- --:--:-- --:--:-- 6314k\n",
            "  % Total    % Received % Xferd  Average Speed   Time    Time     Time  Current\n",
            "                                 Dload  Upload   Total   Spent    Left  Speed\n",
            "100 6511k  100 6511k    0     0  7761k      0 --:--:-- --:--:-- --:--:-- 7761k\n",
            "  % Total    % Received % Xferd  Average Speed   Time    Time     Time  Current\n",
            "                                 Dload  Upload   Total   Spent    Left  Speed\n",
            "100 3374k  100 3374k    0     0  6382k      0 --:--:-- --:--:-- --:--:-- 6379k\n"
          ]
        }
      ],
      "source": [
        "!curl \"https://digitalassets.tesla.com/tesla-contents/image/upload/IR/TSLA-Q1-2023-Update.pdf\" -o \"data/financial_analysis/TSLA-Q1-2023-Update.pdf\"\n",
        "!curl \"https://digitalassets.tesla.com/tesla-contents/image/upload/IR/TSLA-Q2-2023-Update.pdf\" -o \"data/financial_analysis/TSLA-Q2-2023-Update.pdf\"\n",
        "!curl \"https://digitalassets.tesla.com/tesla-contents/image/upload/IR/TSLA-Q3-2023-Update-3.pdf\" -o \"data/financial_analysis/TSLA-Q3-2023-Update-3.pdf\""
      ]
    },
    {
      "cell_type": "code",
      "execution_count": 5,
      "metadata": {
        "id": "K99pze-MYsEy"
      },
      "outputs": [
        {
          "name": "stdout",
          "output_type": "stream",
          "text": [
            "\u001b[33mWarning:\u001b[0m poppler 25.09.1 is already installed and up-to-date.\n",
            "To reinstall 25.09.1, run:\n",
            "  brew reinstall poppler\n",
            "\u001b[33mWarning:\u001b[0m tesseract 5.5.1 is already installed and up-to-date.\n",
            "To reinstall 5.5.1, run:\n",
            "  brew reinstall tesseract\n",
            "Collecting tensorflow-probability\n",
            "  Using cached tensorflow_probability-0.25.0-py2.py3-none-any.whl.metadata (13 kB)\n",
            "Collecting imageio\n",
            "  Using cached imageio-2.37.0-py3-none-any.whl.metadata (5.2 kB)\n",
            "Requirement already satisfied: pillow in /Users/coder/Desktop/dev/rag_for_production_activeloop/rag-for-production-with-langchain-and-llamaindex/.venv/lib/python3.12/site-packages (11.3.0)\n",
            "Collecting absl-py (from tensorflow-probability)\n",
            "  Using cached absl_py-2.3.1-py3-none-any.whl.metadata (3.3 kB)\n",
            "Requirement already satisfied: six>=1.10.0 in /Users/coder/Desktop/dev/rag_for_production_activeloop/rag-for-production-with-langchain-and-llamaindex/.venv/lib/python3.12/site-packages (from tensorflow-probability) (1.17.0)\n",
            "Requirement already satisfied: numpy>=1.13.3 in /Users/coder/Desktop/dev/rag_for_production_activeloop/rag-for-production-with-langchain-and-llamaindex/.venv/lib/python3.12/site-packages (from tensorflow-probability) (2.3.2)\n",
            "Requirement already satisfied: decorator in /Users/coder/Desktop/dev/rag_for_production_activeloop/rag-for-production-with-langchain-and-llamaindex/.venv/lib/python3.12/site-packages (from tensorflow-probability) (5.2.1)\n",
            "Collecting cloudpickle>=1.3 (from tensorflow-probability)\n",
            "  Using cached cloudpickle-3.1.1-py3-none-any.whl.metadata (7.1 kB)\n",
            "Collecting gast>=0.3.2 (from tensorflow-probability)\n",
            "  Using cached gast-0.6.0-py3-none-any.whl.metadata (1.3 kB)\n",
            "Collecting dm-tree (from tensorflow-probability)\n",
            "  Using cached dm_tree-0.1.9-cp312-cp312-macosx_10_13_universal2.whl.metadata (2.4 kB)\n",
            "Requirement already satisfied: attrs>=18.2.0 in /Users/coder/Desktop/dev/rag_for_production_activeloop/rag-for-production-with-langchain-and-llamaindex/.venv/lib/python3.12/site-packages (from dm-tree->tensorflow-probability) (25.3.0)\n",
            "Requirement already satisfied: wrapt>=1.11.2 in /Users/coder/Desktop/dev/rag_for_production_activeloop/rag-for-production-with-langchain-and-llamaindex/.venv/lib/python3.12/site-packages (from dm-tree->tensorflow-probability) (1.17.3)\n",
            "Using cached tensorflow_probability-0.25.0-py2.py3-none-any.whl (7.0 MB)\n",
            "Using cached imageio-2.37.0-py3-none-any.whl (315 kB)\n",
            "Using cached cloudpickle-3.1.1-py3-none-any.whl (20 kB)\n",
            "Using cached gast-0.6.0-py3-none-any.whl (21 kB)\n",
            "Using cached absl_py-2.3.1-py3-none-any.whl (135 kB)\n",
            "Using cached dm_tree-0.1.9-cp312-cp312-macosx_10_13_universal2.whl (175 kB)\n",
            "Installing collected packages: imageio, gast, cloudpickle, absl-py, dm-tree, tensorflow-probability\n",
            "Successfully installed absl-py-2.3.1 cloudpickle-3.1.1 dm-tree-0.1.9 gast-0.6.0 imageio-2.37.0 tensorflow-probability-0.25.0\n",
            "\n",
            "\u001b[1m[\u001b[0m\u001b[34;49mnotice\u001b[0m\u001b[1;39;49m]\u001b[0m\u001b[39;49m A new release of pip is available: \u001b[0m\u001b[31;49m24.0\u001b[0m\u001b[39;49m -> \u001b[0m\u001b[32;49m25.2\u001b[0m\n",
            "\u001b[1m[\u001b[0m\u001b[34;49mnotice\u001b[0m\u001b[1;39;49m]\u001b[0m\u001b[39;49m To update, run: \u001b[0m\u001b[32;49mpip install --upgrade pip\u001b[0m\n",
            "Note: you may need to restart the kernel to use updated packages.\n",
            "Collecting fastapi\n",
            "  Using cached fastapi-0.116.1-py3-none-any.whl.metadata (28 kB)\n",
            "Collecting kaleido\n",
            "  Using cached kaleido-1.0.0-py3-none-any.whl.metadata (5.6 kB)\n",
            "Collecting uvicorn\n",
            "  Using cached uvicorn-0.35.0-py3-none-any.whl.metadata (6.5 kB)\n",
            "Requirement already satisfied: typing-extensions in /Users/coder/Desktop/dev/rag_for_production_activeloop/rag-for-production-with-langchain-and-llamaindex/.venv/lib/python3.12/site-packages (4.15.0)\n",
            "Requirement already satisfied: pydantic in /Users/coder/Desktop/dev/rag_for_production_activeloop/rag-for-production-with-langchain-and-llamaindex/.venv/lib/python3.12/site-packages (2.11.7)\n",
            "Collecting unstructured[all-docs]\n",
            "  Using cached unstructured-0.18.14-py3-none-any.whl.metadata (24 kB)\n",
            "Requirement already satisfied: charset-normalizer in /Users/coder/Desktop/dev/rag_for_production_activeloop/rag-for-production-with-langchain-and-llamaindex/.venv/lib/python3.12/site-packages (from unstructured[all-docs]) (3.4.3)\n",
            "Requirement already satisfied: filetype in /Users/coder/Desktop/dev/rag_for_production_activeloop/rag-for-production-with-langchain-and-llamaindex/.venv/lib/python3.12/site-packages (from unstructured[all-docs]) (1.2.0)\n",
            "Collecting python-magic (from unstructured[all-docs])\n",
            "  Using cached python_magic-0.4.27-py2.py3-none-any.whl.metadata (5.8 kB)\n",
            "Collecting lxml (from unstructured[all-docs])\n",
            "  Using cached lxml-6.0.1-cp312-cp312-macosx_10_13_universal2.whl.metadata (3.8 kB)\n",
            "Requirement already satisfied: nltk in /Users/coder/Desktop/dev/rag_for_production_activeloop/rag-for-production-with-langchain-and-llamaindex/.venv/lib/python3.12/site-packages (from unstructured[all-docs]) (3.9.1)\n",
            "Requirement already satisfied: requests in /Users/coder/Desktop/dev/rag_for_production_activeloop/rag-for-production-with-langchain-and-llamaindex/.venv/lib/python3.12/site-packages (from unstructured[all-docs]) (2.32.5)\n",
            "Requirement already satisfied: beautifulsoup4 in /Users/coder/Desktop/dev/rag_for_production_activeloop/rag-for-production-with-langchain-and-llamaindex/.venv/lib/python3.12/site-packages (from unstructured[all-docs]) (4.13.5)\n",
            "Collecting emoji (from unstructured[all-docs])\n",
            "  Using cached emoji-2.14.1-py3-none-any.whl.metadata (5.7 kB)\n",
            "Requirement already satisfied: dataclasses-json in /Users/coder/Desktop/dev/rag_for_production_activeloop/rag-for-production-with-langchain-and-llamaindex/.venv/lib/python3.12/site-packages (from unstructured[all-docs]) (0.6.7)\n",
            "Collecting python-iso639 (from unstructured[all-docs])\n",
            "  Using cached python_iso639-2025.2.18-py3-none-any.whl.metadata (14 kB)\n",
            "Collecting langdetect (from unstructured[all-docs])\n",
            "  Using cached langdetect-1.0.9-py3-none-any.whl\n",
            "Requirement already satisfied: numpy in /Users/coder/Desktop/dev/rag_for_production_activeloop/rag-for-production-with-langchain-and-llamaindex/.venv/lib/python3.12/site-packages (from unstructured[all-docs]) (2.3.2)\n",
            "Collecting rapidfuzz (from unstructured[all-docs])\n",
            "  Using cached rapidfuzz-3.14.0-cp312-cp312-macosx_11_0_arm64.whl.metadata (12 kB)\n",
            "Collecting backoff (from unstructured[all-docs])\n",
            "  Using cached backoff-2.2.1-py3-none-any.whl.metadata (14 kB)\n",
            "Collecting unstructured-client (from unstructured[all-docs])\n",
            "  Using cached unstructured_client-0.42.3-py3-none-any.whl.metadata (23 kB)\n",
            "Requirement already satisfied: wrapt in /Users/coder/Desktop/dev/rag_for_production_activeloop/rag-for-production-with-langchain-and-llamaindex/.venv/lib/python3.12/site-packages (from unstructured[all-docs]) (1.17.3)\n",
            "Requirement already satisfied: tqdm in /Users/coder/Desktop/dev/rag_for_production_activeloop/rag-for-production-with-langchain-and-llamaindex/.venv/lib/python3.12/site-packages (from unstructured[all-docs]) (4.67.1)\n",
            "Requirement already satisfied: psutil in /Users/coder/Desktop/dev/rag_for_production_activeloop/rag-for-production-with-langchain-and-llamaindex/.venv/lib/python3.12/site-packages (from unstructured[all-docs]) (7.0.0)\n",
            "Collecting python-oxmsg (from unstructured[all-docs])\n",
            "  Using cached python_oxmsg-0.0.2-py3-none-any.whl.metadata (5.0 kB)\n",
            "Collecting html5lib (from unstructured[all-docs])\n",
            "  Using cached html5lib-1.1-py2.py3-none-any.whl.metadata (16 kB)\n",
            "Collecting msoffcrypto-tool (from unstructured[all-docs])\n",
            "  Using cached msoffcrypto_tool-5.4.2-py3-none-any.whl.metadata (10 kB)\n",
            "Collecting xlrd (from unstructured[all-docs])\n",
            "  Using cached xlrd-2.0.2-py2.py3-none-any.whl.metadata (3.5 kB)\n",
            "Collecting onnx>=1.17.0 (from unstructured[all-docs])\n",
            "  Using cached onnx-1.19.0-cp312-cp312-macosx_12_0_universal2.whl.metadata (7.0 kB)\n",
            "Collecting pdf2image (from unstructured[all-docs])\n",
            "  Using cached pdf2image-1.17.0-py3-none-any.whl.metadata (6.2 kB)\n",
            "Collecting pi-heif (from unstructured[all-docs])\n",
            "  Using cached pi_heif-1.1.0-cp312-cp312-macosx_14_0_arm64.whl.metadata (6.5 kB)\n",
            "Collecting python-pptx>=1.0.1 (from unstructured[all-docs])\n",
            "  Using cached python_pptx-1.0.2-py3-none-any.whl.metadata (2.5 kB)\n",
            "Collecting google-cloud-vision (from unstructured[all-docs])\n",
            "  Using cached google_cloud_vision-3.10.2-py3-none-any.whl.metadata (9.6 kB)\n",
            "Collecting onnxruntime>=1.19.0 (from unstructured[all-docs])\n",
            "  Using cached onnxruntime-1.22.1-cp312-cp312-macosx_13_0_universal2.whl.metadata (4.6 kB)\n",
            "Collecting python-docx>=1.1.2 (from unstructured[all-docs])\n",
            "  Using cached python_docx-1.2.0-py3-none-any.whl.metadata (2.0 kB)\n",
            "Collecting unstructured.pytesseract>=0.3.12 (from unstructured[all-docs])\n",
            "  Using cached unstructured.pytesseract-0.3.15-py3-none-any.whl.metadata (11 kB)\n",
            "Collecting pdfminer.six (from unstructured[all-docs])\n",
            "  Using cached pdfminer_six-20250506-py3-none-any.whl.metadata (4.2 kB)\n",
            "Requirement already satisfied: networkx in /Users/coder/Desktop/dev/rag_for_production_activeloop/rag-for-production-with-langchain-and-llamaindex/.venv/lib/python3.12/site-packages (from unstructured[all-docs]) (3.5)\n",
            "Requirement already satisfied: pypdf in /Users/coder/Desktop/dev/rag_for_production_activeloop/rag-for-production-with-langchain-and-llamaindex/.venv/lib/python3.12/site-packages (from unstructured[all-docs]) (6.0.0)\n",
            "Collecting pypandoc (from unstructured[all-docs])\n",
            "  Using cached pypandoc-1.15-py3-none-any.whl.metadata (16 kB)\n",
            "Collecting openpyxl (from unstructured[all-docs])\n",
            "  Using cached openpyxl-3.1.5-py2.py3-none-any.whl.metadata (2.5 kB)\n",
            "Collecting effdet (from unstructured[all-docs])\n",
            "  Using cached effdet-0.4.1-py3-none-any.whl.metadata (33 kB)\n",
            "Collecting unstructured-inference>=1.0.5 (from unstructured[all-docs])\n",
            "  Using cached unstructured_inference-1.0.5-py3-none-any.whl.metadata (5.3 kB)\n",
            "Requirement already satisfied: pandas in /Users/coder/Desktop/dev/rag_for_production_activeloop/rag-for-production-with-langchain-and-llamaindex/.venv/lib/python3.12/site-packages (from unstructured[all-docs]) (2.2.3)\n",
            "Collecting pikepdf (from unstructured[all-docs])\n",
            "  Using cached pikepdf-9.10.2-cp312-cp312-macosx_14_0_arm64.whl.metadata (8.1 kB)\n",
            "Collecting markdown (from unstructured[all-docs])\n",
            "  Using cached markdown-3.9-py3-none-any.whl.metadata (5.1 kB)\n",
            "Collecting starlette<0.48.0,>=0.40.0 (from fastapi)\n",
            "  Using cached starlette-0.47.3-py3-none-any.whl.metadata (6.2 kB)\n",
            "Collecting choreographer>=1.0.5 (from kaleido)\n",
            "  Using cached choreographer-1.0.10-py3-none-any.whl.metadata (5.6 kB)\n",
            "Collecting logistro>=1.0.8 (from kaleido)\n",
            "  Using cached logistro-1.1.0-py3-none-any.whl.metadata (2.6 kB)\n",
            "Requirement already satisfied: orjson>=3.10.15 in /Users/coder/Desktop/dev/rag_for_production_activeloop/rag-for-production-with-langchain-and-llamaindex/.venv/lib/python3.12/site-packages (from kaleido) (3.11.3)\n",
            "Requirement already satisfied: packaging in /Users/coder/Desktop/dev/rag_for_production_activeloop/rag-for-production-with-langchain-and-llamaindex/.venv/lib/python3.12/site-packages (from kaleido) (25.0)\n",
            "Requirement already satisfied: click>=7.0 in /Users/coder/Desktop/dev/rag_for_production_activeloop/rag-for-production-with-langchain-and-llamaindex/.venv/lib/python3.12/site-packages (from uvicorn) (8.2.1)\n",
            "Requirement already satisfied: h11>=0.8 in /Users/coder/Desktop/dev/rag_for_production_activeloop/rag-for-production-with-langchain-and-llamaindex/.venv/lib/python3.12/site-packages (from uvicorn) (0.16.0)\n",
            "Requirement already satisfied: annotated-types>=0.6.0 in /Users/coder/Desktop/dev/rag_for_production_activeloop/rag-for-production-with-langchain-and-llamaindex/.venv/lib/python3.12/site-packages (from pydantic) (0.7.0)\n",
            "Requirement already satisfied: pydantic-core==2.33.2 in /Users/coder/Desktop/dev/rag_for_production_activeloop/rag-for-production-with-langchain-and-llamaindex/.venv/lib/python3.12/site-packages (from pydantic) (2.33.2)\n",
            "Requirement already satisfied: typing-inspection>=0.4.0 in /Users/coder/Desktop/dev/rag_for_production_activeloop/rag-for-production-with-langchain-and-llamaindex/.venv/lib/python3.12/site-packages (from pydantic) (0.4.1)\n",
            "Collecting simplejson>=3.19.3 (from choreographer>=1.0.5->kaleido)\n",
            "  Using cached simplejson-3.20.1-cp312-cp312-macosx_11_0_arm64.whl.metadata (3.3 kB)\n",
            "Collecting protobuf>=4.25.1 (from onnx>=1.17.0->unstructured[all-docs])\n",
            "  Using cached protobuf-6.32.0-cp39-abi3-macosx_10_9_universal2.whl.metadata (593 bytes)\n",
            "Collecting ml_dtypes (from onnx>=1.17.0->unstructured[all-docs])\n",
            "  Using cached ml_dtypes-0.5.3-cp312-cp312-macosx_10_13_universal2.whl.metadata (8.9 kB)\n",
            "Collecting coloredlogs (from onnxruntime>=1.19.0->unstructured[all-docs])\n",
            "  Using cached coloredlogs-15.0.1-py2.py3-none-any.whl.metadata (12 kB)\n",
            "Collecting flatbuffers (from onnxruntime>=1.19.0->unstructured[all-docs])\n",
            "  Using cached flatbuffers-25.2.10-py2.py3-none-any.whl.metadata (875 bytes)\n",
            "Collecting sympy (from onnxruntime>=1.19.0->unstructured[all-docs])\n",
            "  Using cached sympy-1.14.0-py3-none-any.whl.metadata (12 kB)\n",
            "Requirement already satisfied: Pillow>=3.3.2 in /Users/coder/Desktop/dev/rag_for_production_activeloop/rag-for-production-with-langchain-and-llamaindex/.venv/lib/python3.12/site-packages (from python-pptx>=1.0.1->unstructured[all-docs]) (11.3.0)\n",
            "Collecting XlsxWriter>=0.5.7 (from python-pptx>=1.0.1->unstructured[all-docs])\n",
            "  Using cached xlsxwriter-3.2.5-py3-none-any.whl.metadata (2.7 kB)\n",
            "Requirement already satisfied: anyio<5,>=3.6.2 in /Users/coder/Desktop/dev/rag_for_production_activeloop/rag-for-production-with-langchain-and-llamaindex/.venv/lib/python3.12/site-packages (from starlette<0.48.0,>=0.40.0->fastapi) (4.10.0)\n",
            "Collecting python-multipart (from unstructured-inference>=1.0.5->unstructured[all-docs])\n",
            "  Using cached python_multipart-0.0.20-py3-none-any.whl.metadata (1.8 kB)\n",
            "Requirement already satisfied: huggingface-hub in /Users/coder/Desktop/dev/rag_for_production_activeloop/rag-for-production-with-langchain-and-llamaindex/.venv/lib/python3.12/site-packages (from unstructured-inference>=1.0.5->unstructured[all-docs]) (0.34.4)\n",
            "Collecting opencv-python!=4.7.0.68 (from unstructured-inference>=1.0.5->unstructured[all-docs])\n",
            "  Using cached opencv_python-4.12.0.88-cp37-abi3-macosx_13_0_arm64.whl.metadata (19 kB)\n",
            "Collecting matplotlib (from unstructured-inference>=1.0.5->unstructured[all-docs])\n",
            "  Using cached matplotlib-3.10.6-cp312-cp312-macosx_11_0_arm64.whl.metadata (11 kB)\n",
            "Collecting torch (from unstructured-inference>=1.0.5->unstructured[all-docs])\n",
            "  Using cached torch-2.8.0-cp312-none-macosx_11_0_arm64.whl.metadata (30 kB)\n",
            "Collecting timm (from unstructured-inference>=1.0.5->unstructured[all-docs])\n",
            "  Using cached timm-1.0.19-py3-none-any.whl.metadata (60 kB)\n",
            "Collecting transformers>=4.25.1 (from unstructured-inference>=1.0.5->unstructured[all-docs])\n",
            "  Using cached transformers-4.56.1-py3-none-any.whl.metadata (42 kB)\n",
            "Collecting accelerate (from unstructured-inference>=1.0.5->unstructured[all-docs])\n",
            "  Using cached accelerate-1.10.1-py3-none-any.whl.metadata (19 kB)\n",
            "Collecting scipy (from unstructured-inference>=1.0.5->unstructured[all-docs])\n",
            "  Using cached scipy-1.16.1-cp312-cp312-macosx_14_0_arm64.whl.metadata (61 kB)\n",
            "Collecting pypdfium2 (from unstructured-inference>=1.0.5->unstructured[all-docs])\n",
            "  Using cached pypdfium2-4.30.0-py3-none-macosx_11_0_arm64.whl.metadata (48 kB)\n",
            "Requirement already satisfied: soupsieve>1.2 in /Users/coder/Desktop/dev/rag_for_production_activeloop/rag-for-production-with-langchain-and-llamaindex/.venv/lib/python3.12/site-packages (from beautifulsoup4->unstructured[all-docs]) (2.8)\n",
            "Requirement already satisfied: marshmallow<4.0.0,>=3.18.0 in /Users/coder/Desktop/dev/rag_for_production_activeloop/rag-for-production-with-langchain-and-llamaindex/.venv/lib/python3.12/site-packages (from dataclasses-json->unstructured[all-docs]) (3.26.1)\n",
            "Requirement already satisfied: typing-inspect<1,>=0.4.0 in /Users/coder/Desktop/dev/rag_for_production_activeloop/rag-for-production-with-langchain-and-llamaindex/.venv/lib/python3.12/site-packages (from dataclasses-json->unstructured[all-docs]) (0.9.0)\n",
            "Collecting torchvision (from effdet->unstructured[all-docs])\n",
            "  Using cached torchvision-0.23.0-cp312-cp312-macosx_11_0_arm64.whl.metadata (6.1 kB)\n",
            "Collecting pycocotools>=2.0.2 (from effdet->unstructured[all-docs])\n",
            "  Using cached pycocotools-2.0.10-cp312-abi3-macosx_10_13_universal2.whl.metadata (1.3 kB)\n",
            "Collecting omegaconf>=2.0 (from effdet->unstructured[all-docs])\n",
            "  Using cached omegaconf-2.3.0-py3-none-any.whl.metadata (3.9 kB)\n",
            "Collecting google-api-core!=2.0.*,!=2.1.*,!=2.10.*,!=2.2.*,!=2.3.*,!=2.4.*,!=2.5.*,!=2.6.*,!=2.7.*,!=2.8.*,!=2.9.*,<3.0.0,>=1.34.1 (from google-api-core[grpc]!=2.0.*,!=2.1.*,!=2.10.*,!=2.2.*,!=2.3.*,!=2.4.*,!=2.5.*,!=2.6.*,!=2.7.*,!=2.8.*,!=2.9.*,<3.0.0,>=1.34.1->google-cloud-vision->unstructured[all-docs])\n",
            "  Using cached google_api_core-2.25.1-py3-none-any.whl.metadata (3.0 kB)\n",
            "Collecting google-auth!=2.24.0,!=2.25.0,<3.0.0,>=2.14.1 (from google-cloud-vision->unstructured[all-docs])\n",
            "  Using cached google_auth-2.40.3-py2.py3-none-any.whl.metadata (6.2 kB)\n",
            "Collecting proto-plus<2.0.0,>=1.22.3 (from google-cloud-vision->unstructured[all-docs])\n",
            "  Using cached proto_plus-1.26.1-py3-none-any.whl.metadata (2.2 kB)\n",
            "Requirement already satisfied: six>=1.9 in /Users/coder/Desktop/dev/rag_for_production_activeloop/rag-for-production-with-langchain-and-llamaindex/.venv/lib/python3.12/site-packages (from html5lib->unstructured[all-docs]) (1.17.0)\n",
            "Collecting webencodings (from html5lib->unstructured[all-docs])\n",
            "  Using cached webencodings-0.5.1-py2.py3-none-any.whl.metadata (2.1 kB)\n",
            "Collecting cryptography>=39.0 (from msoffcrypto-tool->unstructured[all-docs])\n",
            "  Using cached cryptography-45.0.7-cp311-abi3-macosx_10_9_universal2.whl.metadata (5.7 kB)\n",
            "Collecting olefile>=0.46 (from msoffcrypto-tool->unstructured[all-docs])\n",
            "  Using cached olefile-0.47-py2.py3-none-any.whl.metadata (9.7 kB)\n",
            "Requirement already satisfied: joblib in /Users/coder/Desktop/dev/rag_for_production_activeloop/rag-for-production-with-langchain-and-llamaindex/.venv/lib/python3.12/site-packages (from nltk->unstructured[all-docs]) (1.5.2)\n",
            "Requirement already satisfied: regex>=2021.8.3 in /Users/coder/Desktop/dev/rag_for_production_activeloop/rag-for-production-with-langchain-and-llamaindex/.venv/lib/python3.12/site-packages (from nltk->unstructured[all-docs]) (2025.9.1)\n",
            "Collecting et-xmlfile (from openpyxl->unstructured[all-docs])\n",
            "  Using cached et_xmlfile-2.0.0-py3-none-any.whl.metadata (2.7 kB)\n",
            "Requirement already satisfied: python-dateutil>=2.8.2 in /Users/coder/Desktop/dev/rag_for_production_activeloop/rag-for-production-with-langchain-and-llamaindex/.venv/lib/python3.12/site-packages (from pandas->unstructured[all-docs]) (2.9.0.post0)\n",
            "Requirement already satisfied: pytz>=2020.1 in /Users/coder/Desktop/dev/rag_for_production_activeloop/rag-for-production-with-langchain-and-llamaindex/.venv/lib/python3.12/site-packages (from pandas->unstructured[all-docs]) (2025.2)\n",
            "Requirement already satisfied: tzdata>=2022.7 in /Users/coder/Desktop/dev/rag_for_production_activeloop/rag-for-production-with-langchain-and-llamaindex/.venv/lib/python3.12/site-packages (from pandas->unstructured[all-docs]) (2025.2)\n",
            "Requirement already satisfied: Deprecated in /Users/coder/Desktop/dev/rag_for_production_activeloop/rag-for-production-with-langchain-and-llamaindex/.venv/lib/python3.12/site-packages (from pikepdf->unstructured[all-docs]) (1.2.18)\n",
            "Requirement already satisfied: idna<4,>=2.5 in /Users/coder/Desktop/dev/rag_for_production_activeloop/rag-for-production-with-langchain-and-llamaindex/.venv/lib/python3.12/site-packages (from requests->unstructured[all-docs]) (3.10)\n",
            "Requirement already satisfied: urllib3<3,>=1.21.1 in /Users/coder/Desktop/dev/rag_for_production_activeloop/rag-for-production-with-langchain-and-llamaindex/.venv/lib/python3.12/site-packages (from requests->unstructured[all-docs]) (2.5.0)\n",
            "Requirement already satisfied: certifi>=2017.4.17 in /Users/coder/Desktop/dev/rag_for_production_activeloop/rag-for-production-with-langchain-and-llamaindex/.venv/lib/python3.12/site-packages (from requests->unstructured[all-docs]) (2025.8.3)\n",
            "Collecting aiofiles>=24.1.0 (from unstructured-client->unstructured[all-docs])\n",
            "  Using cached aiofiles-24.1.0-py3-none-any.whl.metadata (10 kB)\n",
            "Requirement already satisfied: httpcore>=1.0.9 in /Users/coder/Desktop/dev/rag_for_production_activeloop/rag-for-production-with-langchain-and-llamaindex/.venv/lib/python3.12/site-packages (from unstructured-client->unstructured[all-docs]) (1.0.9)\n",
            "Requirement already satisfied: httpx>=0.27.0 in /Users/coder/Desktop/dev/rag_for_production_activeloop/rag-for-production-with-langchain-and-llamaindex/.venv/lib/python3.12/site-packages (from unstructured-client->unstructured[all-docs]) (0.28.1)\n",
            "Requirement already satisfied: requests-toolbelt>=1.0.0 in /Users/coder/Desktop/dev/rag_for_production_activeloop/rag-for-production-with-langchain-and-llamaindex/.venv/lib/python3.12/site-packages (from unstructured-client->unstructured[all-docs]) (1.0.0)\n",
            "Requirement already satisfied: sniffio>=1.1 in /Users/coder/Desktop/dev/rag_for_production_activeloop/rag-for-production-with-langchain-and-llamaindex/.venv/lib/python3.12/site-packages (from anyio<5,>=3.6.2->starlette<0.48.0,>=0.40.0->fastapi) (1.3.1)\n",
            "Collecting cffi>=1.14 (from cryptography>=39.0->msoffcrypto-tool->unstructured[all-docs])\n",
            "  Using cached cffi-1.17.1-cp312-cp312-macosx_11_0_arm64.whl.metadata (1.5 kB)\n",
            "Collecting googleapis-common-protos<2.0.0,>=1.56.2 (from google-api-core!=2.0.*,!=2.1.*,!=2.10.*,!=2.2.*,!=2.3.*,!=2.4.*,!=2.5.*,!=2.6.*,!=2.7.*,!=2.8.*,!=2.9.*,<3.0.0,>=1.34.1->google-api-core[grpc]!=2.0.*,!=2.1.*,!=2.10.*,!=2.2.*,!=2.3.*,!=2.4.*,!=2.5.*,!=2.6.*,!=2.7.*,!=2.8.*,!=2.9.*,<3.0.0,>=1.34.1->google-cloud-vision->unstructured[all-docs])\n",
            "  Using cached googleapis_common_protos-1.70.0-py3-none-any.whl.metadata (9.3 kB)\n",
            "Collecting grpcio<2.0.0,>=1.33.2 (from google-api-core[grpc]!=2.0.*,!=2.1.*,!=2.10.*,!=2.2.*,!=2.3.*,!=2.4.*,!=2.5.*,!=2.6.*,!=2.7.*,!=2.8.*,!=2.9.*,<3.0.0,>=1.34.1->google-cloud-vision->unstructured[all-docs])\n",
            "  Using cached grpcio-1.74.0-cp312-cp312-macosx_11_0_universal2.whl.metadata (3.8 kB)\n",
            "Collecting grpcio-status<2.0.0,>=1.33.2 (from google-api-core[grpc]!=2.0.*,!=2.1.*,!=2.10.*,!=2.2.*,!=2.3.*,!=2.4.*,!=2.5.*,!=2.6.*,!=2.7.*,!=2.8.*,!=2.9.*,<3.0.0,>=1.34.1->google-cloud-vision->unstructured[all-docs])\n",
            "  Using cached grpcio_status-1.74.0-py3-none-any.whl.metadata (1.1 kB)\n",
            "Collecting cachetools<6.0,>=2.0.0 (from google-auth!=2.24.0,!=2.25.0,<3.0.0,>=2.14.1->google-cloud-vision->unstructured[all-docs])\n",
            "  Using cached cachetools-5.5.2-py3-none-any.whl.metadata (5.4 kB)\n",
            "Collecting pyasn1-modules>=0.2.1 (from google-auth!=2.24.0,!=2.25.0,<3.0.0,>=2.14.1->google-cloud-vision->unstructured[all-docs])\n",
            "  Using cached pyasn1_modules-0.4.2-py3-none-any.whl.metadata (3.5 kB)\n",
            "Collecting rsa<5,>=3.1.4 (from google-auth!=2.24.0,!=2.25.0,<3.0.0,>=2.14.1->google-cloud-vision->unstructured[all-docs])\n",
            "  Using cached rsa-4.9.1-py3-none-any.whl.metadata (5.6 kB)\n",
            "Collecting antlr4-python3-runtime==4.9.* (from omegaconf>=2.0->effdet->unstructured[all-docs])\n",
            "  Using cached antlr4_python3_runtime-4.9.3-py3-none-any.whl\n",
            "Requirement already satisfied: PyYAML>=5.1.0 in /Users/coder/Desktop/dev/rag_for_production_activeloop/rag-for-production-with-langchain-and-llamaindex/.venv/lib/python3.12/site-packages (from omegaconf>=2.0->effdet->unstructured[all-docs]) (6.0.2)\n",
            "Collecting numpy (from unstructured[all-docs])\n",
            "  Using cached numpy-2.2.6-cp312-cp312-macosx_14_0_arm64.whl.metadata (62 kB)\n",
            "Collecting safetensors (from timm->unstructured-inference>=1.0.5->unstructured[all-docs])\n",
            "  Using cached safetensors-0.6.2-cp38-abi3-macosx_11_0_arm64.whl.metadata (4.1 kB)\n",
            "Requirement already satisfied: filelock in /Users/coder/Desktop/dev/rag_for_production_activeloop/rag-for-production-with-langchain-and-llamaindex/.venv/lib/python3.12/site-packages (from torch->unstructured-inference>=1.0.5->unstructured[all-docs]) (3.19.1)\n",
            "Requirement already satisfied: setuptools in /Users/coder/Desktop/dev/rag_for_production_activeloop/rag-for-production-with-langchain-and-llamaindex/.venv/lib/python3.12/site-packages (from torch->unstructured-inference>=1.0.5->unstructured[all-docs]) (80.9.0)\n",
            "Requirement already satisfied: jinja2 in /Users/coder/Desktop/dev/rag_for_production_activeloop/rag-for-production-with-langchain-and-llamaindex/.venv/lib/python3.12/site-packages (from torch->unstructured-inference>=1.0.5->unstructured[all-docs]) (3.1.6)\n",
            "Requirement already satisfied: fsspec in /Users/coder/Desktop/dev/rag_for_production_activeloop/rag-for-production-with-langchain-and-llamaindex/.venv/lib/python3.12/site-packages (from torch->unstructured-inference>=1.0.5->unstructured[all-docs]) (2025.9.0)\n",
            "Collecting mpmath<1.4,>=1.1.0 (from sympy->onnxruntime>=1.19.0->unstructured[all-docs])\n",
            "  Using cached mpmath-1.3.0-py3-none-any.whl.metadata (8.6 kB)\n",
            "Requirement already satisfied: tokenizers<=0.23.0,>=0.22.0 in /Users/coder/Desktop/dev/rag_for_production_activeloop/rag-for-production-with-langchain-and-llamaindex/.venv/lib/python3.12/site-packages (from transformers>=4.25.1->unstructured-inference>=1.0.5->unstructured[all-docs]) (0.22.0)\n",
            "Requirement already satisfied: hf-xet<2.0.0,>=1.1.3 in /Users/coder/Desktop/dev/rag_for_production_activeloop/rag-for-production-with-langchain-and-llamaindex/.venv/lib/python3.12/site-packages (from huggingface-hub->unstructured-inference>=1.0.5->unstructured[all-docs]) (1.1.9)\n",
            "Requirement already satisfied: mypy-extensions>=0.3.0 in /Users/coder/Desktop/dev/rag_for_production_activeloop/rag-for-production-with-langchain-and-llamaindex/.venv/lib/python3.12/site-packages (from typing-inspect<1,>=0.4.0->dataclasses-json->unstructured[all-docs]) (1.1.0)\n",
            "Collecting humanfriendly>=9.1 (from coloredlogs->onnxruntime>=1.19.0->unstructured[all-docs])\n",
            "  Using cached humanfriendly-10.0-py2.py3-none-any.whl.metadata (9.2 kB)\n",
            "Collecting contourpy>=1.0.1 (from matplotlib->unstructured-inference>=1.0.5->unstructured[all-docs])\n",
            "  Using cached contourpy-1.3.3-cp312-cp312-macosx_11_0_arm64.whl.metadata (5.5 kB)\n",
            "Collecting cycler>=0.10 (from matplotlib->unstructured-inference>=1.0.5->unstructured[all-docs])\n",
            "  Using cached cycler-0.12.1-py3-none-any.whl.metadata (3.8 kB)\n",
            "Collecting fonttools>=4.22.0 (from matplotlib->unstructured-inference>=1.0.5->unstructured[all-docs])\n",
            "  Using cached fonttools-4.59.2-cp312-cp312-macosx_10_13_universal2.whl.metadata (109 kB)\n",
            "Collecting kiwisolver>=1.3.1 (from matplotlib->unstructured-inference>=1.0.5->unstructured[all-docs])\n",
            "  Using cached kiwisolver-1.4.9-cp312-cp312-macosx_11_0_arm64.whl.metadata (6.3 kB)\n",
            "Collecting pyparsing>=2.3.1 (from matplotlib->unstructured-inference>=1.0.5->unstructured[all-docs])\n",
            "  Using cached pyparsing-3.2.3-py3-none-any.whl.metadata (5.0 kB)\n",
            "Collecting pycparser (from cffi>=1.14->cryptography>=39.0->msoffcrypto-tool->unstructured[all-docs])\n",
            "  Using cached pycparser-2.22-py3-none-any.whl.metadata (943 bytes)\n",
            "Collecting pyasn1<0.7.0,>=0.6.1 (from pyasn1-modules>=0.2.1->google-auth!=2.24.0,!=2.25.0,<3.0.0,>=2.14.1->google-cloud-vision->unstructured[all-docs])\n",
            "  Using cached pyasn1-0.6.1-py3-none-any.whl.metadata (8.4 kB)\n",
            "Requirement already satisfied: MarkupSafe>=2.0 in /Users/coder/Desktop/dev/rag_for_production_activeloop/rag-for-production-with-langchain-and-llamaindex/.venv/lib/python3.12/site-packages (from jinja2->torch->unstructured-inference>=1.0.5->unstructured[all-docs]) (3.0.2)\n",
            "Using cached fastapi-0.116.1-py3-none-any.whl (95 kB)\n",
            "Using cached kaleido-1.0.0-py3-none-any.whl (51 kB)\n",
            "Using cached uvicorn-0.35.0-py3-none-any.whl (66 kB)\n",
            "Using cached choreographer-1.0.10-py3-none-any.whl (51 kB)\n",
            "Using cached logistro-1.1.0-py3-none-any.whl (7.9 kB)\n",
            "Using cached onnx-1.19.0-cp312-cp312-macosx_12_0_universal2.whl (18.3 MB)\n",
            "Using cached onnxruntime-1.22.1-cp312-cp312-macosx_13_0_universal2.whl (34.3 MB)\n",
            "Using cached python_docx-1.2.0-py3-none-any.whl (252 kB)\n",
            "Using cached lxml-6.0.1-cp312-cp312-macosx_10_13_universal2.whl (8.4 MB)\n",
            "Using cached python_pptx-1.0.2-py3-none-any.whl (472 kB)\n",
            "Using cached starlette-0.47.3-py3-none-any.whl (72 kB)\n",
            "Using cached unstructured_inference-1.0.5-py3-none-any.whl (48 kB)\n",
            "Using cached unstructured.pytesseract-0.3.15-py3-none-any.whl (14 kB)\n",
            "Using cached backoff-2.2.1-py3-none-any.whl (15 kB)\n",
            "Using cached effdet-0.4.1-py3-none-any.whl (112 kB)\n",
            "Using cached emoji-2.14.1-py3-none-any.whl (590 kB)\n",
            "Using cached google_cloud_vision-3.10.2-py3-none-any.whl (527 kB)\n",
            "Using cached html5lib-1.1-py2.py3-none-any.whl (112 kB)\n",
            "Using cached markdown-3.9-py3-none-any.whl (107 kB)\n",
            "Using cached msoffcrypto_tool-5.4.2-py3-none-any.whl (48 kB)\n",
            "Using cached openpyxl-3.1.5-py2.py3-none-any.whl (250 kB)\n",
            "Using cached pdf2image-1.17.0-py3-none-any.whl (11 kB)\n",
            "Using cached pdfminer_six-20250506-py3-none-any.whl (5.6 MB)\n",
            "Using cached pi_heif-1.1.0-cp312-cp312-macosx_14_0_arm64.whl (642 kB)\n",
            "Using cached pikepdf-9.10.2-cp312-cp312-macosx_14_0_arm64.whl (4.7 MB)\n",
            "Using cached pypandoc-1.15-py3-none-any.whl (21 kB)\n",
            "Using cached python_iso639-2025.2.18-py3-none-any.whl (167 kB)\n",
            "Using cached python_magic-0.4.27-py2.py3-none-any.whl (13 kB)\n",
            "Using cached python_oxmsg-0.0.2-py3-none-any.whl (31 kB)\n",
            "Using cached rapidfuzz-3.14.0-cp312-cp312-macosx_11_0_arm64.whl (1.5 MB)\n",
            "Using cached unstructured-0.18.14-py3-none-any.whl (1.8 MB)\n",
            "Using cached unstructured_client-0.42.3-py3-none-any.whl (207 kB)\n",
            "Using cached xlrd-2.0.2-py2.py3-none-any.whl (96 kB)\n",
            "Using cached aiofiles-24.1.0-py3-none-any.whl (15 kB)\n",
            "Using cached cryptography-45.0.7-cp311-abi3-macosx_10_9_universal2.whl (7.0 MB)\n",
            "Using cached google_api_core-2.25.1-py3-none-any.whl (160 kB)\n",
            "Using cached google_auth-2.40.3-py2.py3-none-any.whl (216 kB)\n",
            "Using cached olefile-0.47-py2.py3-none-any.whl (114 kB)\n",
            "Using cached omegaconf-2.3.0-py3-none-any.whl (79 kB)\n",
            "Using cached opencv_python-4.12.0.88-cp37-abi3-macosx_13_0_arm64.whl (37.9 MB)\n",
            "Using cached numpy-2.2.6-cp312-cp312-macosx_14_0_arm64.whl (5.1 MB)\n",
            "Using cached proto_plus-1.26.1-py3-none-any.whl (50 kB)\n",
            "Using cached protobuf-6.32.0-cp39-abi3-macosx_10_9_universal2.whl (426 kB)\n",
            "Using cached pycocotools-2.0.10-cp312-abi3-macosx_10_13_universal2.whl (142 kB)\n",
            "Using cached simplejson-3.20.1-cp312-cp312-macosx_11_0_arm64.whl (75 kB)\n",
            "Using cached timm-1.0.19-py3-none-any.whl (2.5 MB)\n",
            "Using cached torch-2.8.0-cp312-none-macosx_11_0_arm64.whl (73.6 MB)\n",
            "Using cached sympy-1.14.0-py3-none-any.whl (6.3 MB)\n",
            "Using cached transformers-4.56.1-py3-none-any.whl (11.6 MB)\n",
            "Using cached xlsxwriter-3.2.5-py3-none-any.whl (172 kB)\n",
            "Using cached accelerate-1.10.1-py3-none-any.whl (374 kB)\n",
            "Using cached coloredlogs-15.0.1-py2.py3-none-any.whl (46 kB)\n",
            "Using cached et_xmlfile-2.0.0-py3-none-any.whl (18 kB)\n",
            "Using cached flatbuffers-25.2.10-py2.py3-none-any.whl (30 kB)\n",
            "Using cached matplotlib-3.10.6-cp312-cp312-macosx_11_0_arm64.whl (8.1 MB)\n",
            "Using cached ml_dtypes-0.5.3-cp312-cp312-macosx_10_13_universal2.whl (663 kB)\n",
            "Using cached pypdfium2-4.30.0-py3-none-macosx_11_0_arm64.whl (2.7 MB)\n",
            "Using cached python_multipart-0.0.20-py3-none-any.whl (24 kB)\n",
            "Using cached scipy-1.16.1-cp312-cp312-macosx_14_0_arm64.whl (20.9 MB)\n",
            "Using cached torchvision-0.23.0-cp312-cp312-macosx_11_0_arm64.whl (1.9 MB)\n",
            "Using cached webencodings-0.5.1-py2.py3-none-any.whl (11 kB)\n",
            "Using cached cachetools-5.5.2-py3-none-any.whl (10 kB)\n",
            "Using cached cffi-1.17.1-cp312-cp312-macosx_11_0_arm64.whl (178 kB)\n",
            "Using cached contourpy-1.3.3-cp312-cp312-macosx_11_0_arm64.whl (273 kB)\n",
            "Using cached cycler-0.12.1-py3-none-any.whl (8.3 kB)\n",
            "Using cached fonttools-4.59.2-cp312-cp312-macosx_10_13_universal2.whl (2.8 MB)\n",
            "Using cached googleapis_common_protos-1.70.0-py3-none-any.whl (294 kB)\n",
            "Using cached grpcio-1.74.0-cp312-cp312-macosx_11_0_universal2.whl (11.0 MB)\n",
            "Using cached grpcio_status-1.74.0-py3-none-any.whl (14 kB)\n",
            "Using cached humanfriendly-10.0-py2.py3-none-any.whl (86 kB)\n",
            "Using cached kiwisolver-1.4.9-cp312-cp312-macosx_11_0_arm64.whl (64 kB)\n",
            "Using cached mpmath-1.3.0-py3-none-any.whl (536 kB)\n",
            "Using cached pyasn1_modules-0.4.2-py3-none-any.whl (181 kB)\n",
            "Using cached pyparsing-3.2.3-py3-none-any.whl (111 kB)\n",
            "Using cached rsa-4.9.1-py3-none-any.whl (34 kB)\n",
            "Using cached safetensors-0.6.2-cp38-abi3-macosx_11_0_arm64.whl (432 kB)\n",
            "Using cached pyasn1-0.6.1-py3-none-any.whl (83 kB)\n",
            "Using cached pycparser-2.22-py3-none-any.whl (117 kB)\n",
            "Installing collected packages: webencodings, mpmath, flatbuffers, antlr4-python3-runtime, XlsxWriter, xlrd, uvicorn, unstructured.pytesseract, sympy, simplejson, safetensors, rapidfuzz, python-multipart, python-magic, python-iso639, pypdfium2, pyparsing, pypandoc, pycparser, pyasn1, protobuf, pi-heif, pdf2image, omegaconf, olefile, numpy, markdown, lxml, logistro, langdetect, kiwisolver, humanfriendly, html5lib, grpcio, fonttools, et-xmlfile, emoji, cycler, cachetools, backoff, aiofiles, torch, starlette, scipy, rsa, python-pptx, python-oxmsg, python-docx, pycocotools, pyasn1-modules, proto-plus, pikepdf, openpyxl, opencv-python, ml_dtypes, googleapis-common-protos, contourpy, coloredlogs, choreographer, cffi, torchvision, onnxruntime, onnx, matplotlib, kaleido, grpcio-status, google-auth, fastapi, cryptography, accelerate, unstructured-client, transformers, timm, pdfminer.six, msoffcrypto-tool, google-api-core, unstructured-inference, unstructured, effdet, google-cloud-vision\n",
            "  Attempting uninstall: numpy\n",
            "    Found existing installation: numpy 2.3.2\n",
            "    Uninstalling numpy-2.3.2:\n",
            "      Successfully uninstalled numpy-2.3.2\n",
            "Successfully installed XlsxWriter-3.2.5 accelerate-1.10.1 aiofiles-24.1.0 antlr4-python3-runtime-4.9.3 backoff-2.2.1 cachetools-5.5.2 cffi-1.17.1 choreographer-1.0.10 coloredlogs-15.0.1 contourpy-1.3.3 cryptography-45.0.7 cycler-0.12.1 effdet-0.4.1 emoji-2.14.1 et-xmlfile-2.0.0 fastapi-0.116.1 flatbuffers-25.2.10 fonttools-4.59.2 google-api-core-2.25.1 google-auth-2.40.3 google-cloud-vision-3.10.2 googleapis-common-protos-1.70.0 grpcio-1.74.0 grpcio-status-1.74.0 html5lib-1.1 humanfriendly-10.0 kaleido-1.0.0 kiwisolver-1.4.9 langdetect-1.0.9 logistro-1.1.0 lxml-6.0.1 markdown-3.9 matplotlib-3.10.6 ml_dtypes-0.5.3 mpmath-1.3.0 msoffcrypto-tool-5.4.2 numpy-2.2.6 olefile-0.47 omegaconf-2.3.0 onnx-1.19.0 onnxruntime-1.22.1 opencv-python-4.12.0.88 openpyxl-3.1.5 pdf2image-1.17.0 pdfminer.six-20250506 pi-heif-1.1.0 pikepdf-9.10.2 proto-plus-1.26.1 protobuf-6.32.0 pyasn1-0.6.1 pyasn1-modules-0.4.2 pycocotools-2.0.10 pycparser-2.22 pypandoc-1.15 pyparsing-3.2.3 pypdfium2-4.30.0 python-docx-1.2.0 python-iso639-2025.2.18 python-magic-0.4.27 python-multipart-0.0.20 python-oxmsg-0.0.2 python-pptx-1.0.2 rapidfuzz-3.14.0 rsa-4.9.1 safetensors-0.6.2 scipy-1.16.1 simplejson-3.20.1 starlette-0.47.3 sympy-1.14.0 timm-1.0.19 torch-2.8.0 torchvision-0.23.0 transformers-4.56.1 unstructured-0.18.14 unstructured-client-0.42.3 unstructured-inference-1.0.5 unstructured.pytesseract-0.3.15 uvicorn-0.35.0 webencodings-0.5.1 xlrd-2.0.2\n",
            "\n",
            "\u001b[1m[\u001b[0m\u001b[34;49mnotice\u001b[0m\u001b[1;39;49m]\u001b[0m\u001b[39;49m A new release of pip is available: \u001b[0m\u001b[31;49m24.0\u001b[0m\u001b[39;49m -> \u001b[0m\u001b[32;49m25.2\u001b[0m\n",
            "\u001b[1m[\u001b[0m\u001b[34;49mnotice\u001b[0m\u001b[1;39;49m]\u001b[0m\u001b[39;49m To update, run: \u001b[0m\u001b[32;49mpip install --upgrade pip\u001b[0m\n",
            "Note: you may need to restart the kernel to use updated packages.\n"
          ]
        }
      ],
      "source": [
        "# Install system packages via Homebrew\n",
        "!brew install poppler          # provides pdf utilities similar to poppler-utils\n",
        "!brew install tesseract        # OCR engine\n",
        "\n",
        "# Install Python packages via pip\n",
        "%pip install tensorflow-probability imageio pillow\n",
        "\n",
        "# Install additional Python packages\n",
        "%pip install \"unstructured[all-docs]\" fastapi kaleido uvicorn typing-extensions pydantic\n"
      ]
    },
    {
      "cell_type": "code",
      "execution_count": 6,
      "metadata": {
        "id": "LDId7byq4Tn_"
      },
      "outputs": [],
      "source": [
        "from pydantic import BaseModel\n",
        "from typing import Any\n",
        "\n",
        "\n",
        "# Define data structure\n",
        "class Element(BaseModel):\n",
        "    source_document: str\n",
        "    type: str\n",
        "    text: Any"
      ]
    },
    {
      "cell_type": "code",
      "execution_count": 7,
      "metadata": {
        "id": "LYfDj9xnK423"
      },
      "outputs": [],
      "source": [
        "prefix = \"data/financial_analysis\"\n",
        "files = [\"TSLA-Q1-2023-Update.pdf\", \"TSLA-Q2-2023-Update.pdf\", \"TSLA-Q3-2023-Update-3.pdf\"]"
      ]
    },
    {
      "cell_type": "code",
      "execution_count": 8,
      "metadata": {
        "colab": {
          "base_uri": "https://localhost:8080/"
        },
        "id": "tycPNGrA3PY4",
        "outputId": "1ea8eee7-d631-4a32-adf5-644871e26a1e"
      },
      "outputs": [
        {
          "name": "stdout",
          "output_type": "stream",
          "text": [
            "Load the pre-proocessed text/tables...\n"
          ]
        }
      ],
      "source": [
        "if not preprocessed_texts:\n",
        "  print(\"Processing the PDF and extracting text/tables...\")\n",
        "  from unstructured.partition.pdf import partition_pdf\n",
        "\n",
        "  raw_pdf_elements = []\n",
        "\n",
        "  for quarter in files:\n",
        "    quater = os.path.join(prefix, quater)\n",
        "    raw_pdf_elements.append(partition_pdf(\n",
        "        filename=quarter,\n",
        "        # Using pdf format to find embedded image blocks\n",
        "        extract_images_in_pdf=False,\n",
        "        # Use layout model (YOLOX) to get bounding boxes (for tables) and find titles\n",
        "        # Titles are any sub-section of the document\n",
        "        infer_table_structure=True,\n",
        "        # Post processing to aggregate text once we have the title\n",
        "        chunking_strategy=\"by_title\",\n",
        "        # Chunking params to aggregate text blocks\n",
        "        # Attempt to create a new chunk 3800 chars\n",
        "        # Attempt to keep chunks > 2000 chars\n",
        "        # Hard max on chunks\n",
        "        max_characters=4000,\n",
        "        new_after_n_chars=3800,\n",
        "        combine_text_under_n_chars=2000\n",
        "    )\n",
        "  )\n",
        "\n",
        "  category_counts = {}\n",
        "  for quarter in raw_pdf_elements:\n",
        "    for element in quarter:\n",
        "        category = str(type(element))\n",
        "        if category in category_counts:\n",
        "            category_counts[category] += 1\n",
        "        else:\n",
        "            category_counts[category] = 1\n",
        "  # Unique_categories will have unique elements\n",
        "  unique_categories = set(category_counts.keys())\n",
        "  print(category_counts)\n",
        "\n",
        "  # Categorize by type\n",
        "  categorized_elements = []\n",
        "  for idx, quarter in enumerate(raw_pdf_elements):\n",
        "    for element in quarter:\n",
        "        if \"unstructured.documents.elements.Table\" in str(type(element)):\n",
        "            categorized_elements.append(Element(type=\"table\", text=str(element), source_document=f\"2023 Quarter {idx+1} report\"))\n",
        "        elif \"unstructured.documents.elements.CompositeElement\" in str(type(element)):\n",
        "            categorized_elements.append(Element(type=\"text\", text=str(element), source_document=f\"2023 Quarter {idx+1} report\"))\n",
        "\n",
        "  with open(\"categorized_elements.pkl\", \"wb\") as handle:\n",
        "    pickle.dump(categorized_elements, handle)\n",
        "\n",
        "else:\n",
        "  print(\"Load the pre-proocessed text/tables...\")\n",
        "  with open(preprocessed_texts, \"rb\") as file:\n",
        "      categorized_elements = pickle.load(file)"
      ]
    },
    {
      "cell_type": "code",
      "execution_count": 9,
      "metadata": {},
      "outputs": [
        {
          "data": {
            "text/plain": [
              "80"
            ]
          },
          "execution_count": 9,
          "metadata": {},
          "output_type": "execute_result"
        }
      ],
      "source": [
        "len(categorized_elements)"
      ]
    },
    {
      "cell_type": "markdown",
      "metadata": {
        "id": "e-DmhMBGXu_U"
      },
      "source": [
        "# Convert PDF to Images"
      ]
    },
    {
      "cell_type": "code",
      "execution_count": 10,
      "metadata": {
        "id": "8pjonkbwXve2"
      },
      "outputs": [
        {
          "name": "stdout",
          "output_type": "stream",
          "text": [
            "\n",
            "\u001b[1m[\u001b[0m\u001b[34;49mnotice\u001b[0m\u001b[1;39;49m]\u001b[0m\u001b[39;49m A new release of pip is available: \u001b[0m\u001b[31;49m24.0\u001b[0m\u001b[39;49m -> \u001b[0m\u001b[32;49m25.2\u001b[0m\n",
            "\u001b[1m[\u001b[0m\u001b[34;49mnotice\u001b[0m\u001b[1;39;49m]\u001b[0m\u001b[39;49m To update, run: \u001b[0m\u001b[32;49mpip install --upgrade pip\u001b[0m\n",
            "Note: you may need to restart the kernel to use updated packages.\n"
          ]
        }
      ],
      "source": [
        "%pip install -q pdf2image"
      ]
    },
    {
      "cell_type": "code",
      "execution_count": 11,
      "metadata": {
        "id": "UzUWNr5EXvb-"
      },
      "outputs": [],
      "source": [
        "from pdf2image import convert_from_path"
      ]
    },
    {
      "cell_type": "code",
      "execution_count": 11,
      "metadata": {
        "id": "Jt6Cb4uaXvZX"
      },
      "outputs": [],
      "source": [
        "convertors = []\n",
        "for quarter in files:\n",
        "  quarter = os.path.join(prefix, quarter)\n",
        "  convertors.append(convert_from_path(quarter))"
      ]
    },
    {
      "cell_type": "code",
      "execution_count": 21,
      "metadata": {
        "id": "UQKyB9BlZGOT"
      },
      "outputs": [],
      "source": [
        "import os\n",
        "\n",
        "\n",
        "os.makedirs(os.path.join(prefix, \"pages/Q1\"))\n",
        "os.makedirs(os.path.join(prefix, \"pages/Q2\"))\n",
        "os.makedirs(os.path.join(prefix, \"pages/Q3\"))"
      ]
    },
    {
      "cell_type": "code",
      "execution_count": 12,
      "metadata": {
        "id": "KURKh4MQYKMf"
      },
      "outputs": [],
      "source": [
        "for quarter, convertor in enumerate(convertors):\n",
        "  for page_num, image in enumerate(convertor):\n",
        "      image.save(os.path.join(prefix, f\"pages/Q{quarter+1}/page-{page_num+1}.png\"))"
      ]
    },
    {
      "cell_type": "code",
      "execution_count": 12,
      "metadata": {
        "id": "A2H2b97JSScy"
      },
      "outputs": [],
      "source": [
        "pages_png = []\n",
        "for dir in [\n",
        "  os.path.join(prefix, quarter_images_dir)\n",
        "  for quarter_images_dir in\n",
        "  [\"pages/Q1\", \"pages/Q2\", \"pages/Q3\"]\n",
        "]:\n",
        "  tmp = []\n",
        "  for file in os.listdir(dir):\n",
        "    if file.endswith(\".png\"):\n",
        "      file_path = os.path.join(dir, file)\n",
        "      tmp.append(file_path)\n",
        "  pages_png.append(tmp)"
      ]
    },
    {
      "cell_type": "markdown",
      "metadata": {
        "id": "qaCqJt5PTCrL"
      },
      "source": [
        "# Captioning using GPT-4V"
      ]
    },
    {
      "cell_type": "code",
      "execution_count": 13,
      "metadata": {
        "id": "HiSSgr7t5-ob"
      },
      "outputs": [],
      "source": [
        "import json\n",
        "import copy\n",
        "import base64\n",
        "import requests\n",
        "\n",
        "\n",
        "headers = {\n",
        "  \"Content-Type\": \"application/json\",\n",
        "  \"Authorization\": \"Bearer \" + str(os.environ[\"OPENAI_API_KEY\"])\n",
        "}\n",
        "\n",
        "payload = {\n",
        "  \"model\": \"gpt-4-vision-preview\",\n",
        "  \"messages\": [\n",
        "    {\n",
        "      \"role\": \"user\",\n",
        "      \"content\": [\n",
        "        {\n",
        "          \"type\": \"text\",\n",
        "          \"text\": \"You are an assistant that find charts, graphs, or diagrams from an image and summarize their information. There could be multiple diagrams in one image, so explain each one of them separately. Ignore tables.\"\n",
        "        },\n",
        "        {\n",
        "          \"type\": \"text\",\n",
        "          \"text\": 'The response must be a JSON in following format {\"graphs\": [<chart_1>, <chart_2>, <chart_3>]} where <chart_1>, <chart_2>, and <chart_3> placeholders that describe each graph found in the image. Do not append or add anything other than the JSON format response.'\n",
        "        },\n",
        "        {\n",
        "          \"type\": \"text\",\n",
        "          \"text\": 'If could not find a graph in the image, return an empty list JSON as follows: {\"graphs\": []}. Do not append or add anything other than the JSON format response. Dont use coding \"```\" marks or the word json.'\n",
        "        },\n",
        "        {\n",
        "          \"type\": \"text\",\n",
        "          \"text\": \"Look at the attached image and describe all the graphs inside it in JSON format. Ignore tables and be concise.\"\n",
        "        }\n",
        "      ]\n",
        "    }\n",
        "  ],\n",
        "  \"max_tokens\": 1000\n",
        "}"
      ]
    },
    {
      "cell_type": "code",
      "execution_count": 14,
      "metadata": {
        "id": "8hk1jWoU6KvL"
      },
      "outputs": [],
      "source": [
        "# Function to encode the image\n",
        "def encode_image(image_path):\n",
        "  with open(image_path, \"rb\") as image_file:\n",
        "    return base64.b64encode(image_file.read()).decode('utf-8')"
      ]
    },
    {
      "cell_type": "code",
      "execution_count": 15,
      "metadata": {
        "colab": {
          "base_uri": "https://localhost:8080/"
        },
        "id": "0sUD7iZZTD-T",
        "outputId": "f31ca306-b1e4-44d1-d77a-7a87cd2b5a3f"
      },
      "outputs": [
        {
          "name": "stdout",
          "output_type": "stream",
          "text": [
            "Load the pre-proocessed graph descriptions...\n"
          ]
        }
      ],
      "source": [
        "if not preprocessed_graphs:\n",
        "  print(\"Processing the PDF and extracting graph descriptions...\")\n",
        "  graphs_description = []\n",
        "  for quarter, page_png in enumerate(pages_png):\n",
        "    tmp = []\n",
        "    for page in tqdm(page_png):\n",
        "      # Getting the base64 string\n",
        "      base64_image = encode_image(page)\n",
        "\n",
        "      # Adjust Payload\n",
        "      tmp_payload = copy.deepcopy(payload)\n",
        "      tmp_payload[\"messages\"][0][\"content\"].append({\n",
        "        \"type\": \"image_url\",\n",
        "        \"image_url\": {\n",
        "          \"url\": f\"data:image/png;base64,{base64_image}\"\n",
        "        }\n",
        "      })\n",
        "\n",
        "      try:\n",
        "        response = requests.post(\"https://api.openai.com/v1/chat/completions\", headers=headers, json=tmp_payload)\n",
        "        response = response.json()\n",
        "        graph_data = json.loads(response[\"choices\"][0][\"message\"][\"content\"])[\"graphs\"]\n",
        "        desc = [f\"{page}\\n\" + \"\\n\".join(f\"{key}: {item[key]}\" for key in item.keys()) for item in graph_data]\n",
        "        tmp.extend(desc)\n",
        "\n",
        "      except:\n",
        "        # Skip the page if there is an error.\n",
        "        print(\"Skipping... error in decoding.\")\n",
        "        continue\n",
        "\n",
        "    graphs_description.append([Element(type=\"graph\", text=str(item), source_document=f\"2023 Quarter {quarter+1} report\") for item in tmp])\n",
        "\n",
        "  with open(\"graphs_description.pkl\", \"wb\") as handle:\n",
        "    pickle.dump(graphs_description, handle)\n",
        "\n",
        "else:\n",
        "  print(\"Load the pre-proocessed graph descriptions...\")\n",
        "  with open(preprocessed_graphs, \"rb\") as file:\n",
        "      graphs_description = pickle.load(file)"
      ]
    },
    {
      "cell_type": "code",
      "execution_count": 16,
      "metadata": {
        "id": "BGOLjykkrm80"
      },
      "outputs": [],
      "source": [
        "graphs_description = [item for sublist in graphs_description for item in sublist]"
      ]
    },
    {
      "cell_type": "code",
      "execution_count": 17,
      "metadata": {
        "colab": {
          "base_uri": "https://localhost:8080/"
        },
        "id": "2aoA4TNJfzFx",
        "outputId": "418ca27a-4891-49bc-c3ea-60a8e11bfa90"
      },
      "outputs": [
        {
          "data": {
            "text/plain": [
              "(80, 40)"
            ]
          },
          "execution_count": 17,
          "metadata": {},
          "output_type": "execute_result"
        }
      ],
      "source": [
        "len(categorized_elements), len(graphs_description)"
      ]
    },
    {
      "cell_type": "markdown",
      "metadata": {
        "id": "hPAKL8LCUq3H"
      },
      "source": [
        "# Merge Text and Table with Images"
      ]
    },
    {
      "cell_type": "code",
      "execution_count": 18,
      "metadata": {
        "id": "z7rSlogDUquA"
      },
      "outputs": [],
      "source": [
        "all_docs = categorized_elements + graphs_description"
      ]
    },
    {
      "cell_type": "code",
      "execution_count": 19,
      "metadata": {
        "colab": {
          "base_uri": "https://localhost:8080/"
        },
        "id": "ww09mMCD8XNH",
        "outputId": "fbb0da36-0880-4e90-8e9b-614d2e2b58d4"
      },
      "outputs": [
        {
          "data": {
            "text/plain": [
              "120"
            ]
          },
          "execution_count": 19,
          "metadata": {},
          "output_type": "execute_result"
        }
      ],
      "source": [
        "len(all_docs)"
      ]
    },
    {
      "cell_type": "markdown",
      "metadata": {
        "id": "suQxROzspBDO"
      },
      "source": [
        "# Store on DeepLake"
      ]
    },
    {
      "cell_type": "code",
      "execution_count": 22,
      "metadata": {
        "id": "_aSHYcNppArh"
      },
      "outputs": [],
      "source": [
        "from llama_index.core import Document"
      ]
    },
    {
      "cell_type": "code",
      "execution_count": 23,
      "metadata": {
        "id": "Cvg7wPE2qip_"
      },
      "outputs": [],
      "source": [
        "documents = [Document(text=t.text, metadata={\"category\": t.type, \"source_document\": t.source_document}) for t in categorized_elements]"
      ]
    },
    {
      "cell_type": "code",
      "execution_count": 26,
      "metadata": {},
      "outputs": [
        {
          "name": "stdout",
          "output_type": "stream",
          "text": [
            "Collecting llama-index-vector-stores-deeplake\n",
            "  Using cached llama_index_vector_stores_deeplake-0.4.0-py3-none-any.whl.metadata (446 bytes)\n",
            "Requirement already satisfied: deeplake>=3.9.12 in /Users/coder/Desktop/dev/rag_for_production_activeloop/rag-for-production-with-langchain-and-llamaindex/.venv/lib/python3.12/site-packages (from llama-index-vector-stores-deeplake) (4.3.1)\n",
            "Requirement already satisfied: llama-index-core<0.14,>=0.13.0 in /Users/coder/Desktop/dev/rag_for_production_activeloop/rag-for-production-with-langchain-and-llamaindex/.venv/lib/python3.12/site-packages (from llama-index-vector-stores-deeplake) (0.13.6)\n",
            "Collecting pyjwt (from llama-index-vector-stores-deeplake)\n",
            "  Using cached PyJWT-2.10.1-py3-none-any.whl.metadata (4.0 kB)\n",
            "Requirement already satisfied: numpy in /Users/coder/Desktop/dev/rag_for_production_activeloop/rag-for-production-with-langchain-and-llamaindex/.venv/lib/python3.12/site-packages (from deeplake>=3.9.12->llama-index-vector-stores-deeplake) (2.2.6)\n",
            "Requirement already satisfied: deepframe in /Users/coder/Desktop/dev/rag_for_production_activeloop/rag-for-production-with-langchain-and-llamaindex/.venv/lib/python3.12/site-packages (from deeplake>=3.9.12->llama-index-vector-stores-deeplake) (0.1.1)\n",
            "Requirement already satisfied: aiohttp<4,>=3.8.6 in /Users/coder/Desktop/dev/rag_for_production_activeloop/rag-for-production-with-langchain-and-llamaindex/.venv/lib/python3.12/site-packages (from llama-index-core<0.14,>=0.13.0->llama-index-vector-stores-deeplake) (3.12.15)\n",
            "Requirement already satisfied: aiosqlite in /Users/coder/Desktop/dev/rag_for_production_activeloop/rag-for-production-with-langchain-and-llamaindex/.venv/lib/python3.12/site-packages (from llama-index-core<0.14,>=0.13.0->llama-index-vector-stores-deeplake) (0.21.0)\n",
            "Requirement already satisfied: banks<3,>=2.2.0 in /Users/coder/Desktop/dev/rag_for_production_activeloop/rag-for-production-with-langchain-and-llamaindex/.venv/lib/python3.12/site-packages (from llama-index-core<0.14,>=0.13.0->llama-index-vector-stores-deeplake) (2.2.0)\n",
            "Requirement already satisfied: dataclasses-json in /Users/coder/Desktop/dev/rag_for_production_activeloop/rag-for-production-with-langchain-and-llamaindex/.venv/lib/python3.12/site-packages (from llama-index-core<0.14,>=0.13.0->llama-index-vector-stores-deeplake) (0.6.7)\n",
            "Requirement already satisfied: deprecated>=1.2.9.3 in /Users/coder/Desktop/dev/rag_for_production_activeloop/rag-for-production-with-langchain-and-llamaindex/.venv/lib/python3.12/site-packages (from llama-index-core<0.14,>=0.13.0->llama-index-vector-stores-deeplake) (1.2.18)\n",
            "Requirement already satisfied: dirtyjson<2,>=1.0.8 in /Users/coder/Desktop/dev/rag_for_production_activeloop/rag-for-production-with-langchain-and-llamaindex/.venv/lib/python3.12/site-packages (from llama-index-core<0.14,>=0.13.0->llama-index-vector-stores-deeplake) (1.0.8)\n",
            "Requirement already satisfied: filetype<2,>=1.2.0 in /Users/coder/Desktop/dev/rag_for_production_activeloop/rag-for-production-with-langchain-and-llamaindex/.venv/lib/python3.12/site-packages (from llama-index-core<0.14,>=0.13.0->llama-index-vector-stores-deeplake) (1.2.0)\n",
            "Requirement already satisfied: fsspec>=2023.5.0 in /Users/coder/Desktop/dev/rag_for_production_activeloop/rag-for-production-with-langchain-and-llamaindex/.venv/lib/python3.12/site-packages (from llama-index-core<0.14,>=0.13.0->llama-index-vector-stores-deeplake) (2025.9.0)\n",
            "Requirement already satisfied: httpx in /Users/coder/Desktop/dev/rag_for_production_activeloop/rag-for-production-with-langchain-and-llamaindex/.venv/lib/python3.12/site-packages (from llama-index-core<0.14,>=0.13.0->llama-index-vector-stores-deeplake) (0.28.1)\n",
            "Requirement already satisfied: llama-index-workflows<2,>=1.0.1 in /Users/coder/Desktop/dev/rag_for_production_activeloop/rag-for-production-with-langchain-and-llamaindex/.venv/lib/python3.12/site-packages (from llama-index-core<0.14,>=0.13.0->llama-index-vector-stores-deeplake) (1.3.0)\n",
            "Requirement already satisfied: nest-asyncio<2,>=1.5.8 in /Users/coder/Desktop/dev/rag_for_production_activeloop/rag-for-production-with-langchain-and-llamaindex/.venv/lib/python3.12/site-packages (from llama-index-core<0.14,>=0.13.0->llama-index-vector-stores-deeplake) (1.6.0)\n",
            "Requirement already satisfied: networkx>=3.0 in /Users/coder/Desktop/dev/rag_for_production_activeloop/rag-for-production-with-langchain-and-llamaindex/.venv/lib/python3.12/site-packages (from llama-index-core<0.14,>=0.13.0->llama-index-vector-stores-deeplake) (3.5)\n",
            "Requirement already satisfied: nltk>3.8.1 in /Users/coder/Desktop/dev/rag_for_production_activeloop/rag-for-production-with-langchain-and-llamaindex/.venv/lib/python3.12/site-packages (from llama-index-core<0.14,>=0.13.0->llama-index-vector-stores-deeplake) (3.9.1)\n",
            "Requirement already satisfied: pillow>=9.0.0 in /Users/coder/Desktop/dev/rag_for_production_activeloop/rag-for-production-with-langchain-and-llamaindex/.venv/lib/python3.12/site-packages (from llama-index-core<0.14,>=0.13.0->llama-index-vector-stores-deeplake) (11.3.0)\n",
            "Requirement already satisfied: platformdirs in /Users/coder/Desktop/dev/rag_for_production_activeloop/rag-for-production-with-langchain-and-llamaindex/.venv/lib/python3.12/site-packages (from llama-index-core<0.14,>=0.13.0->llama-index-vector-stores-deeplake) (4.4.0)\n",
            "Requirement already satisfied: pydantic>=2.8.0 in /Users/coder/Desktop/dev/rag_for_production_activeloop/rag-for-production-with-langchain-and-llamaindex/.venv/lib/python3.12/site-packages (from llama-index-core<0.14,>=0.13.0->llama-index-vector-stores-deeplake) (2.11.7)\n",
            "Requirement already satisfied: pyyaml>=6.0.1 in /Users/coder/Desktop/dev/rag_for_production_activeloop/rag-for-production-with-langchain-and-llamaindex/.venv/lib/python3.12/site-packages (from llama-index-core<0.14,>=0.13.0->llama-index-vector-stores-deeplake) (6.0.2)\n",
            "Requirement already satisfied: requests>=2.31.0 in /Users/coder/Desktop/dev/rag_for_production_activeloop/rag-for-production-with-langchain-and-llamaindex/.venv/lib/python3.12/site-packages (from llama-index-core<0.14,>=0.13.0->llama-index-vector-stores-deeplake) (2.32.5)\n",
            "Requirement already satisfied: setuptools>=80.9.0 in /Users/coder/Desktop/dev/rag_for_production_activeloop/rag-for-production-with-langchain-and-llamaindex/.venv/lib/python3.12/site-packages (from llama-index-core<0.14,>=0.13.0->llama-index-vector-stores-deeplake) (80.9.0)\n",
            "Requirement already satisfied: sqlalchemy>=1.4.49 in /Users/coder/Desktop/dev/rag_for_production_activeloop/rag-for-production-with-langchain-and-llamaindex/.venv/lib/python3.12/site-packages (from sqlalchemy[asyncio]>=1.4.49->llama-index-core<0.14,>=0.13.0->llama-index-vector-stores-deeplake) (2.0.43)\n",
            "Requirement already satisfied: tenacity!=8.4.0,<10.0.0,>=8.2.0 in /Users/coder/Desktop/dev/rag_for_production_activeloop/rag-for-production-with-langchain-and-llamaindex/.venv/lib/python3.12/site-packages (from llama-index-core<0.14,>=0.13.0->llama-index-vector-stores-deeplake) (9.1.2)\n",
            "Requirement already satisfied: tiktoken>=0.7.0 in /Users/coder/Desktop/dev/rag_for_production_activeloop/rag-for-production-with-langchain-and-llamaindex/.venv/lib/python3.12/site-packages (from llama-index-core<0.14,>=0.13.0->llama-index-vector-stores-deeplake) (0.11.0)\n",
            "Requirement already satisfied: tqdm<5,>=4.66.1 in /Users/coder/Desktop/dev/rag_for_production_activeloop/rag-for-production-with-langchain-and-llamaindex/.venv/lib/python3.12/site-packages (from llama-index-core<0.14,>=0.13.0->llama-index-vector-stores-deeplake) (4.67.1)\n",
            "Requirement already satisfied: typing-extensions>=4.5.0 in /Users/coder/Desktop/dev/rag_for_production_activeloop/rag-for-production-with-langchain-and-llamaindex/.venv/lib/python3.12/site-packages (from llama-index-core<0.14,>=0.13.0->llama-index-vector-stores-deeplake) (4.15.0)\n",
            "Requirement already satisfied: typing-inspect>=0.8.0 in /Users/coder/Desktop/dev/rag_for_production_activeloop/rag-for-production-with-langchain-and-llamaindex/.venv/lib/python3.12/site-packages (from llama-index-core<0.14,>=0.13.0->llama-index-vector-stores-deeplake) (0.9.0)\n",
            "Requirement already satisfied: wrapt in /Users/coder/Desktop/dev/rag_for_production_activeloop/rag-for-production-with-langchain-and-llamaindex/.venv/lib/python3.12/site-packages (from llama-index-core<0.14,>=0.13.0->llama-index-vector-stores-deeplake) (1.17.3)\n",
            "Requirement already satisfied: aiohappyeyeballs>=2.5.0 in /Users/coder/Desktop/dev/rag_for_production_activeloop/rag-for-production-with-langchain-and-llamaindex/.venv/lib/python3.12/site-packages (from aiohttp<4,>=3.8.6->llama-index-core<0.14,>=0.13.0->llama-index-vector-stores-deeplake) (2.6.1)\n",
            "Requirement already satisfied: aiosignal>=1.4.0 in /Users/coder/Desktop/dev/rag_for_production_activeloop/rag-for-production-with-langchain-and-llamaindex/.venv/lib/python3.12/site-packages (from aiohttp<4,>=3.8.6->llama-index-core<0.14,>=0.13.0->llama-index-vector-stores-deeplake) (1.4.0)\n",
            "Requirement already satisfied: attrs>=17.3.0 in /Users/coder/Desktop/dev/rag_for_production_activeloop/rag-for-production-with-langchain-and-llamaindex/.venv/lib/python3.12/site-packages (from aiohttp<4,>=3.8.6->llama-index-core<0.14,>=0.13.0->llama-index-vector-stores-deeplake) (25.3.0)\n",
            "Requirement already satisfied: frozenlist>=1.1.1 in /Users/coder/Desktop/dev/rag_for_production_activeloop/rag-for-production-with-langchain-and-llamaindex/.venv/lib/python3.12/site-packages (from aiohttp<4,>=3.8.6->llama-index-core<0.14,>=0.13.0->llama-index-vector-stores-deeplake) (1.7.0)\n",
            "Requirement already satisfied: multidict<7.0,>=4.5 in /Users/coder/Desktop/dev/rag_for_production_activeloop/rag-for-production-with-langchain-and-llamaindex/.venv/lib/python3.12/site-packages (from aiohttp<4,>=3.8.6->llama-index-core<0.14,>=0.13.0->llama-index-vector-stores-deeplake) (6.6.4)\n",
            "Requirement already satisfied: propcache>=0.2.0 in /Users/coder/Desktop/dev/rag_for_production_activeloop/rag-for-production-with-langchain-and-llamaindex/.venv/lib/python3.12/site-packages (from aiohttp<4,>=3.8.6->llama-index-core<0.14,>=0.13.0->llama-index-vector-stores-deeplake) (0.3.2)\n",
            "Requirement already satisfied: yarl<2.0,>=1.17.0 in /Users/coder/Desktop/dev/rag_for_production_activeloop/rag-for-production-with-langchain-and-llamaindex/.venv/lib/python3.12/site-packages (from aiohttp<4,>=3.8.6->llama-index-core<0.14,>=0.13.0->llama-index-vector-stores-deeplake) (1.20.1)\n",
            "Requirement already satisfied: griffe in /Users/coder/Desktop/dev/rag_for_production_activeloop/rag-for-production-with-langchain-and-llamaindex/.venv/lib/python3.12/site-packages (from banks<3,>=2.2.0->llama-index-core<0.14,>=0.13.0->llama-index-vector-stores-deeplake) (1.14.0)\n",
            "Requirement already satisfied: jinja2 in /Users/coder/Desktop/dev/rag_for_production_activeloop/rag-for-production-with-langchain-and-llamaindex/.venv/lib/python3.12/site-packages (from banks<3,>=2.2.0->llama-index-core<0.14,>=0.13.0->llama-index-vector-stores-deeplake) (3.1.6)\n",
            "Requirement already satisfied: llama-index-instrumentation>=0.1.0 in /Users/coder/Desktop/dev/rag_for_production_activeloop/rag-for-production-with-langchain-and-llamaindex/.venv/lib/python3.12/site-packages (from llama-index-workflows<2,>=1.0.1->llama-index-core<0.14,>=0.13.0->llama-index-vector-stores-deeplake) (0.4.0)\n",
            "Requirement already satisfied: click in /Users/coder/Desktop/dev/rag_for_production_activeloop/rag-for-production-with-langchain-and-llamaindex/.venv/lib/python3.12/site-packages (from nltk>3.8.1->llama-index-core<0.14,>=0.13.0->llama-index-vector-stores-deeplake) (8.2.1)\n",
            "Requirement already satisfied: joblib in /Users/coder/Desktop/dev/rag_for_production_activeloop/rag-for-production-with-langchain-and-llamaindex/.venv/lib/python3.12/site-packages (from nltk>3.8.1->llama-index-core<0.14,>=0.13.0->llama-index-vector-stores-deeplake) (1.5.2)\n",
            "Requirement already satisfied: regex>=2021.8.3 in /Users/coder/Desktop/dev/rag_for_production_activeloop/rag-for-production-with-langchain-and-llamaindex/.venv/lib/python3.12/site-packages (from nltk>3.8.1->llama-index-core<0.14,>=0.13.0->llama-index-vector-stores-deeplake) (2025.9.1)\n",
            "Requirement already satisfied: annotated-types>=0.6.0 in /Users/coder/Desktop/dev/rag_for_production_activeloop/rag-for-production-with-langchain-and-llamaindex/.venv/lib/python3.12/site-packages (from pydantic>=2.8.0->llama-index-core<0.14,>=0.13.0->llama-index-vector-stores-deeplake) (0.7.0)\n",
            "Requirement already satisfied: pydantic-core==2.33.2 in /Users/coder/Desktop/dev/rag_for_production_activeloop/rag-for-production-with-langchain-and-llamaindex/.venv/lib/python3.12/site-packages (from pydantic>=2.8.0->llama-index-core<0.14,>=0.13.0->llama-index-vector-stores-deeplake) (2.33.2)\n",
            "Requirement already satisfied: typing-inspection>=0.4.0 in /Users/coder/Desktop/dev/rag_for_production_activeloop/rag-for-production-with-langchain-and-llamaindex/.venv/lib/python3.12/site-packages (from pydantic>=2.8.0->llama-index-core<0.14,>=0.13.0->llama-index-vector-stores-deeplake) (0.4.1)\n",
            "Requirement already satisfied: charset_normalizer<4,>=2 in /Users/coder/Desktop/dev/rag_for_production_activeloop/rag-for-production-with-langchain-and-llamaindex/.venv/lib/python3.12/site-packages (from requests>=2.31.0->llama-index-core<0.14,>=0.13.0->llama-index-vector-stores-deeplake) (3.4.3)\n",
            "Requirement already satisfied: idna<4,>=2.5 in /Users/coder/Desktop/dev/rag_for_production_activeloop/rag-for-production-with-langchain-and-llamaindex/.venv/lib/python3.12/site-packages (from requests>=2.31.0->llama-index-core<0.14,>=0.13.0->llama-index-vector-stores-deeplake) (3.10)\n",
            "Requirement already satisfied: urllib3<3,>=1.21.1 in /Users/coder/Desktop/dev/rag_for_production_activeloop/rag-for-production-with-langchain-and-llamaindex/.venv/lib/python3.12/site-packages (from requests>=2.31.0->llama-index-core<0.14,>=0.13.0->llama-index-vector-stores-deeplake) (2.5.0)\n",
            "Requirement already satisfied: certifi>=2017.4.17 in /Users/coder/Desktop/dev/rag_for_production_activeloop/rag-for-production-with-langchain-and-llamaindex/.venv/lib/python3.12/site-packages (from requests>=2.31.0->llama-index-core<0.14,>=0.13.0->llama-index-vector-stores-deeplake) (2025.8.3)\n",
            "Requirement already satisfied: greenlet>=1 in /Users/coder/Desktop/dev/rag_for_production_activeloop/rag-for-production-with-langchain-and-llamaindex/.venv/lib/python3.12/site-packages (from sqlalchemy[asyncio]>=1.4.49->llama-index-core<0.14,>=0.13.0->llama-index-vector-stores-deeplake) (3.2.4)\n",
            "Requirement already satisfied: mypy-extensions>=0.3.0 in /Users/coder/Desktop/dev/rag_for_production_activeloop/rag-for-production-with-langchain-and-llamaindex/.venv/lib/python3.12/site-packages (from typing-inspect>=0.8.0->llama-index-core<0.14,>=0.13.0->llama-index-vector-stores-deeplake) (1.1.0)\n",
            "Requirement already satisfied: marshmallow<4.0.0,>=3.18.0 in /Users/coder/Desktop/dev/rag_for_production_activeloop/rag-for-production-with-langchain-and-llamaindex/.venv/lib/python3.12/site-packages (from dataclasses-json->llama-index-core<0.14,>=0.13.0->llama-index-vector-stores-deeplake) (3.26.1)\n",
            "Requirement already satisfied: anyio in /Users/coder/Desktop/dev/rag_for_production_activeloop/rag-for-production-with-langchain-and-llamaindex/.venv/lib/python3.12/site-packages (from httpx->llama-index-core<0.14,>=0.13.0->llama-index-vector-stores-deeplake) (4.10.0)\n",
            "Requirement already satisfied: httpcore==1.* in /Users/coder/Desktop/dev/rag_for_production_activeloop/rag-for-production-with-langchain-and-llamaindex/.venv/lib/python3.12/site-packages (from httpx->llama-index-core<0.14,>=0.13.0->llama-index-vector-stores-deeplake) (1.0.9)\n",
            "Requirement already satisfied: h11>=0.16 in /Users/coder/Desktop/dev/rag_for_production_activeloop/rag-for-production-with-langchain-and-llamaindex/.venv/lib/python3.12/site-packages (from httpcore==1.*->httpx->llama-index-core<0.14,>=0.13.0->llama-index-vector-stores-deeplake) (0.16.0)\n",
            "Requirement already satisfied: packaging>=17.0 in /Users/coder/Desktop/dev/rag_for_production_activeloop/rag-for-production-with-langchain-and-llamaindex/.venv/lib/python3.12/site-packages (from marshmallow<4.0.0,>=3.18.0->dataclasses-json->llama-index-core<0.14,>=0.13.0->llama-index-vector-stores-deeplake) (25.0)\n",
            "Requirement already satisfied: sniffio>=1.1 in /Users/coder/Desktop/dev/rag_for_production_activeloop/rag-for-production-with-langchain-and-llamaindex/.venv/lib/python3.12/site-packages (from anyio->httpx->llama-index-core<0.14,>=0.13.0->llama-index-vector-stores-deeplake) (1.3.1)\n",
            "Requirement already satisfied: colorama>=0.4 in /Users/coder/Desktop/dev/rag_for_production_activeloop/rag-for-production-with-langchain-and-llamaindex/.venv/lib/python3.12/site-packages (from griffe->banks<3,>=2.2.0->llama-index-core<0.14,>=0.13.0->llama-index-vector-stores-deeplake) (0.4.6)\n",
            "Requirement already satisfied: MarkupSafe>=2.0 in /Users/coder/Desktop/dev/rag_for_production_activeloop/rag-for-production-with-langchain-and-llamaindex/.venv/lib/python3.12/site-packages (from jinja2->banks<3,>=2.2.0->llama-index-core<0.14,>=0.13.0->llama-index-vector-stores-deeplake) (3.0.2)\n",
            "Using cached llama_index_vector_stores_deeplake-0.4.0-py3-none-any.whl (8.7 kB)\n",
            "Using cached PyJWT-2.10.1-py3-none-any.whl (22 kB)\n",
            "Installing collected packages: pyjwt, llama-index-vector-stores-deeplake\n",
            "Successfully installed llama-index-vector-stores-deeplake-0.4.0 pyjwt-2.10.1\n",
            "\n",
            "\u001b[1m[\u001b[0m\u001b[34;49mnotice\u001b[0m\u001b[1;39;49m]\u001b[0m\u001b[39;49m A new release of pip is available: \u001b[0m\u001b[31;49m24.0\u001b[0m\u001b[39;49m -> \u001b[0m\u001b[32;49m25.2\u001b[0m\n",
            "\u001b[1m[\u001b[0m\u001b[34;49mnotice\u001b[0m\u001b[1;39;49m]\u001b[0m\u001b[39;49m To update, run: \u001b[0m\u001b[32;49mpip install --upgrade pip\u001b[0m\n",
            "Note: you may need to restart the kernel to use updated packages.\n"
          ]
        }
      ],
      "source": [
        "%pip install llama-index-vector-stores-deeplake"
      ]
    },
    {
      "cell_type": "code",
      "execution_count": null,
      "metadata": {
        "id": "tGwrkZJixOBl"
      },
      "outputs": [],
      "source": [
        "from llama_index.vector_stores.deeplake import DeepLakeVectorStore\n",
        "from llama_index.core import StorageContext\n",
        "from llama_index.core import VectorStoreIndex\n",
        "\n",
        "\n",
        "# Create an index over the documents - excluding graph data\n",
        "vector_store = DeepLakeVectorStore(\n",
        "    dataset_path=\"hub://yaroslava/tesla_quarterly_2023-nographs\",\n",
        "    runtime={\"tensor_db\": True},\n",
        "    overwrite=False\n",
        ")\n",
        "storage_context = StorageContext.from_defaults(vector_store=vector_store)\n",
        "index = VectorStoreIndex.from_documents(\n",
        "    documents, storage_context=storage_context\n",
        ")"
      ]
    },
    {
      "cell_type": "markdown",
      "metadata": {
        "id": "LdBnQdZp9zgp"
      },
      "source": [
        "# Inference (No Graph)"
      ]
    },
    {
      "cell_type": "code",
      "execution_count": 31,
      "metadata": {
        "id": "iaXudyfPvW8H"
      },
      "outputs": [],
      "source": [
        "from llama_index.vector_stores.deeplake import DeepLakeVectorStore\n",
        "from llama_index.core import StorageContext\n",
        "from llama_index.core import VectorStoreIndex"
      ]
    },
    {
      "cell_type": "code",
      "execution_count": 32,
      "metadata": {
        "colab": {
          "base_uri": "https://localhost:8080/"
        },
        "id": "JNq0nPXXvB_h",
        "outputId": "4dec0b0d-9428-4e13-eaa6-48c6c18dbec5"
      },
      "outputs": [
        {
          "name": "stderr",
          "output_type": "stream",
          "text": [
            "[S3] Failed to get bucket region for URL: snark-hub/protected/yaroslava/tesla_quarterly_2023-nographs/ with error: [S3] INVALID_ACCESS_KEY_ID snark-hub The AWS Access Key Id you provided does not exist in our records. \n"
          ]
        }
      ],
      "source": [
        "vector_store = DeepLakeVectorStore(dataset_path=\"hub://yaroslava/tesla_quarterly_2023-nographs\", overwrite=False)\n",
        "storage_context = StorageContext.from_defaults(vector_store=vector_store)\n",
        "\n",
        "index = VectorStoreIndex.from_vector_store(\n",
        "    vector_store, storage_context=storage_context\n",
        ")"
      ]
    },
    {
      "cell_type": "code",
      "execution_count": null,
      "metadata": {
        "id": "h50fUHy02ph8"
      },
      "outputs": [],
      "source": [
        "query_engine = index.as_query_engine()"
      ]
    },
    {
      "cell_type": "code",
      "execution_count": null,
      "metadata": {
        "id": "e821I0Kl29su"
      },
      "outputs": [],
      "source": [
        "response = query_engine.query(\n",
        "    \"What are the trends in vehicle deliveries on quarter 3?\"\n",
        ")"
      ]
    },
    {
      "cell_type": "code",
      "execution_count": null,
      "metadata": {
        "colab": {
          "base_uri": "https://localhost:8080/",
          "height": 71
        },
        "id": "jk45x0iUjUj_",
        "outputId": "3f56ce8b-7717-4814-f423-bf14eb71b99a"
      },
      "outputs": [
        {
          "data": {
            "text/plain": [
              "'Vehicle deliveries in quarter 3 showed a decrease compared to the previous quarter, with Model S/X deliveries declining by 16% and Model 3/Y deliveries decreasing by 6%. Overall, total deliveries in quarter 3 were down by 7% compared to quarter 2.'"
            ]
          },
          "execution_count": 35,
          "metadata": {},
          "output_type": "execute_result"
        }
      ],
      "source": [
        "response.response"
      ]
    },
    {
      "cell_type": "markdown",
      "metadata": {},
      "source": [
        "![image](attachment:image.png)"
      ]
    },
    {
      "cell_type": "markdown",
      "metadata": {
        "id": "TZTomt72QgSF"
      },
      "source": [
        "# Create Dataset With Graphs"
      ]
    },
    {
      "cell_type": "code",
      "execution_count": null,
      "metadata": {
        "colab": {
          "base_uri": "https://localhost:8080/"
        },
        "id": "6z_nTK-qQWaE",
        "outputId": "36ed6d3c-25b4-4d61-c516-e66c9da8470c"
      },
      "outputs": [
        {
          "name": "stderr",
          "output_type": "stream",
          "text": [
            "[S3] Failed to get bucket region for URL: snark-hub/protected/yaroslava/tesla_quarterly_2023/ with error: [S3] INVALID_ACCESS_KEY_ID snark-hub The AWS Access Key Id you provided does not exist in our records. \n",
            "[S3] Failed to get bucket region for URL: snark-hub/protected/yaroslava/tesla_quarterly_2023/ with error: [S3] INVALID_ACCESS_KEY_ID snark-hub The AWS Access Key Id you provided does not exist in our records. \n"
          ]
        }
      ],
      "source": [
        "all_docs = [Document(text=t.text, metadata={\"category\": t.type, \"source_document\": t.source_document}) for t in all_docs]\n",
        "vector_store = DeepLakeVectorStore(\n",
        "    dataset_path=\"hub://yaroslava/tesla_quarterly_2023\",\n",
        "    runtime={\"tensor_db\": True},\n",
        "    overwrite=False\n",
        ")\n",
        "storage_context = StorageContext.from_defaults(vector_store=vector_store)\n",
        "index = VectorStoreIndex.from_documents(\n",
        "    all_docs, storage_context=storage_context\n",
        ")"
      ]
    },
    {
      "cell_type": "markdown",
      "metadata": {
        "id": "nr2Hc6sAv5fc"
      },
      "source": [
        "## Inference (With Graph)"
      ]
    },
    {
      "cell_type": "code",
      "execution_count": 40,
      "metadata": {
        "colab": {
          "base_uri": "https://localhost:8080/"
        },
        "id": "-Yf3232Wiqkg",
        "outputId": "cd3918c8-83b8-48f5-aba3-4f42ff5db0c2"
      },
      "outputs": [
        {
          "name": "stderr",
          "output_type": "stream",
          "text": [
            "[S3] Failed to get bucket region for URL: snark-hub/protected/yaroslava/tesla_quarterly_2023/ with error: [S3] INVALID_ACCESS_KEY_ID snark-hub The AWS Access Key Id you provided does not exist in our records. \n"
          ]
        }
      ],
      "source": [
        "vector_store = DeepLakeVectorStore(dataset_path=\"hub://yaroslava/tesla_quarterly_2023\", overwrite=False)\n",
        "storage_context = StorageContext.from_defaults(vector_store=vector_store)\n",
        "index = VectorStoreIndex.from_vector_store(\n",
        "    vector_store, storage_context=storage_context\n",
        ")"
      ]
    },
    {
      "cell_type": "code",
      "execution_count": 41,
      "metadata": {
        "id": "RXnx-lp04I8p"
      },
      "outputs": [],
      "source": [
        "query_engine = index.as_query_engine()"
      ]
    },
    {
      "cell_type": "code",
      "execution_count": 42,
      "metadata": {
        "id": "6VMKXLndwFK0"
      },
      "outputs": [],
      "source": [
        "response = query_engine.query(\n",
        "    \"What are the trends in vehicle deliveries on quarter 3 report?\"\n",
        ")"
      ]
    },
    {
      "cell_type": "code",
      "execution_count": 43,
      "metadata": {
        "colab": {
          "base_uri": "https://localhost:8080/",
          "height": 35
        },
        "id": "Zw-eHs6pkT1a",
        "outputId": "a91c9992-c88a-47e7-87b6-7a0596df88f2"
      },
      "outputs": [
        {
          "data": {
            "text/plain": [
              "'The trends in vehicle deliveries on the quarter 3 report show a consistent increase in the number of units delivered over the quarters from Q4 2020 to Q3 2023.'"
            ]
          },
          "execution_count": 43,
          "metadata": {},
          "output_type": "execute_result"
        }
      ],
      "source": [
        "response.response"
      ]
    },
    {
      "cell_type": "markdown",
      "metadata": {
        "id": "YecKyFtCv5kl"
      },
      "source": [
        "# Environment Snapshot"
      ]
    },
    {
      "cell_type": "code",
      "execution_count": 26,
      "metadata": {
        "colab": {
          "base_uri": "https://localhost:8080/"
        },
        "id": "zvcfvTo7wFAH",
        "outputId": "cee0525f-6aa8-4c90-ba34-5e580565ee32"
      },
      "outputs": [
        {
          "name": "stdout",
          "output_type": "stream",
          "text": [
            "Package                                 Version\n",
            "--------------------------------------- ---------------\n",
            "absl-py                                 2.3.1\n",
            "accelerate                              1.10.1\n",
            "aiofiles                                24.1.0\n",
            "aiohappyeyeballs                        2.6.1\n",
            "aiohttp                                 3.12.15\n",
            "aiosignal                               1.4.0\n",
            "aiosqlite                               0.21.0\n",
            "annotated-types                         0.7.0\n",
            "antlr4-python3-runtime                  4.9.3\n",
            "anyio                                   4.10.0\n",
            "appnope                                 0.1.4\n",
            "asttokens                               3.0.0\n",
            "attrs                                   25.3.0\n",
            "backoff                                 2.2.1\n",
            "banks                                   2.2.0\n",
            "beautifulsoup4                          4.13.5\n",
            "cachetools                              5.5.2\n",
            "certifi                                 2025.8.3\n",
            "cffi                                    1.17.1\n",
            "charset-normalizer                      3.4.3\n",
            "choreographer                           1.0.10\n",
            "click                                   8.2.1\n",
            "cloudpickle                             3.1.1\n",
            "cohere                                  5.17.0\n",
            "colorama                                0.4.6\n",
            "coloredlogs                             15.0.1\n",
            "comm                                    0.2.3\n",
            "contourpy                               1.3.3\n",
            "cryptography                            45.0.7\n",
            "cycler                                  0.12.1\n",
            "dataclasses-json                        0.6.7\n",
            "debugpy                                 1.8.16\n",
            "decorator                               5.2.1\n",
            "deepframe                               0.1.1\n",
            "deeplake                                4.3.1\n",
            "defusedxml                              0.7.1\n",
            "Deprecated                              1.2.18\n",
            "dirtyjson                               1.0.8\n",
            "distro                                  1.9.0\n",
            "dm-tree                                 0.1.9\n",
            "dotenv                                  0.9.9\n",
            "effdet                                  0.4.1\n",
            "emoji                                   2.14.1\n",
            "et_xmlfile                              2.0.0\n",
            "executing                               2.2.1\n",
            "fastapi                                 0.116.1\n",
            "fastavro                                1.12.0\n",
            "filelock                                3.19.1\n",
            "filetype                                1.2.0\n",
            "flatbuffers                             25.2.10\n",
            "fonttools                               4.59.2\n",
            "frozenlist                              1.7.0\n",
            "fsspec                                  2025.9.0\n",
            "gast                                    0.6.0\n",
            "google-api-core                         2.25.1\n",
            "google-auth                             2.40.3\n",
            "google-cloud-vision                     3.10.2\n",
            "googleapis-common-protos                1.70.0\n",
            "greenlet                                3.2.4\n",
            "griffe                                  1.13.0\n",
            "grpcio                                  1.74.0\n",
            "grpcio-status                           1.74.0\n",
            "h11                                     0.16.0\n",
            "hf-xet                                  1.1.9\n",
            "html5lib                                1.1\n",
            "httpcore                                1.0.9\n",
            "httpx                                   0.28.1\n",
            "httpx-sse                               0.4.0\n",
            "huggingface-hub                         0.34.4\n",
            "humanfriendly                           10.0\n",
            "idna                                    3.10\n",
            "imageio                                 2.37.0\n",
            "ipykernel                               6.30.1\n",
            "ipython                                 9.5.0\n",
            "ipython_pygments_lexers                 1.1.1\n",
            "jedi                                    0.19.2\n",
            "Jinja2                                  3.1.6\n",
            "jiter                                   0.10.0\n",
            "joblib                                  1.5.2\n",
            "jupyter_client                          8.6.3\n",
            "jupyter_core                            5.8.1\n",
            "kaleido                                 1.0.0\n",
            "kiwisolver                              1.4.9\n",
            "langdetect                              1.0.9\n",
            "llama-cloud                             0.1.35\n",
            "llama-cloud-services                    0.6.54\n",
            "llama-index                             0.13.5\n",
            "llama-index-agent-openai                0.4.12\n",
            "llama-index-agent-openai-legacy         0.3.4\n",
            "llama-index-cli                         0.5.0\n",
            "llama-index-core                        0.12.52.post1\n",
            "llama-index-embeddings-openai           0.5.0\n",
            "llama-index-indices-managed-llama-cloud 0.9.3\n",
            "llama-index-instrumentation             0.4.0\n",
            "llama-index-llms-openai                 0.4.7\n",
            "llama-index-readers-file                0.5.3\n",
            "llama-index-readers-llama-parse         0.5.0\n",
            "llama-index-vector-stores-deeplake      0.4.0\n",
            "llama-index-workflows                   1.3.0\n",
            "llama-parse                             0.6.54\n",
            "logistro                                1.1.0\n",
            "lxml                                    6.0.1\n",
            "Markdown                                3.9\n",
            "MarkupSafe                              3.0.2\n",
            "marshmallow                             3.26.1\n",
            "matplotlib                              3.10.6\n",
            "matplotlib-inline                       0.1.7\n",
            "ml_dtypes                               0.5.3\n",
            "mpmath                                  1.3.0\n",
            "msoffcrypto-tool                        5.4.2\n",
            "multidict                               6.6.4\n",
            "mypy_extensions                         1.1.0\n",
            "nest-asyncio                            1.6.0\n",
            "networkx                                3.5\n",
            "nltk                                    3.9.1\n",
            "numpy                                   2.2.6\n",
            "olefile                                 0.47\n",
            "omegaconf                               2.3.0\n",
            "onnx                                    1.19.0\n",
            "onnxruntime                             1.22.1\n",
            "openai                                  1.106.1\n",
            "opencv-python                           4.12.0.88\n",
            "openpyxl                                3.1.5\n",
            "orjson                                  3.11.3\n",
            "packaging                               25.0\n",
            "pandas                                  2.2.3\n",
            "parso                                   0.8.5\n",
            "pdf2image                               1.17.0\n",
            "pdfminer.six                            20250506\n",
            "pexpect                                 4.9.0\n",
            "pi_heif                                 1.1.0\n",
            "pikepdf                                 9.10.2\n",
            "pillow                                  11.3.0\n",
            "pip                                     24.0\n",
            "platformdirs                            4.4.0\n",
            "prompt_toolkit                          3.0.52\n",
            "propcache                               0.3.2\n",
            "proto-plus                              1.26.1\n",
            "protobuf                                6.32.0\n",
            "psutil                                  7.0.0\n",
            "ptyprocess                              0.7.0\n",
            "pure_eval                               0.2.3\n",
            "pyasn1                                  0.6.1\n",
            "pyasn1_modules                          0.4.2\n",
            "pycocotools                             2.0.10\n",
            "pycparser                               2.22\n",
            "pydantic                                2.11.7\n",
            "pydantic_core                           2.33.2\n",
            "Pygments                                2.19.2\n",
            "PyJWT                                   2.10.1\n",
            "pypandoc                                1.15\n",
            "pyparsing                               3.2.3\n",
            "pypdf                                   6.0.0\n",
            "pypdfium2                               4.30.0\n",
            "python-dateutil                         2.9.0.post0\n",
            "python-docx                             1.2.0\n",
            "python-dotenv                           1.1.1\n",
            "python-iso639                           2025.2.18\n",
            "python-magic                            0.4.27\n",
            "python-multipart                        0.0.20\n",
            "python-oxmsg                            0.0.2\n",
            "python-pptx                             1.0.2\n",
            "pytz                                    2025.2\n",
            "PyYAML                                  6.0.2\n",
            "pyzmq                                   27.0.2\n",
            "RapidFuzz                               3.14.0\n",
            "regex                                   2025.9.1\n",
            "requests                                2.32.5\n",
            "requests-toolbelt                       1.0.0\n",
            "rsa                                     4.9.1\n",
            "safetensors                             0.6.2\n",
            "scikit-learn                            1.7.1\n",
            "scipy                                   1.16.1\n",
            "sentence-transformers                   5.1.0\n",
            "setuptools                              80.9.0\n",
            "simplejson                              3.20.1\n",
            "six                                     1.17.0\n",
            "sniffio                                 1.3.1\n",
            "soupsieve                               2.8\n",
            "SQLAlchemy                              2.0.43\n",
            "stack-data                              0.6.3\n",
            "starlette                               0.47.3\n",
            "striprtf                                0.0.26\n",
            "sympy                                   1.14.0\n",
            "tenacity                                9.1.2\n",
            "tensorflow-probability                  0.25.0\n",
            "threadpoolctl                           3.6.0\n",
            "tiktoken                                0.11.0\n",
            "timm                                    1.0.19\n",
            "tokenizers                              0.22.0\n",
            "torch                                   2.8.0\n",
            "torchaudio                              2.8.0\n",
            "torchvision                             0.23.0\n",
            "tornado                                 6.5.2\n",
            "tqdm                                    4.67.1\n",
            "traitlets                               5.14.3\n",
            "transformers                            4.56.1\n",
            "types-requests                          2.32.4.20250809\n",
            "typing_extensions                       4.15.0\n",
            "typing-inspect                          0.9.0\n",
            "typing-inspection                       0.4.1\n",
            "tzdata                                  2025.2\n",
            "unstructured                            0.18.14\n",
            "unstructured-client                     0.42.3\n",
            "unstructured-inference                  1.0.5\n",
            "unstructured.pytesseract                0.3.15\n",
            "urllib3                                 2.5.0\n",
            "uvicorn                                 0.35.0\n",
            "wcwidth                                 0.2.13\n",
            "webencodings                            0.5.1\n",
            "wrapt                                   1.17.3\n",
            "xlrd                                    2.0.2\n",
            "xlsxwriter                              3.2.5\n",
            "yarl                                    1.20.1\n",
            "\n",
            "\u001b[1m[\u001b[0m\u001b[34;49mnotice\u001b[0m\u001b[1;39;49m]\u001b[0m\u001b[39;49m A new release of pip is available: \u001b[0m\u001b[31;49m24.0\u001b[0m\u001b[39;49m -> \u001b[0m\u001b[32;49m25.2\u001b[0m\n",
            "\u001b[1m[\u001b[0m\u001b[34;49mnotice\u001b[0m\u001b[1;39;49m]\u001b[0m\u001b[39;49m To update, run: \u001b[0m\u001b[32;49mpip install --upgrade pip\u001b[0m\n",
            "Note: you may need to restart the kernel to use updated packages.\n"
          ]
        }
      ],
      "source": [
        "%pip list"
      ]
    }
  ],
  "metadata": {
    "colab": {
      "collapsed_sections": [
        "YecKyFtCv5kl"
      ],
      "provenance": []
    },
    "kernelspec": {
      "display_name": ".venv",
      "language": "python",
      "name": "python3"
    },
    "language_info": {
      "codemirror_mode": {
        "name": "ipython",
        "version": 3
      },
      "file_extension": ".py",
      "mimetype": "text/x-python",
      "name": "python",
      "nbconvert_exporter": "python",
      "pygments_lexer": "ipython3",
      "version": "3.12.2"
    }
  },
  "nbformat": 4,
  "nbformat_minor": 0
}
