{
  "cells": [
    {
      "cell_type": "markdown",
      "metadata": {
        "id": "Fv9e2I1w-SLF"
      },
      "source": [
        "# Optimizing RAG with LlamaIndex\n",
        "We will improve a Retrieval-Augmented Generation (RAG) system using LlamaIndex. Here is the plan:\n",
        "\n",
        "- <u>Adjusting TOP_K Retrieval:</u>\n",
        "Trying out TOP_K values [1, 3, 5, 7] to see the impact on the retrieved information and the generated answers.\n",
        "\n",
        "- <u>Testing Different Embedding Models:</u>\n",
        "Comparing models like \"text-embedding-ada-002\", and \"cohere/embed-english-v3.0\" to find the one that gives the best results.\n",
        "\n",
        "- <u>Adding a Reranker:</u>\n",
        "Using a reranker, to \"rank\" the documents from the retriever.\n",
        "- <u>Using a Deep Memory:</u>\n",
        "See how it helps with retrieval accuracy.\n",
        "\n",
        "Our goal is to try different changes and see which ones make our system better at finding and giving accurate information."
      ]
    },
    {
      "cell_type": "markdown",
      "metadata": {
        "id": "I93VcS630cbQ"
      },
      "source": [
        "#### Let's build a RAG pipeline using Llama-index."
      ]
    },
    {
      "cell_type": "code",
      "execution_count": null,
      "metadata": {
        "id": "1xoy2gzW0okQ"
      },
      "outputs": [
        {
          "name": "stdout",
          "output_type": "stream",
          "text": [
            "Requirement already satisfied: deeplake==3.9.27 in /Users/coder/Desktop/dev/rag_for_production_activeloop/rag-for-production-with-langchain-and-llamaindex/.venv/lib/python3.12/site-packages (3.9.27)\n",
            "Requirement already satisfied: llama_index in /Users/coder/Desktop/dev/rag_for_production_activeloop/rag-for-production-with-langchain-and-llamaindex/.venv/lib/python3.12/site-packages (0.13.4)\n",
            "Requirement already satisfied: langchain in /Users/coder/Desktop/dev/rag_for_production_activeloop/rag-for-production-with-langchain-and-llamaindex/.venv/lib/python3.12/site-packages (0.3.27)\n",
            "Requirement already satisfied: openai in /Users/coder/Desktop/dev/rag_for_production_activeloop/rag-for-production-with-langchain-and-llamaindex/.venv/lib/python3.12/site-packages (1.105.0)\n",
            "Requirement already satisfied: tiktoken in /Users/coder/Desktop/dev/rag_for_production_activeloop/rag-for-production-with-langchain-and-llamaindex/.venv/lib/python3.12/site-packages (0.11.0)\n",
            "Requirement already satisfied: cohere in /Users/coder/Desktop/dev/rag_for_production_activeloop/rag-for-production-with-langchain-and-llamaindex/.venv/lib/python3.12/site-packages (5.17.0)\n",
            "Requirement already satisfied: pandas in /Users/coder/Desktop/dev/rag_for_production_activeloop/rag-for-production-with-langchain-and-llamaindex/.venv/lib/python3.12/site-packages (2.2.3)\n",
            "Requirement already satisfied: torch in /Users/coder/Desktop/dev/rag_for_production_activeloop/rag-for-production-with-langchain-and-llamaindex/.venv/lib/python3.12/site-packages (2.8.0)\n",
            "\u001b[31mERROR: Could not find a version that satisfies the requirement sentence-transformersllama-index-vector-stores-deeplake (from versions: none)\u001b[0m\u001b[31m\n",
            "\u001b[0m\u001b[31mERROR: No matching distribution found for sentence-transformersllama-index-vector-stores-deeplake\u001b[0m\u001b[31m\n",
            "\u001b[0m\n",
            "\u001b[1m[\u001b[0m\u001b[34;49mnotice\u001b[0m\u001b[1;39;49m]\u001b[0m\u001b[39;49m A new release of pip is available: \u001b[0m\u001b[31;49m24.0\u001b[0m\u001b[39;49m -> \u001b[0m\u001b[32;49m25.2\u001b[0m\n",
            "\u001b[1m[\u001b[0m\u001b[34;49mnotice\u001b[0m\u001b[1;39;49m]\u001b[0m\u001b[39;49m To update, run: \u001b[0m\u001b[32;49mpip install --upgrade pip\u001b[0m\n",
            "Note: you may need to restart the kernel to use updated packages.\n"
          ]
        }
      ],
      "source": [
        "%pip install deeplake==3.9.27 llama_index langchain openai tiktoken cohere pandas torch sentence-transformers\n",
        "%pip install llama-index-vector-stores-deeplake llama-index-llms-openai llama-index-finetuning llama-index-embeddings-cohere\n",
        "%pip install llama-index-embeddings-huggingface langchain-community"
      ]
    },
    {
      "cell_type": "code",
      "execution_count": 1,
      "metadata": {
        "id": "t1NdWoBI_OFR"
      },
      "outputs": [],
      "source": [
        "# The nest_asyncio module enables the nesting of asynchronous functions within an already running async loop.\n",
        "# This is necessary because Jupyter notebooks inherently operate in an asynchronous loop.\n",
        "# By applying nest_asyncio, we can run additional async functions within this existing loop without conflicts.\n",
        "import nest_asyncio\n",
        "\n",
        "\n",
        "nest_asyncio.apply()"
      ]
    },
    {
      "cell_type": "code",
      "execution_count": 2,
      "metadata": {
        "id": "A3El4iyr3D2t"
      },
      "outputs": [],
      "source": [
        "import os\n",
        "from dotenv import load_dotenv\n",
        "\n",
        "\n",
        "load_dotenv(\"../.env\")\n",
        "assert os.getenv(\"OPENAI_API_KEY\")\n",
        "assert os.getenv(\"ACTIVELOOP_TOKEN\")\n",
        "assert os.getenv(\"COHERE_API_KEY\")"
      ]
    },
    {
      "cell_type": "markdown",
      "metadata": {
        "id": "OjyT5I-kKPbl"
      },
      "source": [
        "#### Download Data"
      ]
    },
    {
      "cell_type": "code",
      "execution_count": null,
      "metadata": {
        "colab": {
          "base_uri": "https://localhost:8080/"
        },
        "id": "UUOKqSSeCkEN",
        "outputId": "a0317044-1c50-425e-981b-68b48b452977"
      },
      "outputs": [
        {
          "name": "stdout",
          "output_type": "stream",
          "text": [
            "  % Total    % Received % Xferd  Average Speed   Time    Time     Time  Current\n",
            "                                 Dload  Upload   Total   Spent    Left  Speed\n",
            "100 75042  100 75042    0     0   214k      0 --:--:-- --:--:-- --:--:--  214k\n"
          ]
        }
      ],
      "source": [
        "!mkdir -p \"data/paul_graham/\"\n",
        "!curl \"https://raw.githubusercontent.com/run-llama/llama_index/main/docs/docs/examples/data/paul_graham/paul_graham_essay.txt\" -o \"data/paul_graham/paul_graham_essay.txt\""
      ]
    },
    {
      "cell_type": "markdown",
      "metadata": {
        "id": "o7_DxX6xKUbH"
      },
      "source": [
        "#### Load Data and Build nodes."
      ]
    },
    {
      "cell_type": "code",
      "execution_count": 3,
      "metadata": {
        "colab": {
          "base_uri": "https://localhost:8080/"
        },
        "id": "-vCJln_YKaK-",
        "outputId": "f51c9034-3b37-44b2-9863-4b7102d069b6"
      },
      "outputs": [
        {
          "name": "stdout",
          "output_type": "stream",
          "text": [
            "Number of Documents: 1\n",
            "Number of nodes: 64 with the current chunk size of 512\n"
          ]
        }
      ],
      "source": [
        "from llama_index.core.node_parser import SimpleNodeParser\n",
        "from llama_index.core import SimpleDirectoryReader\n",
        "\n",
        "\n",
        "documents = SimpleDirectoryReader(\"data/paul_graham/\").load_data()\n",
        "node_parser = SimpleNodeParser.from_defaults(chunk_size=512)\n",
        "nodes = node_parser.get_nodes_from_documents(documents)\n",
        "\n",
        "# By default, the node/chunks ids are set to random uuids. To ensure same id's per run, we manually set them.\n",
        "for idx, node in enumerate(nodes):\n",
        "    node.id_ = f\"node_{idx}\"\n",
        "\n",
        "print(f\"Number of Documents: {len(documents)}\")\n",
        "print(f\"Number of nodes: {len(nodes)} with the current chunk size of {node_parser.chunk_size}\")"
      ]
    },
    {
      "cell_type": "code",
      "execution_count": 4,
      "metadata": {
        "colab": {
          "base_uri": "https://localhost:8080/",
          "height": 223,
          "referenced_widgets": [
            "b931f299c9d54d968c2d0dde58716135",
            "08c0279a157145f7980c32e2efcb0115",
            "b073d23893d74718ae38efbb6ec99346",
            "66ebe5bc625f4174ac0a8e84852502b2",
            "fc5b99cf19244fcf88773374afccae0f",
            "068ca884ceb946548dce57bfc35a11af",
            "ff1d3f9218cf46f3ace4d467fdac71a8",
            "7b50820a21d941f4960190dbd0b7ae1d",
            "2a5fa67a21b84c76aef0c1930bec32b4",
            "97377eb8cfbe43c9af8db3805b6a03e2",
            "b23f5d462f4549d4b747b1e0d6fd742e"
          ]
        },
        "id": "FD8LAdhS0cbT",
        "outputId": "b30b1a12-bd56-41fc-a14b-12c6091b6380"
      },
      "outputs": [
        {
          "name": "stderr",
          "output_type": "stream",
          "text": [
            "/Users/coder/Desktop/dev/rag_for_production_activeloop/rag-for-production-with-langchain-and-llamaindex/.venv/lib/python3.12/site-packages/humbug/report.py:47: UserWarning: pkg_resources is deprecated as an API. See https://setuptools.pypa.io/en/latest/pkg_resources.html. The pkg_resources package is slated for removal as early as 2025-11-30. Refrain from using this package or pin to Setuptools<81.\n",
            "  import pkg_resources  # type: ignore\n",
            "/Users/coder/Desktop/dev/rag_for_production_activeloop/rag-for-production-with-langchain-and-llamaindex/.venv/lib/python3.12/site-packages/deeplake/util/check_latest_version.py:32: UserWarning: A newer version of deeplake (4.3.1) is available. It's recommended that you update to the latest version using `pip install -U deeplake`.\n",
            "  warnings.warn(\n",
            "/Users/coder/Desktop/dev/rag_for_production_activeloop/rag-for-production-with-langchain-and-llamaindex/.venv/lib/python3.12/site-packages/tqdm/auto.py:21: TqdmWarning: IProgress not found. Please update jupyter and ipywidgets. See https://ipywidgets.readthedocs.io/en/stable/user_install.html\n",
            "  from .autonotebook import tqdm as notebook_tqdm\n",
            "Generating embeddings:   0%|          | 0/64 [00:00<?, ?it/s]2025-09-04 17:35:02,993 - INFO - HTTP Request: POST https://api.openai.com/v1/embeddings \"HTTP/1.1 200 OK\"\n",
            "Generating embeddings: 100%|██████████| 64/64 [00:01<00:00, 52.13it/s]"
          ]
        },
        {
          "name": "stdout",
          "output_type": "stream",
          "text": [
            "Uploading data to deeplake dataset.\n"
          ]
        },
        {
          "name": "stderr",
          "output_type": "stream",
          "text": [
            "\n",
            "100%|██████████| 64/64 [00:00<00:00, 723.68it/s]"
          ]
        },
        {
          "name": "stdout",
          "output_type": "stream",
          "text": [
            "Dataset(path='data/paul_graham/deep_lake_db', tensors=['text', 'metadata', 'embedding', 'id'])\n",
            "\n",
            "  tensor      htype      shape      dtype  compression\n",
            "  -------    -------    -------    -------  ------- \n",
            "   text       text      (64, 1)      str     None   \n",
            " metadata     json      (64, 1)      str     None   \n",
            " embedding  embedding  (64, 1536)  float32   None   \n",
            "    id        text      (64, 1)      str     None   \n"
          ]
        },
        {
          "name": "stderr",
          "output_type": "stream",
          "text": [
            "\n"
          ]
        }
      ],
      "source": [
        "from llama_index.core import VectorStoreIndex, StorageContext\n",
        "from llama_index.vector_stores.deeplake import DeepLakeVectorStore\n",
        "from llama_index.embeddings.openai import OpenAIEmbedding\n",
        "from llama_index.llms.openai import OpenAI\n",
        "\n",
        "\n",
        "# Create a local Deep Lake VectorStore\n",
        "dataset_path = \"data/paul_graham/deep_lake_db\"\n",
        "vector_store = DeepLakeVectorStore(dataset_path=dataset_path, overwrite=True)\n",
        "\n",
        "# LLM that will answer questions with the retrieved context\n",
        "llm = OpenAI(model=\"gpt-3.5-turbo-1106\")\n",
        "# We use OpenAI's embedding model \"text-embedding-ada-002\"\n",
        "embed_model = OpenAIEmbedding()\n",
        "\n",
        "storage_context = StorageContext.from_defaults(vector_store=vector_store)\n",
        "\n",
        "vector_index = VectorStoreIndex(nodes, embed_model=embed_model, llm=llm, storage_context=storage_context, show_progress=True)"
      ]
    },
    {
      "cell_type": "markdown",
      "metadata": {
        "id": "pUgDV_cp0cbT"
      },
      "source": [
        "#### With the vector index we can now build a QueryEngine. Which generates answers with an LLM and the retrieved chunks of text."
      ]
    },
    {
      "cell_type": "code",
      "execution_count": 5,
      "metadata": {
        "colab": {
          "base_uri": "https://localhost:8080/"
        },
        "id": "-BrVB1qL0cbT",
        "outputId": "3a01ad1b-9fdb-4748-e0b2-ca5c0e28a46c"
      },
      "outputs": [
        {
          "name": "stderr",
          "output_type": "stream",
          "text": [
            "2025-09-04 17:35:05,450 - INFO - HTTP Request: POST https://api.openai.com/v1/embeddings \"HTTP/1.1 200 OK\"\n",
            "2025-09-04 17:35:06,312 - INFO - HTTP Request: POST https://api.openai.com/v1/chat/completions \"HTTP/1.1 200 OK\"\n"
          ]
        },
        {
          "name": "stdout",
          "output_type": "stream",
          "text": [
            "Paul worked on writing and programming before college.\n"
          ]
        }
      ],
      "source": [
        "query_engine = vector_index.as_query_engine()\n",
        "response_vector = query_engine.query(\"What are the main things Paul worked on before college?\")\n",
        "print(response_vector.response)"
      ]
    },
    {
      "cell_type": "markdown",
      "metadata": {
        "id": "jAMiOEsT_-o0"
      },
      "source": [
        "## Base line Evaluation\n",
        "\n",
        "While it's beneficial to examine individual queries and responses at the start, this approach may become impractical as the volume of edge cases and failures increases. Instead, it may be more effective to establish a suite of summary metrics or automated evaluations. These tools can provide insights into overall system performance and indicate specific areas that may require closer scrutiny.\n",
        "\n",
        "In a RAG system, evaluation focuses on two critical aspects:\n",
        "\n",
        "*   **Retrieval Evaluation:** This assesses the accuracy and relevance of the information retrieved by the system.\n",
        "*   **Response Evaluation:** This measures the quality and appropriateness of the responses generated by the system based on the retrieved information. Most of the time this is measured and evaluated by GPT4.\n",
        "\n",
        "Llama-index offers Retrieval and Response evaluation functions."
      ]
    },
    {
      "cell_type": "markdown",
      "metadata": {
        "id": "arGZqWQNIitt"
      },
      "source": [
        "#### Question-Context Pair Generation:\n",
        "\n",
        "For the evaluation of a RAG system, it's essential to have queries that can fetch the correct context and subsequently generate an appropriate response. `LlamaIndex` offers a `generate_question_context_pairs` module specifically for crafting questions and context pairs which can be used in the assessment of the RAG system of both Retrieval and Response Evaluation. For more details on Question Generation, please refer to the [documentation](https://docs.llamaindex.ai/en/stable/examples/evaluation/QuestionGeneration.html)."
      ]
    },
    {
      "cell_type": "code",
      "execution_count": 6,
      "metadata": {
        "colab": {
          "base_uri": "https://localhost:8080/"
        },
        "id": "LdpbdDl_0cbT",
        "outputId": "d8c3dd34-6447-4d6f-d801-deb993fd4379"
      },
      "outputs": [
        {
          "name": "stderr",
          "output_type": "stream",
          "text": [
            "  0%|          | 0/64 [00:00<?, ?it/s]2025-09-04 17:35:15,450 - INFO - HTTP Request: POST https://api.openai.com/v1/chat/completions \"HTTP/1.1 200 OK\"\n",
            "  2%|▏         | 1/64 [00:02<02:10,  2.08s/it]2025-09-04 17:35:17,636 - INFO - HTTP Request: POST https://api.openai.com/v1/chat/completions \"HTTP/1.1 200 OK\"\n",
            "  3%|▎         | 2/64 [00:04<02:12,  2.14s/it]2025-09-04 17:35:19,481 - INFO - HTTP Request: POST https://api.openai.com/v1/chat/completions \"HTTP/1.1 200 OK\"\n",
            "  5%|▍         | 3/64 [00:06<02:02,  2.01s/it]2025-09-04 17:35:21,033 - INFO - HTTP Request: POST https://api.openai.com/v1/chat/completions \"HTTP/1.1 200 OK\"\n",
            "  6%|▋         | 4/64 [00:07<01:49,  1.83s/it]2025-09-04 17:35:22,449 - INFO - HTTP Request: POST https://api.openai.com/v1/chat/completions \"HTTP/1.1 200 OK\"\n",
            "  8%|▊         | 5/64 [00:09<01:39,  1.68s/it]2025-09-04 17:35:23,806 - INFO - HTTP Request: POST https://api.openai.com/v1/chat/completions \"HTTP/1.1 200 OK\"\n",
            "  9%|▉         | 6/64 [00:10<01:31,  1.57s/it]2025-09-04 17:35:25,132 - INFO - HTTP Request: POST https://api.openai.com/v1/chat/completions \"HTTP/1.1 200 OK\"\n",
            " 11%|█         | 7/64 [00:11<01:25,  1.49s/it]2025-09-04 17:35:27,159 - INFO - HTTP Request: POST https://api.openai.com/v1/chat/completions \"HTTP/1.1 200 OK\"\n",
            " 12%|█▎        | 8/64 [00:13<01:32,  1.66s/it]2025-09-04 17:35:28,214 - INFO - HTTP Request: POST https://api.openai.com/v1/chat/completions \"HTTP/1.1 200 OK\"\n",
            " 14%|█▍        | 9/64 [00:14<01:20,  1.47s/it]2025-09-04 17:35:29,719 - INFO - HTTP Request: POST https://api.openai.com/v1/chat/completions \"HTTP/1.1 200 OK\"\n",
            " 16%|█▌        | 10/64 [00:16<01:19,  1.48s/it]2025-09-04 17:35:31,037 - INFO - HTTP Request: POST https://api.openai.com/v1/chat/completions \"HTTP/1.1 200 OK\"\n",
            " 17%|█▋        | 11/64 [00:17<01:15,  1.43s/it]2025-09-04 17:35:33,712 - INFO - HTTP Request: POST https://api.openai.com/v1/chat/completions \"HTTP/1.1 200 OK\"\n",
            " 19%|█▉        | 12/64 [00:20<01:34,  1.81s/it]2025-09-04 17:35:34,896 - INFO - HTTP Request: POST https://api.openai.com/v1/chat/completions \"HTTP/1.1 200 OK\"\n",
            " 20%|██        | 13/64 [00:21<01:22,  1.62s/it]2025-09-04 17:35:35,964 - INFO - HTTP Request: POST https://api.openai.com/v1/chat/completions \"HTTP/1.1 200 OK\"\n",
            " 22%|██▏       | 14/64 [00:22<01:12,  1.45s/it]2025-09-04 17:35:38,013 - INFO - HTTP Request: POST https://api.openai.com/v1/chat/completions \"HTTP/1.1 200 OK\"\n",
            " 23%|██▎       | 15/64 [00:24<01:20,  1.63s/it]2025-09-04 17:35:39,141 - INFO - HTTP Request: POST https://api.openai.com/v1/chat/completions \"HTTP/1.1 200 OK\"\n",
            " 25%|██▌       | 16/64 [00:25<01:11,  1.48s/it]2025-09-04 17:35:40,470 - INFO - HTTP Request: POST https://api.openai.com/v1/chat/completions \"HTTP/1.1 200 OK\"\n",
            " 27%|██▋       | 17/64 [00:27<01:07,  1.44s/it]2025-09-04 17:35:41,141 - INFO - HTTP Request: POST https://api.openai.com/v1/chat/completions \"HTTP/1.1 200 OK\"\n",
            " 28%|██▊       | 18/64 [00:27<00:55,  1.21s/it]2025-09-04 17:35:42,617 - INFO - HTTP Request: POST https://api.openai.com/v1/chat/completions \"HTTP/1.1 200 OK\"\n",
            " 30%|██▉       | 19/64 [00:29<00:57,  1.29s/it]2025-09-04 17:35:43,286 - INFO - HTTP Request: POST https://api.openai.com/v1/chat/completions \"HTTP/1.1 200 OK\"\n",
            " 31%|███▏      | 20/64 [00:29<00:48,  1.10s/it]2025-09-04 17:35:44,082 - INFO - HTTP Request: POST https://api.openai.com/v1/chat/completions \"HTTP/1.1 200 OK\"\n",
            " 33%|███▎      | 21/64 [00:30<00:43,  1.01s/it]2025-09-04 17:35:46,512 - INFO - HTTP Request: POST https://api.openai.com/v1/chat/completions \"HTTP/1.1 200 OK\"\n",
            " 34%|███▍      | 22/64 [00:33<01:00,  1.44s/it]2025-09-04 17:35:47,184 - INFO - HTTP Request: POST https://api.openai.com/v1/chat/completions \"HTTP/1.1 200 OK\"\n",
            " 36%|███▌      | 23/64 [00:33<00:49,  1.21s/it]2025-09-04 17:35:48,403 - INFO - HTTP Request: POST https://api.openai.com/v1/chat/completions \"HTTP/1.1 200 OK\"\n",
            " 38%|███▊      | 24/64 [00:35<00:48,  1.22s/it]2025-09-04 17:35:51,664 - INFO - HTTP Request: POST https://api.openai.com/v1/chat/completions \"HTTP/1.1 200 OK\"\n",
            " 39%|███▉      | 25/64 [00:38<01:11,  1.83s/it]2025-09-04 17:35:52,937 - INFO - HTTP Request: POST https://api.openai.com/v1/chat/completions \"HTTP/1.1 200 OK\"\n",
            " 41%|████      | 26/64 [00:39<01:03,  1.66s/it]2025-09-04 17:35:53,776 - INFO - HTTP Request: POST https://api.openai.com/v1/chat/completions \"HTTP/1.1 200 OK\"\n",
            " 42%|████▏     | 27/64 [00:40<00:52,  1.41s/it]2025-09-04 17:35:55,687 - INFO - HTTP Request: POST https://api.openai.com/v1/chat/completions \"HTTP/1.1 200 OK\"\n",
            " 44%|████▍     | 28/64 [00:42<00:56,  1.56s/it]2025-09-04 17:35:56,362 - INFO - HTTP Request: POST https://api.openai.com/v1/chat/completions \"HTTP/1.1 200 OK\"\n",
            " 45%|████▌     | 29/64 [00:42<00:45,  1.30s/it]2025-09-04 17:35:58,185 - INFO - HTTP Request: POST https://api.openai.com/v1/chat/completions \"HTTP/1.1 200 OK\"\n",
            " 47%|████▋     | 30/64 [00:44<00:49,  1.45s/it]2025-09-04 17:35:59,518 - INFO - HTTP Request: POST https://api.openai.com/v1/chat/completions \"HTTP/1.1 200 OK\"\n",
            " 48%|████▊     | 31/64 [00:46<00:46,  1.42s/it]2025-09-04 17:36:00,951 - INFO - HTTP Request: POST https://api.openai.com/v1/chat/completions \"HTTP/1.1 200 OK\"\n",
            " 50%|█████     | 32/64 [00:47<00:45,  1.42s/it]2025-09-04 17:36:02,283 - INFO - HTTP Request: POST https://api.openai.com/v1/chat/completions \"HTTP/1.1 200 OK\"\n",
            " 52%|█████▏    | 33/64 [00:48<00:43,  1.39s/it]2025-09-04 17:36:04,127 - INFO - HTTP Request: POST https://api.openai.com/v1/chat/completions \"HTTP/1.1 200 OK\"\n",
            " 53%|█████▎    | 34/64 [00:50<00:45,  1.53s/it]2025-09-04 17:36:04,945 - INFO - HTTP Request: POST https://api.openai.com/v1/chat/completions \"HTTP/1.1 200 OK\"\n",
            " 55%|█████▍    | 35/64 [00:51<00:38,  1.32s/it]2025-09-04 17:36:05,766 - INFO - HTTP Request: POST https://api.openai.com/v1/chat/completions \"HTTP/1.1 200 OK\"\n",
            " 56%|█████▋    | 36/64 [00:52<00:32,  1.17s/it]2025-09-04 17:36:07,404 - INFO - HTTP Request: POST https://api.openai.com/v1/chat/completions \"HTTP/1.1 200 OK\"\n",
            " 58%|█████▊    | 37/64 [00:54<00:35,  1.31s/it]2025-09-04 17:36:08,476 - INFO - HTTP Request: POST https://api.openai.com/v1/chat/completions \"HTTP/1.1 200 OK\"\n",
            " 59%|█████▉    | 38/64 [00:55<00:32,  1.24s/it]2025-09-04 17:36:09,195 - INFO - HTTP Request: POST https://api.openai.com/v1/chat/completions \"HTTP/1.1 200 OK\"\n",
            " 61%|██████    | 39/64 [00:55<00:27,  1.08s/it]2025-09-04 17:36:10,067 - INFO - HTTP Request: POST https://api.openai.com/v1/chat/completions \"HTTP/1.1 200 OK\"\n",
            " 62%|██████▎   | 40/64 [00:56<00:24,  1.02s/it]2025-09-04 17:36:11,254 - INFO - HTTP Request: POST https://api.openai.com/v1/chat/completions \"HTTP/1.1 200 OK\"\n",
            " 64%|██████▍   | 41/64 [00:57<00:24,  1.07s/it]2025-09-04 17:36:13,034 - INFO - HTTP Request: POST https://api.openai.com/v1/chat/completions \"HTTP/1.1 200 OK\"\n",
            " 66%|██████▌   | 42/64 [00:59<00:28,  1.28s/it]2025-09-04 17:36:14,364 - INFO - HTTP Request: POST https://api.openai.com/v1/chat/completions \"HTTP/1.1 200 OK\"\n",
            " 67%|██████▋   | 43/64 [01:00<00:27,  1.30s/it]2025-09-04 17:36:16,232 - INFO - HTTP Request: POST https://api.openai.com/v1/chat/completions \"HTTP/1.1 200 OK\"\n",
            " 69%|██████▉   | 44/64 [01:02<00:29,  1.47s/it]2025-09-04 17:36:17,541 - INFO - HTTP Request: POST https://api.openai.com/v1/chat/completions \"HTTP/1.1 200 OK\"\n",
            " 70%|███████   | 45/64 [01:04<00:26,  1.42s/it]2025-09-04 17:36:19,692 - INFO - HTTP Request: POST https://api.openai.com/v1/chat/completions \"HTTP/1.1 200 OK\"\n",
            " 72%|███████▏  | 46/64 [01:06<00:29,  1.64s/it]2025-09-04 17:36:20,212 - INFO - HTTP Request: POST https://api.openai.com/v1/chat/completions \"HTTP/1.1 200 OK\"\n",
            " 73%|███████▎  | 47/64 [01:06<00:22,  1.30s/it]2025-09-04 17:36:21,534 - INFO - HTTP Request: POST https://api.openai.com/v1/chat/completions \"HTTP/1.1 200 OK\"\n",
            " 75%|███████▌  | 48/64 [01:08<00:20,  1.31s/it]2025-09-04 17:36:22,455 - INFO - HTTP Request: POST https://api.openai.com/v1/chat/completions \"HTTP/1.1 200 OK\"\n",
            " 77%|███████▋  | 49/64 [01:09<00:17,  1.19s/it]2025-09-04 17:36:24,093 - INFO - HTTP Request: POST https://api.openai.com/v1/chat/completions \"HTTP/1.1 200 OK\"\n",
            " 78%|███████▊  | 50/64 [01:10<00:18,  1.33s/it]2025-09-04 17:36:26,037 - INFO - HTTP Request: POST https://api.openai.com/v1/chat/completions \"HTTP/1.1 200 OK\"\n",
            " 80%|███████▉  | 51/64 [01:12<00:19,  1.51s/it]2025-09-04 17:36:27,472 - INFO - HTTP Request: POST https://api.openai.com/v1/chat/completions \"HTTP/1.1 200 OK\"\n",
            " 81%|████████▏ | 52/64 [01:14<00:17,  1.49s/it]2025-09-04 17:36:29,395 - INFO - HTTP Request: POST https://api.openai.com/v1/chat/completions \"HTTP/1.1 200 OK\"\n",
            " 83%|████████▎ | 53/64 [01:16<00:17,  1.62s/it]2025-09-04 17:36:30,194 - INFO - HTTP Request: POST https://api.openai.com/v1/chat/completions \"HTTP/1.1 200 OK\"\n",
            " 84%|████████▍ | 54/64 [01:16<00:13,  1.37s/it]2025-09-04 17:36:31,467 - INFO - HTTP Request: POST https://api.openai.com/v1/chat/completions \"HTTP/1.1 200 OK\"\n",
            " 86%|████████▌ | 55/64 [01:18<00:12,  1.34s/it]2025-09-04 17:36:33,776 - INFO - HTTP Request: POST https://api.openai.com/v1/chat/completions \"HTTP/1.1 200 OK\"\n",
            " 88%|████████▊ | 56/64 [01:20<00:13,  1.63s/it]2025-09-04 17:36:34,948 - INFO - HTTP Request: POST https://api.openai.com/v1/chat/completions \"HTTP/1.1 200 OK\"\n",
            " 89%|████████▉ | 57/64 [01:21<00:10,  1.49s/it]2025-09-04 17:36:37,715 - INFO - HTTP Request: POST https://api.openai.com/v1/chat/completions \"HTTP/1.1 200 OK\"\n",
            " 91%|█████████ | 58/64 [01:24<00:11,  1.88s/it]2025-09-04 17:36:38,942 - INFO - HTTP Request: POST https://api.openai.com/v1/chat/completions \"HTTP/1.1 200 OK\"\n",
            " 92%|█████████▏| 59/64 [01:25<00:08,  1.68s/it]2025-09-04 17:36:41,887 - INFO - HTTP Request: POST https://api.openai.com/v1/chat/completions \"HTTP/1.1 200 OK\"\n",
            " 94%|█████████▍| 60/64 [01:28<00:08,  2.06s/it]2025-09-04 17:36:44,472 - INFO - HTTP Request: POST https://api.openai.com/v1/chat/completions \"HTTP/1.1 200 OK\"\n",
            " 95%|█████████▌| 61/64 [01:31<00:06,  2.22s/it]2025-09-04 17:36:45,802 - INFO - HTTP Request: POST https://api.openai.com/v1/chat/completions \"HTTP/1.1 200 OK\"\n",
            " 97%|█████████▋| 62/64 [01:32<00:03,  1.95s/it]2025-09-04 17:36:48,170 - INFO - HTTP Request: POST https://api.openai.com/v1/chat/completions \"HTTP/1.1 200 OK\"\n",
            " 98%|█████████▊| 63/64 [01:34<00:02,  2.08s/it]2025-09-04 17:36:49,386 - INFO - HTTP Request: POST https://api.openai.com/v1/chat/completions \"HTTP/1.1 200 OK\"\n",
            "100%|██████████| 64/64 [01:36<00:00,  1.50s/it]\n"
          ]
        }
      ],
      "source": [
        "from llama_index.core.evaluation import generate_question_context_pairs\n",
        "\n",
        "\n",
        "qc_dataset = generate_question_context_pairs(\n",
        "    nodes,\n",
        "    llm=llm,\n",
        "    num_questions_per_chunk=1\n",
        ")\n",
        "# We can save the dataset as a json file for later use.\n",
        "qc_dataset.save_json(\"qc_dataset.json\")"
      ]
    },
    {
      "cell_type": "code",
      "execution_count": 7,
      "metadata": {
        "id": "jK0BWZ88LjDq"
      },
      "outputs": [],
      "source": [
        "# We can also load the dataset from a json file.\n",
        "from llama_index.finetuning.embeddings.common import EmbeddingQAFinetuneDataset\n",
        "\n",
        "\n",
        "qc_dataset = EmbeddingQAFinetuneDataset.from_json(\n",
        "    \"qc_dataset.json\"\n",
        ")"
      ]
    },
    {
      "cell_type": "markdown",
      "metadata": {
        "id": "Wjs2cgTpOfLM"
      },
      "source": [
        "### Evaluation for Hit Rate and Mean Reciprocal Rank (MRR)\n",
        "\n",
        "With the generated dataset of questions/context. We are now prepared to conduct our retrieval evaluations.\n",
        "\n",
        "We will make use of `RetrieverEvaluator` available in Llama-index. We will measure the Hit Rate and Mean Reciprocal Rank (MRR).\n",
        "\n",
        "**Hit Rate:**\n",
        "\n",
        "Think of the Hit Rate like playing a game of guessing. You're given a question and you need to guess the correct answer from a list of options. The Hit Rate measures how often you guess the correct answer by only looking at your top few guesses. If you often find the right answer in your first few guesses, you have a high Hit Rate. So, in the context of a retrieval system, it's about how frequently the system finds the correct document within its top 'k' picks (where 'k' is a number you decide, like top 5 or top 10).\n",
        "\n",
        "**Mean Reciprocal Rank (MRR):**\n",
        "\n",
        "MRR is a bit like measuring how quickly you can find a treasure in a list of boxes. Imagine you have a row of boxes and only one of them has a treasure. The MRR calculates how close to the start of the row the treasure box is, on average. If the treasure is always in the first box you open, you're doing great and have an MRR of 1. If it's in the second box, the score is 1/2, since you took two tries to find it. If it's in the third box, your score is 1/3, and so on. MRR averages these scores across all your searches. So, for a retrieval system, MRR looks at where the correct document ranks in the system's guesses. If it's usually near the top, the MRR will be high, indicating good performance.\n",
        "In summary, Hit Rate tells you how often the system gets it right in its top guesses, and MRR tells you how close to the top the right answer usually is. Both metrics are useful for evaluating the effectiveness of a retrieval system, like how well a search engine or a recommendation system works."
      ]
    },
    {
      "cell_type": "markdown",
      "metadata": {
        "id": "O3FLlvjoSbI5"
      },
      "source": [
        "First we define a function to display the Retrieval evaluation results in table format."
      ]
    },
    {
      "cell_type": "code",
      "execution_count": 8,
      "metadata": {
        "id": "S9T268MhRNxp"
      },
      "outputs": [],
      "source": [
        "import pandas as pd\n",
        "from typing import Any\n",
        "\n",
        "\n",
        "def display_results_retriever(name: str, eval_results: list[Any]) -> pd.DataFrame:\n",
        "    \"\"\"Display results from evaluate.\"\"\"\n",
        "\n",
        "    metric_dicts = []\n",
        "    for eval_result in eval_results:\n",
        "        metric_dict = eval_result.metric_vals_dict\n",
        "        metric_dicts.append(metric_dict)\n",
        "\n",
        "    full_df = pd.DataFrame(metric_dicts)\n",
        "\n",
        "    hit_rate = full_df[\"hit_rate\"].mean()\n",
        "    mrr = full_df[\"mrr\"].mean()\n",
        "\n",
        "    metric_df = pd.DataFrame(\n",
        "        {\"Retriever Name\": [name], \"Hit Rate\": [hit_rate], \"MRR\": [mrr]}\n",
        "    )\n",
        "\n",
        "    return metric_df"
      ]
    },
    {
      "cell_type": "code",
      "execution_count": 9,
      "metadata": {},
      "outputs": [],
      "source": [
        "import logging\n",
        "\n",
        "\n",
        "logging.getLogger().setLevel(logging.ERROR)"
      ]
    },
    {
      "cell_type": "markdown",
      "metadata": {
        "id": "EmPuMa_f0cbU"
      },
      "source": [
        "Then Run the evaluation procedure"
      ]
    },
    {
      "cell_type": "code",
      "execution_count": null,
      "metadata": {
        "colab": {
          "base_uri": "https://localhost:8080/"
        },
        "id": "H6V_LCxrPQzp",
        "outputId": "d4ff2a41-b1c1-4a33-fb61-0aa4b0ef24ec"
      },
      "outputs": [],
      "source": [
        "from llama_index.core.evaluation import RetrieverEvaluator\n",
        "\n",
        "\n",
        "# We can evaluate the retievers with different top_k values.\n",
        "for k in [2, 4, 6, 8, 10]:\n",
        "    retriever = vector_index.as_retriever(similarity_top_k=k)\n",
        "    retriever_evaluator = RetrieverEvaluator.from_metric_names(\n",
        "        [\"mrr\", \"hit_rate\"], retriever=retriever\n",
        "    )\n",
        "    eval_results = await retriever_evaluator.aevaluate_dataset(qc_dataset)\n",
        "    print(display_results_retriever(f\"Retriever top_{k}\", eval_results))"
      ]
    },
    {
      "cell_type": "markdown",
      "metadata": {},
      "source": [
        "### Retrieval Baseline\n",
        "\n",
        "| Retriever Name   | Hit Rate  | MRR       |\n",
        "|-----------------|-----------|-----------|\n",
        "| Retriever top_2  | 0.828125  | 0.75      |\n",
        "| Retriever top_4  | 0.9375    | 0.783854  |\n",
        "| Retriever top_6  | 0.984375  | 0.791667  |\n",
        "| Retriever top_8  | 0.984375  | 0.791667  |\n",
        "| Retriever top_10 | 0.984375  | 0.791667  |\n"
      ]
    },
    {
      "cell_type": "markdown",
      "metadata": {
        "id": "PEattCq50cbU"
      },
      "source": [
        "We notice that Hit Rate increases as the top_k value increases. Which is what we can expect. we're essentially increasing the probability of the correct answer being included in the returned set. This is because a wider net is cast to capture potential correct chunks."
      ]
    },
    {
      "cell_type": "markdown",
      "metadata": {
        "id": "txb6Xcck0cbU"
      },
      "source": [
        "### Evaluation for Relevancy and Faithfulness metrics\n",
        "\n",
        "**Relevancy**\n",
        "Evaluates whether retrieved context and answer are relevant to the query.\n",
        "\n",
        "**Faithfulness**\n",
        "Evaluates if the answer is faithful to the retrieved contexts (in other words, whether if there’s hallucination).\n",
        "\n",
        "Now lets see how the top_k value affects these two metrics."
      ]
    },
    {
      "cell_type": "code",
      "execution_count": 23,
      "metadata": {
        "colab": {
          "base_uri": "https://localhost:8080/"
        },
        "id": "kyeWiGLF0cbU",
        "outputId": "a45a9316-d32d-4e69-e2a3-822587bc9176"
      },
      "outputs": [
        {
          "name": "stdout",
          "output_type": "stream",
          "text": [
            "top_2 faithfulness_score: 1.0\n",
            "top_2 relevancy_score: 1.0\n",
            "top_4 faithfulness_score: 1.0\n",
            "top_4 relevancy_score: 1.0\n",
            "top_6 faithfulness_score: 1.0\n",
            "top_6 relevancy_score: 1.0\n",
            "top_8 faithfulness_score: 0.95\n",
            "top_8 relevancy_score: 0.95\n",
            "top_10 faithfulness_score: 0.95\n",
            "top_10 relevancy_score: 0.95\n"
          ]
        }
      ],
      "source": [
        "from llama_index.core.evaluation import RelevancyEvaluator, FaithfulnessEvaluator, BatchEvalRunner\n",
        "\n",
        "\n",
        "for k in [2, 4, 6, 8, 10]:\n",
        "    # Set Faithfulness and Relevancy evaluators\n",
        "    query_engine = vector_index.as_query_engine(similarity_top_k=k)\n",
        "\n",
        "    # While we use GPT3.5-Turbo to answer questions, we can use GPT4 to evaluate the answers.\n",
        "    llm_gpt4 = OpenAI(temperature=0, model=\"gpt-4o\")\n",
        "\n",
        "    faithfulness_evaluator = FaithfulnessEvaluator(llm=llm_gpt4)\n",
        "    relevancy_evaluator = RelevancyEvaluator(llm=llm_gpt4)\n",
        "\n",
        "    # Run evaluation\n",
        "    queries = list(qc_dataset.queries.values())\n",
        "    batch_eval_queries = queries[:20]\n",
        "\n",
        "    runner = BatchEvalRunner(\n",
        "        {\"faithfulness\": faithfulness_evaluator, \"relevancy\": relevancy_evaluator},\n",
        "        workers=8,\n",
        "    )\n",
        "    eval_results = await runner.aevaluate_queries(\n",
        "        query_engine, queries=batch_eval_queries\n",
        "    )\n",
        "    faithfulness_score = sum(result.passing for result in eval_results[\"faithfulness\"]) / len(eval_results[\"faithfulness\"])\n",
        "    print(f\"top_{k} faithfulness_score: {faithfulness_score}\")\n",
        "\n",
        "    relevancy_score = sum(result.passing for result in eval_results[\"faithfulness\"]) / len(eval_results[\"relevancy\"])\n",
        "    print(f\"top_{k} relevancy_score: {relevancy_score}\")\n"
      ]
    },
    {
      "cell_type": "markdown",
      "metadata": {},
      "source": [
        "### Generation Baseline\n",
        "\n",
        "| Retriever Name | Faithfulness Score | Relevancy Score |\n",
        "|----------------|-----------------|----------------|\n",
        "| top_2          | 1.0             | 1.0            |\n",
        "| top_4          | 1.0             | 1.0            |\n",
        "| top_6          | 1.0             | 1.0            |\n",
        "| top_8          | 0.95            | 0.95           |\n",
        "| top_10         | 0.95            | 0.95           |"
      ]
    },
    {
      "cell_type": "markdown",
      "metadata": {
        "id": "uvmegf9O0cbU"
      },
      "source": [
        "We can notice the relevancy and faithfulness scores increase as the top_k value increases - up to top_k=8. Since top_k=8, both metrics decrease. Probably, this happens because of the noise in too broad context."
      ]
    },
    {
      "cell_type": "markdown",
      "metadata": {
        "id": "tQWuHem70cbU"
      },
      "source": [
        "## Changing the embedding model\n",
        "\n",
        "Now that we have a base line evaluation we can change around some modules from the RAG pipeline, such as the embedding model."
      ]
    },
    {
      "cell_type": "code",
      "execution_count": 13,
      "metadata": {
        "colab": {
          "base_uri": "https://localhost:8080/",
          "height": 223,
          "referenced_widgets": [
            "d33fd4244a8d406f840aa6d52ba9f72f",
            "e81bec7094654c14b6b7ab61e828714e",
            "b97454b530c54cd998bfd5b891d16e7c",
            "0651c6df18294f4d8bce0a4e98db430c",
            "de0f545439b34bea80308de17a110a73",
            "680538abe9394b0a84f00ffb482022e2",
            "e361ab19dbfd49dda724f652b43b5f0c",
            "1eba9926ea59429b821757e503bc9424",
            "af40be2f667f45dfa796d0a8590fde4d",
            "176ed324648e442f9c8bd794467aa8e7",
            "95a8c42bc55d4e2c9fa44bedb6e4aaf2"
          ]
        },
        "id": "Gk2isdgD0cbU",
        "outputId": "727b6074-e2f3-4d97-f2b0-304fd911c0c5"
      },
      "outputs": [
        {
          "name": "stderr",
          "output_type": "stream",
          "text": [
            "Generating embeddings: 100%|██████████| 64/64 [00:03<00:00, 19.84it/s]"
          ]
        },
        {
          "name": "stdout",
          "output_type": "stream",
          "text": [
            "Uploading data to deeplake dataset.\n"
          ]
        },
        {
          "name": "stderr",
          "output_type": "stream",
          "text": [
            "\n",
            "100%|██████████| 64/64 [00:00<00:00, 934.52it/s]"
          ]
        },
        {
          "name": "stdout",
          "output_type": "stream",
          "text": [
            "Dataset(path='data/paul_graham/deep_lake_db_1', tensors=['text', 'metadata', 'embedding', 'id'])\n",
            "\n",
            "  tensor      htype      shape      dtype  compression\n",
            "  -------    -------    -------    -------  ------- \n",
            "   text       text      (64, 1)      str     None   \n",
            " metadata     json      (64, 1)      str     None   \n",
            " embedding  embedding  (64, 1024)  float32   None   \n",
            "    id        text      (64, 1)      str     None   \n"
          ]
        },
        {
          "name": "stderr",
          "output_type": "stream",
          "text": [
            "\n"
          ]
        }
      ],
      "source": [
        "import os\n",
        "from llama_index.core import VectorStoreIndex, StorageContext\n",
        "from llama_index.vector_stores.deeplake import DeepLakeVectorStore\n",
        "from llama_index.embeddings.cohere import CohereEmbedding\n",
        "from llama_index.llms.openai import OpenAI\n",
        "\n",
        "\n",
        "# Create a DeepLakeVectorStore locally to store the vectors\n",
        "dataset_path = \"data/paul_graham/deep_lake_db_1\"\n",
        "vector_store = DeepLakeVectorStore(dataset_path=dataset_path, overwrite=False)\n",
        "\n",
        "llm = OpenAI(model=\"gpt-3.5-turbo-1106\")\n",
        "embed_model = CohereEmbedding(\n",
        "    cohere_api_key=os.getenv(\"COHERE_API_KEY\"),\n",
        "    model_name=\"embed-english-v3.0\",\n",
        "    input_type=\"search_document\",\n",
        ")\n",
        "\n",
        "storage_context = StorageContext.from_defaults(vector_store=vector_store)\n",
        "\n",
        "vector_index = VectorStoreIndex(nodes, embed_model=embed_model, llm=llm, storage_context=storage_context, show_progress=True)"
      ]
    },
    {
      "cell_type": "markdown",
      "metadata": {
        "id": "bmCdSxCf0cbV"
      },
      "source": [
        "Run the evaluation using these new embeddings."
      ]
    },
    {
      "cell_type": "code",
      "execution_count": 14,
      "metadata": {
        "colab": {
          "base_uri": "https://localhost:8080/"
        },
        "id": "jCLAGYa_0cbV",
        "outputId": "f609dc42-a119-4a27-9f8e-29f886bf354b"
      },
      "outputs": [
        {
          "name": "stdout",
          "output_type": "stream",
          "text": [
            "            Retriever Name  Hit Rate       MRR\n",
            "0  Retriever_cohere_embeds  0.828125  0.604688\n"
          ]
        }
      ],
      "source": [
        "from llama_index.core.evaluation import RetrieverEvaluator\n",
        "\n",
        "\n",
        "embed_model.input_type = \"search_query\"\n",
        "retriever = vector_index.as_retriever(similarity_top_k=6, embed_model=embed_model)\n",
        "\n",
        "retriever_evaluator = RetrieverEvaluator.from_metric_names(\n",
        "    [\"mrr\", \"hit_rate\"], retriever=retriever\n",
        ")\n",
        "eval_results = await retriever_evaluator.aevaluate_dataset(qc_dataset)\n",
        "print(display_results_retriever(f\"Retriever_cohere_embeds\", eval_results))"
      ]
    },
    {
      "cell_type": "markdown",
      "metadata": {},
      "source": [
        "### Cohere Embeddings Retrieval Results\n",
        "\n",
        "| Retriever Name         | Hit Rate  | MRR       |\n",
        "|------------------------|-----------|-----------|\n",
        "| Retriever_cohere_embeds | 0.828125 | 0.595833  |"
      ]
    },
    {
      "cell_type": "markdown",
      "metadata": {
        "id": "jOFD2iqcBL3G"
      },
      "source": [
        "Both metrics decreased when using the optimal top_k=6 value.\n",
        "The optimal k value was determined during RAG evaluation using the OpenAI embedding model."
      ]
    },
    {
      "cell_type": "markdown",
      "metadata": {
        "id": "uR-dUV5c0cbV"
      },
      "source": [
        "## Add a Raranker to the RAG pipeline"
      ]
    },
    {
      "cell_type": "code",
      "execution_count": null,
      "metadata": {
        "colab": {
          "base_uri": "https://localhost:8080/",
          "height": 281,
          "referenced_widgets": [
            "2f45d865ae24431ba25a3138f55d90e9",
            "69e278b5acb34b49a861b74df03ad4bb",
            "ba3f019051424ab5b2d612088ba091da",
            "0c92ea917c3d493db5f1ee07fd08ccea",
            "af4e740848504dcab4f166505c507666",
            "e253e59c3a6140c2a8bc8e5fc6931741",
            "5d147d13514a4c12a09d008346cbc9c1",
            "c42b4ad1da7544da97d02ae921446eab",
            "944d865d4a114e36a8b1a8537ba376dc",
            "0fdf05c6fc8842c3a83bc7f4d184c0b4",
            "9f201ff9c28840218d8903e6cabdcf22",
            "128349bf4fe443deb8e05de9967437cd",
            "03ca58ccbc444c1199a814c39136eb28",
            "b02465cedf1a48dc9cab70dc7ac8b7da",
            "7318203afbbb4e94b640160853dd1b68",
            "52872052aa7044a98d252cf717162556",
            "ef1cfc54e2fb4aacae0584af25263cac",
            "d063772a56a44383a42ec4b6f4674afb",
            "b7ac44cd00804c4ea3ff30aa9a381843",
            "bb4b6662c2c2418da1cc48df9bd78dce",
            "61fdb2f15ba14b4eb7828dbe6b3bf214",
            "93e70e1372c2476a900b0f08bf8a96c6",
            "578730bc47594b08b0ce4befb4c3cd52",
            "0e7089b9ab5d4d20ba9a023d31a8bab4",
            "866dbea0f603488b8e370e6e9d52b883",
            "e72283b47a23444da026f375da5e50cb",
            "04fcede8f91743319c26ed1176778c31",
            "75fba02207684d8dbe8c342b18b5bd01",
            "3e079ca79df84167b9db71788e25b5a1",
            "e47a1990376a4ddcbbbded82473dc51d",
            "ab1f5f0ae831439396eae69e96db3395",
            "5254ef9c800f436caff414598d2f865b",
            "8f14cbb8bd814234a8c7d663523ebf32",
            "0057b2bfc8cf4e31bb9344ceba88cf4a",
            "a806efb862144e64869c578c6de845b3",
            "391c6951667b4550a022c354ec456323",
            "770a5f7e19a14054bb74f0dd89c171a0",
            "47433637079a4e679ee3d71c854f0e7c",
            "6c405f0cba3f4ed7a0ae1dc110499e94",
            "09c0501dcc314436b8645561e7249e83",
            "b4d329bcb3c54b51b55638215612bf37",
            "09ddfeda64ca4612aab7e7853179f675",
            "ddaae97e7d644a919e44e1fc9b6ce8d8",
            "9593fcc87ecf4af7b33f0f266191d88b",
            "4af607d42dee494e92fc635e6c457ee5",
            "746850523c6c4591a259bc70d6e894b4",
            "487f1382e7734d8daabdca9866d34e6e",
            "3dc06889c16445adbb56c9acd8fab6d7",
            "626d33c1039d4658963c1aed1047fcdb",
            "f2b439cd70d4469693e4826082a5f84e",
            "7798b03ca3664d48ab8d656f15d95ad4",
            "b01ebe40292b49ebac99da175cc2f7f1",
            "75aacb8896514786a0d64a298dbc9a78",
            "4b9cbc7dfe124dfabfcd3ec99a3e7064",
            "11549498ecce4e9181fe2b1a570e5cf0"
          ]
        },
        "id": "3fF_X4780cbV",
        "outputId": "72dd4b5b-2f3b-4102-950f-5a6762185a90"
      },
      "outputs": [],
      "source": [
        "from llama_index.postprocessor.cohere_rerank import CohereRerank\n",
        "from llama_index.core.postprocessor import SentenceTransformerRerank, LLMRerank\n",
        "\n",
        "\n",
        "st_reranker = SentenceTransformerRerank(\n",
        "    top_n=3, model=\"cross-encoder/ms-marco-MiniLM-L-6-v2\"\n",
        ")\n",
        "llm_reranker = LLMRerank(\n",
        "    choice_batch_size=2, top_n=3,\n",
        ")\n",
        "cohere_rerank = CohereRerank(api_key=os.getenv(\"COHERE_API_KEY\"), top_n=3)\n",
        "\n",
        "for reranker in [cohere_rerank, st_reranker, llm_reranker]:\n",
        "    retriever_with_reranker = vector_index.as_retriever(similarity_top_k=6, postprocessor=reranker, embed_model=embed_model)\n",
        "\n",
        "    retriever_evaluator_1 = RetrieverEvaluator.from_metric_names(\n",
        "        [\"mrr\", \"hit_rate\"], retriever=retriever_with_reranker\n",
        "    )\n",
        "    eval_results1 = await retriever_evaluator_1.aevaluate_dataset(qc_dataset)\n",
        "    print(display_results_retriever(\"Retriever with added Reranker\", eval_results1))"
      ]
    },
    {
      "cell_type": "markdown",
      "metadata": {
        "id": "5ZNIb1zm0cbV"
      },
      "source": [
        "Here we don't see a significant improvement in the retriever performance."
      ]
    },
    {
      "cell_type": "markdown",
      "metadata": {
        "id": "zVAfER-C0cbV"
      },
      "source": [
        "## Add Deep Memory to the RAG pipeline\n",
        "\n",
        "[Activeloop's Deep Memory](https://www.activeloop.ai/resources/use-deep-memory-to-boost-rag-apps-accuracy-by-up-to-22/), a feature available to Activeloop Deep Lake users, addresses these issues by introducing a tiny neural network layer trained to match user queries with relevant data from a corpus. While this addition incurs minimal latency during search, it can boost retrieval accuracy by up to 27%.\n",
        "\n",
        "First let's convert our generated dataset into a format Deep Memory expects.\n"
      ]
    },
    {
      "cell_type": "code",
      "execution_count": 28,
      "metadata": {
        "colab": {
          "base_uri": "https://localhost:8080/"
        },
        "id": "Q-k85iYj0cbV",
        "outputId": "2fb1a096-43ea-4cd7-b783-4be983f254f4"
      },
      "outputs": [
        {
          "name": "stdout",
          "output_type": "stream",
          "text": [
            "64\n"
          ]
        }
      ],
      "source": [
        "from typing import Any\n",
        "\n",
        "\n",
        "def create_query_relevance(qa_dataset: Any) -> tuple[list[str], list[list[tuple[str, int]]]]:\n",
        "    \"\"\"Function for converting llama-index dataset to correct format for deep memory training\"\"\"\n",
        "    queries = [text for _, text in qa_dataset.queries.items()]\n",
        "    relevant_docs = qa_dataset.relevant_docs\n",
        "    relevance = []\n",
        "    for doc in relevant_docs:\n",
        "        relevance.append([(relevant_docs[doc][0], 1)])\n",
        "    return queries, relevance\n",
        "\n",
        "train_queries, train_relevance = create_query_relevance(qc_dataset)\n",
        "print(len(train_queries))"
      ]
    },
    {
      "cell_type": "markdown",
      "metadata": {
        "id": "r4waOQUT0cbV"
      },
      "source": [
        "Now let's put our Vectore Store on Active Loop's platform and convert it into a managed database."
      ]
    },
    {
      "cell_type": "code",
      "execution_count": 31,
      "metadata": {
        "id": "ul5JoQDR0cbV"
      },
      "outputs": [
        {
          "name": "stderr",
          "output_type": "stream",
          "text": [
            "Copying dataset: 96%|█████████▋| 27/28 [00:07<00:00\n"
          ]
        },
        {
          "name": "stdout",
          "output_type": "stream",
          "text": [
            "This dataset can be visualized in Jupyter Notebook by ds.visualize() or at https://app.activeloop.ai/yaroslava/optimization_paul_graham_1\n",
            "Your Deep Lake dataset has been successfully created!\n"
          ]
        },
        {
          "name": "stderr",
          "output_type": "stream",
          "text": [
            "Copying dataset: 100%|██████████| 27/27 [00:14<00:00\n"
          ]
        },
        {
          "name": "stdout",
          "output_type": "stream",
          "text": [
            "This dataset can be visualized in Jupyter Notebook by ds.visualize() or at https://app.activeloop.ai/yaroslava/optimization_paul_graham_managed_1\n",
            "Your Deep Lake dataset has been successfully created!\n"
          ]
        },
        {
          "data": {
            "text/plain": [
              "Dataset(path='hub://yaroslava/optimization_paul_graham_managed_1', tensors=['embedding', 'id', 'metadata', 'text'])"
            ]
          },
          "execution_count": 31,
          "metadata": {},
          "output_type": "execute_result"
        }
      ],
      "source": [
        "import deeplake\n",
        "\n",
        "\n",
        "local = \"data/paul_graham/deep_lake_db\"\n",
        "hub_path = \"hub://yaroslava/optimization_paul_graham_1\"\n",
        "hub_managed_path = \"hub://yaroslava/optimization_paul_graham_managed_1\"\n",
        "\n",
        "# First upload our local vector store\n",
        "deeplake.deepcopy(local, hub_path, overwrite=True)\n",
        "# Create a managed vector store\n",
        "deeplake.deepcopy(hub_path, hub_managed_path, overwrite=True, runtime={\"tensor_db\": True})"
      ]
    },
    {
      "cell_type": "code",
      "execution_count": 32,
      "metadata": {
        "colab": {
          "base_uri": "https://localhost:8080/"
        },
        "id": "tGWnVVNa0cbV",
        "outputId": "7ea82fb2-8e27-4498-c802-ab5bcc6e05f3"
      },
      "outputs": [
        {
          "name": "stdout",
          "output_type": "stream",
          "text": [
            "Deep Lake Dataset in hub://yaroslava/optimization_paul_graham_managed_1 already exists, loading from the storage\n"
          ]
        }
      ],
      "source": [
        "from llama_index.core import VectorStoreIndex, ServiceContext, StorageContext\n",
        "from llama_index.vector_stores.deeplake import DeepLakeVectorStore\n",
        "from llama_index.embeddings.openai import OpenAIEmbedding\n",
        "from llama_index.llms.openai import OpenAI\n",
        "\n",
        "\n",
        "vector_store = DeepLakeVectorStore(dataset_path=hub_managed_path, overwrite=False, runtime={\"tensor_db\": True}, read_only=True)\n",
        "llm = OpenAI(model=\"gpt-3.5-turbo-1106\")\n",
        "embed_model = OpenAIEmbedding()\n",
        "\n",
        "storage_context = StorageContext.from_defaults(vector_store=vector_store)\n",
        "\n",
        "vector_index = VectorStoreIndex.from_vector_store(\n",
        "    vector_store,\n",
        "    embed_model=embed_model,\n",
        "    llm=llm,\n",
        "    storage_context=storage_context,\n",
        "    use_async=False,\n",
        "    show_progress=True\n",
        ")"
      ]
    },
    {
      "cell_type": "markdown",
      "metadata": {
        "id": "Chi_7_-t0cbW"
      },
      "source": [
        "Launch Deep Memory training"
      ]
    },
    {
      "cell_type": "code",
      "execution_count": null,
      "metadata": {
        "id": "1TwQ-7pT0cbW"
      },
      "outputs": [
        {
          "name": "stdout",
          "output_type": "stream",
          "text": [
            "Starting DeepMemory training job\n"
          ]
        },
        {
          "name": "stderr",
          "output_type": "stream",
          "text": [
            "/var/folders/nl/9vvy243s0cgd8rww2jfgd9jw0000gn/T/ipykernel_29169/3895950759.py:4: LangChainDeprecationWarning: The class `OpenAIEmbeddings` was deprecated in LangChain 0.0.9 and will be removed in 1.0. An updated version of the class exists in the :class:`~langchain-openai package and should be used instead. To use it run `pip install -U :class:`~langchain-openai` and import as `from :class:`~langchain_openai import OpenAIEmbeddings``.\n",
            "  embeddings = OpenAIEmbeddings()\n"
          ]
        },
        {
          "name": "stdout",
          "output_type": "stream",
          "text": [
            "Your Deep Lake dataset has been successfully created!\n"
          ]
        },
        {
          "name": "stderr",
          "output_type": "stream",
          "text": [
            " \r"
          ]
        },
        {
          "name": "stdout",
          "output_type": "stream",
          "text": [
            "Preparing training data for deepmemory:\n"
          ]
        },
        {
          "name": "stderr",
          "output_type": "stream",
          "text": [
            "Creating 64 embeddings in 1 batches of size 64:: 100%|██████████| 1/1 [00:08<00:00,  8.79s/it]\n"
          ]
        }
      ],
      "source": [
        "from langchain.embeddings.openai import OpenAIEmbeddings\n",
        "\n",
        "\n",
        "embeddings = OpenAIEmbeddings()\n",
        "\n",
        "job_id = vector_store.vectorstore.deep_memory.train(\n",
        "    queries=train_queries,\n",
        "    relevance=train_relevance,\n",
        "    embedding_function=embeddings.embed_documents,\n",
        ")"
      ]
    },
    {
      "cell_type": "code",
      "execution_count": null,
      "metadata": {
        "id": "y7_NDq_a0cbW"
      },
      "outputs": [],
      "source": [
        "vector_store.vectorstore.deep_memory.status('657f24c06c0f27c75a5c186d')"
      ]
    },
    {
      "cell_type": "markdown",
      "metadata": {
        "id": "3RMRX4lg0cbZ"
      },
      "source": [
        "#### Let's Generate a Test dataset to evaluate Deep Memory"
      ]
    },
    {
      "cell_type": "code",
      "execution_count": null,
      "metadata": {
        "colab": {
          "base_uri": "https://localhost:8080/"
        },
        "id": "85NQum6b0cbZ",
        "outputId": "4f0d4267-b9d6-4043-cf15-94732e4741f9"
      },
      "outputs": [
        {
          "name": "stderr",
          "output_type": "stream",
          "text": [
            "100%|██████████| 20/20 [00:29<00:00,  1.49s/it]\n"
          ]
        }
      ],
      "source": [
        "from llama_index.evaluation import generate_question_context_pairs\n",
        "# Generate test dataset\n",
        "test_dataset = generate_question_context_pairs(\n",
        "    nodes[:20],\n",
        "    llm=llm,\n",
        "    num_questions_per_chunk=1\n",
        ")\n",
        "test_dataset.save_json(\"test_dataset.json\")\n",
        "\n",
        "# We can also load the dataset from a json file if already done previously.\n",
        "from llama_index.finetuning.embeddings.common import (\n",
        "    EmbeddingQAFinetuneDataset,\n",
        ")\n",
        "test_dataset = EmbeddingQAFinetuneDataset.from_json(\n",
        "    \"test_dataset.json\"\n",
        ")\n",
        "\n",
        "test_queries, test_relevance = create_query_relevance(test_dataset)"
      ]
    },
    {
      "cell_type": "code",
      "execution_count": null,
      "metadata": {
        "colab": {
          "base_uri": "https://localhost:8080/"
        },
        "id": "eGVXK68M0cbZ",
        "outputId": "2aa85941-f4f9-45c7-dc05-a96d0bee3979"
      },
      "outputs": [
        {
          "name": "stdout",
          "output_type": "stream",
          "text": [
            "Embedding queries took 0.82 seconds\n",
            "---- Evaluating without Deep Memory ---- \n",
            "Recall@1:\t  45.2%\n",
            "Recall@3:\t  78.6%\n",
            "Recall@5:\t  90.5%\n",
            "Recall@10:\t  95.2%\n",
            "Recall@50:\t  100.0%\n",
            "Recall@100:\t  100.0%\n",
            "---- Evaluating with Deep Memory ---- \n",
            "Recall@1:\t  45.2%\n",
            "Recall@3:\t  83.3%\n",
            "Recall@5:\t  92.9%\n",
            "Recall@10:\t  95.2%\n",
            "Recall@50:\t  100.0%\n",
            "Recall@100:\t  100.0%\n"
          ]
        }
      ],
      "source": [
        "# Evaluate recall on the generated test dataset\n",
        "recalls = vector_store.vectorstore.deep_memory.evaluate(\n",
        "    queries=test_queries,\n",
        "    relevance=test_relevance,\n",
        "    embedding_function=embeddings.embed_documents,\n",
        ")"
      ]
    },
    {
      "cell_type": "code",
      "execution_count": null,
      "metadata": {
        "colab": {
          "base_uri": "https://localhost:8080/"
        },
        "id": "47dKLZtK0cba",
        "outputId": "7c66e45a-6222-4d7f-ef29-ca11ea0bf4e2"
      },
      "outputs": [
        {
          "name": "stdout",
          "output_type": "stream",
          "text": [
            "      Retriever Name  Hit Rate       MRR\n",
            "0  Retriever Results  0.952381  0.641761\n"
          ]
        }
      ],
      "source": [
        "import os\n",
        "from llama_index.postprocessor.cohere_rerank import CohereRerank\n",
        "from llama_index.evaluation import (\n",
        "    RetrieverEvaluator,\n",
        ")\n",
        "\n",
        "base_retriever = vector_index.as_retriever(similarity_top_k=10)\n",
        "deep_memory_retriever = vector_index.as_retriever(\n",
        "similarity_top_k=10, vector_store_kwargs={\"deep_memory\": True}\n",
        ")\n",
        "\n",
        "base_retriever_evaluator = RetrieverEvaluator.from_metric_names(\n",
        "    [\"mrr\", \"hit_rate\"], retriever=base_retriever\n",
        ")\n",
        "eval_results = await base_retriever_evaluator.aevaluate_dataset(test_dataset)\n",
        "print(display_results_retriever(\"Retriever Results\", eval_results))"
      ]
    },
    {
      "cell_type": "code",
      "execution_count": null,
      "metadata": {
        "colab": {
          "base_uri": "https://localhost:8080/"
        },
        "id": "hr2NayP00cba",
        "outputId": "50e66806-dbad-43a4-a490-013b69f49dc5"
      },
      "outputs": [
        {
          "name": "stdout",
          "output_type": "stream",
          "text": [
            "      Retriever Name  Hit Rate       MRR\n",
            "0  Retriever Results  0.952381  0.661376\n"
          ]
        }
      ],
      "source": [
        "deep_memory_retriever = vector_index.as_retriever(\n",
        "similarity_top_k=10, vector_store_kwargs={\"deep_memory\": True}\n",
        ")\n",
        "\n",
        "dm_retriever_evaluator = RetrieverEvaluator.from_metric_names(\n",
        "    [\"mrr\", \"hit_rate\"], retriever=deep_memory_retriever\n",
        ")\n",
        "dm_eval_results = await dm_retriever_evaluator.aevaluate_dataset(test_dataset)\n",
        "print(display_results_retriever(\"Retriever Results\", dm_eval_results))"
      ]
    },
    {
      "cell_type": "markdown",
      "metadata": {
        "id": "9E_rnzCF0cba"
      },
      "source": [
        " Deep Memory Inference"
      ]
    },
    {
      "cell_type": "code",
      "execution_count": null,
      "metadata": {
        "colab": {
          "base_uri": "https://localhost:8080/"
        },
        "id": "712Zub220cba",
        "outputId": "4d050de5-088c-489f-81eb-5275eb8b4702"
      },
      "outputs": [
        {
          "name": "stdout",
          "output_type": "stream",
          "text": [
            "Before college, Paul worked on applying to art schools, specifically RISD in the US and the Accademia di Belli Arti in Florence. He also applied for the BFA program at RISD and had to do the foundation classes in fundamental subjects like drawing, color, and design.\n"
          ]
        }
      ],
      "source": [
        "query_engine = vector_index.as_query_engine(\n",
        "    vector_store_kwargs={\"deep_memory\": True}\n",
        ")\n",
        "response = query_engine.query(\n",
        "    \"What are the main things Paul worked on before college?\"\n",
        ")\n",
        "print(response)"
      ]
    },
    {
      "cell_type": "markdown",
      "metadata": {
        "id": "sVwYI6H00cba"
      },
      "source": [
        "## Conclusion"
      ]
    },
    {
      "cell_type": "markdown",
      "metadata": {
        "id": "CQX89R9Q0cba"
      },
      "source": [
        "In this notebook, we have explored how to build and evaluate a RAG pipeline using LlamaIndex, with a specific focus on evaluating the retrieval system and generated responses within the pipeline."
      ]
    }
  ],
  "metadata": {
    "colab": {
      "provenance": []
    },
    "kernelspec": {
      "display_name": ".venv",
      "language": "python",
      "name": "python3"
    },
    "language_info": {
      "codemirror_mode": {
        "name": "ipython",
        "version": 3
      },
      "file_extension": ".py",
      "mimetype": "text/x-python",
      "name": "python",
      "nbconvert_exporter": "python",
      "pygments_lexer": "ipython3",
      "version": "3.12.2"
    },
    "widgets": {
      "application/vnd.jupyter.widget-state+json": {
        "0057b2bfc8cf4e31bb9344ceba88cf4a": {
          "model_module": "@jupyter-widgets/controls",
          "model_module_version": "1.5.0",
          "model_name": "HBoxModel",
          "state": {
            "_dom_classes": [],
            "_model_module": "@jupyter-widgets/controls",
            "_model_module_version": "1.5.0",
            "_model_name": "HBoxModel",
            "_view_count": null,
            "_view_module": "@jupyter-widgets/controls",
            "_view_module_version": "1.5.0",
            "_view_name": "HBoxView",
            "box_style": "",
            "children": [
              "IPY_MODEL_a806efb862144e64869c578c6de845b3",
              "IPY_MODEL_391c6951667b4550a022c354ec456323",
              "IPY_MODEL_770a5f7e19a14054bb74f0dd89c171a0"
            ],
            "layout": "IPY_MODEL_47433637079a4e679ee3d71c854f0e7c"
          }
        },
        "03ca58ccbc444c1199a814c39136eb28": {
          "model_module": "@jupyter-widgets/controls",
          "model_module_version": "1.5.0",
          "model_name": "HTMLModel",
          "state": {
            "_dom_classes": [],
            "_model_module": "@jupyter-widgets/controls",
            "_model_module_version": "1.5.0",
            "_model_name": "HTMLModel",
            "_view_count": null,
            "_view_module": "@jupyter-widgets/controls",
            "_view_module_version": "1.5.0",
            "_view_name": "HTMLView",
            "description": "",
            "description_tooltip": null,
            "layout": "IPY_MODEL_ef1cfc54e2fb4aacae0584af25263cac",
            "placeholder": "​",
            "style": "IPY_MODEL_d063772a56a44383a42ec4b6f4674afb",
            "value": "pytorch_model.bin: 100%"
          }
        },
        "04fcede8f91743319c26ed1176778c31": {
          "model_module": "@jupyter-widgets/base",
          "model_module_version": "1.2.0",
          "model_name": "LayoutModel",
          "state": {
            "_model_module": "@jupyter-widgets/base",
            "_model_module_version": "1.2.0",
            "_model_name": "LayoutModel",
            "_view_count": null,
            "_view_module": "@jupyter-widgets/base",
            "_view_module_version": "1.2.0",
            "_view_name": "LayoutView",
            "align_content": null,
            "align_items": null,
            "align_self": null,
            "border": null,
            "bottom": null,
            "display": null,
            "flex": null,
            "flex_flow": null,
            "grid_area": null,
            "grid_auto_columns": null,
            "grid_auto_flow": null,
            "grid_auto_rows": null,
            "grid_column": null,
            "grid_gap": null,
            "grid_row": null,
            "grid_template_areas": null,
            "grid_template_columns": null,
            "grid_template_rows": null,
            "height": null,
            "justify_content": null,
            "justify_items": null,
            "left": null,
            "margin": null,
            "max_height": null,
            "max_width": null,
            "min_height": null,
            "min_width": null,
            "object_fit": null,
            "object_position": null,
            "order": null,
            "overflow": null,
            "overflow_x": null,
            "overflow_y": null,
            "padding": null,
            "right": null,
            "top": null,
            "visibility": null,
            "width": null
          }
        },
        "0651c6df18294f4d8bce0a4e98db430c": {
          "model_module": "@jupyter-widgets/controls",
          "model_module_version": "1.5.0",
          "model_name": "HTMLModel",
          "state": {
            "_dom_classes": [],
            "_model_module": "@jupyter-widgets/controls",
            "_model_module_version": "1.5.0",
            "_model_name": "HTMLModel",
            "_view_count": null,
            "_view_module": "@jupyter-widgets/controls",
            "_view_module_version": "1.5.0",
            "_view_name": "HTMLView",
            "description": "",
            "description_tooltip": null,
            "layout": "IPY_MODEL_176ed324648e442f9c8bd794467aa8e7",
            "placeholder": "​",
            "style": "IPY_MODEL_95a8c42bc55d4e2c9fa44bedb6e4aaf2",
            "value": " 58/58 [00:02&lt;00:00, 23.68it/s]"
          }
        },
        "068ca884ceb946548dce57bfc35a11af": {
          "model_module": "@jupyter-widgets/base",
          "model_module_version": "1.2.0",
          "model_name": "LayoutModel",
          "state": {
            "_model_module": "@jupyter-widgets/base",
            "_model_module_version": "1.2.0",
            "_model_name": "LayoutModel",
            "_view_count": null,
            "_view_module": "@jupyter-widgets/base",
            "_view_module_version": "1.2.0",
            "_view_name": "LayoutView",
            "align_content": null,
            "align_items": null,
            "align_self": null,
            "border": null,
            "bottom": null,
            "display": null,
            "flex": null,
            "flex_flow": null,
            "grid_area": null,
            "grid_auto_columns": null,
            "grid_auto_flow": null,
            "grid_auto_rows": null,
            "grid_column": null,
            "grid_gap": null,
            "grid_row": null,
            "grid_template_areas": null,
            "grid_template_columns": null,
            "grid_template_rows": null,
            "height": null,
            "justify_content": null,
            "justify_items": null,
            "left": null,
            "margin": null,
            "max_height": null,
            "max_width": null,
            "min_height": null,
            "min_width": null,
            "object_fit": null,
            "object_position": null,
            "order": null,
            "overflow": null,
            "overflow_x": null,
            "overflow_y": null,
            "padding": null,
            "right": null,
            "top": null,
            "visibility": null,
            "width": null
          }
        },
        "08c0279a157145f7980c32e2efcb0115": {
          "model_module": "@jupyter-widgets/controls",
          "model_module_version": "1.5.0",
          "model_name": "HTMLModel",
          "state": {
            "_dom_classes": [],
            "_model_module": "@jupyter-widgets/controls",
            "_model_module_version": "1.5.0",
            "_model_name": "HTMLModel",
            "_view_count": null,
            "_view_module": "@jupyter-widgets/controls",
            "_view_module_version": "1.5.0",
            "_view_name": "HTMLView",
            "description": "",
            "description_tooltip": null,
            "layout": "IPY_MODEL_068ca884ceb946548dce57bfc35a11af",
            "placeholder": "​",
            "style": "IPY_MODEL_ff1d3f9218cf46f3ace4d467fdac71a8",
            "value": "Generating embeddings: 100%"
          }
        },
        "09c0501dcc314436b8645561e7249e83": {
          "model_module": "@jupyter-widgets/controls",
          "model_module_version": "1.5.0",
          "model_name": "DescriptionStyleModel",
          "state": {
            "_model_module": "@jupyter-widgets/controls",
            "_model_module_version": "1.5.0",
            "_model_name": "DescriptionStyleModel",
            "_view_count": null,
            "_view_module": "@jupyter-widgets/base",
            "_view_module_version": "1.2.0",
            "_view_name": "StyleView",
            "description_width": ""
          }
        },
        "09ddfeda64ca4612aab7e7853179f675": {
          "model_module": "@jupyter-widgets/controls",
          "model_module_version": "1.5.0",
          "model_name": "ProgressStyleModel",
          "state": {
            "_model_module": "@jupyter-widgets/controls",
            "_model_module_version": "1.5.0",
            "_model_name": "ProgressStyleModel",
            "_view_count": null,
            "_view_module": "@jupyter-widgets/base",
            "_view_module_version": "1.2.0",
            "_view_name": "StyleView",
            "bar_color": null,
            "description_width": ""
          }
        },
        "0c92ea917c3d493db5f1ee07fd08ccea": {
          "model_module": "@jupyter-widgets/controls",
          "model_module_version": "1.5.0",
          "model_name": "HTMLModel",
          "state": {
            "_dom_classes": [],
            "_model_module": "@jupyter-widgets/controls",
            "_model_module_version": "1.5.0",
            "_model_name": "HTMLModel",
            "_view_count": null,
            "_view_module": "@jupyter-widgets/controls",
            "_view_module_version": "1.5.0",
            "_view_name": "HTMLView",
            "description": "",
            "description_tooltip": null,
            "layout": "IPY_MODEL_0fdf05c6fc8842c3a83bc7f4d184c0b4",
            "placeholder": "​",
            "style": "IPY_MODEL_9f201ff9c28840218d8903e6cabdcf22",
            "value": " 794/794 [00:00&lt;00:00, 23.6kB/s]"
          }
        },
        "0e7089b9ab5d4d20ba9a023d31a8bab4": {
          "model_module": "@jupyter-widgets/controls",
          "model_module_version": "1.5.0",
          "model_name": "HTMLModel",
          "state": {
            "_dom_classes": [],
            "_model_module": "@jupyter-widgets/controls",
            "_model_module_version": "1.5.0",
            "_model_name": "HTMLModel",
            "_view_count": null,
            "_view_module": "@jupyter-widgets/controls",
            "_view_module_version": "1.5.0",
            "_view_name": "HTMLView",
            "description": "",
            "description_tooltip": null,
            "layout": "IPY_MODEL_75fba02207684d8dbe8c342b18b5bd01",
            "placeholder": "​",
            "style": "IPY_MODEL_3e079ca79df84167b9db71788e25b5a1",
            "value": "tokenizer_config.json: 100%"
          }
        },
        "0fdf05c6fc8842c3a83bc7f4d184c0b4": {
          "model_module": "@jupyter-widgets/base",
          "model_module_version": "1.2.0",
          "model_name": "LayoutModel",
          "state": {
            "_model_module": "@jupyter-widgets/base",
            "_model_module_version": "1.2.0",
            "_model_name": "LayoutModel",
            "_view_count": null,
            "_view_module": "@jupyter-widgets/base",
            "_view_module_version": "1.2.0",
            "_view_name": "LayoutView",
            "align_content": null,
            "align_items": null,
            "align_self": null,
            "border": null,
            "bottom": null,
            "display": null,
            "flex": null,
            "flex_flow": null,
            "grid_area": null,
            "grid_auto_columns": null,
            "grid_auto_flow": null,
            "grid_auto_rows": null,
            "grid_column": null,
            "grid_gap": null,
            "grid_row": null,
            "grid_template_areas": null,
            "grid_template_columns": null,
            "grid_template_rows": null,
            "height": null,
            "justify_content": null,
            "justify_items": null,
            "left": null,
            "margin": null,
            "max_height": null,
            "max_width": null,
            "min_height": null,
            "min_width": null,
            "object_fit": null,
            "object_position": null,
            "order": null,
            "overflow": null,
            "overflow_x": null,
            "overflow_y": null,
            "padding": null,
            "right": null,
            "top": null,
            "visibility": null,
            "width": null
          }
        },
        "11549498ecce4e9181fe2b1a570e5cf0": {
          "model_module": "@jupyter-widgets/controls",
          "model_module_version": "1.5.0",
          "model_name": "DescriptionStyleModel",
          "state": {
            "_model_module": "@jupyter-widgets/controls",
            "_model_module_version": "1.5.0",
            "_model_name": "DescriptionStyleModel",
            "_view_count": null,
            "_view_module": "@jupyter-widgets/base",
            "_view_module_version": "1.2.0",
            "_view_name": "StyleView",
            "description_width": ""
          }
        },
        "128349bf4fe443deb8e05de9967437cd": {
          "model_module": "@jupyter-widgets/controls",
          "model_module_version": "1.5.0",
          "model_name": "HBoxModel",
          "state": {
            "_dom_classes": [],
            "_model_module": "@jupyter-widgets/controls",
            "_model_module_version": "1.5.0",
            "_model_name": "HBoxModel",
            "_view_count": null,
            "_view_module": "@jupyter-widgets/controls",
            "_view_module_version": "1.5.0",
            "_view_name": "HBoxView",
            "box_style": "",
            "children": [
              "IPY_MODEL_03ca58ccbc444c1199a814c39136eb28",
              "IPY_MODEL_b02465cedf1a48dc9cab70dc7ac8b7da",
              "IPY_MODEL_7318203afbbb4e94b640160853dd1b68"
            ],
            "layout": "IPY_MODEL_52872052aa7044a98d252cf717162556"
          }
        },
        "176ed324648e442f9c8bd794467aa8e7": {
          "model_module": "@jupyter-widgets/base",
          "model_module_version": "1.2.0",
          "model_name": "LayoutModel",
          "state": {
            "_model_module": "@jupyter-widgets/base",
            "_model_module_version": "1.2.0",
            "_model_name": "LayoutModel",
            "_view_count": null,
            "_view_module": "@jupyter-widgets/base",
            "_view_module_version": "1.2.0",
            "_view_name": "LayoutView",
            "align_content": null,
            "align_items": null,
            "align_self": null,
            "border": null,
            "bottom": null,
            "display": null,
            "flex": null,
            "flex_flow": null,
            "grid_area": null,
            "grid_auto_columns": null,
            "grid_auto_flow": null,
            "grid_auto_rows": null,
            "grid_column": null,
            "grid_gap": null,
            "grid_row": null,
            "grid_template_areas": null,
            "grid_template_columns": null,
            "grid_template_rows": null,
            "height": null,
            "justify_content": null,
            "justify_items": null,
            "left": null,
            "margin": null,
            "max_height": null,
            "max_width": null,
            "min_height": null,
            "min_width": null,
            "object_fit": null,
            "object_position": null,
            "order": null,
            "overflow": null,
            "overflow_x": null,
            "overflow_y": null,
            "padding": null,
            "right": null,
            "top": null,
            "visibility": null,
            "width": null
          }
        },
        "1eba9926ea59429b821757e503bc9424": {
          "model_module": "@jupyter-widgets/base",
          "model_module_version": "1.2.0",
          "model_name": "LayoutModel",
          "state": {
            "_model_module": "@jupyter-widgets/base",
            "_model_module_version": "1.2.0",
            "_model_name": "LayoutModel",
            "_view_count": null,
            "_view_module": "@jupyter-widgets/base",
            "_view_module_version": "1.2.0",
            "_view_name": "LayoutView",
            "align_content": null,
            "align_items": null,
            "align_self": null,
            "border": null,
            "bottom": null,
            "display": null,
            "flex": null,
            "flex_flow": null,
            "grid_area": null,
            "grid_auto_columns": null,
            "grid_auto_flow": null,
            "grid_auto_rows": null,
            "grid_column": null,
            "grid_gap": null,
            "grid_row": null,
            "grid_template_areas": null,
            "grid_template_columns": null,
            "grid_template_rows": null,
            "height": null,
            "justify_content": null,
            "justify_items": null,
            "left": null,
            "margin": null,
            "max_height": null,
            "max_width": null,
            "min_height": null,
            "min_width": null,
            "object_fit": null,
            "object_position": null,
            "order": null,
            "overflow": null,
            "overflow_x": null,
            "overflow_y": null,
            "padding": null,
            "right": null,
            "top": null,
            "visibility": null,
            "width": null
          }
        },
        "2a5fa67a21b84c76aef0c1930bec32b4": {
          "model_module": "@jupyter-widgets/controls",
          "model_module_version": "1.5.0",
          "model_name": "ProgressStyleModel",
          "state": {
            "_model_module": "@jupyter-widgets/controls",
            "_model_module_version": "1.5.0",
            "_model_name": "ProgressStyleModel",
            "_view_count": null,
            "_view_module": "@jupyter-widgets/base",
            "_view_module_version": "1.2.0",
            "_view_name": "StyleView",
            "bar_color": null,
            "description_width": ""
          }
        },
        "2f45d865ae24431ba25a3138f55d90e9": {
          "model_module": "@jupyter-widgets/controls",
          "model_module_version": "1.5.0",
          "model_name": "HBoxModel",
          "state": {
            "_dom_classes": [],
            "_model_module": "@jupyter-widgets/controls",
            "_model_module_version": "1.5.0",
            "_model_name": "HBoxModel",
            "_view_count": null,
            "_view_module": "@jupyter-widgets/controls",
            "_view_module_version": "1.5.0",
            "_view_name": "HBoxView",
            "box_style": "",
            "children": [
              "IPY_MODEL_69e278b5acb34b49a861b74df03ad4bb",
              "IPY_MODEL_ba3f019051424ab5b2d612088ba091da",
              "IPY_MODEL_0c92ea917c3d493db5f1ee07fd08ccea"
            ],
            "layout": "IPY_MODEL_af4e740848504dcab4f166505c507666"
          }
        },
        "391c6951667b4550a022c354ec456323": {
          "model_module": "@jupyter-widgets/controls",
          "model_module_version": "1.5.0",
          "model_name": "FloatProgressModel",
          "state": {
            "_dom_classes": [],
            "_model_module": "@jupyter-widgets/controls",
            "_model_module_version": "1.5.0",
            "_model_name": "FloatProgressModel",
            "_view_count": null,
            "_view_module": "@jupyter-widgets/controls",
            "_view_module_version": "1.5.0",
            "_view_name": "ProgressView",
            "bar_style": "success",
            "description": "",
            "description_tooltip": null,
            "layout": "IPY_MODEL_b4d329bcb3c54b51b55638215612bf37",
            "max": 231508,
            "min": 0,
            "orientation": "horizontal",
            "style": "IPY_MODEL_09ddfeda64ca4612aab7e7853179f675",
            "value": 231508
          }
        },
        "3dc06889c16445adbb56c9acd8fab6d7": {
          "model_module": "@jupyter-widgets/controls",
          "model_module_version": "1.5.0",
          "model_name": "HTMLModel",
          "state": {
            "_dom_classes": [],
            "_model_module": "@jupyter-widgets/controls",
            "_model_module_version": "1.5.0",
            "_model_name": "HTMLModel",
            "_view_count": null,
            "_view_module": "@jupyter-widgets/controls",
            "_view_module_version": "1.5.0",
            "_view_name": "HTMLView",
            "description": "",
            "description_tooltip": null,
            "layout": "IPY_MODEL_4b9cbc7dfe124dfabfcd3ec99a3e7064",
            "placeholder": "​",
            "style": "IPY_MODEL_11549498ecce4e9181fe2b1a570e5cf0",
            "value": " 112/112 [00:00&lt;00:00, 3.88kB/s]"
          }
        },
        "3e079ca79df84167b9db71788e25b5a1": {
          "model_module": "@jupyter-widgets/controls",
          "model_module_version": "1.5.0",
          "model_name": "DescriptionStyleModel",
          "state": {
            "_model_module": "@jupyter-widgets/controls",
            "_model_module_version": "1.5.0",
            "_model_name": "DescriptionStyleModel",
            "_view_count": null,
            "_view_module": "@jupyter-widgets/base",
            "_view_module_version": "1.2.0",
            "_view_name": "StyleView",
            "description_width": ""
          }
        },
        "47433637079a4e679ee3d71c854f0e7c": {
          "model_module": "@jupyter-widgets/base",
          "model_module_version": "1.2.0",
          "model_name": "LayoutModel",
          "state": {
            "_model_module": "@jupyter-widgets/base",
            "_model_module_version": "1.2.0",
            "_model_name": "LayoutModel",
            "_view_count": null,
            "_view_module": "@jupyter-widgets/base",
            "_view_module_version": "1.2.0",
            "_view_name": "LayoutView",
            "align_content": null,
            "align_items": null,
            "align_self": null,
            "border": null,
            "bottom": null,
            "display": null,
            "flex": null,
            "flex_flow": null,
            "grid_area": null,
            "grid_auto_columns": null,
            "grid_auto_flow": null,
            "grid_auto_rows": null,
            "grid_column": null,
            "grid_gap": null,
            "grid_row": null,
            "grid_template_areas": null,
            "grid_template_columns": null,
            "grid_template_rows": null,
            "height": null,
            "justify_content": null,
            "justify_items": null,
            "left": null,
            "margin": null,
            "max_height": null,
            "max_width": null,
            "min_height": null,
            "min_width": null,
            "object_fit": null,
            "object_position": null,
            "order": null,
            "overflow": null,
            "overflow_x": null,
            "overflow_y": null,
            "padding": null,
            "right": null,
            "top": null,
            "visibility": null,
            "width": null
          }
        },
        "487f1382e7734d8daabdca9866d34e6e": {
          "model_module": "@jupyter-widgets/controls",
          "model_module_version": "1.5.0",
          "model_name": "FloatProgressModel",
          "state": {
            "_dom_classes": [],
            "_model_module": "@jupyter-widgets/controls",
            "_model_module_version": "1.5.0",
            "_model_name": "FloatProgressModel",
            "_view_count": null,
            "_view_module": "@jupyter-widgets/controls",
            "_view_module_version": "1.5.0",
            "_view_name": "ProgressView",
            "bar_style": "success",
            "description": "",
            "description_tooltip": null,
            "layout": "IPY_MODEL_b01ebe40292b49ebac99da175cc2f7f1",
            "max": 112,
            "min": 0,
            "orientation": "horizontal",
            "style": "IPY_MODEL_75aacb8896514786a0d64a298dbc9a78",
            "value": 112
          }
        },
        "4af607d42dee494e92fc635e6c457ee5": {
          "model_module": "@jupyter-widgets/controls",
          "model_module_version": "1.5.0",
          "model_name": "HBoxModel",
          "state": {
            "_dom_classes": [],
            "_model_module": "@jupyter-widgets/controls",
            "_model_module_version": "1.5.0",
            "_model_name": "HBoxModel",
            "_view_count": null,
            "_view_module": "@jupyter-widgets/controls",
            "_view_module_version": "1.5.0",
            "_view_name": "HBoxView",
            "box_style": "",
            "children": [
              "IPY_MODEL_746850523c6c4591a259bc70d6e894b4",
              "IPY_MODEL_487f1382e7734d8daabdca9866d34e6e",
              "IPY_MODEL_3dc06889c16445adbb56c9acd8fab6d7"
            ],
            "layout": "IPY_MODEL_626d33c1039d4658963c1aed1047fcdb"
          }
        },
        "4b9cbc7dfe124dfabfcd3ec99a3e7064": {
          "model_module": "@jupyter-widgets/base",
          "model_module_version": "1.2.0",
          "model_name": "LayoutModel",
          "state": {
            "_model_module": "@jupyter-widgets/base",
            "_model_module_version": "1.2.0",
            "_model_name": "LayoutModel",
            "_view_count": null,
            "_view_module": "@jupyter-widgets/base",
            "_view_module_version": "1.2.0",
            "_view_name": "LayoutView",
            "align_content": null,
            "align_items": null,
            "align_self": null,
            "border": null,
            "bottom": null,
            "display": null,
            "flex": null,
            "flex_flow": null,
            "grid_area": null,
            "grid_auto_columns": null,
            "grid_auto_flow": null,
            "grid_auto_rows": null,
            "grid_column": null,
            "grid_gap": null,
            "grid_row": null,
            "grid_template_areas": null,
            "grid_template_columns": null,
            "grid_template_rows": null,
            "height": null,
            "justify_content": null,
            "justify_items": null,
            "left": null,
            "margin": null,
            "max_height": null,
            "max_width": null,
            "min_height": null,
            "min_width": null,
            "object_fit": null,
            "object_position": null,
            "order": null,
            "overflow": null,
            "overflow_x": null,
            "overflow_y": null,
            "padding": null,
            "right": null,
            "top": null,
            "visibility": null,
            "width": null
          }
        },
        "5254ef9c800f436caff414598d2f865b": {
          "model_module": "@jupyter-widgets/base",
          "model_module_version": "1.2.0",
          "model_name": "LayoutModel",
          "state": {
            "_model_module": "@jupyter-widgets/base",
            "_model_module_version": "1.2.0",
            "_model_name": "LayoutModel",
            "_view_count": null,
            "_view_module": "@jupyter-widgets/base",
            "_view_module_version": "1.2.0",
            "_view_name": "LayoutView",
            "align_content": null,
            "align_items": null,
            "align_self": null,
            "border": null,
            "bottom": null,
            "display": null,
            "flex": null,
            "flex_flow": null,
            "grid_area": null,
            "grid_auto_columns": null,
            "grid_auto_flow": null,
            "grid_auto_rows": null,
            "grid_column": null,
            "grid_gap": null,
            "grid_row": null,
            "grid_template_areas": null,
            "grid_template_columns": null,
            "grid_template_rows": null,
            "height": null,
            "justify_content": null,
            "justify_items": null,
            "left": null,
            "margin": null,
            "max_height": null,
            "max_width": null,
            "min_height": null,
            "min_width": null,
            "object_fit": null,
            "object_position": null,
            "order": null,
            "overflow": null,
            "overflow_x": null,
            "overflow_y": null,
            "padding": null,
            "right": null,
            "top": null,
            "visibility": null,
            "width": null
          }
        },
        "52872052aa7044a98d252cf717162556": {
          "model_module": "@jupyter-widgets/base",
          "model_module_version": "1.2.0",
          "model_name": "LayoutModel",
          "state": {
            "_model_module": "@jupyter-widgets/base",
            "_model_module_version": "1.2.0",
            "_model_name": "LayoutModel",
            "_view_count": null,
            "_view_module": "@jupyter-widgets/base",
            "_view_module_version": "1.2.0",
            "_view_name": "LayoutView",
            "align_content": null,
            "align_items": null,
            "align_self": null,
            "border": null,
            "bottom": null,
            "display": null,
            "flex": null,
            "flex_flow": null,
            "grid_area": null,
            "grid_auto_columns": null,
            "grid_auto_flow": null,
            "grid_auto_rows": null,
            "grid_column": null,
            "grid_gap": null,
            "grid_row": null,
            "grid_template_areas": null,
            "grid_template_columns": null,
            "grid_template_rows": null,
            "height": null,
            "justify_content": null,
            "justify_items": null,
            "left": null,
            "margin": null,
            "max_height": null,
            "max_width": null,
            "min_height": null,
            "min_width": null,
            "object_fit": null,
            "object_position": null,
            "order": null,
            "overflow": null,
            "overflow_x": null,
            "overflow_y": null,
            "padding": null,
            "right": null,
            "top": null,
            "visibility": null,
            "width": null
          }
        },
        "578730bc47594b08b0ce4befb4c3cd52": {
          "model_module": "@jupyter-widgets/controls",
          "model_module_version": "1.5.0",
          "model_name": "HBoxModel",
          "state": {
            "_dom_classes": [],
            "_model_module": "@jupyter-widgets/controls",
            "_model_module_version": "1.5.0",
            "_model_name": "HBoxModel",
            "_view_count": null,
            "_view_module": "@jupyter-widgets/controls",
            "_view_module_version": "1.5.0",
            "_view_name": "HBoxView",
            "box_style": "",
            "children": [
              "IPY_MODEL_0e7089b9ab5d4d20ba9a023d31a8bab4",
              "IPY_MODEL_866dbea0f603488b8e370e6e9d52b883",
              "IPY_MODEL_e72283b47a23444da026f375da5e50cb"
            ],
            "layout": "IPY_MODEL_04fcede8f91743319c26ed1176778c31"
          }
        },
        "5d147d13514a4c12a09d008346cbc9c1": {
          "model_module": "@jupyter-widgets/controls",
          "model_module_version": "1.5.0",
          "model_name": "DescriptionStyleModel",
          "state": {
            "_model_module": "@jupyter-widgets/controls",
            "_model_module_version": "1.5.0",
            "_model_name": "DescriptionStyleModel",
            "_view_count": null,
            "_view_module": "@jupyter-widgets/base",
            "_view_module_version": "1.2.0",
            "_view_name": "StyleView",
            "description_width": ""
          }
        },
        "61fdb2f15ba14b4eb7828dbe6b3bf214": {
          "model_module": "@jupyter-widgets/base",
          "model_module_version": "1.2.0",
          "model_name": "LayoutModel",
          "state": {
            "_model_module": "@jupyter-widgets/base",
            "_model_module_version": "1.2.0",
            "_model_name": "LayoutModel",
            "_view_count": null,
            "_view_module": "@jupyter-widgets/base",
            "_view_module_version": "1.2.0",
            "_view_name": "LayoutView",
            "align_content": null,
            "align_items": null,
            "align_self": null,
            "border": null,
            "bottom": null,
            "display": null,
            "flex": null,
            "flex_flow": null,
            "grid_area": null,
            "grid_auto_columns": null,
            "grid_auto_flow": null,
            "grid_auto_rows": null,
            "grid_column": null,
            "grid_gap": null,
            "grid_row": null,
            "grid_template_areas": null,
            "grid_template_columns": null,
            "grid_template_rows": null,
            "height": null,
            "justify_content": null,
            "justify_items": null,
            "left": null,
            "margin": null,
            "max_height": null,
            "max_width": null,
            "min_height": null,
            "min_width": null,
            "object_fit": null,
            "object_position": null,
            "order": null,
            "overflow": null,
            "overflow_x": null,
            "overflow_y": null,
            "padding": null,
            "right": null,
            "top": null,
            "visibility": null,
            "width": null
          }
        },
        "626d33c1039d4658963c1aed1047fcdb": {
          "model_module": "@jupyter-widgets/base",
          "model_module_version": "1.2.0",
          "model_name": "LayoutModel",
          "state": {
            "_model_module": "@jupyter-widgets/base",
            "_model_module_version": "1.2.0",
            "_model_name": "LayoutModel",
            "_view_count": null,
            "_view_module": "@jupyter-widgets/base",
            "_view_module_version": "1.2.0",
            "_view_name": "LayoutView",
            "align_content": null,
            "align_items": null,
            "align_self": null,
            "border": null,
            "bottom": null,
            "display": null,
            "flex": null,
            "flex_flow": null,
            "grid_area": null,
            "grid_auto_columns": null,
            "grid_auto_flow": null,
            "grid_auto_rows": null,
            "grid_column": null,
            "grid_gap": null,
            "grid_row": null,
            "grid_template_areas": null,
            "grid_template_columns": null,
            "grid_template_rows": null,
            "height": null,
            "justify_content": null,
            "justify_items": null,
            "left": null,
            "margin": null,
            "max_height": null,
            "max_width": null,
            "min_height": null,
            "min_width": null,
            "object_fit": null,
            "object_position": null,
            "order": null,
            "overflow": null,
            "overflow_x": null,
            "overflow_y": null,
            "padding": null,
            "right": null,
            "top": null,
            "visibility": null,
            "width": null
          }
        },
        "66ebe5bc625f4174ac0a8e84852502b2": {
          "model_module": "@jupyter-widgets/controls",
          "model_module_version": "1.5.0",
          "model_name": "HTMLModel",
          "state": {
            "_dom_classes": [],
            "_model_module": "@jupyter-widgets/controls",
            "_model_module_version": "1.5.0",
            "_model_name": "HTMLModel",
            "_view_count": null,
            "_view_module": "@jupyter-widgets/controls",
            "_view_module_version": "1.5.0",
            "_view_name": "HTMLView",
            "description": "",
            "description_tooltip": null,
            "layout": "IPY_MODEL_97377eb8cfbe43c9af8db3805b6a03e2",
            "placeholder": "​",
            "style": "IPY_MODEL_b23f5d462f4549d4b747b1e0d6fd742e",
            "value": " 58/58 [00:06&lt;00:00,  8.75it/s]"
          }
        },
        "680538abe9394b0a84f00ffb482022e2": {
          "model_module": "@jupyter-widgets/base",
          "model_module_version": "1.2.0",
          "model_name": "LayoutModel",
          "state": {
            "_model_module": "@jupyter-widgets/base",
            "_model_module_version": "1.2.0",
            "_model_name": "LayoutModel",
            "_view_count": null,
            "_view_module": "@jupyter-widgets/base",
            "_view_module_version": "1.2.0",
            "_view_name": "LayoutView",
            "align_content": null,
            "align_items": null,
            "align_self": null,
            "border": null,
            "bottom": null,
            "display": null,
            "flex": null,
            "flex_flow": null,
            "grid_area": null,
            "grid_auto_columns": null,
            "grid_auto_flow": null,
            "grid_auto_rows": null,
            "grid_column": null,
            "grid_gap": null,
            "grid_row": null,
            "grid_template_areas": null,
            "grid_template_columns": null,
            "grid_template_rows": null,
            "height": null,
            "justify_content": null,
            "justify_items": null,
            "left": null,
            "margin": null,
            "max_height": null,
            "max_width": null,
            "min_height": null,
            "min_width": null,
            "object_fit": null,
            "object_position": null,
            "order": null,
            "overflow": null,
            "overflow_x": null,
            "overflow_y": null,
            "padding": null,
            "right": null,
            "top": null,
            "visibility": null,
            "width": null
          }
        },
        "69e278b5acb34b49a861b74df03ad4bb": {
          "model_module": "@jupyter-widgets/controls",
          "model_module_version": "1.5.0",
          "model_name": "HTMLModel",
          "state": {
            "_dom_classes": [],
            "_model_module": "@jupyter-widgets/controls",
            "_model_module_version": "1.5.0",
            "_model_name": "HTMLModel",
            "_view_count": null,
            "_view_module": "@jupyter-widgets/controls",
            "_view_module_version": "1.5.0",
            "_view_name": "HTMLView",
            "description": "",
            "description_tooltip": null,
            "layout": "IPY_MODEL_e253e59c3a6140c2a8bc8e5fc6931741",
            "placeholder": "​",
            "style": "IPY_MODEL_5d147d13514a4c12a09d008346cbc9c1",
            "value": "config.json: 100%"
          }
        },
        "6c405f0cba3f4ed7a0ae1dc110499e94": {
          "model_module": "@jupyter-widgets/base",
          "model_module_version": "1.2.0",
          "model_name": "LayoutModel",
          "state": {
            "_model_module": "@jupyter-widgets/base",
            "_model_module_version": "1.2.0",
            "_model_name": "LayoutModel",
            "_view_count": null,
            "_view_module": "@jupyter-widgets/base",
            "_view_module_version": "1.2.0",
            "_view_name": "LayoutView",
            "align_content": null,
            "align_items": null,
            "align_self": null,
            "border": null,
            "bottom": null,
            "display": null,
            "flex": null,
            "flex_flow": null,
            "grid_area": null,
            "grid_auto_columns": null,
            "grid_auto_flow": null,
            "grid_auto_rows": null,
            "grid_column": null,
            "grid_gap": null,
            "grid_row": null,
            "grid_template_areas": null,
            "grid_template_columns": null,
            "grid_template_rows": null,
            "height": null,
            "justify_content": null,
            "justify_items": null,
            "left": null,
            "margin": null,
            "max_height": null,
            "max_width": null,
            "min_height": null,
            "min_width": null,
            "object_fit": null,
            "object_position": null,
            "order": null,
            "overflow": null,
            "overflow_x": null,
            "overflow_y": null,
            "padding": null,
            "right": null,
            "top": null,
            "visibility": null,
            "width": null
          }
        },
        "7318203afbbb4e94b640160853dd1b68": {
          "model_module": "@jupyter-widgets/controls",
          "model_module_version": "1.5.0",
          "model_name": "HTMLModel",
          "state": {
            "_dom_classes": [],
            "_model_module": "@jupyter-widgets/controls",
            "_model_module_version": "1.5.0",
            "_model_name": "HTMLModel",
            "_view_count": null,
            "_view_module": "@jupyter-widgets/controls",
            "_view_module_version": "1.5.0",
            "_view_name": "HTMLView",
            "description": "",
            "description_tooltip": null,
            "layout": "IPY_MODEL_61fdb2f15ba14b4eb7828dbe6b3bf214",
            "placeholder": "​",
            "style": "IPY_MODEL_93e70e1372c2476a900b0f08bf8a96c6",
            "value": " 90.9M/90.9M [00:00&lt;00:00, 145MB/s]"
          }
        },
        "746850523c6c4591a259bc70d6e894b4": {
          "model_module": "@jupyter-widgets/controls",
          "model_module_version": "1.5.0",
          "model_name": "HTMLModel",
          "state": {
            "_dom_classes": [],
            "_model_module": "@jupyter-widgets/controls",
            "_model_module_version": "1.5.0",
            "_model_name": "HTMLModel",
            "_view_count": null,
            "_view_module": "@jupyter-widgets/controls",
            "_view_module_version": "1.5.0",
            "_view_name": "HTMLView",
            "description": "",
            "description_tooltip": null,
            "layout": "IPY_MODEL_f2b439cd70d4469693e4826082a5f84e",
            "placeholder": "​",
            "style": "IPY_MODEL_7798b03ca3664d48ab8d656f15d95ad4",
            "value": "special_tokens_map.json: 100%"
          }
        },
        "75aacb8896514786a0d64a298dbc9a78": {
          "model_module": "@jupyter-widgets/controls",
          "model_module_version": "1.5.0",
          "model_name": "ProgressStyleModel",
          "state": {
            "_model_module": "@jupyter-widgets/controls",
            "_model_module_version": "1.5.0",
            "_model_name": "ProgressStyleModel",
            "_view_count": null,
            "_view_module": "@jupyter-widgets/base",
            "_view_module_version": "1.2.0",
            "_view_name": "StyleView",
            "bar_color": null,
            "description_width": ""
          }
        },
        "75fba02207684d8dbe8c342b18b5bd01": {
          "model_module": "@jupyter-widgets/base",
          "model_module_version": "1.2.0",
          "model_name": "LayoutModel",
          "state": {
            "_model_module": "@jupyter-widgets/base",
            "_model_module_version": "1.2.0",
            "_model_name": "LayoutModel",
            "_view_count": null,
            "_view_module": "@jupyter-widgets/base",
            "_view_module_version": "1.2.0",
            "_view_name": "LayoutView",
            "align_content": null,
            "align_items": null,
            "align_self": null,
            "border": null,
            "bottom": null,
            "display": null,
            "flex": null,
            "flex_flow": null,
            "grid_area": null,
            "grid_auto_columns": null,
            "grid_auto_flow": null,
            "grid_auto_rows": null,
            "grid_column": null,
            "grid_gap": null,
            "grid_row": null,
            "grid_template_areas": null,
            "grid_template_columns": null,
            "grid_template_rows": null,
            "height": null,
            "justify_content": null,
            "justify_items": null,
            "left": null,
            "margin": null,
            "max_height": null,
            "max_width": null,
            "min_height": null,
            "min_width": null,
            "object_fit": null,
            "object_position": null,
            "order": null,
            "overflow": null,
            "overflow_x": null,
            "overflow_y": null,
            "padding": null,
            "right": null,
            "top": null,
            "visibility": null,
            "width": null
          }
        },
        "770a5f7e19a14054bb74f0dd89c171a0": {
          "model_module": "@jupyter-widgets/controls",
          "model_module_version": "1.5.0",
          "model_name": "HTMLModel",
          "state": {
            "_dom_classes": [],
            "_model_module": "@jupyter-widgets/controls",
            "_model_module_version": "1.5.0",
            "_model_name": "HTMLModel",
            "_view_count": null,
            "_view_module": "@jupyter-widgets/controls",
            "_view_module_version": "1.5.0",
            "_view_name": "HTMLView",
            "description": "",
            "description_tooltip": null,
            "layout": "IPY_MODEL_ddaae97e7d644a919e44e1fc9b6ce8d8",
            "placeholder": "​",
            "style": "IPY_MODEL_9593fcc87ecf4af7b33f0f266191d88b",
            "value": " 232k/232k [00:00&lt;00:00, 3.79MB/s]"
          }
        },
        "7798b03ca3664d48ab8d656f15d95ad4": {
          "model_module": "@jupyter-widgets/controls",
          "model_module_version": "1.5.0",
          "model_name": "DescriptionStyleModel",
          "state": {
            "_model_module": "@jupyter-widgets/controls",
            "_model_module_version": "1.5.0",
            "_model_name": "DescriptionStyleModel",
            "_view_count": null,
            "_view_module": "@jupyter-widgets/base",
            "_view_module_version": "1.2.0",
            "_view_name": "StyleView",
            "description_width": ""
          }
        },
        "7b50820a21d941f4960190dbd0b7ae1d": {
          "model_module": "@jupyter-widgets/base",
          "model_module_version": "1.2.0",
          "model_name": "LayoutModel",
          "state": {
            "_model_module": "@jupyter-widgets/base",
            "_model_module_version": "1.2.0",
            "_model_name": "LayoutModel",
            "_view_count": null,
            "_view_module": "@jupyter-widgets/base",
            "_view_module_version": "1.2.0",
            "_view_name": "LayoutView",
            "align_content": null,
            "align_items": null,
            "align_self": null,
            "border": null,
            "bottom": null,
            "display": null,
            "flex": null,
            "flex_flow": null,
            "grid_area": null,
            "grid_auto_columns": null,
            "grid_auto_flow": null,
            "grid_auto_rows": null,
            "grid_column": null,
            "grid_gap": null,
            "grid_row": null,
            "grid_template_areas": null,
            "grid_template_columns": null,
            "grid_template_rows": null,
            "height": null,
            "justify_content": null,
            "justify_items": null,
            "left": null,
            "margin": null,
            "max_height": null,
            "max_width": null,
            "min_height": null,
            "min_width": null,
            "object_fit": null,
            "object_position": null,
            "order": null,
            "overflow": null,
            "overflow_x": null,
            "overflow_y": null,
            "padding": null,
            "right": null,
            "top": null,
            "visibility": null,
            "width": null
          }
        },
        "866dbea0f603488b8e370e6e9d52b883": {
          "model_module": "@jupyter-widgets/controls",
          "model_module_version": "1.5.0",
          "model_name": "FloatProgressModel",
          "state": {
            "_dom_classes": [],
            "_model_module": "@jupyter-widgets/controls",
            "_model_module_version": "1.5.0",
            "_model_name": "FloatProgressModel",
            "_view_count": null,
            "_view_module": "@jupyter-widgets/controls",
            "_view_module_version": "1.5.0",
            "_view_name": "ProgressView",
            "bar_style": "success",
            "description": "",
            "description_tooltip": null,
            "layout": "IPY_MODEL_e47a1990376a4ddcbbbded82473dc51d",
            "max": 316,
            "min": 0,
            "orientation": "horizontal",
            "style": "IPY_MODEL_ab1f5f0ae831439396eae69e96db3395",
            "value": 316
          }
        },
        "8f14cbb8bd814234a8c7d663523ebf32": {
          "model_module": "@jupyter-widgets/controls",
          "model_module_version": "1.5.0",
          "model_name": "DescriptionStyleModel",
          "state": {
            "_model_module": "@jupyter-widgets/controls",
            "_model_module_version": "1.5.0",
            "_model_name": "DescriptionStyleModel",
            "_view_count": null,
            "_view_module": "@jupyter-widgets/base",
            "_view_module_version": "1.2.0",
            "_view_name": "StyleView",
            "description_width": ""
          }
        },
        "93e70e1372c2476a900b0f08bf8a96c6": {
          "model_module": "@jupyter-widgets/controls",
          "model_module_version": "1.5.0",
          "model_name": "DescriptionStyleModel",
          "state": {
            "_model_module": "@jupyter-widgets/controls",
            "_model_module_version": "1.5.0",
            "_model_name": "DescriptionStyleModel",
            "_view_count": null,
            "_view_module": "@jupyter-widgets/base",
            "_view_module_version": "1.2.0",
            "_view_name": "StyleView",
            "description_width": ""
          }
        },
        "944d865d4a114e36a8b1a8537ba376dc": {
          "model_module": "@jupyter-widgets/controls",
          "model_module_version": "1.5.0",
          "model_name": "ProgressStyleModel",
          "state": {
            "_model_module": "@jupyter-widgets/controls",
            "_model_module_version": "1.5.0",
            "_model_name": "ProgressStyleModel",
            "_view_count": null,
            "_view_module": "@jupyter-widgets/base",
            "_view_module_version": "1.2.0",
            "_view_name": "StyleView",
            "bar_color": null,
            "description_width": ""
          }
        },
        "9593fcc87ecf4af7b33f0f266191d88b": {
          "model_module": "@jupyter-widgets/controls",
          "model_module_version": "1.5.0",
          "model_name": "DescriptionStyleModel",
          "state": {
            "_model_module": "@jupyter-widgets/controls",
            "_model_module_version": "1.5.0",
            "_model_name": "DescriptionStyleModel",
            "_view_count": null,
            "_view_module": "@jupyter-widgets/base",
            "_view_module_version": "1.2.0",
            "_view_name": "StyleView",
            "description_width": ""
          }
        },
        "95a8c42bc55d4e2c9fa44bedb6e4aaf2": {
          "model_module": "@jupyter-widgets/controls",
          "model_module_version": "1.5.0",
          "model_name": "DescriptionStyleModel",
          "state": {
            "_model_module": "@jupyter-widgets/controls",
            "_model_module_version": "1.5.0",
            "_model_name": "DescriptionStyleModel",
            "_view_count": null,
            "_view_module": "@jupyter-widgets/base",
            "_view_module_version": "1.2.0",
            "_view_name": "StyleView",
            "description_width": ""
          }
        },
        "97377eb8cfbe43c9af8db3805b6a03e2": {
          "model_module": "@jupyter-widgets/base",
          "model_module_version": "1.2.0",
          "model_name": "LayoutModel",
          "state": {
            "_model_module": "@jupyter-widgets/base",
            "_model_module_version": "1.2.0",
            "_model_name": "LayoutModel",
            "_view_count": null,
            "_view_module": "@jupyter-widgets/base",
            "_view_module_version": "1.2.0",
            "_view_name": "LayoutView",
            "align_content": null,
            "align_items": null,
            "align_self": null,
            "border": null,
            "bottom": null,
            "display": null,
            "flex": null,
            "flex_flow": null,
            "grid_area": null,
            "grid_auto_columns": null,
            "grid_auto_flow": null,
            "grid_auto_rows": null,
            "grid_column": null,
            "grid_gap": null,
            "grid_row": null,
            "grid_template_areas": null,
            "grid_template_columns": null,
            "grid_template_rows": null,
            "height": null,
            "justify_content": null,
            "justify_items": null,
            "left": null,
            "margin": null,
            "max_height": null,
            "max_width": null,
            "min_height": null,
            "min_width": null,
            "object_fit": null,
            "object_position": null,
            "order": null,
            "overflow": null,
            "overflow_x": null,
            "overflow_y": null,
            "padding": null,
            "right": null,
            "top": null,
            "visibility": null,
            "width": null
          }
        },
        "9f201ff9c28840218d8903e6cabdcf22": {
          "model_module": "@jupyter-widgets/controls",
          "model_module_version": "1.5.0",
          "model_name": "DescriptionStyleModel",
          "state": {
            "_model_module": "@jupyter-widgets/controls",
            "_model_module_version": "1.5.0",
            "_model_name": "DescriptionStyleModel",
            "_view_count": null,
            "_view_module": "@jupyter-widgets/base",
            "_view_module_version": "1.2.0",
            "_view_name": "StyleView",
            "description_width": ""
          }
        },
        "a806efb862144e64869c578c6de845b3": {
          "model_module": "@jupyter-widgets/controls",
          "model_module_version": "1.5.0",
          "model_name": "HTMLModel",
          "state": {
            "_dom_classes": [],
            "_model_module": "@jupyter-widgets/controls",
            "_model_module_version": "1.5.0",
            "_model_name": "HTMLModel",
            "_view_count": null,
            "_view_module": "@jupyter-widgets/controls",
            "_view_module_version": "1.5.0",
            "_view_name": "HTMLView",
            "description": "",
            "description_tooltip": null,
            "layout": "IPY_MODEL_6c405f0cba3f4ed7a0ae1dc110499e94",
            "placeholder": "​",
            "style": "IPY_MODEL_09c0501dcc314436b8645561e7249e83",
            "value": "vocab.txt: 100%"
          }
        },
        "ab1f5f0ae831439396eae69e96db3395": {
          "model_module": "@jupyter-widgets/controls",
          "model_module_version": "1.5.0",
          "model_name": "ProgressStyleModel",
          "state": {
            "_model_module": "@jupyter-widgets/controls",
            "_model_module_version": "1.5.0",
            "_model_name": "ProgressStyleModel",
            "_view_count": null,
            "_view_module": "@jupyter-widgets/base",
            "_view_module_version": "1.2.0",
            "_view_name": "StyleView",
            "bar_color": null,
            "description_width": ""
          }
        },
        "af40be2f667f45dfa796d0a8590fde4d": {
          "model_module": "@jupyter-widgets/controls",
          "model_module_version": "1.5.0",
          "model_name": "ProgressStyleModel",
          "state": {
            "_model_module": "@jupyter-widgets/controls",
            "_model_module_version": "1.5.0",
            "_model_name": "ProgressStyleModel",
            "_view_count": null,
            "_view_module": "@jupyter-widgets/base",
            "_view_module_version": "1.2.0",
            "_view_name": "StyleView",
            "bar_color": null,
            "description_width": ""
          }
        },
        "af4e740848504dcab4f166505c507666": {
          "model_module": "@jupyter-widgets/base",
          "model_module_version": "1.2.0",
          "model_name": "LayoutModel",
          "state": {
            "_model_module": "@jupyter-widgets/base",
            "_model_module_version": "1.2.0",
            "_model_name": "LayoutModel",
            "_view_count": null,
            "_view_module": "@jupyter-widgets/base",
            "_view_module_version": "1.2.0",
            "_view_name": "LayoutView",
            "align_content": null,
            "align_items": null,
            "align_self": null,
            "border": null,
            "bottom": null,
            "display": null,
            "flex": null,
            "flex_flow": null,
            "grid_area": null,
            "grid_auto_columns": null,
            "grid_auto_flow": null,
            "grid_auto_rows": null,
            "grid_column": null,
            "grid_gap": null,
            "grid_row": null,
            "grid_template_areas": null,
            "grid_template_columns": null,
            "grid_template_rows": null,
            "height": null,
            "justify_content": null,
            "justify_items": null,
            "left": null,
            "margin": null,
            "max_height": null,
            "max_width": null,
            "min_height": null,
            "min_width": null,
            "object_fit": null,
            "object_position": null,
            "order": null,
            "overflow": null,
            "overflow_x": null,
            "overflow_y": null,
            "padding": null,
            "right": null,
            "top": null,
            "visibility": null,
            "width": null
          }
        },
        "b01ebe40292b49ebac99da175cc2f7f1": {
          "model_module": "@jupyter-widgets/base",
          "model_module_version": "1.2.0",
          "model_name": "LayoutModel",
          "state": {
            "_model_module": "@jupyter-widgets/base",
            "_model_module_version": "1.2.0",
            "_model_name": "LayoutModel",
            "_view_count": null,
            "_view_module": "@jupyter-widgets/base",
            "_view_module_version": "1.2.0",
            "_view_name": "LayoutView",
            "align_content": null,
            "align_items": null,
            "align_self": null,
            "border": null,
            "bottom": null,
            "display": null,
            "flex": null,
            "flex_flow": null,
            "grid_area": null,
            "grid_auto_columns": null,
            "grid_auto_flow": null,
            "grid_auto_rows": null,
            "grid_column": null,
            "grid_gap": null,
            "grid_row": null,
            "grid_template_areas": null,
            "grid_template_columns": null,
            "grid_template_rows": null,
            "height": null,
            "justify_content": null,
            "justify_items": null,
            "left": null,
            "margin": null,
            "max_height": null,
            "max_width": null,
            "min_height": null,
            "min_width": null,
            "object_fit": null,
            "object_position": null,
            "order": null,
            "overflow": null,
            "overflow_x": null,
            "overflow_y": null,
            "padding": null,
            "right": null,
            "top": null,
            "visibility": null,
            "width": null
          }
        },
        "b02465cedf1a48dc9cab70dc7ac8b7da": {
          "model_module": "@jupyter-widgets/controls",
          "model_module_version": "1.5.0",
          "model_name": "FloatProgressModel",
          "state": {
            "_dom_classes": [],
            "_model_module": "@jupyter-widgets/controls",
            "_model_module_version": "1.5.0",
            "_model_name": "FloatProgressModel",
            "_view_count": null,
            "_view_module": "@jupyter-widgets/controls",
            "_view_module_version": "1.5.0",
            "_view_name": "ProgressView",
            "bar_style": "success",
            "description": "",
            "description_tooltip": null,
            "layout": "IPY_MODEL_b7ac44cd00804c4ea3ff30aa9a381843",
            "max": 90903017,
            "min": 0,
            "orientation": "horizontal",
            "style": "IPY_MODEL_bb4b6662c2c2418da1cc48df9bd78dce",
            "value": 90903017
          }
        },
        "b073d23893d74718ae38efbb6ec99346": {
          "model_module": "@jupyter-widgets/controls",
          "model_module_version": "1.5.0",
          "model_name": "FloatProgressModel",
          "state": {
            "_dom_classes": [],
            "_model_module": "@jupyter-widgets/controls",
            "_model_module_version": "1.5.0",
            "_model_name": "FloatProgressModel",
            "_view_count": null,
            "_view_module": "@jupyter-widgets/controls",
            "_view_module_version": "1.5.0",
            "_view_name": "ProgressView",
            "bar_style": "success",
            "description": "",
            "description_tooltip": null,
            "layout": "IPY_MODEL_7b50820a21d941f4960190dbd0b7ae1d",
            "max": 58,
            "min": 0,
            "orientation": "horizontal",
            "style": "IPY_MODEL_2a5fa67a21b84c76aef0c1930bec32b4",
            "value": 58
          }
        },
        "b23f5d462f4549d4b747b1e0d6fd742e": {
          "model_module": "@jupyter-widgets/controls",
          "model_module_version": "1.5.0",
          "model_name": "DescriptionStyleModel",
          "state": {
            "_model_module": "@jupyter-widgets/controls",
            "_model_module_version": "1.5.0",
            "_model_name": "DescriptionStyleModel",
            "_view_count": null,
            "_view_module": "@jupyter-widgets/base",
            "_view_module_version": "1.2.0",
            "_view_name": "StyleView",
            "description_width": ""
          }
        },
        "b4d329bcb3c54b51b55638215612bf37": {
          "model_module": "@jupyter-widgets/base",
          "model_module_version": "1.2.0",
          "model_name": "LayoutModel",
          "state": {
            "_model_module": "@jupyter-widgets/base",
            "_model_module_version": "1.2.0",
            "_model_name": "LayoutModel",
            "_view_count": null,
            "_view_module": "@jupyter-widgets/base",
            "_view_module_version": "1.2.0",
            "_view_name": "LayoutView",
            "align_content": null,
            "align_items": null,
            "align_self": null,
            "border": null,
            "bottom": null,
            "display": null,
            "flex": null,
            "flex_flow": null,
            "grid_area": null,
            "grid_auto_columns": null,
            "grid_auto_flow": null,
            "grid_auto_rows": null,
            "grid_column": null,
            "grid_gap": null,
            "grid_row": null,
            "grid_template_areas": null,
            "grid_template_columns": null,
            "grid_template_rows": null,
            "height": null,
            "justify_content": null,
            "justify_items": null,
            "left": null,
            "margin": null,
            "max_height": null,
            "max_width": null,
            "min_height": null,
            "min_width": null,
            "object_fit": null,
            "object_position": null,
            "order": null,
            "overflow": null,
            "overflow_x": null,
            "overflow_y": null,
            "padding": null,
            "right": null,
            "top": null,
            "visibility": null,
            "width": null
          }
        },
        "b7ac44cd00804c4ea3ff30aa9a381843": {
          "model_module": "@jupyter-widgets/base",
          "model_module_version": "1.2.0",
          "model_name": "LayoutModel",
          "state": {
            "_model_module": "@jupyter-widgets/base",
            "_model_module_version": "1.2.0",
            "_model_name": "LayoutModel",
            "_view_count": null,
            "_view_module": "@jupyter-widgets/base",
            "_view_module_version": "1.2.0",
            "_view_name": "LayoutView",
            "align_content": null,
            "align_items": null,
            "align_self": null,
            "border": null,
            "bottom": null,
            "display": null,
            "flex": null,
            "flex_flow": null,
            "grid_area": null,
            "grid_auto_columns": null,
            "grid_auto_flow": null,
            "grid_auto_rows": null,
            "grid_column": null,
            "grid_gap": null,
            "grid_row": null,
            "grid_template_areas": null,
            "grid_template_columns": null,
            "grid_template_rows": null,
            "height": null,
            "justify_content": null,
            "justify_items": null,
            "left": null,
            "margin": null,
            "max_height": null,
            "max_width": null,
            "min_height": null,
            "min_width": null,
            "object_fit": null,
            "object_position": null,
            "order": null,
            "overflow": null,
            "overflow_x": null,
            "overflow_y": null,
            "padding": null,
            "right": null,
            "top": null,
            "visibility": null,
            "width": null
          }
        },
        "b931f299c9d54d968c2d0dde58716135": {
          "model_module": "@jupyter-widgets/controls",
          "model_module_version": "1.5.0",
          "model_name": "HBoxModel",
          "state": {
            "_dom_classes": [],
            "_model_module": "@jupyter-widgets/controls",
            "_model_module_version": "1.5.0",
            "_model_name": "HBoxModel",
            "_view_count": null,
            "_view_module": "@jupyter-widgets/controls",
            "_view_module_version": "1.5.0",
            "_view_name": "HBoxView",
            "box_style": "",
            "children": [
              "IPY_MODEL_08c0279a157145f7980c32e2efcb0115",
              "IPY_MODEL_b073d23893d74718ae38efbb6ec99346",
              "IPY_MODEL_66ebe5bc625f4174ac0a8e84852502b2"
            ],
            "layout": "IPY_MODEL_fc5b99cf19244fcf88773374afccae0f"
          }
        },
        "b97454b530c54cd998bfd5b891d16e7c": {
          "model_module": "@jupyter-widgets/controls",
          "model_module_version": "1.5.0",
          "model_name": "FloatProgressModel",
          "state": {
            "_dom_classes": [],
            "_model_module": "@jupyter-widgets/controls",
            "_model_module_version": "1.5.0",
            "_model_name": "FloatProgressModel",
            "_view_count": null,
            "_view_module": "@jupyter-widgets/controls",
            "_view_module_version": "1.5.0",
            "_view_name": "ProgressView",
            "bar_style": "success",
            "description": "",
            "description_tooltip": null,
            "layout": "IPY_MODEL_1eba9926ea59429b821757e503bc9424",
            "max": 58,
            "min": 0,
            "orientation": "horizontal",
            "style": "IPY_MODEL_af40be2f667f45dfa796d0a8590fde4d",
            "value": 58
          }
        },
        "ba3f019051424ab5b2d612088ba091da": {
          "model_module": "@jupyter-widgets/controls",
          "model_module_version": "1.5.0",
          "model_name": "FloatProgressModel",
          "state": {
            "_dom_classes": [],
            "_model_module": "@jupyter-widgets/controls",
            "_model_module_version": "1.5.0",
            "_model_name": "FloatProgressModel",
            "_view_count": null,
            "_view_module": "@jupyter-widgets/controls",
            "_view_module_version": "1.5.0",
            "_view_name": "ProgressView",
            "bar_style": "success",
            "description": "",
            "description_tooltip": null,
            "layout": "IPY_MODEL_c42b4ad1da7544da97d02ae921446eab",
            "max": 794,
            "min": 0,
            "orientation": "horizontal",
            "style": "IPY_MODEL_944d865d4a114e36a8b1a8537ba376dc",
            "value": 794
          }
        },
        "bb4b6662c2c2418da1cc48df9bd78dce": {
          "model_module": "@jupyter-widgets/controls",
          "model_module_version": "1.5.0",
          "model_name": "ProgressStyleModel",
          "state": {
            "_model_module": "@jupyter-widgets/controls",
            "_model_module_version": "1.5.0",
            "_model_name": "ProgressStyleModel",
            "_view_count": null,
            "_view_module": "@jupyter-widgets/base",
            "_view_module_version": "1.2.0",
            "_view_name": "StyleView",
            "bar_color": null,
            "description_width": ""
          }
        },
        "c42b4ad1da7544da97d02ae921446eab": {
          "model_module": "@jupyter-widgets/base",
          "model_module_version": "1.2.0",
          "model_name": "LayoutModel",
          "state": {
            "_model_module": "@jupyter-widgets/base",
            "_model_module_version": "1.2.0",
            "_model_name": "LayoutModel",
            "_view_count": null,
            "_view_module": "@jupyter-widgets/base",
            "_view_module_version": "1.2.0",
            "_view_name": "LayoutView",
            "align_content": null,
            "align_items": null,
            "align_self": null,
            "border": null,
            "bottom": null,
            "display": null,
            "flex": null,
            "flex_flow": null,
            "grid_area": null,
            "grid_auto_columns": null,
            "grid_auto_flow": null,
            "grid_auto_rows": null,
            "grid_column": null,
            "grid_gap": null,
            "grid_row": null,
            "grid_template_areas": null,
            "grid_template_columns": null,
            "grid_template_rows": null,
            "height": null,
            "justify_content": null,
            "justify_items": null,
            "left": null,
            "margin": null,
            "max_height": null,
            "max_width": null,
            "min_height": null,
            "min_width": null,
            "object_fit": null,
            "object_position": null,
            "order": null,
            "overflow": null,
            "overflow_x": null,
            "overflow_y": null,
            "padding": null,
            "right": null,
            "top": null,
            "visibility": null,
            "width": null
          }
        },
        "d063772a56a44383a42ec4b6f4674afb": {
          "model_module": "@jupyter-widgets/controls",
          "model_module_version": "1.5.0",
          "model_name": "DescriptionStyleModel",
          "state": {
            "_model_module": "@jupyter-widgets/controls",
            "_model_module_version": "1.5.0",
            "_model_name": "DescriptionStyleModel",
            "_view_count": null,
            "_view_module": "@jupyter-widgets/base",
            "_view_module_version": "1.2.0",
            "_view_name": "StyleView",
            "description_width": ""
          }
        },
        "d33fd4244a8d406f840aa6d52ba9f72f": {
          "model_module": "@jupyter-widgets/controls",
          "model_module_version": "1.5.0",
          "model_name": "HBoxModel",
          "state": {
            "_dom_classes": [],
            "_model_module": "@jupyter-widgets/controls",
            "_model_module_version": "1.5.0",
            "_model_name": "HBoxModel",
            "_view_count": null,
            "_view_module": "@jupyter-widgets/controls",
            "_view_module_version": "1.5.0",
            "_view_name": "HBoxView",
            "box_style": "",
            "children": [
              "IPY_MODEL_e81bec7094654c14b6b7ab61e828714e",
              "IPY_MODEL_b97454b530c54cd998bfd5b891d16e7c",
              "IPY_MODEL_0651c6df18294f4d8bce0a4e98db430c"
            ],
            "layout": "IPY_MODEL_de0f545439b34bea80308de17a110a73"
          }
        },
        "ddaae97e7d644a919e44e1fc9b6ce8d8": {
          "model_module": "@jupyter-widgets/base",
          "model_module_version": "1.2.0",
          "model_name": "LayoutModel",
          "state": {
            "_model_module": "@jupyter-widgets/base",
            "_model_module_version": "1.2.0",
            "_model_name": "LayoutModel",
            "_view_count": null,
            "_view_module": "@jupyter-widgets/base",
            "_view_module_version": "1.2.0",
            "_view_name": "LayoutView",
            "align_content": null,
            "align_items": null,
            "align_self": null,
            "border": null,
            "bottom": null,
            "display": null,
            "flex": null,
            "flex_flow": null,
            "grid_area": null,
            "grid_auto_columns": null,
            "grid_auto_flow": null,
            "grid_auto_rows": null,
            "grid_column": null,
            "grid_gap": null,
            "grid_row": null,
            "grid_template_areas": null,
            "grid_template_columns": null,
            "grid_template_rows": null,
            "height": null,
            "justify_content": null,
            "justify_items": null,
            "left": null,
            "margin": null,
            "max_height": null,
            "max_width": null,
            "min_height": null,
            "min_width": null,
            "object_fit": null,
            "object_position": null,
            "order": null,
            "overflow": null,
            "overflow_x": null,
            "overflow_y": null,
            "padding": null,
            "right": null,
            "top": null,
            "visibility": null,
            "width": null
          }
        },
        "de0f545439b34bea80308de17a110a73": {
          "model_module": "@jupyter-widgets/base",
          "model_module_version": "1.2.0",
          "model_name": "LayoutModel",
          "state": {
            "_model_module": "@jupyter-widgets/base",
            "_model_module_version": "1.2.0",
            "_model_name": "LayoutModel",
            "_view_count": null,
            "_view_module": "@jupyter-widgets/base",
            "_view_module_version": "1.2.0",
            "_view_name": "LayoutView",
            "align_content": null,
            "align_items": null,
            "align_self": null,
            "border": null,
            "bottom": null,
            "display": null,
            "flex": null,
            "flex_flow": null,
            "grid_area": null,
            "grid_auto_columns": null,
            "grid_auto_flow": null,
            "grid_auto_rows": null,
            "grid_column": null,
            "grid_gap": null,
            "grid_row": null,
            "grid_template_areas": null,
            "grid_template_columns": null,
            "grid_template_rows": null,
            "height": null,
            "justify_content": null,
            "justify_items": null,
            "left": null,
            "margin": null,
            "max_height": null,
            "max_width": null,
            "min_height": null,
            "min_width": null,
            "object_fit": null,
            "object_position": null,
            "order": null,
            "overflow": null,
            "overflow_x": null,
            "overflow_y": null,
            "padding": null,
            "right": null,
            "top": null,
            "visibility": null,
            "width": null
          }
        },
        "e253e59c3a6140c2a8bc8e5fc6931741": {
          "model_module": "@jupyter-widgets/base",
          "model_module_version": "1.2.0",
          "model_name": "LayoutModel",
          "state": {
            "_model_module": "@jupyter-widgets/base",
            "_model_module_version": "1.2.0",
            "_model_name": "LayoutModel",
            "_view_count": null,
            "_view_module": "@jupyter-widgets/base",
            "_view_module_version": "1.2.0",
            "_view_name": "LayoutView",
            "align_content": null,
            "align_items": null,
            "align_self": null,
            "border": null,
            "bottom": null,
            "display": null,
            "flex": null,
            "flex_flow": null,
            "grid_area": null,
            "grid_auto_columns": null,
            "grid_auto_flow": null,
            "grid_auto_rows": null,
            "grid_column": null,
            "grid_gap": null,
            "grid_row": null,
            "grid_template_areas": null,
            "grid_template_columns": null,
            "grid_template_rows": null,
            "height": null,
            "justify_content": null,
            "justify_items": null,
            "left": null,
            "margin": null,
            "max_height": null,
            "max_width": null,
            "min_height": null,
            "min_width": null,
            "object_fit": null,
            "object_position": null,
            "order": null,
            "overflow": null,
            "overflow_x": null,
            "overflow_y": null,
            "padding": null,
            "right": null,
            "top": null,
            "visibility": null,
            "width": null
          }
        },
        "e361ab19dbfd49dda724f652b43b5f0c": {
          "model_module": "@jupyter-widgets/controls",
          "model_module_version": "1.5.0",
          "model_name": "DescriptionStyleModel",
          "state": {
            "_model_module": "@jupyter-widgets/controls",
            "_model_module_version": "1.5.0",
            "_model_name": "DescriptionStyleModel",
            "_view_count": null,
            "_view_module": "@jupyter-widgets/base",
            "_view_module_version": "1.2.0",
            "_view_name": "StyleView",
            "description_width": ""
          }
        },
        "e47a1990376a4ddcbbbded82473dc51d": {
          "model_module": "@jupyter-widgets/base",
          "model_module_version": "1.2.0",
          "model_name": "LayoutModel",
          "state": {
            "_model_module": "@jupyter-widgets/base",
            "_model_module_version": "1.2.0",
            "_model_name": "LayoutModel",
            "_view_count": null,
            "_view_module": "@jupyter-widgets/base",
            "_view_module_version": "1.2.0",
            "_view_name": "LayoutView",
            "align_content": null,
            "align_items": null,
            "align_self": null,
            "border": null,
            "bottom": null,
            "display": null,
            "flex": null,
            "flex_flow": null,
            "grid_area": null,
            "grid_auto_columns": null,
            "grid_auto_flow": null,
            "grid_auto_rows": null,
            "grid_column": null,
            "grid_gap": null,
            "grid_row": null,
            "grid_template_areas": null,
            "grid_template_columns": null,
            "grid_template_rows": null,
            "height": null,
            "justify_content": null,
            "justify_items": null,
            "left": null,
            "margin": null,
            "max_height": null,
            "max_width": null,
            "min_height": null,
            "min_width": null,
            "object_fit": null,
            "object_position": null,
            "order": null,
            "overflow": null,
            "overflow_x": null,
            "overflow_y": null,
            "padding": null,
            "right": null,
            "top": null,
            "visibility": null,
            "width": null
          }
        },
        "e72283b47a23444da026f375da5e50cb": {
          "model_module": "@jupyter-widgets/controls",
          "model_module_version": "1.5.0",
          "model_name": "HTMLModel",
          "state": {
            "_dom_classes": [],
            "_model_module": "@jupyter-widgets/controls",
            "_model_module_version": "1.5.0",
            "_model_name": "HTMLModel",
            "_view_count": null,
            "_view_module": "@jupyter-widgets/controls",
            "_view_module_version": "1.5.0",
            "_view_name": "HTMLView",
            "description": "",
            "description_tooltip": null,
            "layout": "IPY_MODEL_5254ef9c800f436caff414598d2f865b",
            "placeholder": "​",
            "style": "IPY_MODEL_8f14cbb8bd814234a8c7d663523ebf32",
            "value": " 316/316 [00:00&lt;00:00, 11.0kB/s]"
          }
        },
        "e81bec7094654c14b6b7ab61e828714e": {
          "model_module": "@jupyter-widgets/controls",
          "model_module_version": "1.5.0",
          "model_name": "HTMLModel",
          "state": {
            "_dom_classes": [],
            "_model_module": "@jupyter-widgets/controls",
            "_model_module_version": "1.5.0",
            "_model_name": "HTMLModel",
            "_view_count": null,
            "_view_module": "@jupyter-widgets/controls",
            "_view_module_version": "1.5.0",
            "_view_name": "HTMLView",
            "description": "",
            "description_tooltip": null,
            "layout": "IPY_MODEL_680538abe9394b0a84f00ffb482022e2",
            "placeholder": "​",
            "style": "IPY_MODEL_e361ab19dbfd49dda724f652b43b5f0c",
            "value": "Generating embeddings: 100%"
          }
        },
        "ef1cfc54e2fb4aacae0584af25263cac": {
          "model_module": "@jupyter-widgets/base",
          "model_module_version": "1.2.0",
          "model_name": "LayoutModel",
          "state": {
            "_model_module": "@jupyter-widgets/base",
            "_model_module_version": "1.2.0",
            "_model_name": "LayoutModel",
            "_view_count": null,
            "_view_module": "@jupyter-widgets/base",
            "_view_module_version": "1.2.0",
            "_view_name": "LayoutView",
            "align_content": null,
            "align_items": null,
            "align_self": null,
            "border": null,
            "bottom": null,
            "display": null,
            "flex": null,
            "flex_flow": null,
            "grid_area": null,
            "grid_auto_columns": null,
            "grid_auto_flow": null,
            "grid_auto_rows": null,
            "grid_column": null,
            "grid_gap": null,
            "grid_row": null,
            "grid_template_areas": null,
            "grid_template_columns": null,
            "grid_template_rows": null,
            "height": null,
            "justify_content": null,
            "justify_items": null,
            "left": null,
            "margin": null,
            "max_height": null,
            "max_width": null,
            "min_height": null,
            "min_width": null,
            "object_fit": null,
            "object_position": null,
            "order": null,
            "overflow": null,
            "overflow_x": null,
            "overflow_y": null,
            "padding": null,
            "right": null,
            "top": null,
            "visibility": null,
            "width": null
          }
        },
        "f2b439cd70d4469693e4826082a5f84e": {
          "model_module": "@jupyter-widgets/base",
          "model_module_version": "1.2.0",
          "model_name": "LayoutModel",
          "state": {
            "_model_module": "@jupyter-widgets/base",
            "_model_module_version": "1.2.0",
            "_model_name": "LayoutModel",
            "_view_count": null,
            "_view_module": "@jupyter-widgets/base",
            "_view_module_version": "1.2.0",
            "_view_name": "LayoutView",
            "align_content": null,
            "align_items": null,
            "align_self": null,
            "border": null,
            "bottom": null,
            "display": null,
            "flex": null,
            "flex_flow": null,
            "grid_area": null,
            "grid_auto_columns": null,
            "grid_auto_flow": null,
            "grid_auto_rows": null,
            "grid_column": null,
            "grid_gap": null,
            "grid_row": null,
            "grid_template_areas": null,
            "grid_template_columns": null,
            "grid_template_rows": null,
            "height": null,
            "justify_content": null,
            "justify_items": null,
            "left": null,
            "margin": null,
            "max_height": null,
            "max_width": null,
            "min_height": null,
            "min_width": null,
            "object_fit": null,
            "object_position": null,
            "order": null,
            "overflow": null,
            "overflow_x": null,
            "overflow_y": null,
            "padding": null,
            "right": null,
            "top": null,
            "visibility": null,
            "width": null
          }
        },
        "fc5b99cf19244fcf88773374afccae0f": {
          "model_module": "@jupyter-widgets/base",
          "model_module_version": "1.2.0",
          "model_name": "LayoutModel",
          "state": {
            "_model_module": "@jupyter-widgets/base",
            "_model_module_version": "1.2.0",
            "_model_name": "LayoutModel",
            "_view_count": null,
            "_view_module": "@jupyter-widgets/base",
            "_view_module_version": "1.2.0",
            "_view_name": "LayoutView",
            "align_content": null,
            "align_items": null,
            "align_self": null,
            "border": null,
            "bottom": null,
            "display": null,
            "flex": null,
            "flex_flow": null,
            "grid_area": null,
            "grid_auto_columns": null,
            "grid_auto_flow": null,
            "grid_auto_rows": null,
            "grid_column": null,
            "grid_gap": null,
            "grid_row": null,
            "grid_template_areas": null,
            "grid_template_columns": null,
            "grid_template_rows": null,
            "height": null,
            "justify_content": null,
            "justify_items": null,
            "left": null,
            "margin": null,
            "max_height": null,
            "max_width": null,
            "min_height": null,
            "min_width": null,
            "object_fit": null,
            "object_position": null,
            "order": null,
            "overflow": null,
            "overflow_x": null,
            "overflow_y": null,
            "padding": null,
            "right": null,
            "top": null,
            "visibility": null,
            "width": null
          }
        },
        "ff1d3f9218cf46f3ace4d467fdac71a8": {
          "model_module": "@jupyter-widgets/controls",
          "model_module_version": "1.5.0",
          "model_name": "DescriptionStyleModel",
          "state": {
            "_model_module": "@jupyter-widgets/controls",
            "_model_module_version": "1.5.0",
            "_model_name": "DescriptionStyleModel",
            "_view_count": null,
            "_view_module": "@jupyter-widgets/base",
            "_view_module_version": "1.2.0",
            "_view_name": "StyleView",
            "description_width": ""
          }
        }
      }
    }
  },
  "nbformat": 4,
  "nbformat_minor": 0
}
