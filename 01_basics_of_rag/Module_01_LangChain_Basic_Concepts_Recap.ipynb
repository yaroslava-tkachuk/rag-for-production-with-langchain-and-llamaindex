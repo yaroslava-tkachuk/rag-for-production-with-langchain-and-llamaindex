{
  "cells": [
    {
      "cell_type": "code",
      "execution_count": null,
      "metadata": {
        "id": "wxRBFGvV9-Mv"
      },
      "outputs": [
        {
          "name": "stdout",
          "output_type": "stream",
          "text": [
            "\u001b[31mERROR: Cannot install langchain-community==0.0.10, langchain-community==0.0.11, langchain-community==0.0.12, langchain-community==0.0.13, langchain-community==0.0.14, langchain-community==0.0.15, langchain-community==0.0.16, langchain-community==0.0.17, langchain-community==0.0.18, langchain-community==0.0.19, langchain-community==0.0.2, langchain-community==0.0.20, langchain-community==0.0.21, langchain-community==0.0.22, langchain-community==0.0.23, langchain-community==0.0.24, langchain-community==0.0.25, langchain-community==0.0.26, langchain-community==0.0.27, langchain-community==0.0.28, langchain-community==0.0.29, langchain-community==0.0.3, langchain-community==0.0.30, langchain-community==0.0.31, langchain-community==0.0.32, langchain-community==0.0.33, langchain-community==0.0.34, langchain-community==0.0.35, langchain-community==0.0.36, langchain-community==0.0.37, langchain-community==0.0.38, langchain-community==0.0.4, langchain-community==0.0.5, langchain-community==0.0.6, langchain-community==0.0.7, langchain-community==0.0.8, langchain-community==0.2.0, langchain-community==0.2.1, langchain-community==0.2.10, langchain-community==0.2.11, langchain-community==0.2.12, langchain-community==0.2.13, langchain-community==0.2.15, langchain-community==0.2.16, langchain-community==0.2.17, langchain-community==0.2.18, langchain-community==0.2.19, langchain-community==0.2.2, langchain-community==0.2.3, langchain-community==0.2.4, langchain-community==0.2.5, langchain-community==0.2.6, langchain-community==0.2.7, langchain-community==0.2.9, langchain-community==0.3.0, langchain-community==0.3.1, langchain-community==0.3.10, langchain-community==0.3.11, langchain-community==0.3.12, langchain-community==0.3.13, langchain-community==0.3.14, langchain-community==0.3.15, langchain-community==0.3.16, langchain-community==0.3.17, langchain-community==0.3.18, langchain-community==0.3.19, langchain-community==0.3.2, langchain-community==0.3.20, langchain-community==0.3.21, langchain-community==0.3.22, langchain-community==0.3.23, langchain-community==0.3.24, langchain-community==0.3.25, langchain-community==0.3.26, langchain-community==0.3.27, langchain-community==0.3.28, langchain-community==0.3.29, langchain-community==0.3.3, langchain-community==0.3.4, langchain-community==0.3.5, langchain-community==0.3.6, langchain-community==0.3.7, langchain-community==0.3.8, langchain-community==0.3.9 and langchain==0.0.346 because these package versions have conflicting dependencies.\u001b[0m\u001b[31m\n",
            "\u001b[0m\u001b[31mERROR: ResolutionImpossible: for help visit https://pip.pypa.io/en/latest/topics/dependency-resolution/#dealing-with-dependency-conflicts\u001b[0m\u001b[31m\n",
            "\u001b[0m\n",
            "\u001b[1m[\u001b[0m\u001b[34;49mnotice\u001b[0m\u001b[1;39;49m]\u001b[0m\u001b[39;49m A new release of pip is available: \u001b[0m\u001b[31;49m24.0\u001b[0m\u001b[39;49m -> \u001b[0m\u001b[32;49m25.2\u001b[0m\n",
            "\u001b[1m[\u001b[0m\u001b[34;49mnotice\u001b[0m\u001b[1;39;49m]\u001b[0m\u001b[39;49m To update, run: \u001b[0m\u001b[32;49mpip install --upgrade pip\u001b[0m\n",
            "Note: you may need to restart the kernel to use updated packages.\n"
          ]
        }
      ],
      "source": [
        "%pip install -q langchain==0.0.346 langchain_community openai==0.28.1 tiktoken==0.5.2 cohere==4.37.0 dotenv deeplake==3.9.27 wikipedia"
      ]
    },
    {
      "cell_type": "code",
      "execution_count": 1,
      "metadata": {},
      "outputs": [],
      "source": [
        "import os\n",
        "from dotenv import load_dotenv\n",
        "\n",
        "\n",
        "load_dotenv(\"../.env\")\n",
        "assert os.getenv(\"OPENAI_API_KEY\")"
      ]
    },
    {
      "cell_type": "markdown",
      "metadata": {},
      "source": [
        "# Document Loaders"
      ]
    },
    {
      "cell_type": "code",
      "execution_count": 8,
      "metadata": {},
      "outputs": [
        {
          "name": "stdout",
          "output_type": "stream",
          "text": [
            "{'source': './data/articles.csv', 'row': 0}\n",
            "{'source': './data/articles.csv', 'row': 1}\n",
            "{'source': './data/articles.csv', 'row': 2}\n",
            "{'source': './data/articles.csv', 'row': 3}\n",
            "{'source': './data/articles.csv', 'row': 4}\n",
            "{'source': './data/articles.csv', 'row': 5}\n",
            "{'source': './data/articles.csv', 'row': 6}\n",
            "{'source': './data/articles.csv', 'row': 7}\n",
            "{'source': './data/articles.csv', 'row': 8}\n",
            "{'source': './data/articles.csv', 'row': 9}\n"
          ]
        }
      ],
      "source": [
        "from langchain.document_loaders import CSVLoader\n",
        "\n",
        "\n",
        "# Load data from a CSV file using CSVLoader\n",
        "loader = CSVLoader(\"./data/articles.csv\")\n",
        "documents = loader.load()\n",
        "\n",
        "# Access the content and metadata of each document\n",
        "for document in documents[:10]:    \n",
        "\tcontent = document.page_content    \n",
        "\tmetadata = document.metadata\n",
        "\tprint(metadata)"
      ]
    },
    {
      "cell_type": "code",
      "execution_count": 10,
      "metadata": {},
      "outputs": [
        {
          "name": "stdout",
          "output_type": "stream",
          "text": [
            "page_content='Machine learning (ML) is a field of study in artificial intelligence concerned with the development and study of statistical algorithms that can learn from data and generalise to unseen data, and thus perform tasks without explicit instructions. Within a subdiscipline in machine learning, advances in the field of deep learning have allowed neural networks, a class of statistical algorithms, to surpass many previous machine learning approaches in performance.\\nML finds application in many fields, including natural language processing, computer vision, speech recognition, email filtering, agriculture, and medicine. The application of ML to business problems is known as predictive analytics.\\nStatistics and mathematical optimisation (mathematical programming) methods comprise the foundations of machine learning. Data mining is a related field of study, focusing on exploratory data analysis (EDA) via unsupervised learning. \\nFrom a theoretical viewpoint, probably approximately correct learning provides a framework for describing machine learning.\\n\\n\\n== History ==\\n\\nThe term machine learning was coined in 1959 by Arthur Samuel, an IBM employee and pioneer in the field of computer gaming and artificial intelligence. The synonym self-teaching computers was also used in this time period.\\nThe earliest machine learning program was introduced in the 1950s when Arthur Samuel invented a computer program that calculated the winning chance in checkers for each side, but the history of machine learning roots back to decades of human desire and effort to study human cognitive processes. In 1949, Canadian psychologist Donald Hebb published the book The Organization of Behavior, in which he introduced a theoretical neural structure formed by certain interactions among nerve cells. Hebb\\'s model of neurons interacting with one another set a groundwork for how AIs and machine learning algorithms work under nodes, or artificial neurons used by computers to communicate data. Other researchers who have studied human cognitive systems contributed to the modern machine learning technologies as well, including logician Walter Pitts and Warren McCulloch, who proposed the early mathematical models of neural networks to come up with algorithms that mirror human thought processes.\\nBy the early 1960s, an experimental \"learning machine\" with punched tape memory, called Cybertron, had been developed by Raytheon Company to analyse sonar signals, electrocardiograms, and speech patterns using rudimentary reinforcement learning. It was repetitively \"trained\" by a human operator/teacher to recognise patterns and equipped with a \"goof\" button to cause it to reevaluate incorrect decisions. A representative book on research into machine learning during the 1960s was Nilsson\\'s book on Learning Machines, dealing mostly with machine learning for pattern classification. Interest related to pattern recognition continued into the 1970s, as described by Duda and Hart in 1973. In 1981 a report was given on using teaching strategies so that an artificial neural network learns to recognise 40 characters (26 letters, 10 digits, and 4 special symbols) from a computer terminal.\\nTom M. Mitchell provided a widely quoted, more formal definition of the algorithms studied in the machine learning field: \"A computer program is said to learn from experience E with respect to some class of tasks T and performance measure P if its performance at tasks in T, as measured by P,  improves with experience E.\" This definition of the tasks in which machine learning is concerned offers a fundamentally operational definition rather than defining the field in cognitive terms. This follows Alan Turing\\'s proposal in his paper \"Computing Machinery and Intelligence\", in which the question \"Can machines think?\" is replaced with the question \"Can machines do what we (as thinking entities) can do?\".\\nModern-day machine learning has two objectives.  One is to classify data based on models which have been developed;' metadata={'title': 'Machine learning', 'summary': 'Machine learning (ML) is a field of study in artificial intelligence concerned with the development and study of statistical algorithms that can learn from data and generalise to unseen data, and thus perform tasks without explicit instructions. Within a subdiscipline in machine learning, advances in the field of deep learning have allowed neural networks, a class of statistical algorithms, to surpass many previous machine learning approaches in performance.\\nML finds application in many fields, including natural language processing, computer vision, speech recognition, email filtering, agriculture, and medicine. The application of ML to business problems is known as predictive analytics.\\nStatistics and mathematical optimisation (mathematical programming) methods comprise the foundations of machine learning. Data mining is a related field of study, focusing on exploratory data analysis (EDA) via unsupervised learning. \\nFrom a theoretical viewpoint, probably approximately correct learning provides a framework for describing machine learning.\\n\\n', 'source': 'https://en.wikipedia.org/wiki/Machine_learning'}\n"
          ]
        }
      ],
      "source": [
        "from langchain_community.document_loaders import WikipediaLoader\n",
        "\n",
        "\n",
        "# Load content from Wikipedia using WikipediaLoader\n",
        "loader = WikipediaLoader(\"Machine_learning\")\n",
        "document = loader.load()\n",
        "print(document[0])"
      ]
    },
    {
      "cell_type": "markdown",
      "metadata": {
        "id": "xXi1rCxQQ1e_"
      },
      "source": [
        "# Chat Model"
      ]
    },
    {
      "cell_type": "code",
      "execution_count": 1,
      "metadata": {
        "id": "s5O35OmS77K6"
      },
      "outputs": [],
      "source": [
        "from langchain.chat_models import ChatOpenAI\n",
        "from langchain.schema import HumanMessage, SystemMessage"
      ]
    },
    {
      "cell_type": "code",
      "execution_count": 2,
      "metadata": {
        "id": "BTqHdMiY930N"
      },
      "outputs": [],
      "source": [
        "chat = ChatOpenAI(model=\"gpt-3.5-turbo\", temperature=0)"
      ]
    },
    {
      "cell_type": "code",
      "execution_count": 5,
      "metadata": {
        "id": "b7XBGe3QBW0Z"
      },
      "outputs": [],
      "source": [
        "messages = [\n",
        "    SystemMessage(\n",
        "        content=\"You are a helpful assistant.\"\n",
        "    ),\n",
        "    HumanMessage(\n",
        "        content=\"What is the most popular generative AI technology in 2025?\"\n",
        "    ),\n",
        "]"
      ]
    },
    {
      "cell_type": "code",
      "execution_count": 7,
      "metadata": {
        "colab": {
          "base_uri": "https://localhost:8080/"
        },
        "id": "-BzmirBC94-d",
        "outputId": "d74d6462-e681-4f1e-8aab-20424b89690e"
      },
      "outputs": [],
      "source": [
        "model_response = chat(messages)"
      ]
    },
    {
      "cell_type": "code",
      "execution_count": 8,
      "metadata": {},
      "outputs": [
        {
          "data": {
            "text/plain": [
              "langchain_core.messages.ai.AIMessage"
            ]
          },
          "execution_count": 8,
          "metadata": {},
          "output_type": "execute_result"
        }
      ],
      "source": [
        "type(model_response)"
      ]
    },
    {
      "cell_type": "markdown",
      "metadata": {
        "id": "5FqoNRQxQ2s2"
      },
      "source": [
        "# Embedding Model"
      ]
    },
    {
      "cell_type": "code",
      "execution_count": 9,
      "metadata": {
        "id": "SPzUWO1BDnnp"
      },
      "outputs": [],
      "source": [
        "from langchain_community.embeddings import OpenAIEmbeddings"
      ]
    },
    {
      "cell_type": "code",
      "execution_count": 10,
      "metadata": {
        "id": "dv1pJw5PBBXD"
      },
      "outputs": [],
      "source": [
        "# Initialize the model\n",
        "embeddings_model = OpenAIEmbeddings()"
      ]
    },
    {
      "cell_type": "code",
      "execution_count": 11,
      "metadata": {
        "id": "Aq4lIFQ_Q6QN"
      },
      "outputs": [],
      "source": [
        "# Embed a list of texts\n",
        "embeddings = embeddings_model.embed_documents(\n",
        "    [\"Hi there!\", \"Oh, hello!\", \"What's your name?\", \"My friends call me World\", \"Hello World!\"]\n",
        ")"
      ]
    },
    {
      "cell_type": "code",
      "execution_count": 12,
      "metadata": {
        "colab": {
          "base_uri": "https://localhost:8080/"
        },
        "id": "XcG9FkukQ8IG",
        "outputId": "63e7ce20-3db5-486c-f0b0-775d9278a288"
      },
      "outputs": [
        {
          "name": "stdout",
          "output_type": "stream",
          "text": [
            "Number of documents embedded: 5\n",
            "Dimension of each embedding: 1536\n"
          ]
        }
      ],
      "source": [
        "print(\"Number of documents embedded:\", len(embeddings))\n",
        "print(\"Dimension of each embedding:\", len(embeddings[0]))"
      ]
    },
    {
      "cell_type": "markdown",
      "metadata": {
        "id": "IvuJ2cUW6R71"
      },
      "source": [
        "# LLMChain"
      ]
    },
    {
      "cell_type": "code",
      "execution_count": 14,
      "metadata": {
        "colab": {
          "base_uri": "https://localhost:8080/",
          "height": 35
        },
        "id": "RTEX-ADe6UTQ",
        "outputId": "9b9fffe9-30ec-42d6-8e0b-e1a34c6adeee"
      },
      "outputs": [
        {
          "data": {
            "text/plain": [
              "'A rainbow typically displays seven colors, which are often remembered by the acronym ROYGBIV. The colors are:\\n\\n1. Red\\n2. Orange\\n3. Yellow\\n4. Green\\n5. Blue\\n6. Indigo\\n7. Violet\\n\\nThese colors appear in this order from the outer edge to the inner edge of the rainbow.'"
            ]
          },
          "execution_count": 14,
          "metadata": {},
          "output_type": "execute_result"
        }
      ],
      "source": [
        "from langchain.chains import LLMChain\n",
        "from langchain.chat_models import ChatOpenAI\n",
        "from langchain_core.prompts import PromptTemplate\n",
        "from langchain_core.output_parsers import StrOutputParser\n",
        "\n",
        "\n",
        "template = \"\"\"List all the colors in a rainbow\"\"\"\n",
        "prompt = PromptTemplate(\n",
        "    template=template, input_variables=[], output_parser=StrOutputParser()\n",
        ")\n",
        "\n",
        "chat = ChatOpenAI(model=\"gpt-4o-mini\", temperature=0)\n",
        "llm_chain = LLMChain(prompt=prompt, llm=chat)\n",
        "\n",
        "llm_chain.predict()"
      ]
    },
    {
      "cell_type": "code",
      "execution_count": 15,
      "metadata": {
        "colab": {
          "base_uri": "https://localhost:8080/",
          "height": 35
        },
        "id": "nnyKmhwd6UQq",
        "outputId": "3bf89017-b91c-4266-8560-b00b257d795f"
      },
      "outputs": [
        {
          "data": {
            "text/plain": [
              "'A rainbow typically displays seven colors, which are often remembered by the acronym ROYGBIV. The colors are:\\n\\n1. Red\\n2. Orange\\n3. Yellow\\n4. Green\\n5. Blue\\n6. Indigo\\n7. Violet'"
            ]
          },
          "execution_count": 15,
          "metadata": {},
          "output_type": "execute_result"
        }
      ],
      "source": [
        "from langchain.chat_models import ChatOpenAI\n",
        "from langchain.prompts import PromptTemplate\n",
        "from langchain.schema import StrOutputParser\n",
        "\n",
        "prompt = PromptTemplate.from_template(\n",
        "    \"List all the colors in a {item}.\"\n",
        ")\n",
        "runnable = prompt | ChatOpenAI(model=\"gpt-4o-mini\", temperature=0) | StrOutputParser()\n",
        "runnable.invoke({\"item\": \"rainbow\"})"
      ]
    },
    {
      "cell_type": "markdown",
      "metadata": {
        "id": "a_iFIBibECYv"
      },
      "source": [
        "# Sequential"
      ]
    },
    {
      "cell_type": "code",
      "execution_count": 16,
      "metadata": {
        "id": "y7iPeujW6UOD"
      },
      "outputs": [],
      "source": [
        "from langchain.prompts import PromptTemplate\n",
        "\n",
        "\n",
        "post_prompt = PromptTemplate.from_template(\n",
        "    \"\"\"You are a business owner. Given the theme of a post, write a social media post to share on my socials.\n",
        "\n",
        "Theme: {theme}\n",
        "Content: This is social media post based on the theme above:\"\"\"\n",
        ")\n",
        "\n",
        "review_prompt = PromptTemplate.from_template(\n",
        "    \"\"\"You are an expert social media manager. Given the presented social media post, it is your job to write a review for the post.\n",
        "\n",
        "Social Media Post:\n",
        "{post}\n",
        "Review from a Social Media Expert:\"\"\"\n",
        ")"
      ]
    },
    {
      "cell_type": "code",
      "execution_count": 17,
      "metadata": {
        "colab": {
          "base_uri": "https://localhost:8080/",
          "height": 143
        },
        "id": "KNYc6SO46ULc",
        "outputId": "d7217328-b88a-426d-9bed-9c2c17cf6619"
      },
      "outputs": [
        {
          "data": {
            "text/plain": [
              "'**Review of Social Media Post: Black Friday Sale Alert**\\n\\nThis Black Friday sale post is a fantastic example of effective social media marketing. Here are several key strengths and a few areas for improvement:\\n\\n**Strengths:**\\n\\n1. **Engaging Visuals and Emojis:** The use of emojis (🎉🖤🛍️✨) adds a fun and festive touch, making the post visually appealing and likely to catch the eye of potential customers as they scroll through their feeds. The black heart emoji is particularly fitting for the Black Friday theme.\\n\\n2. **Clear and Compelling Offer:** The headline \"50% OFF EVERYTHING\" is bold and straightforward, immediately communicating the value of the sale. This clarity is essential for driving engagement and encouraging shares.\\n\\n3. **Sense of Urgency:** Phrases like \"ONE DAY ONLY\" and \"Don’t miss out\" create a sense of urgency that can motivate customers to act quickly. This is a crucial tactic for Black Friday promotions, where time-sensitive offers can lead to increased sales.\\n\\n4. **Call to Action:** The post effectively encourages interaction by inviting followers to tag their shopping buddies. This not only increases engagement but also expands the post\\'s reach as friends share it with one another.\\n\\n5. **Hashtags:** The inclusion of relevant hashtags (#BlackFriday #Sale #ShopSmall #Discounts #HolidayShopping #50Off #ShopNow) enhances discoverability and helps the post reach a broader audience. \\n\\n**Areas for Improvement:**\\n\\n1. **Date and Time Placeholder:** The post currently has placeholders for the date and time. It’s crucial to fill these in before posting to avoid confusion and ensure that followers have all the necessary information to participate in the sale.\\n\\n2. **Visual Content:** While the text is strong, incorporating an eye-catching graphic or video showcasing some of the items on sale could further enhance engagement. Visual content tends to perform better on social media and can help highlight the products being offered.\\n\\n3. **Link Visibility:** While a location or website link is mentioned, it would be beneficial to make it more prominent in the post. Consider using a shortened URL or a clear call to action like \"Shop Now at [Website Link]\" to direct traffic effectively.\\n\\n4. **Engagement Follow-Up:** To maximize engagement, consider adding a question at the end of the post, such as \"What’s on your wishlist this Black Friday?\" This could encourage comments and further interaction.\\n\\n**Overall Impression:**\\nThis post is well-crafted and effectively communicates the excitement of a Black Friday sale. With a few minor adjustments, particularly in providing specific details and enhancing visual elements, it has the potential to drive significant traffic and sales. Great job on creating a buzz around the event!'"
            ]
          },
          "execution_count": 17,
          "metadata": {},
          "output_type": "execute_result"
        }
      ],
      "source": [
        "from langchain.chat_models import ChatOpenAI\n",
        "from langchain.schema import StrOutputParser\n",
        "\n",
        "\n",
        "llm = ChatOpenAI(model=\"gpt-4o-mini\", temperature=0.0)\n",
        "\n",
        "chain = (\n",
        "    {\"post\": post_prompt | llm | StrOutputParser()}\n",
        "    | review_prompt | llm | StrOutputParser()\n",
        ")\n",
        "chain.invoke({\"theme\": \"Having a black friday sale with 50% off on everything.\"})"
      ]
    },
    {
      "cell_type": "code",
      "execution_count": 18,
      "metadata": {
        "colab": {
          "base_uri": "https://localhost:8080/"
        },
        "id": "-Ma2mFYCF34o",
        "outputId": "0f2aa206-8c0a-440a-ff15-dc6c3099c13c"
      },
      "outputs": [
        {
          "data": {
            "text/plain": [
              "{'post': \"🎉🖤 BLACK FRIDAY SALE ALERT! 🖤🎉\\n\\nGet ready to shop 'til you drop because our biggest sale of the year is here! For ONE DAY ONLY, enjoy a whopping 50% OFF EVERYTHING in-store and online! 🛍️✨\\n\\nWhether you're treating yourself or getting a head start on holiday gifts, now's the perfect time to snag those items you've had your eye on! \\n\\n🗓️ Date: [Insert Date]\\n🕘 Time: [Insert Time]\\n🌐 Shop online: [Insert Website Link]\\n\\nDon't miss out on this incredible opportunity to save BIG! Tag your shopping buddy and spread the word! 🥳\\n\\n#BlackFriday #Sale #ShopSmall #Discounts #HolidayShopping #50Off #ShopNow\",\n",
              " 'review': '**Review of Social Media Post: Black Friday Sale Alert**\\n\\nThis Black Friday sale announcement is a well-crafted and engaging post that effectively captures attention and encourages action. Here are some key strengths and areas for improvement:\\n\\n**Strengths:**\\n\\n1. **Visual Appeal:** The use of emojis (🎉🖤🛍️✨) adds a festive and eye-catching element to the post, making it visually appealing and aligning well with the excitement of Black Friday shopping.\\n\\n2. **Clear Offer:** The message clearly states the promotion—50% off everything—which is a significant discount that will likely attract a wide audience. The emphasis on \"ONE DAY ONLY\" creates a sense of urgency, encouraging immediate action.\\n\\n3. **Target Audience Engagement:** The post effectively addresses both self-shoppers and gift-givers, broadening its appeal. Phrases like \"treating yourself\" and \"head start on holiday gifts\" resonate with different shopping motivations.\\n\\n4. **Call to Action:** The invitation to tag a shopping buddy is a great way to increase engagement and reach. It encourages sharing, which can amplify the post\\'s visibility.\\n\\n5. **Hashtags:** The inclusion of relevant hashtags (#BlackFriday, #Sale, #ShopSmall, etc.) enhances discoverability and connects the post to broader conversations happening on social media.\\n\\n**Areas for Improvement:**\\n\\n1. **Date and Time Placeholder:** The post currently has placeholders for the date and time. It\\'s crucial to fill these in before posting to avoid confusion and ensure that followers have all the necessary information.\\n\\n2. **Website Link:** Including a direct link to the website is essential for driving traffic. Ensure that the link is functional and leads directly to the sale page for a seamless shopping experience.\\n\\n3. **Visual Content:** While the text is engaging, incorporating a striking image or graphic that showcases popular products or the store\\'s atmosphere could enhance the post\\'s impact and draw more attention.\\n\\n4. **Additional Details:** Consider adding information about any specific items that will be featured in the sale or any exclusive deals. This could entice customers further and help them plan their shopping.\\n\\n5. **Follow-Up Engagement:** After the sale, consider planning a follow-up post to thank customers for their participation and share highlights from the event. This can help build community and encourage future engagement.\\n\\n**Overall Impression:**\\nThis post is a strong foundation for a successful Black Friday campaign. With a few adjustments and enhancements, it has the potential to drive significant traffic and sales. The excitement and urgency are palpable, making it a compelling invitation for followers to take part in the sale.'}"
            ]
          },
          "execution_count": 18,
          "metadata": {},
          "output_type": "execute_result"
        }
      ],
      "source": [
        "from langchain.schema.runnable import RunnablePassthrough\n",
        "from langchain.chat_models import ChatOpenAI\n",
        "\n",
        "\n",
        "llm = ChatOpenAI(model=\"gpt-4o-mini\", temperature=0.0)\n",
        "\n",
        "post_chain = post_prompt | llm | StrOutputParser()\n",
        "review_chain = review_prompt | llm | StrOutputParser()\n",
        "chain = {\"post\": post_chain} | RunnablePassthrough.assign(review=review_chain)\n",
        "chain.invoke({\"theme\": \"Having a black friday sale with 50% off on everything.\"})"
      ]
    },
    {
      "cell_type": "code",
      "execution_count": null,
      "metadata": {
        "id": "OrA0xB9x6T8u"
      },
      "outputs": [],
      "source": []
    },
    {
      "cell_type": "markdown",
      "metadata": {
        "id": "Kvn8OdTvDn6K"
      },
      "source": [
        "# Environment"
      ]
    },
    {
      "cell_type": "code",
      "execution_count": 12,
      "metadata": {
        "colab": {
          "base_uri": "https://localhost:8080/"
        },
        "id": "_gy_uzaZDpiS",
        "outputId": "1925855b-10f9-466e-fa19-41525c60dad6"
      },
      "outputs": [
        {
          "name": "stdout",
          "output_type": "stream",
          "text": [
            "Package                 Version\n",
            "----------------------- -----------\n",
            "aioboto3                15.1.0\n",
            "aiobotocore             2.24.0\n",
            "aiofiles                24.1.0\n",
            "aiohappyeyeballs        2.6.1\n",
            "aiohttp                 3.12.15\n",
            "aioitertools            0.12.0\n",
            "aiosignal               1.4.0\n",
            "annotated-types         0.7.0\n",
            "anyio                   3.7.1\n",
            "appnope                 0.1.4\n",
            "asttokens               3.0.0\n",
            "attrs                   25.3.0\n",
            "backoff                 2.2.1\n",
            "beautifulsoup4          4.13.5\n",
            "boto3                   1.39.11\n",
            "botocore                1.39.11\n",
            "certifi                 2025.8.3\n",
            "charset-normalizer      3.4.3\n",
            "click                   8.2.1\n",
            "cohere                  4.37\n",
            "comm                    0.2.3\n",
            "dataclasses-json        0.6.7\n",
            "debugpy                 1.8.16\n",
            "decorator               5.2.1\n",
            "deeplake                3.9.27\n",
            "dill                    0.4.0\n",
            "distro                  1.9.0\n",
            "dotenv                  0.9.9\n",
            "executing               2.2.1\n",
            "fastavro                1.12.0\n",
            "frozenlist              1.7.0\n",
            "h11                     0.16.0\n",
            "httpcore                1.0.9\n",
            "httpx                   0.28.1\n",
            "humbug                  0.3.2\n",
            "idna                    3.10\n",
            "importlib-metadata      6.11.0\n",
            "ipykernel               6.30.1\n",
            "ipython                 9.5.0\n",
            "ipython_pygments_lexers 1.1.1\n",
            "jedi                    0.19.2\n",
            "jmespath                1.0.1\n",
            "jsonpatch               1.33\n",
            "jsonpointer             3.0.0\n",
            "jupyter_client          8.6.3\n",
            "jupyter_core            5.8.1\n",
            "langchain               0.0.346\n",
            "langchain-community     0.0.1\n",
            "langchain-core          0.0.13\n",
            "langsmith               0.0.92\n",
            "lz4                     4.4.4\n",
            "marshmallow             3.26.1\n",
            "matplotlib-inline       0.1.7\n",
            "multidict               6.6.4\n",
            "multiprocess            0.70.18\n",
            "mypy_extensions         1.1.0\n",
            "nest-asyncio            1.6.0\n",
            "numpy                   1.26.4\n",
            "openai                  1.3.7\n",
            "packaging               23.2\n",
            "parso                   0.8.5\n",
            "pathos                  0.3.4\n",
            "pexpect                 4.9.0\n",
            "pillow                  10.4.0\n",
            "pip                     24.0\n",
            "platformdirs            4.4.0\n",
            "pox                     0.3.6\n",
            "ppft                    1.7.7\n",
            "prompt_toolkit          3.0.52\n",
            "propcache               0.3.2\n",
            "psutil                  7.0.0\n",
            "ptyprocess              0.7.0\n",
            "pure_eval               0.2.3\n",
            "pydantic                2.11.7\n",
            "pydantic_core           2.33.2\n",
            "Pygments                2.19.2\n",
            "PyJWT                   2.10.1\n",
            "python-dateutil         2.9.0.post0\n",
            "python-dotenv           1.1.1\n",
            "PyYAML                  6.0.2\n",
            "pyzmq                   27.0.2\n",
            "regex                   2025.9.1\n",
            "requests                2.32.5\n",
            "s3transfer              0.13.1\n",
            "six                     1.17.0\n",
            "sniffio                 1.3.1\n",
            "soupsieve               2.8\n",
            "SQLAlchemy              2.0.43\n",
            "stack-data              0.6.3\n",
            "tenacity                8.5.0\n",
            "tiktoken                0.5.2\n",
            "tornado                 6.5.2\n",
            "tqdm                    4.67.1\n",
            "traitlets               5.14.3\n",
            "typing_extensions       4.15.0\n",
            "typing-inspect          0.9.0\n",
            "typing-inspection       0.4.1\n",
            "urllib3                 2.5.0\n",
            "wcwidth                 0.2.13\n",
            "wikipedia               1.4.0\n",
            "wrapt                   1.17.3\n",
            "yarl                    1.20.1\n",
            "zipp                    3.23.0\n",
            "\n",
            "\u001b[1m[\u001b[0m\u001b[34;49mnotice\u001b[0m\u001b[1;39;49m]\u001b[0m\u001b[39;49m A new release of pip is available: \u001b[0m\u001b[31;49m24.0\u001b[0m\u001b[39;49m -> \u001b[0m\u001b[32;49m25.2\u001b[0m\n",
            "\u001b[1m[\u001b[0m\u001b[34;49mnotice\u001b[0m\u001b[1;39;49m]\u001b[0m\u001b[39;49m To update, run: \u001b[0m\u001b[32;49mpip install --upgrade pip\u001b[0m\n",
            "Note: you may need to restart the kernel to use updated packages.\n"
          ]
        }
      ],
      "source": [
        "%pip list"
      ]
    },
    {
      "cell_type": "code",
      "execution_count": null,
      "metadata": {},
      "outputs": [],
      "source": []
    }
  ],
  "metadata": {
    "colab": {
      "collapsed_sections": [
        "Kvn8OdTvDn6K"
      ],
      "provenance": []
    },
    "kernelspec": {
      "display_name": ".venv",
      "language": "python",
      "name": "python3"
    },
    "language_info": {
      "codemirror_mode": {
        "name": "ipython",
        "version": 3
      },
      "file_extension": ".py",
      "mimetype": "text/x-python",
      "name": "python",
      "nbconvert_exporter": "python",
      "pygments_lexer": "ipython3",
      "version": "3.12.2"
    }
  },
  "nbformat": 4,
  "nbformat_minor": 0
}
